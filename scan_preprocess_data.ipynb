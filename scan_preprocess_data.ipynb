{
 "cells": [
  {
   "cell_type": "markdown",
   "id": "fc01738c-e53f-4fd0-8ca7-2adcf4fa0073",
   "metadata": {},
   "source": [
    "### ライブラリのimport"
   ]
  },
  {
   "cell_type": "code",
   "execution_count": 49,
   "id": "8fc81df4-2e30-44c3-9c27-9af448f1aba7",
   "metadata": {},
   "outputs": [
    {
     "name": "stdout",
     "output_type": "stream",
     "text": [
      "The autoreload extension is already loaded. To reload it, use:\n",
      "  %reload_ext autoreload\n"
     ]
    }
   ],
   "source": [
    "%load_ext autoreload\n",
    "%autoreload 2\n",
    "import matplotlib.pyplot as plt\n",
    "import japanize_matplotlib\n",
    "import seaborn as sns\n",
    "import pandas as pd\n",
    "from pandas_profiling import ProfileReport\n",
    "%matplotlib inline\n",
    "from preprocessing.initial_preprocessing import initial_preprocessing\n",
    "from preprocessing.drop_emergency_suspicious_height_weight import drop_emergency_suspicious_height_weight\n",
    "from preprocessing.calculate_bmi_bmr_category import calculate_bmi_bmr_category\n",
    "from preprocessing.remove_duplicate_ctdi import remove_duplicate_ctdi\n",
    "from permutation_feature_importance.PermutationFeatureImportance import PermutationFeatureImportance "
   ]
  },
  {
   "cell_type": "markdown",
   "id": "e660f695-6b92-486a-b6be-af971674297c",
   "metadata": {},
   "source": [
    "## 解析用の元データを読み込み"
   ]
  },
  {
   "cell_type": "code",
   "execution_count": 12,
   "id": "42612097-d590-44e2-8977-2aeb0e58c806",
   "metadata": {},
   "outputs": [],
   "source": [
    "df = pd.read_excel('train_data.xlsx')"
   ]
  },
  {
   "cell_type": "markdown",
   "id": "03c265e3-d68e-46ee-8367-e5d14ce70dda",
   "metadata": {},
   "source": [
    "## データを前処理\n",
    "* カラム名の変更\n",
    "* 複数回スキャンについては,Mean CTDIvolが最大のみ残す\n",
    "* 救急科などの怪しい身長と体重のデータを削除する"
   ]
  },
  {
   "cell_type": "code",
   "execution_count": 7,
   "id": "59165040-b05e-40c8-950b-74131d0a77b1",
   "metadata": {},
   "outputs": [
    {
     "name": "stdout",
     "output_type": "stream",
     "text": [
      "正常に処理が行われました。\n"
     ]
    }
   ],
   "source": [
    "initial_preprocessing(df)\n",
    "df = remove_duplicate_ctdi(df)\n",
    "df.reset_index(drop=True, inplace=True)\n",
    "# df_allで後で、身長体重を代入する分を分けられるようにしておく\n",
    "df_all = df\n",
    "df = drop_emergency_suspicious_height_weight(df)"
   ]
  },
  {
   "cell_type": "markdown",
   "id": "0bca8837-491b-409c-a961-ab5c59f54148",
   "metadata": {},
   "source": [
    "### 身長・体重の最終確認: この部分は自分で確認しないと危険"
   ]
  },
  {
   "cell_type": "code",
   "execution_count": 8,
   "id": "69783aa9-df8d-48f3-a67d-366b64b7e1d3",
   "metadata": {},
   "outputs": [
    {
     "data": {
      "text/plain": [
       "1200    101.0\n",
       "97      101.0\n",
       "2241    101.0\n",
       "2362    101.0\n",
       "1011    101.0\n",
       "        ...  \n",
       "8610    190.9\n",
       "7978    190.9\n",
       "790     193.0\n",
       "8       193.0\n",
       "5567    193.0\n",
       "Name: height_cm, Length: 8958, dtype: float64"
      ]
     },
     "execution_count": 8,
     "metadata": {},
     "output_type": "execute_result"
    }
   ],
   "source": [
    "df['height_cm'].sort_values()"
   ]
  },
  {
   "cell_type": "code",
   "execution_count": 9,
   "id": "e96df88d-844c-49c9-a31d-78aa2c2e9f6c",
   "metadata": {},
   "outputs": [],
   "source": [
    "index = df['height_cm'].sort_values(ascending=True)[:30].index.to_list()"
   ]
  },
  {
   "cell_type": "code",
   "execution_count": 10,
   "id": "4e1d78cc-85c1-41d9-bfa8-f15736112960",
   "metadata": {},
   "outputs": [
    {
     "data": {
      "text/html": [
       "<div>\n",
       "<style scoped>\n",
       "    .dataframe tbody tr th:only-of-type {\n",
       "        vertical-align: middle;\n",
       "    }\n",
       "\n",
       "    .dataframe tbody tr th {\n",
       "        vertical-align: top;\n",
       "    }\n",
       "\n",
       "    .dataframe thead th {\n",
       "        text-align: right;\n",
       "    }\n",
       "</style>\n",
       "<table border=\"1\" class=\"dataframe\">\n",
       "  <thead>\n",
       "    <tr style=\"text-align: right;\">\n",
       "      <th></th>\n",
       "      <th>scanning length</th>\n",
       "      <th>height_cm</th>\n",
       "      <th>weight_kg</th>\n",
       "      <th>id</th>\n",
       "      <th>study_date</th>\n",
       "      <th>target region</th>\n",
       "      <th>Mean CTDIvol</th>\n",
       "    </tr>\n",
       "  </thead>\n",
       "  <tbody>\n",
       "    <tr>\n",
       "      <th>1200</th>\n",
       "      <td>796.77</td>\n",
       "      <td>101.0</td>\n",
       "      <td>39.80</td>\n",
       "      <td>75206</td>\n",
       "      <td>2021-06-18</td>\n",
       "      <td>Chest</td>\n",
       "      <td>6.70</td>\n",
       "    </tr>\n",
       "    <tr>\n",
       "      <th>97</th>\n",
       "      <td>626.53</td>\n",
       "      <td>101.0</td>\n",
       "      <td>39.80</td>\n",
       "      <td>75206</td>\n",
       "      <td>2021-01-14</td>\n",
       "      <td>Abdomen</td>\n",
       "      <td>12.78</td>\n",
       "    </tr>\n",
       "    <tr>\n",
       "      <th>2241</th>\n",
       "      <td>852.06</td>\n",
       "      <td>101.0</td>\n",
       "      <td>39.80</td>\n",
       "      <td>75206</td>\n",
       "      <td>2021-04-21</td>\n",
       "      <td>Chest</td>\n",
       "      <td>6.45</td>\n",
       "    </tr>\n",
       "    <tr>\n",
       "      <th>2362</th>\n",
       "      <td>621.51</td>\n",
       "      <td>101.0</td>\n",
       "      <td>39.80</td>\n",
       "      <td>75206</td>\n",
       "      <td>2021-06-02</td>\n",
       "      <td>Abdomen</td>\n",
       "      <td>17.10</td>\n",
       "    </tr>\n",
       "    <tr>\n",
       "      <th>1011</th>\n",
       "      <td>796.77</td>\n",
       "      <td>101.0</td>\n",
       "      <td>39.80</td>\n",
       "      <td>75206</td>\n",
       "      <td>2021-05-18</td>\n",
       "      <td>Chest</td>\n",
       "      <td>7.38</td>\n",
       "    </tr>\n",
       "    <tr>\n",
       "      <th>265</th>\n",
       "      <td>567.16</td>\n",
       "      <td>101.0</td>\n",
       "      <td>39.80</td>\n",
       "      <td>75206</td>\n",
       "      <td>2021-02-04</td>\n",
       "      <td>Chest</td>\n",
       "      <td>6.03</td>\n",
       "    </tr>\n",
       "    <tr>\n",
       "      <th>620</th>\n",
       "      <td>827.20</td>\n",
       "      <td>101.0</td>\n",
       "      <td>39.80</td>\n",
       "      <td>75206</td>\n",
       "      <td>2021-03-29</td>\n",
       "      <td>Chest</td>\n",
       "      <td>6.13</td>\n",
       "    </tr>\n",
       "    <tr>\n",
       "      <th>6436</th>\n",
       "      <td>506.63</td>\n",
       "      <td>117.7</td>\n",
       "      <td>76.40</td>\n",
       "      <td>9326611</td>\n",
       "      <td>2023-02-10</td>\n",
       "      <td>Bronchus</td>\n",
       "      <td>10.38</td>\n",
       "    </tr>\n",
       "    <tr>\n",
       "      <th>3529</th>\n",
       "      <td>531.81</td>\n",
       "      <td>117.7</td>\n",
       "      <td>76.40</td>\n",
       "      <td>9326611</td>\n",
       "      <td>2022-01-21</td>\n",
       "      <td>Bronchus</td>\n",
       "      <td>9.90</td>\n",
       "    </tr>\n",
       "    <tr>\n",
       "      <th>106</th>\n",
       "      <td>456.72</td>\n",
       "      <td>117.7</td>\n",
       "      <td>76.40</td>\n",
       "      <td>9326611</td>\n",
       "      <td>2021-01-15</td>\n",
       "      <td>Chest</td>\n",
       "      <td>9.14</td>\n",
       "    </tr>\n",
       "    <tr>\n",
       "      <th>2667</th>\n",
       "      <td>205.73</td>\n",
       "      <td>129.3</td>\n",
       "      <td>129.30</td>\n",
       "      <td>17049</td>\n",
       "      <td>2021-09-21</td>\n",
       "      <td>Head</td>\n",
       "      <td>30.23</td>\n",
       "    </tr>\n",
       "    <tr>\n",
       "      <th>4383</th>\n",
       "      <td>200.73</td>\n",
       "      <td>129.4</td>\n",
       "      <td>27.20</td>\n",
       "      <td>6067602</td>\n",
       "      <td>2022-04-26</td>\n",
       "      <td>Head</td>\n",
       "      <td>30.72</td>\n",
       "    </tr>\n",
       "    <tr>\n",
       "      <th>3929</th>\n",
       "      <td>601.66</td>\n",
       "      <td>130.0</td>\n",
       "      <td>32.20</td>\n",
       "      <td>24470</td>\n",
       "      <td>2022-03-06</td>\n",
       "      <td>Chest, Abdomen and Pelvis</td>\n",
       "      <td>8.26</td>\n",
       "    </tr>\n",
       "    <tr>\n",
       "      <th>4015</th>\n",
       "      <td>581.66</td>\n",
       "      <td>130.0</td>\n",
       "      <td>32.20</td>\n",
       "      <td>24470</td>\n",
       "      <td>2022-03-14</td>\n",
       "      <td>Chest, Abdomen and Pelvis</td>\n",
       "      <td>6.65</td>\n",
       "    </tr>\n",
       "    <tr>\n",
       "      <th>7768</th>\n",
       "      <td>696.75</td>\n",
       "      <td>130.0</td>\n",
       "      <td>32.20</td>\n",
       "      <td>24470</td>\n",
       "      <td>2022-03-23</td>\n",
       "      <td>Chest, Abdomen and Pelvis</td>\n",
       "      <td>8.42</td>\n",
       "    </tr>\n",
       "    <tr>\n",
       "      <th>7738</th>\n",
       "      <td>596.74</td>\n",
       "      <td>130.0</td>\n",
       "      <td>32.20</td>\n",
       "      <td>24470</td>\n",
       "      <td>2022-03-10</td>\n",
       "      <td>Chest, Abdomen and Pelvis</td>\n",
       "      <td>6.44</td>\n",
       "    </tr>\n",
       "    <tr>\n",
       "      <th>7795</th>\n",
       "      <td>160.00</td>\n",
       "      <td>130.8</td>\n",
       "      <td>24.20</td>\n",
       "      <td>267102</td>\n",
       "      <td>2022-04-06</td>\n",
       "      <td>Coronary Artery</td>\n",
       "      <td>8.21</td>\n",
       "    </tr>\n",
       "    <tr>\n",
       "      <th>6964</th>\n",
       "      <td>357.06</td>\n",
       "      <td>131.0</td>\n",
       "      <td>28.90</td>\n",
       "      <td>36685</td>\n",
       "      <td>2023-04-21</td>\n",
       "      <td>Bronchus</td>\n",
       "      <td>3.20</td>\n",
       "    </tr>\n",
       "    <tr>\n",
       "      <th>7003</th>\n",
       "      <td>452.10</td>\n",
       "      <td>134.0</td>\n",
       "      <td>34.20</td>\n",
       "      <td>35907</td>\n",
       "      <td>2023-04-26</td>\n",
       "      <td>Bronchus</td>\n",
       "      <td>2.53</td>\n",
       "    </tr>\n",
       "    <tr>\n",
       "      <th>5732</th>\n",
       "      <td>210.74</td>\n",
       "      <td>134.0</td>\n",
       "      <td>39.20</td>\n",
       "      <td>31808</td>\n",
       "      <td>2022-11-04</td>\n",
       "      <td>Head</td>\n",
       "      <td>26.63</td>\n",
       "    </tr>\n",
       "    <tr>\n",
       "      <th>3965</th>\n",
       "      <td>681.67</td>\n",
       "      <td>135.0</td>\n",
       "      <td>37.00</td>\n",
       "      <td>24417</td>\n",
       "      <td>2022-03-08</td>\n",
       "      <td>Chest, Abdomen and Pelvis</td>\n",
       "      <td>5.59</td>\n",
       "    </tr>\n",
       "    <tr>\n",
       "      <th>3916</th>\n",
       "      <td>382.14</td>\n",
       "      <td>135.0</td>\n",
       "      <td>37.00</td>\n",
       "      <td>24417</td>\n",
       "      <td>2022-03-03</td>\n",
       "      <td>Bronchus</td>\n",
       "      <td>3.61</td>\n",
       "    </tr>\n",
       "    <tr>\n",
       "      <th>6450</th>\n",
       "      <td>636.75</td>\n",
       "      <td>135.0</td>\n",
       "      <td>36.50</td>\n",
       "      <td>34486</td>\n",
       "      <td>2023-02-13</td>\n",
       "      <td>Chest, Abdomen and Pelvis</td>\n",
       "      <td>6.27</td>\n",
       "    </tr>\n",
       "    <tr>\n",
       "      <th>8852</th>\n",
       "      <td>751.28</td>\n",
       "      <td>135.0</td>\n",
       "      <td>36.50</td>\n",
       "      <td>34486</td>\n",
       "      <td>2023-02-28</td>\n",
       "      <td>Abdomen and Pelvis</td>\n",
       "      <td>15.02</td>\n",
       "    </tr>\n",
       "    <tr>\n",
       "      <th>6861</th>\n",
       "      <td>596.74</td>\n",
       "      <td>136.3</td>\n",
       "      <td>39.90</td>\n",
       "      <td>6383502</td>\n",
       "      <td>2023-04-07</td>\n",
       "      <td>Chest, Abdomen and Pelvis</td>\n",
       "      <td>6.89</td>\n",
       "    </tr>\n",
       "    <tr>\n",
       "      <th>4241</th>\n",
       "      <td>621.67</td>\n",
       "      <td>136.3</td>\n",
       "      <td>39.90</td>\n",
       "      <td>6383502</td>\n",
       "      <td>2022-04-08</td>\n",
       "      <td>Chest, Abdomen and Pelvis</td>\n",
       "      <td>8.82</td>\n",
       "    </tr>\n",
       "    <tr>\n",
       "      <th>6493</th>\n",
       "      <td>286.54</td>\n",
       "      <td>137.0</td>\n",
       "      <td>39.20</td>\n",
       "      <td>593305</td>\n",
       "      <td>2023-02-16</td>\n",
       "      <td>Abdomen and Pelvis</td>\n",
       "      <td>6.21</td>\n",
       "    </tr>\n",
       "    <tr>\n",
       "      <th>5145</th>\n",
       "      <td>417.12</td>\n",
       "      <td>138.0</td>\n",
       "      <td>32.70</td>\n",
       "      <td>29331</td>\n",
       "      <td>2022-08-09</td>\n",
       "      <td>Bronchus</td>\n",
       "      <td>3.58</td>\n",
       "    </tr>\n",
       "    <tr>\n",
       "      <th>8484</th>\n",
       "      <td>351.50</td>\n",
       "      <td>140.0</td>\n",
       "      <td>41.40</td>\n",
       "      <td>31184</td>\n",
       "      <td>2022-10-20</td>\n",
       "      <td>Chest</td>\n",
       "      <td>7.31</td>\n",
       "    </tr>\n",
       "    <tr>\n",
       "      <th>2144</th>\n",
       "      <td>516.60</td>\n",
       "      <td>140.0</td>\n",
       "      <td>44.75</td>\n",
       "      <td>14385</td>\n",
       "      <td>2021-03-29</td>\n",
       "      <td>Abdomen</td>\n",
       "      <td>9.15</td>\n",
       "    </tr>\n",
       "  </tbody>\n",
       "</table>\n",
       "</div>"
      ],
      "text/plain": [
       "      scanning length  height_cm  weight_kg       id study_date  \\\n",
       "1200           796.77      101.0      39.80    75206 2021-06-18   \n",
       "97             626.53      101.0      39.80    75206 2021-01-14   \n",
       "2241           852.06      101.0      39.80    75206 2021-04-21   \n",
       "2362           621.51      101.0      39.80    75206 2021-06-02   \n",
       "1011           796.77      101.0      39.80    75206 2021-05-18   \n",
       "265            567.16      101.0      39.80    75206 2021-02-04   \n",
       "620            827.20      101.0      39.80    75206 2021-03-29   \n",
       "6436           506.63      117.7      76.40  9326611 2023-02-10   \n",
       "3529           531.81      117.7      76.40  9326611 2022-01-21   \n",
       "106            456.72      117.7      76.40  9326611 2021-01-15   \n",
       "2667           205.73      129.3     129.30    17049 2021-09-21   \n",
       "4383           200.73      129.4      27.20  6067602 2022-04-26   \n",
       "3929           601.66      130.0      32.20    24470 2022-03-06   \n",
       "4015           581.66      130.0      32.20    24470 2022-03-14   \n",
       "7768           696.75      130.0      32.20    24470 2022-03-23   \n",
       "7738           596.74      130.0      32.20    24470 2022-03-10   \n",
       "7795           160.00      130.8      24.20   267102 2022-04-06   \n",
       "6964           357.06      131.0      28.90    36685 2023-04-21   \n",
       "7003           452.10      134.0      34.20    35907 2023-04-26   \n",
       "5732           210.74      134.0      39.20    31808 2022-11-04   \n",
       "3965           681.67      135.0      37.00    24417 2022-03-08   \n",
       "3916           382.14      135.0      37.00    24417 2022-03-03   \n",
       "6450           636.75      135.0      36.50    34486 2023-02-13   \n",
       "8852           751.28      135.0      36.50    34486 2023-02-28   \n",
       "6861           596.74      136.3      39.90  6383502 2023-04-07   \n",
       "4241           621.67      136.3      39.90  6383502 2022-04-08   \n",
       "6493           286.54      137.0      39.20   593305 2023-02-16   \n",
       "5145           417.12      138.0      32.70    29331 2022-08-09   \n",
       "8484           351.50      140.0      41.40    31184 2022-10-20   \n",
       "2144           516.60      140.0      44.75    14385 2021-03-29   \n",
       "\n",
       "                  target region  Mean CTDIvol  \n",
       "1200                      Chest          6.70  \n",
       "97                      Abdomen         12.78  \n",
       "2241                      Chest          6.45  \n",
       "2362                    Abdomen         17.10  \n",
       "1011                      Chest          7.38  \n",
       "265                       Chest          6.03  \n",
       "620                       Chest          6.13  \n",
       "6436                   Bronchus         10.38  \n",
       "3529                   Bronchus          9.90  \n",
       "106                       Chest          9.14  \n",
       "2667                       Head         30.23  \n",
       "4383                       Head         30.72  \n",
       "3929  Chest, Abdomen and Pelvis          8.26  \n",
       "4015  Chest, Abdomen and Pelvis          6.65  \n",
       "7768  Chest, Abdomen and Pelvis          8.42  \n",
       "7738  Chest, Abdomen and Pelvis          6.44  \n",
       "7795            Coronary Artery          8.21  \n",
       "6964                   Bronchus          3.20  \n",
       "7003                   Bronchus          2.53  \n",
       "5732                       Head         26.63  \n",
       "3965  Chest, Abdomen and Pelvis          5.59  \n",
       "3916                   Bronchus          3.61  \n",
       "6450  Chest, Abdomen and Pelvis          6.27  \n",
       "8852         Abdomen and Pelvis         15.02  \n",
       "6861  Chest, Abdomen and Pelvis          6.89  \n",
       "4241  Chest, Abdomen and Pelvis          8.82  \n",
       "6493         Abdomen and Pelvis          6.21  \n",
       "5145                   Bronchus          3.58  \n",
       "8484                      Chest          7.31  \n",
       "2144                    Abdomen          9.15  "
      ]
     },
     "execution_count": 10,
     "metadata": {},
     "output_type": "execute_result"
    }
   ],
   "source": [
    "df[['scanning length', 'height_cm', 'weight_kg', 'id', 'study_date', 'target region', 'Mean CTDIvol']].loc[index]"
   ]
  },
  {
   "cell_type": "code",
   "execution_count": 11,
   "id": "3f5e6020-e1e6-4120-898b-343112463cdf",
   "metadata": {},
   "outputs": [],
   "source": [
    "# 最終的な怪しいデータに関しては直接データを確認して削除する\n",
    "drop_ids = [75206, 9326611, 17049]\n",
    "for ids in drop_ids:\n",
    "    df = df[~(df['id'] == ids)]\n",
    "df.reset_index(drop=True, inplace=True)"
   ]
  },
  {
   "cell_type": "markdown",
   "id": "1cd64b89-fb85-4b98-8ee8-2745a9c91e70",
   "metadata": {},
   "source": [
    "### 身長体重予測、線量予測、異常検知でも使用しない項目を削除する"
   ]
  },
  {
   "cell_type": "code",
   "execution_count": 12,
   "id": "d91df37a-0df2-44a9-8b1f-06efe61b721c",
   "metadata": {},
   "outputs": [],
   "source": [
    "unuse_cols = ['hospital_ward', 'modality', 'adult_child', 'department', 'preset_name']\n",
    "df.drop(labels=unuse_cols, axis=1, inplace=True)"
   ]
  },
  {
   "cell_type": "code",
   "execution_count": null,
   "id": "26ef9fc0-c7e0-4529-b102-00973d032e3d",
   "metadata": {},
   "outputs": [],
   "source": [
    "df.to_excel('preprocess_all_scan_data.xlsx')"
   ]
  },
  {
   "cell_type": "markdown",
   "id": "97d0c3e2-b4cd-403f-b377-35b6838191fb",
   "metadata": {},
   "source": [
    "### Pandas_Profilling"
   ]
  },
  {
   "cell_type": "code",
   "execution_count": 462,
   "id": "2770230b-0b88-4c69-9611-49e1839a2e9e",
   "metadata": {
    "collapsed": true,
    "jupyter": {
     "outputs_hidden": true
    },
    "tags": []
   },
   "outputs": [
    {
     "data": {
      "application/vnd.jupyter.widget-view+json": {
       "model_id": "0522d1d880ab4adebb93967aa9412fb3",
       "version_major": 2,
       "version_minor": 0
      },
      "text/plain": [
       "Summarize dataset:   0%|          | 0/5 [00:00<?, ?it/s]"
      ]
     },
     "metadata": {},
     "output_type": "display_data"
    },
    {
     "data": {
      "application/vnd.jupyter.widget-view+json": {
       "model_id": "9bc6a268538946d28389b824e2a4cb99",
       "version_major": 2,
       "version_minor": 0
      },
      "text/plain": [
       "Generate report structure:   0%|          | 0/1 [00:00<?, ?it/s]"
      ]
     },
     "metadata": {},
     "output_type": "display_data"
    },
    {
     "name": "stderr",
     "output_type": "stream",
     "text": [
      "/opt/anaconda3/lib/python3.9/site-packages/pandas_profiling/visualisation/utils.py:73: UserWarning: Glyph 21336 (\\N{CJK UNIFIED IDEOGRAPH-5358}) missing from current font.\n",
      "  plt.savefig(\n",
      "/opt/anaconda3/lib/python3.9/site-packages/pandas_profiling/visualisation/utils.py:73: UserWarning: Glyph 32020 (\\N{CJK UNIFIED IDEOGRAPH-7D14}) missing from current font.\n",
      "  plt.savefig(\n",
      "/opt/anaconda3/lib/python3.9/site-packages/pandas_profiling/visualisation/utils.py:73: UserWarning: Glyph 36896 (\\N{CJK UNIFIED IDEOGRAPH-9020}) missing from current font.\n",
      "  plt.savefig(\n",
      "/opt/anaconda3/lib/python3.9/site-packages/pandas_profiling/visualisation/utils.py:73: UserWarning: Glyph 24433 (\\N{CJK UNIFIED IDEOGRAPH-5F71}) missing from current font.\n",
      "  plt.savefig(\n",
      "/opt/anaconda3/lib/python3.9/site-packages/pandas_profiling/visualisation/utils.py:73: UserWarning: Glyph 12511 (\\N{KATAKANA LETTER MI}) missing from current font.\n",
      "  plt.savefig(\n",
      "/opt/anaconda3/lib/python3.9/site-packages/pandas_profiling/visualisation/utils.py:73: UserWarning: Glyph 12456 (\\N{KATAKANA LETTER E}) missing from current font.\n",
      "  plt.savefig(\n",
      "/opt/anaconda3/lib/python3.9/site-packages/pandas_profiling/visualisation/utils.py:73: UserWarning: Glyph 12525 (\\N{KATAKANA LETTER RO}) missing from current font.\n",
      "  plt.savefig(\n",
      "/opt/anaconda3/lib/python3.9/site-packages/pandas_profiling/visualisation/utils.py:73: UserWarning: Glyph 24460 (\\N{CJK UNIFIED IDEOGRAPH-5F8C}) missing from current font.\n",
      "  plt.savefig(\n",
      "/opt/anaconda3/lib/python3.9/site-packages/pandas_profiling/visualisation/utils.py:73: UserWarning: Glyph 12487 (\\N{KATAKANA LETTER DE}) missing from current font.\n",
      "  plt.savefig(\n",
      "/opt/anaconda3/lib/python3.9/site-packages/pandas_profiling/visualisation/utils.py:73: UserWarning: Glyph 12451 (\\N{KATAKANA LETTER SMALL I}) missing from current font.\n",
      "  plt.savefig(\n",
      "/opt/anaconda3/lib/python3.9/site-packages/pandas_profiling/visualisation/utils.py:73: UserWarning: Glyph 12473 (\\N{KATAKANA LETTER SU}) missing from current font.\n",
      "  plt.savefig(\n",
      "/opt/anaconda3/lib/python3.9/site-packages/pandas_profiling/visualisation/utils.py:73: UserWarning: Glyph 12467 (\\N{KATAKANA LETTER KO}) missing from current font.\n",
      "  plt.savefig(\n",
      "/opt/anaconda3/lib/python3.9/site-packages/pandas_profiling/visualisation/utils.py:73: UserWarning: Glyph 12450 (\\N{KATAKANA LETTER A}) missing from current font.\n",
      "  plt.savefig(\n",
      "/opt/anaconda3/lib/python3.9/site-packages/pandas_profiling/visualisation/utils.py:73: UserWarning: Glyph 12523 (\\N{KATAKANA LETTER RU}) missing from current font.\n",
      "  plt.savefig(\n",
      "/opt/anaconda3/lib/python3.9/site-packages/pandas_profiling/visualisation/utils.py:73: UserWarning: Glyph 12488 (\\N{KATAKANA LETTER TO}) missing from current font.\n",
      "  plt.savefig(\n"
     ]
    },
    {
     "data": {
      "application/vnd.jupyter.widget-view+json": {
       "model_id": "92c247ff0d984c549a7a250ba15ddda8",
       "version_major": 2,
       "version_minor": 0
      },
      "text/plain": [
       "Render HTML:   0%|          | 0/1 [00:00<?, ?it/s]"
      ]
     },
     "metadata": {},
     "output_type": "display_data"
    },
    {
     "data": {
      "application/vnd.jupyter.widget-view+json": {
       "model_id": "2fab4c01fbce46ceb7f9695741e8e434",
       "version_major": 2,
       "version_minor": 0
      },
      "text/plain": [
       "Export report to file:   0%|          | 0/1 [00:00<?, ?it/s]"
      ]
     },
     "metadata": {},
     "output_type": "display_data"
    }
   ],
   "source": [
    "profile= ProfileReport(df, title='preprocessing_data')\n",
    "profile.to_file('preprocessing_data.html')"
   ]
  },
  {
   "cell_type": "markdown",
   "id": "9e26e39d-a9a6-45cd-8f5c-aab8e0b653cc",
   "metadata": {},
   "source": [
    "### 新たな特徴量を作成する"
   ]
  },
  {
   "cell_type": "markdown",
   "id": "6cb0799b-ac7d-4efb-9006-bde6baf4e460",
   "metadata": {},
   "source": [
    "* BMI(Body Mass Index)  \n",
    "  $BMI = weight(kg) / height(m)^2$  \n",
    "  \n",
    "* BMR(Basal Metabolic Rate: 基礎代謝率): 年齢、性別、身長、体重に基づいて計算される。ハリス・ベネディクト方程式と呼ばれる  \n",
    "  男性$BMR=66.47 + (13.75*weight[kg]) + (5.003*height[cm]) - (6.755*age[歳])$  \n",
    "  女性$BMR=655.1 + (9.563*weight[kg]) + (1.85*height[cm]) - (4.676*age[歳])$  \n",
    "  \n",
    "* 体格指数(Rohrer's index) ：学童期に適するとあるので、今回は使わない  \n",
    "  $Rohrer's index = weight[kg] / height[m]^3$"
   ]
  },
  {
   "cell_type": "markdown",
   "id": "5c2e02c8-b3bb-45a7-8014-9211a54850c7",
   "metadata": {},
   "source": [
    "体格指数（BMI）: 体重（kg）を身長（m）の二乗で割ったもので、以下のように分類されます（成人向けのWHOのガイドライン）。\n",
    "\n",
    "18.5未満: 低体重（痩せ型）: underweight    \n",
    "18.5～24.9: 標準体重: normal weight   \n",
    "25.0～29.9: 肥満（1度）:obesity class1  \n",
    "30.0～34.9: 肥満（2度）:obesity class2  \n",
    "35.0～39.9: 肥満（3度）:obesity class3    \n",
    "40以上: 肥満（4度、重症）:obesity class4"
   ]
  },
  {
   "cell_type": "code",
   "execution_count": 18,
   "id": "2e73d0e8-a24d-4846-9055-92ee99d192b2",
   "metadata": {},
   "outputs": [],
   "source": [
    "from preprocessing.calculate_bmi_bmr_category import calculate_bmi_bmr_category"
   ]
  },
  {
   "cell_type": "code",
   "execution_count": 19,
   "id": "dc632467-03c3-4dee-a3c2-f2ffc638ad79",
   "metadata": {},
   "outputs": [],
   "source": [
    "calculate_bmi_bmr_category(df)"
   ]
  },
  {
   "cell_type": "markdown",
   "id": "29594879-8a0c-4049-8bc8-cda604734619",
   "metadata": {},
   "source": [
    "### 前処理が終了したデータを保存する。"
   ]
  },
  {
   "cell_type": "code",
   "execution_count": 493,
   "id": "c91e4518-95b9-4687-a98b-9f6c85ee913c",
   "metadata": {},
   "outputs": [],
   "source": [
    "df.to_excel('preprocessed_train_data.xlsx', index=False)"
   ]
  },
  {
   "cell_type": "code",
   "execution_count": 39,
   "id": "ede1e7f4-694c-4598-ac1b-9463dad53550",
   "metadata": {},
   "outputs": [
    {
     "data": {
      "text/plain": [
       "Index(['accession', 'scan protocol', 'scan series', 'target region',\n",
       "       'scanning length', 'kV', 'mean mA', 'max mA', 'pitch factor',\n",
       "       'nomial total collimation width', 'exposure time per rotation',\n",
       "       'exposure time', 'CTDIw phantom type', 'Mean CTDIvol', 'DLP',\n",
       "       'study_date', 'id', 'age', 'gender', 'height_cm', 'weight_kg',\n",
       "       'scan_area', 'scan_method', 'bmi', 'bmr', 'category_bmi'],\n",
       "      dtype='object')"
      ]
     },
     "execution_count": 39,
     "metadata": {},
     "output_type": "execute_result"
    }
   ],
   "source": [
    "df.columns"
   ]
  },
  {
   "cell_type": "code",
   "execution_count": 20,
   "id": "a1161e79-24a3-4a7f-9ee9-e46fe01ad150",
   "metadata": {},
   "outputs": [],
   "source": [
    "# 年代(generation)の新しいカラムを作成する\n",
    "df['generation'] = (df['age'] // 10) * 10"
   ]
  },
  {
   "cell_type": "code",
   "execution_count": 21,
   "id": "1c2b9b85-e58a-4139-b2f3-b0cfd76fa1a2",
   "metadata": {},
   "outputs": [
    {
     "data": {
      "text/plain": [
       "Index(['CTDIw phantom type', 'Mean CTDIvol', 'age', 'gender', 'height_cm',\n",
       "       'weight_kg', 'scan_area', 'scan_method', 'generation', 'bmi', 'bmr',\n",
       "       'category_bmi'],\n",
       "      dtype='object')"
      ]
     },
     "execution_count": 21,
     "metadata": {},
     "output_type": "execute_result"
    }
   ],
   "source": [
    "df.columns"
   ]
  },
  {
   "cell_type": "code",
   "execution_count": 1,
   "id": "bf5d2dd4-4f3f-475d-84d6-6e5486739539",
   "metadata": {},
   "outputs": [],
   "source": [
    "import pandas as pd\n",
    "import numpy as np"
   ]
  },
  {
   "cell_type": "code",
   "execution_count": 13,
   "id": "095e413c-26eb-46d1-bca3-7950670acad1",
   "metadata": {},
   "outputs": [],
   "source": [
    "df = pd.read_excel('preprocessed_train_data.xlsx')"
   ]
  },
  {
   "cell_type": "code",
   "execution_count": 14,
   "id": "72945f24-87d2-41ff-b7a3-011709065d21",
   "metadata": {
    "tags": []
   },
   "outputs": [
    {
     "data": {
      "text/html": [
       "<div>\n",
       "<style scoped>\n",
       "    .dataframe tbody tr th:only-of-type {\n",
       "        vertical-align: middle;\n",
       "    }\n",
       "\n",
       "    .dataframe tbody tr th {\n",
       "        vertical-align: top;\n",
       "    }\n",
       "\n",
       "    .dataframe thead th {\n",
       "        text-align: right;\n",
       "    }\n",
       "</style>\n",
       "<table border=\"1\" class=\"dataframe\">\n",
       "  <thead>\n",
       "    <tr style=\"text-align: right;\">\n",
       "      <th></th>\n",
       "      <th>CTDIw phantom type</th>\n",
       "      <th>Mean CTDIvol</th>\n",
       "      <th>age</th>\n",
       "      <th>gender</th>\n",
       "      <th>height_cm</th>\n",
       "      <th>weight_kg</th>\n",
       "      <th>scan_area</th>\n",
       "      <th>scan_method</th>\n",
       "      <th>bmi</th>\n",
       "      <th>bmr</th>\n",
       "      <th>category_bmi</th>\n",
       "    </tr>\n",
       "  </thead>\n",
       "  <tbody>\n",
       "    <tr>\n",
       "      <th>0</th>\n",
       "      <td>IEC Body Dosimetry Phantom</td>\n",
       "      <td>5.86</td>\n",
       "      <td>86</td>\n",
       "      <td>F</td>\n",
       "      <td>150.0</td>\n",
       "      <td>49.1</td>\n",
       "      <td>胸部CT</td>\n",
       "      <td>単純</td>\n",
       "      <td>21.82</td>\n",
       "      <td>1000.01</td>\n",
       "      <td>normal weight</td>\n",
       "    </tr>\n",
       "    <tr>\n",
       "      <th>1</th>\n",
       "      <td>IEC Body Dosimetry Phantom</td>\n",
       "      <td>7.41</td>\n",
       "      <td>61</td>\n",
       "      <td>M</td>\n",
       "      <td>163.0</td>\n",
       "      <td>74.0</td>\n",
       "      <td>胸部CT</td>\n",
       "      <td>単純</td>\n",
       "      <td>27.85</td>\n",
       "      <td>1487.40</td>\n",
       "      <td>obesity class1</td>\n",
       "    </tr>\n",
       "  </tbody>\n",
       "</table>\n",
       "</div>"
      ],
      "text/plain": [
       "           CTDIw phantom type  Mean CTDIvol  age gender  height_cm  weight_kg  \\\n",
       "0  IEC Body Dosimetry Phantom          5.86   86      F      150.0       49.1   \n",
       "1  IEC Body Dosimetry Phantom          7.41   61      M      163.0       74.0   \n",
       "\n",
       "  scan_area scan_method    bmi      bmr    category_bmi  \n",
       "0      胸部CT          単純  21.82  1000.01   normal weight  \n",
       "1      胸部CT          単純  27.85  1487.40  obesity class1  "
      ]
     },
     "execution_count": 14,
     "metadata": {},
     "output_type": "execute_result"
    }
   ],
   "source": [
    "# 線量予測で使えない特徴量を削除する\n",
    "drop_columns = ['accession', 'scan protocol', 'scan series', 'scanning length',\n",
    "                'kV', 'mean mA', 'max mA', 'pitch factor', 'nomial total collimation width',\n",
    "                'exposure time per rotation', 'exposure time', 'study_date', 'id', 'DLP', 'target region']\n",
    "\n",
    "df = df.drop(drop_columns, axis=1)\n",
    "df.head(2)"
   ]
  },
  {
   "cell_type": "markdown",
   "id": "c18b816d-2126-4dd7-8c65-b4166e0d5643",
   "metadata": {},
   "source": [
    "### 前処理"
   ]
  },
  {
   "cell_type": "code",
   "execution_count": 15,
   "id": "376ef5ac-812c-4037-9753-2164889de794",
   "metadata": {},
   "outputs": [],
   "source": [
    "# Ordinal EncoderとTarget Encoderの使い分けを決める\n",
    "# 線量と関連がありそうなカテゴリについてはtarget encodeを実施する\n",
    "# target encoderの対象 -> CTDIw phantom type, category_bmi, scan_area\n",
    "# ordinal encoder -> gender, scan_method\n",
    "from sklearn.preprocessing import OrdinalEncoder\n",
    "from category_encoders import TargetEncoder\n",
    "\n",
    "te_columns = ['CTDIw phantom type', 'scan_area', 'category_bmi']\n",
    "oe_columns = ['gender', 'scan_method']\n",
    "\n",
    "oe = OrdinalEncoder()\n",
    "oe.set_output(transform='pandas')\n",
    "\n",
    "df[oe_columns] = oe.fit_transform(df[oe_columns])\n",
    "\n",
    "te = TargetEncoder()\n",
    "te.fit(df[te_columns], df['Mean CTDIvol'])\n",
    "df[te_columns] = te.transform(df[te_columns])"
   ]
  },
  {
   "cell_type": "markdown",
   "id": "4d07ddf8-12fd-449b-9ecf-e1d0865e0d5a",
   "metadata": {},
   "source": [
    "### LightGBMで学習"
   ]
  },
  {
   "cell_type": "code",
   "execution_count": 16,
   "id": "b53f99d5-31f4-4087-934d-d2342b919f14",
   "metadata": {},
   "outputs": [],
   "source": [
    "from sklearn.model_selection import train_test_split\n",
    "\n",
    "target = 'Mean CTDIvol'\n",
    "X = df.drop(target, axis=1)\n",
    "y = df[target]\n",
    "\n",
    "# X_train, X_test, y_train, y_test = train_test_split(X, y, test_size=0.2, \n",
    "#                                                     shuffle=True, random_state=42)"
   ]
  },
  {
   "cell_type": "code",
   "execution_count": 17,
   "id": "e5ba9e30-8b87-477f-ac55-ac6d1b98c233",
   "metadata": {},
   "outputs": [],
   "source": [
    "import lightgbm as lgb\n",
    "from sklearn.metrics import mean_absolute_error, mean_squared_error"
   ]
  },
  {
   "cell_type": "code",
   "execution_count": 72,
   "id": "8318871f-fb58-4961-abc5-077b68ca9a95",
   "metadata": {},
   "outputs": [
    {
     "name": "stdout",
     "output_type": "stream",
     "text": [
      "Training until validation scores don't improve for 100 rounds\n",
      "[50]\ttrain's l1: 2.45092\tvalid's l1: 2.85449\n",
      "[100]\ttrain's l1: 2.30627\tvalid's l1: 2.80916\n",
      "[150]\ttrain's l1: 2.21635\tvalid's l1: 2.79116\n",
      "[200]\ttrain's l1: 2.15095\tvalid's l1: 2.77786\n",
      "[250]\ttrain's l1: 2.10168\tvalid's l1: 2.7676\n",
      "[300]\ttrain's l1: 2.05848\tvalid's l1: 2.76632\n",
      "[350]\ttrain's l1: 2.02793\tvalid's l1: 2.76538\n",
      "Early stopping, best iteration is:\n",
      "[261]\ttrain's l1: 2.087\tvalid's l1: 2.76315\n",
      "fold 1 MSE valid: 2.76\n",
      "\n",
      "Training until validation scores don't improve for 100 rounds\n",
      "[50]\ttrain's l1: 2.54716\tvalid's l1: 2.52455\n",
      "[100]\ttrain's l1: 2.38409\tvalid's l1: 2.46134\n",
      "[150]\ttrain's l1: 2.29346\tvalid's l1: 2.44628\n",
      "[200]\ttrain's l1: 2.22415\tvalid's l1: 2.44565\n",
      "[250]\ttrain's l1: 2.16941\tvalid's l1: 2.44093\n",
      "[300]\ttrain's l1: 2.1378\tvalid's l1: 2.44203\n",
      "[350]\ttrain's l1: 2.09923\tvalid's l1: 2.43684\n",
      "[400]\ttrain's l1: 2.06289\tvalid's l1: 2.435\n",
      "[450]\ttrain's l1: 2.03595\tvalid's l1: 2.43106\n",
      "[500]\ttrain's l1: 2.01615\tvalid's l1: 2.42396\n",
      "[550]\ttrain's l1: 1.99323\tvalid's l1: 2.42174\n",
      "[600]\ttrain's l1: 1.98302\tvalid's l1: 2.42248\n",
      "Early stopping, best iteration is:\n",
      "[532]\ttrain's l1: 1.99945\tvalid's l1: 2.42028\n",
      "fold 2 MSE valid: 2.42\n",
      "\n",
      "Training until validation scores don't improve for 100 rounds\n",
      "[50]\ttrain's l1: 2.52313\tvalid's l1: 2.54531\n",
      "[100]\ttrain's l1: 2.35663\tvalid's l1: 2.4712\n",
      "[150]\ttrain's l1: 2.27965\tvalid's l1: 2.46031\n",
      "[200]\ttrain's l1: 2.23492\tvalid's l1: 2.45721\n",
      "[250]\ttrain's l1: 2.19286\tvalid's l1: 2.45564\n",
      "[300]\ttrain's l1: 2.15078\tvalid's l1: 2.44677\n",
      "[350]\ttrain's l1: 2.12542\tvalid's l1: 2.44407\n",
      "[400]\ttrain's l1: 2.0972\tvalid's l1: 2.44071\n",
      "[450]\ttrain's l1: 2.07039\tvalid's l1: 2.44099\n",
      "Early stopping, best iteration is:\n",
      "[376]\ttrain's l1: 2.11251\tvalid's l1: 2.43844\n",
      "fold 3 MSE valid: 2.44\n",
      "\n",
      "Training until validation scores don't improve for 100 rounds\n",
      "[50]\ttrain's l1: 2.52832\tvalid's l1: 2.52547\n",
      "[100]\ttrain's l1: 2.39957\tvalid's l1: 2.48484\n",
      "[150]\ttrain's l1: 2.30202\tvalid's l1: 2.48109\n",
      "[200]\ttrain's l1: 2.25433\tvalid's l1: 2.48317\n",
      "[250]\ttrain's l1: 2.21561\tvalid's l1: 2.47872\n",
      "[300]\ttrain's l1: 2.16119\tvalid's l1: 2.47432\n",
      "[350]\ttrain's l1: 2.10969\tvalid's l1: 2.47797\n",
      "Early stopping, best iteration is:\n",
      "[265]\ttrain's l1: 2.19651\tvalid's l1: 2.47351\n",
      "fold 4 MSE valid: 2.47\n",
      "\n",
      "Training until validation scores don't improve for 100 rounds\n",
      "[50]\ttrain's l1: 2.42527\tvalid's l1: 3.00159\n",
      "[100]\ttrain's l1: 2.28269\tvalid's l1: 2.94664\n",
      "[150]\ttrain's l1: 2.19471\tvalid's l1: 2.92907\n",
      "[200]\ttrain's l1: 2.11948\tvalid's l1: 2.92005\n",
      "[250]\ttrain's l1: 2.07522\tvalid's l1: 2.91703\n",
      "[300]\ttrain's l1: 2.03825\tvalid's l1: 2.91458\n",
      "[350]\ttrain's l1: 2.01548\tvalid's l1: 2.91393\n",
      "[400]\ttrain's l1: 2.00236\tvalid's l1: 2.91344\n",
      "Early stopping, best iteration is:\n",
      "[325]\ttrain's l1: 2.02567\tvalid's l1: 2.91231\n",
      "fold 5 MSE valid: 2.91\n",
      "\n",
      "CV score: 2.60\n"
     ]
    }
   ],
   "source": [
    "# デフォルト条件でlightbgmを行う\n",
    "from sklearn.model_selection import KFold\n",
    "import numpy as np\n",
    "\n",
    "objective = 'mae' # 'mse'\n",
    "\n",
    "params = {\n",
    "    'objective': objective,\n",
    "    'seed': 0, \n",
    "    'verbose': -1\n",
    "}\n",
    "\n",
    "test_scores = []\n",
    "models = []\n",
    "\n",
    "kf = KFold(n_splits=5, shuffle=True, random_state=42)\n",
    "for fold, (tr_idx, va_idx) in enumerate(kf.split(X)):\n",
    "    X_tr = X.iloc[tr_idx]\n",
    "    X_va = X.iloc[va_idx]\n",
    "    y_tr = y.iloc[tr_idx]\n",
    "    y_va = y.iloc[va_idx]\n",
    "    \n",
    "    lgb_train = lgb.Dataset(X_tr, y_tr)\n",
    "    lgb_eval = lgb.Dataset(X_va, y_va, reference=lgb_train)\n",
    "    \n",
    "    model = lgb.train(params,\n",
    "                      lgb_train,\n",
    "                      num_boost_round=1000,\n",
    "                      valid_sets=[lgb_train, lgb_eval],\n",
    "                      valid_names=['train', 'valid'],\n",
    "                      callbacks=[lgb.early_stopping(100),\n",
    "                                 lgb.log_evaluation(50)])\n",
    "    \n",
    "    models.append(model.best_iteration)\n",
    "    y_va_pred = model.predict(X_va, num_iteration=model.best_iteration)\n",
    "    score = mean_absolute_error(y_va, y_va_pred)\n",
    "    print(f'fold {fold+1} MSE valid: {score:.2f}')\n",
    "    print('')\n",
    "    \n",
    "    # スコア、モデル、予測値の格納\n",
    "    test_scores.append(score)\n",
    "\n",
    "# クロスバリデーションの平均スコア\n",
    "cv_score = np.mean(test_scores)\n",
    "print(f'CV score: {cv_score:.2f}')"
   ]
  },
  {
   "cell_type": "code",
   "execution_count": 19,
   "id": "26cd5f53-057b-40e7-82a8-801a1e7917e3",
   "metadata": {},
   "outputs": [
    {
     "data": {
      "image/png": "[encoded data removed]",
      "text/plain": [
       "<Figure size 800x400 with 1 Axes>"
      ]
     },
     "metadata": {},
     "output_type": "display_data"
    }
   ],
   "source": [
    "# 特徴量の重要度の可視化\n",
    "importances = model.feature_importance(importance_type='gain')\n",
    "indices = np.argsort(importances)[::-1]\n",
    "\n",
    "plt.figure(figsize=(8, 4))\n",
    "plt.title('Feature Importance')\n",
    "plt.bar(range(len(indices)), importances[indices])\n",
    "plt.xticks(range(len(indices)), X.columns[indices], rotation=90)\n",
    "plt.show()"
   ]
  },
  {
   "cell_type": "markdown",
   "id": "2836de38-9ab1-4e94-9ea4-8d62a82e6a6f",
   "metadata": {},
   "source": [
    "### Permutation Feature Importance"
   ]
  },
  {
   "cell_type": "code",
   "execution_count": 63,
   "id": "18d8f441-37bb-4ed6-9418-30987d3c6173",
   "metadata": {},
   "outputs": [],
   "source": [
    "pfi = PermutationFeatureImportance(model, X, y, X.columns, mean_absolute_percentage_error)"
   ]
  },
  {
   "cell_type": "code",
   "execution_count": 64,
   "id": "4c05360d-7205-49f2-8e2e-8f52d75096a8",
   "metadata": {},
   "outputs": [],
   "source": [
    "pfi.permutation_feature_importance(n_shuffle=20)"
   ]
  },
  {
   "cell_type": "code",
   "execution_count": 65,
   "id": "928b663a-3e76-46e2-bc1c-bc2eb45f86c5",
   "metadata": {},
   "outputs": [
    {
     "data": {
      "image/png": "[encoded data removed]",
      "text/plain": [
       "<Figure size 640x480 with 1 Axes>"
      ]
     },
     "metadata": {},
     "output_type": "display_data"
    }
   ],
   "source": [
    "pfi.plot()"
   ]
  },
  {
   "cell_type": "markdown",
   "id": "89142d3b-638a-486a-ba4c-79ee0300bb72",
   "metadata": {},
   "source": [
    "### Hyperparameter "
   ]
  },
  {
   "cell_type": "code",
   "execution_count": 70,
   "id": "ddf27131-95b3-465f-adcd-56a75391c3f6",
   "metadata": {},
   "outputs": [],
   "source": [
    "import optuna\n",
    "from sklearn.model_selection import KFold"
   ]
  },
  {
   "cell_type": "code",
   "execution_count": 85,
   "id": "ff04b301-6656-4ac3-8302-2cbffb3846a0",
   "metadata": {},
   "outputs": [],
   "source": [
    "param_base = {\n",
    "    'objective': 'mae',\n",
    "    'random_seed': 42,\n",
    "    'min_data_in_bin': 3,\n",
    "    'bagging_freq': 1,\n",
    "    'bagging_seed': 0,\n",
    "    'verbose': -1,\n",
    "}\n",
    "\n",
    "def objective(trial):\n",
    "    param_tuning = {\n",
    "        'num_leaves': trial.suggest_int('num_leaves', 50, 200),\n",
    "        'min_data_in_leaf': trial.suggest_int('min_data_in_leaf', 2, 30),\n",
    "        'learning_rate': trial.suggest_float('learning_rate', 0.001, 0.2),\n",
    "        'max_bin': trial.suggest_int('max_bin', 200, 400),\n",
    "        'bagging_fraction': trial.suggest_float('bagging_fraction', 0.8, 0.95),\n",
    "        'feature_fraction': trial.suggest_float('feature_fraction', 0.35, 0.65),\n",
    "        'min_gain_to_split': trial.suggest_float('min_gain_to_split', 0.01, 1, log=True),\n",
    "        'lambda_l1': trial.suggest_float('lambda_l1', 0.01, 1, log=True),\n",
    "        'lambda_l2': trial.suggest_float('lambda_l2', 0.01, 1, log=True),\n",
    "    }\n",
    "    \n",
    "    param_tuning.update(param_base)\n",
    "    \n",
    "    kf = KFold(n_splits=5, shuffle=True, random_state=42)\n",
    "    for fold, (tr_idx, va_idx) in enumerate(kf.split(X)):\n",
    "        X_tr = X.iloc[tr_idx]\n",
    "        X_va = X.iloc[va_idx]\n",
    "        y_tr = y.iloc[tr_idx]\n",
    "        y_va = y.iloc[va_idx]\n",
    "        \n",
    "        lgb_train = lgb.Dataset(X_tr, y_tr)\n",
    "        lgb_eval = lgb.Dataset(X_va, y_va, reference=lgb_train)\n",
    "        \n",
    "        model = lgb.train(param_tuning,\n",
    "                          lgb_train,\n",
    "                          num_boost_round=10000,\n",
    "                          valid_sets=[lgb_train, lgb_eval],\n",
    "                          valid_names=['train', 'valid'],\n",
    "                          callbacks=[lgb.early_stopping(100),\n",
    "                                     lgb.log_evaluation(500)])\n",
    "        \n",
    "    y_va_pred = model.predict(X_va, num_iteration=model.best_iteration)\n",
    "    score = mean_absolute_error(y_va, y_va_pred)\n",
    "    print('')\n",
    "    \n",
    "    return score"
   ]
  },
  {
   "cell_type": "code",
   "execution_count": null,
   "id": "7910a62d-65a0-4df7-8723-24476cbc621b",
   "metadata": {
    "tags": []
   },
   "outputs": [
    {
     "name": "stderr",
     "output_type": "stream",
     "text": [
      "\u001b[32m[I 2023-07-10 10:57:19,153]\u001b[0m A new study created in memory with name: no-name-05056e54-028e-4235-9ee4-19fed031ee08\u001b[0m\n"
     ]
    },
    {
     "name": "stdout",
     "output_type": "stream",
     "text": [
      "Training until validation scores don't improve for 100 rounds\n",
      "[500]\ttrain's l1: 1.58936\tvalid's l1: 2.84137\n",
      "Early stopping, best iteration is:\n",
      "[429]\ttrain's l1: 1.6158\tvalid's l1: 2.8378\n",
      "Training until validation scores don't improve for 100 rounds\n",
      "Early stopping, best iteration is:\n",
      "[232]\ttrain's l1: 1.8049\tvalid's l1: 2.52619\n",
      "Training until validation scores don't improve for 100 rounds\n",
      "Early stopping, best iteration is:\n",
      "[197]\ttrain's l1: 1.83961\tvalid's l1: 2.50193\n",
      "Training until validation scores don't improve for 100 rounds\n",
      "Early stopping, best iteration is:\n",
      "[282]\ttrain's l1: 1.77322\tvalid's l1: 2.47608\n",
      "Training until validation scores don't improve for 100 rounds\n"
     ]
    },
    {
     "name": "stderr",
     "output_type": "stream",
     "text": [
      "\u001b[32m[I 2023-07-10 10:57:25,826]\u001b[0m Trial 0 finished with value: 2.9627247191458896 and parameters: {'num_leaves': 132, 'min_data_in_leaf': 22, 'learning_rate': 0.12094991183825714, 'max_bin': 309, 'bagging_fraction': 0.8635482199008357, 'feature_fraction': 0.5437682339199968, 'min_gain_to_split': 0.07501954443620121, 'lambda_l1': 0.6074996073425692, 'lambda_l2': 0.8459126528049372}. Best is trial 0 with value: 2.9627247191458896.\u001b[0m\n"
     ]
    },
    {
     "name": "stdout",
     "output_type": "stream",
     "text": [
      "Early stopping, best iteration is:\n",
      "[156]\ttrain's l1: 1.80223\tvalid's l1: 2.96272\n",
      "\n",
      "Training until validation scores don't improve for 100 rounds\n",
      "[500]\ttrain's l1: 1.7609\tvalid's l1: 2.98415\n",
      "Early stopping, best iteration is:\n",
      "[427]\ttrain's l1: 1.78948\tvalid's l1: 2.98222\n",
      "Training until validation scores don't improve for 100 rounds\n",
      "[500]\ttrain's l1: 1.82216\tvalid's l1: 2.6167\n",
      "[1000]\ttrain's l1: 1.68759\tvalid's l1: 2.60631\n",
      "Early stopping, best iteration is:\n",
      "[913]\ttrain's l1: 1.70421\tvalid's l1: 2.60497\n",
      "Training until validation scores don't improve for 100 rounds\n",
      "[500]\ttrain's l1: 1.82079\tvalid's l1: 2.58288\n",
      "Early stopping, best iteration is:\n",
      "[841]\ttrain's l1: 1.72396\tvalid's l1: 2.57211\n",
      "Training until validation scores don't improve for 100 rounds\n",
      "[500]\ttrain's l1: 1.82835\tvalid's l1: 2.58183\n",
      "Early stopping, best iteration is:\n",
      "[646]\ttrain's l1: 1.77242\tvalid's l1: 2.57579\n",
      "Training until validation scores don't improve for 100 rounds\n",
      "[500]\ttrain's l1: 1.72397\tvalid's l1: 3.03217\n",
      "Early stopping, best iteration is:\n",
      "[589]\ttrain's l1: 1.69064\tvalid's l1: 3.02782\n"
     ]
    },
    {
     "name": "stderr",
     "output_type": "stream",
     "text": [
      "\u001b[32m[I 2023-07-10 10:57:39,919]\u001b[0m Trial 1 finished with value: 3.027824926906157 and parameters: {'num_leaves': 107, 'min_data_in_leaf': 24, 'learning_rate': 0.106250089030828, 'max_bin': 314, 'bagging_fraction': 0.9388394957438991, 'feature_fraction': 0.37131081745936606, 'min_gain_to_split': 0.014936835544198456, 'lambda_l1': 0.01097581541938016, 'lambda_l2': 0.46263628414755864}. Best is trial 0 with value: 2.9627247191458896.\u001b[0m\n"
     ]
    },
    {
     "name": "stdout",
     "output_type": "stream",
     "text": [
      "\n",
      "Training until validation scores don't improve for 100 rounds\n",
      "Early stopping, best iteration is:\n",
      "[91]\ttrain's l1: 1.83192\tvalid's l1: 2.86548\n",
      "Training until validation scores don't improve for 100 rounds\n",
      "Early stopping, best iteration is:\n",
      "[189]\ttrain's l1: 1.74374\tvalid's l1: 2.56412\n",
      "Training until validation scores don't improve for 100 rounds\n",
      "Early stopping, best iteration is:\n",
      "[140]\ttrain's l1: 1.8195\tvalid's l1: 2.49406\n",
      "Training until validation scores don't improve for 100 rounds\n",
      "Early stopping, best iteration is:\n",
      "[62]\ttrain's l1: 2.03495\tvalid's l1: 2.53637\n",
      "Training until validation scores don't improve for 100 rounds\n"
     ]
    },
    {
     "name": "stderr",
     "output_type": "stream",
     "text": [
      "\u001b[32m[I 2023-07-10 10:57:46,529]\u001b[0m Trial 2 finished with value: 2.9988185975602324 and parameters: {'num_leaves': 167, 'min_data_in_leaf': 27, 'learning_rate': 0.19574505010432006, 'max_bin': 360, 'bagging_fraction': 0.8692219043379398, 'feature_fraction': 0.5841587528859367, 'min_gain_to_split': 0.017240460099242298, 'lambda_l1': 0.19047678084282033, 'lambda_l2': 0.01935114088559527}. Best is trial 0 with value: 2.9627247191458896.\u001b[0m\n"
     ]
    },
    {
     "name": "stdout",
     "output_type": "stream",
     "text": [
      "Early stopping, best iteration is:\n",
      "[72]\ttrain's l1: 1.85299\tvalid's l1: 2.99882\n",
      "\n",
      "Training until validation scores don't improve for 100 rounds\n",
      "Early stopping, best iteration is:\n",
      "[265]\ttrain's l1: 1.60574\tvalid's l1: 2.84396\n",
      "Training until validation scores don't improve for 100 rounds\n",
      "Early stopping, best iteration is:\n",
      "[384]\ttrain's l1: 1.59675\tvalid's l1: 2.5313\n",
      "Training until validation scores don't improve for 100 rounds\n",
      "Early stopping, best iteration is:\n",
      "[229]\ttrain's l1: 1.70024\tvalid's l1: 2.50058\n",
      "Training until validation scores don't improve for 100 rounds\n",
      "Early stopping, best iteration is:\n",
      "[194]\ttrain's l1: 1.76461\tvalid's l1: 2.48618\n",
      "Training until validation scores don't improve for 100 rounds\n",
      "Early stopping, best iteration is:\n",
      "[180]\ttrain's l1: 1.68693\tvalid's l1: 2.98501\n"
     ]
    },
    {
     "name": "stderr",
     "output_type": "stream",
     "text": [
      "\u001b[32m[I 2023-07-10 10:58:01,536]\u001b[0m Trial 3 finished with value: 2.9850055182784536 and parameters: {'num_leaves': 192, 'min_data_in_leaf': 17, 'learning_rate': 0.0835177260581142, 'max_bin': 253, 'bagging_fraction': 0.9161350534151325, 'feature_fraction': 0.4868450996649646, 'min_gain_to_split': 0.13704648392849017, 'lambda_l1': 0.010903843281968528, 'lambda_l2': 0.1718980674331938}. Best is trial 0 with value: 2.9627247191458896.\u001b[0m\n"
     ]
    },
    {
     "name": "stdout",
     "output_type": "stream",
     "text": [
      "\n",
      "Training until validation scores don't improve for 100 rounds\n",
      "Early stopping, best iteration is:\n",
      "[93]\ttrain's l1: 1.82135\tvalid's l1: 2.90384\n",
      "Training until validation scores don't improve for 100 rounds\n",
      "Early stopping, best iteration is:\n",
      "[159]\ttrain's l1: 1.74026\tvalid's l1: 2.61065\n",
      "Training until validation scores don't improve for 100 rounds\n",
      "Early stopping, best iteration is:\n",
      "[274]\ttrain's l1: 1.61366\tvalid's l1: 2.59791\n",
      "Training until validation scores don't improve for 100 rounds\n",
      "Early stopping, best iteration is:\n",
      "[128]\ttrain's l1: 1.80306\tvalid's l1: 2.53782\n",
      "Training until validation scores don't improve for 100 rounds\n"
     ]
    },
    {
     "name": "stderr",
     "output_type": "stream",
     "text": [
      "\u001b[32m[I 2023-07-10 10:58:09,593]\u001b[0m Trial 4 finished with value: 3.0373980447723876 and parameters: {'num_leaves': 142, 'min_data_in_leaf': 19, 'learning_rate': 0.1888058676244102, 'max_bin': 337, 'bagging_fraction': 0.8539261850860679, 'feature_fraction': 0.4811095861398024, 'min_gain_to_split': 0.2484633816898239, 'lambda_l1': 0.0131962624184222, 'lambda_l2': 0.21554275565447506}. Best is trial 0 with value: 2.9627247191458896.\u001b[0m\n"
     ]
    },
    {
     "name": "stdout",
     "output_type": "stream",
     "text": [
      "Early stopping, best iteration is:\n",
      "[271]\ttrain's l1: 1.53834\tvalid's l1: 3.0374\n",
      "\n",
      "Training until validation scores don't improve for 100 rounds\n",
      "[500]\ttrain's l1: 1.61684\tvalid's l1: 2.8027\n",
      "Early stopping, best iteration is:\n",
      "[619]\ttrain's l1: 1.54233\tvalid's l1: 2.79635\n",
      "Training until validation scores don't improve for 100 rounds\n",
      "[500]\ttrain's l1: 1.69423\tvalid's l1: 2.45982\n",
      "Early stopping, best iteration is:\n",
      "[582]\ttrain's l1: 1.63978\tvalid's l1: 2.45326\n",
      "Training until validation scores don't improve for 100 rounds\n",
      "[500]\ttrain's l1: 1.67995\tvalid's l1: 2.45999\n",
      "Early stopping, best iteration is:\n",
      "[622]\ttrain's l1: 1.60117\tvalid's l1: 2.45431\n",
      "Training until validation scores don't improve for 100 rounds\n",
      "[500]\ttrain's l1: 1.69649\tvalid's l1: 2.43827\n",
      "Early stopping, best iteration is:\n",
      "[551]\ttrain's l1: 1.65867\tvalid's l1: 2.43645\n",
      "Training until validation scores don't improve for 100 rounds\n",
      "[500]\ttrain's l1: 1.56988\tvalid's l1: 2.92125\n",
      "Early stopping, best iteration is:\n",
      "[415]\ttrain's l1: 1.63634\tvalid's l1: 2.91804\n"
     ]
    },
    {
     "name": "stderr",
     "output_type": "stream",
     "text": [
      "\u001b[32m[I 2023-07-10 10:58:26,923]\u001b[0m Trial 5 finished with value: 2.918035092969341 and parameters: {'num_leaves': 151, 'min_data_in_leaf': 8, 'learning_rate': 0.02665633323331581, 'max_bin': 263, 'bagging_fraction': 0.8545566156413934, 'feature_fraction': 0.5210590311253639, 'min_gain_to_split': 0.07537078298264387, 'lambda_l1': 0.9478675948634673, 'lambda_l2': 0.015998881492631498}. Best is trial 5 with value: 2.918035092969341.\u001b[0m\n"
     ]
    },
    {
     "name": "stdout",
     "output_type": "stream",
     "text": [
      "\n",
      "Training until validation scores don't improve for 100 rounds\n",
      "[500]\ttrain's l1: 1.44954\tvalid's l1: 2.95558\n",
      "Early stopping, best iteration is:\n",
      "[434]\ttrain's l1: 1.49059\tvalid's l1: 2.94477\n",
      "Training until validation scores don't improve for 100 rounds\n",
      "[500]\ttrain's l1: 1.50736\tvalid's l1: 2.63506\n",
      "Early stopping, best iteration is:\n",
      "[428]\ttrain's l1: 1.55578\tvalid's l1: 2.62451\n",
      "Training until validation scores don't improve for 100 rounds\n",
      "Early stopping, best iteration is:\n",
      "[287]\ttrain's l1: 1.68385\tvalid's l1: 2.56841\n",
      "Training until validation scores don't improve for 100 rounds\n",
      "[500]\ttrain's l1: 1.50845\tvalid's l1: 2.61798\n",
      "Early stopping, best iteration is:\n",
      "[475]\ttrain's l1: 1.52739\tvalid's l1: 2.61337\n",
      "Training until validation scores don't improve for 100 rounds\n"
     ]
    },
    {
     "name": "stderr",
     "output_type": "stream",
     "text": [
      "\u001b[32m[I 2023-07-10 10:58:35,249]\u001b[0m Trial 6 finished with value: 3.05246051844517 and parameters: {'num_leaves': 81, 'min_data_in_leaf': 6, 'learning_rate': 0.1309685567676143, 'max_bin': 250, 'bagging_fraction': 0.8699466159284459, 'feature_fraction': 0.42332767760048085, 'min_gain_to_split': 0.020794053992139315, 'lambda_l1': 0.016624564693643644, 'lambda_l2': 0.20542778286285945}. Best is trial 5 with value: 2.918035092969341.\u001b[0m\n"
     ]
    },
    {
     "name": "stdout",
     "output_type": "stream",
     "text": [
      "Early stopping, best iteration is:\n",
      "[178]\ttrain's l1: 1.78563\tvalid's l1: 3.05246\n",
      "\n",
      "Training until validation scores don't improve for 100 rounds\n",
      "Early stopping, best iteration is:\n",
      "[200]\ttrain's l1: 1.85818\tvalid's l1: 2.7588\n",
      "Training until validation scores don't improve for 100 rounds\n",
      "Early stopping, best iteration is:\n",
      "[294]\ttrain's l1: 1.77454\tvalid's l1: 2.42417\n",
      "Training until validation scores don't improve for 100 rounds\n",
      "Early stopping, best iteration is:\n",
      "[360]\ttrain's l1: 1.69247\tvalid's l1: 2.43131\n",
      "Training until validation scores don't improve for 100 rounds\n",
      "Early stopping, best iteration is:\n",
      "[282]\ttrain's l1: 1.81066\tvalid's l1: 2.40484\n",
      "Training until validation scores don't improve for 100 rounds\n",
      "Early stopping, best iteration is:\n",
      "[356]\ttrain's l1: 1.60861\tvalid's l1: 2.88524\n"
     ]
    },
    {
     "name": "stderr",
     "output_type": "stream",
     "text": [
      "\u001b[32m[I 2023-07-10 10:58:44,136]\u001b[0m Trial 7 finished with value: 2.8852366256741777 and parameters: {'num_leaves': 70, 'min_data_in_leaf': 7, 'learning_rate': 0.07437630896153186, 'max_bin': 365, 'bagging_fraction': 0.8145651913689592, 'feature_fraction': 0.6013834722496412, 'min_gain_to_split': 0.015566709318481201, 'lambda_l1': 0.8972612866432508, 'lambda_l2': 0.08655704137361815}. Best is trial 7 with value: 2.8852366256741777.\u001b[0m\n"
     ]
    },
    {
     "name": "stdout",
     "output_type": "stream",
     "text": [
      "\n",
      "Training until validation scores don't improve for 100 rounds\n",
      "[500]\ttrain's l1: 1.54307\tvalid's l1: 3.08124\n",
      "Early stopping, best iteration is:\n",
      "[588]\ttrain's l1: 1.51047\tvalid's l1: 3.07533\n",
      "Training until validation scores don't improve for 100 rounds\n",
      "Early stopping, best iteration is:\n",
      "[307]\ttrain's l1: 1.70107\tvalid's l1: 2.71457\n",
      "Training until validation scores don't improve for 100 rounds\n",
      "Early stopping, best iteration is:\n",
      "[366]\ttrain's l1: 1.67633\tvalid's l1: 2.69943\n",
      "Training until validation scores don't improve for 100 rounds\n",
      "[500]\ttrain's l1: 1.60161\tvalid's l1: 2.72074\n",
      "Early stopping, best iteration is:\n",
      "[811]\ttrain's l1: 1.5107\tvalid's l1: 2.71129\n",
      "Training until validation scores don't improve for 100 rounds\n",
      "[500]\ttrain's l1: 1.52479\tvalid's l1: 3.16647\n",
      "Early stopping, best iteration is:\n",
      "[463]\ttrain's l1: 1.5405\tvalid's l1: 3.16254\n"
     ]
    },
    {
     "name": "stderr",
     "output_type": "stream",
     "text": [
      "\u001b[32m[I 2023-07-10 10:59:08,463]\u001b[0m Trial 8 finished with value: 3.1625447407894485 and parameters: {'num_leaves': 197, 'min_data_in_leaf': 19, 'learning_rate': 0.14811345230026204, 'max_bin': 207, 'bagging_fraction': 0.8424210443864615, 'feature_fraction': 0.38605896836395065, 'min_gain_to_split': 0.0391093317225106, 'lambda_l1': 0.0172764870082179, 'lambda_l2': 0.04324803290528771}. Best is trial 7 with value: 2.8852366256741777.\u001b[0m\n"
     ]
    },
    {
     "name": "stdout",
     "output_type": "stream",
     "text": [
      "\n",
      "Training until validation scores don't improve for 100 rounds\n",
      "Early stopping, best iteration is:\n",
      "[51]\ttrain's l1: 1.94344\tvalid's l1: 2.90087\n",
      "Training until validation scores don't improve for 100 rounds\n",
      "Early stopping, best iteration is:\n",
      "[186]\ttrain's l1: 1.34575\tvalid's l1: 2.48227\n",
      "Training until validation scores don't improve for 100 rounds\n",
      "Early stopping, best iteration is:\n",
      "[85]\ttrain's l1: 1.77471\tvalid's l1: 2.53732\n",
      "Training until validation scores don't improve for 100 rounds\n",
      "Early stopping, best iteration is:\n",
      "[168]\ttrain's l1: 1.41387\tvalid's l1: 2.51464\n",
      "Training until validation scores don't improve for 100 rounds\n"
     ]
    },
    {
     "name": "stderr",
     "output_type": "stream",
     "text": [
      "\u001b[32m[I 2023-07-10 10:59:14,816]\u001b[0m Trial 9 finished with value: 2.9259158074956626 and parameters: {'num_leaves': 112, 'min_data_in_leaf': 3, 'learning_rate': 0.13880195175463395, 'max_bin': 313, 'bagging_fraction': 0.8398084236409168, 'feature_fraction': 0.5069744160400099, 'min_gain_to_split': 0.015412781495004139, 'lambda_l1': 0.14187079131473238, 'lambda_l2': 0.7220917699605239}. Best is trial 7 with value: 2.8852366256741777.\u001b[0m\n"
     ]
    },
    {
     "name": "stdout",
     "output_type": "stream",
     "text": [
      "Early stopping, best iteration is:\n",
      "[85]\ttrain's l1: 1.65147\tvalid's l1: 2.92592\n",
      "\n",
      "Training until validation scores don't improve for 100 rounds\n",
      "[500]\ttrain's l1: 1.80755\tvalid's l1: 2.75364\n",
      "Early stopping, best iteration is:\n",
      "[500]\ttrain's l1: 1.80755\tvalid's l1: 2.75364\n",
      "Training until validation scores don't improve for 100 rounds\n",
      "[500]\ttrain's l1: 1.86508\tvalid's l1: 2.42404\n",
      "Early stopping, best iteration is:\n",
      "[542]\ttrain's l1: 1.8403\tvalid's l1: 2.42274\n",
      "Training until validation scores don't improve for 100 rounds\n",
      "Early stopping, best iteration is:\n",
      "[397]\ttrain's l1: 1.92358\tvalid's l1: 2.41662\n",
      "Training until validation scores don't improve for 100 rounds\n",
      "[500]\ttrain's l1: 1.87086\tvalid's l1: 2.4091\n",
      "Early stopping, best iteration is:\n",
      "[644]\ttrain's l1: 1.79766\tvalid's l1: 2.40205\n",
      "Training until validation scores don't improve for 100 rounds\n",
      "Early stopping, best iteration is:\n",
      "[353]\ttrain's l1: 1.84785\tvalid's l1: 2.87909\n"
     ]
    },
    {
     "name": "stderr",
     "output_type": "stream",
     "text": [
      "\u001b[32m[I 2023-07-10 10:59:24,876]\u001b[0m Trial 10 finished with value: 2.8790902608039053 and parameters: {'num_leaves': 53, 'min_data_in_leaf': 11, 'learning_rate': 0.0601274251181819, 'max_bin': 386, 'bagging_fraction': 0.8041584039871953, 'feature_fraction': 0.6465177168990522, 'min_gain_to_split': 0.5088357362443391, 'lambda_l1': 0.4204551476528378, 'lambda_l2': 0.06695233513296726}. Best is trial 10 with value: 2.8790902608039053.\u001b[0m\n"
     ]
    },
    {
     "name": "stdout",
     "output_type": "stream",
     "text": [
      "\n",
      "Training until validation scores don't improve for 100 rounds\n",
      "Early stopping, best iteration is:\n",
      "[380]\ttrain's l1: 1.94887\tvalid's l1: 2.77097\n",
      "Training until validation scores don't improve for 100 rounds\n",
      "[500]\ttrain's l1: 1.95798\tvalid's l1: 2.43578\n",
      "Early stopping, best iteration is:\n",
      "[445]\ttrain's l1: 1.97745\tvalid's l1: 2.43371\n",
      "Training until validation scores don't improve for 100 rounds\n",
      "[500]\ttrain's l1: 1.95633\tvalid's l1: 2.42619\n",
      "Early stopping, best iteration is:\n",
      "[632]\ttrain's l1: 1.90139\tvalid's l1: 2.42082\n",
      "Training until validation scores don't improve for 100 rounds\n",
      "[500]\ttrain's l1: 1.96027\tvalid's l1: 2.40634\n",
      "Early stopping, best iteration is:\n",
      "[638]\ttrain's l1: 1.90059\tvalid's l1: 2.40253\n",
      "Training until validation scores don't improve for 100 rounds\n",
      "[500]\ttrain's l1: 1.84399\tvalid's l1: 2.88745\n",
      "Early stopping, best iteration is:\n",
      "[662]\ttrain's l1: 1.78482\tvalid's l1: 2.87653\n"
     ]
    },
    {
     "name": "stderr",
     "output_type": "stream",
     "text": [
      "\u001b[32m[I 2023-07-10 10:59:34,241]\u001b[0m Trial 11 finished with value: 2.876990800307805 and parameters: {'num_leaves': 52, 'min_data_in_leaf': 11, 'learning_rate': 0.055111044566937564, 'max_bin': 400, 'bagging_fraction': 0.8052703597789115, 'feature_fraction': 0.6359548336404655, 'min_gain_to_split': 0.9080547161828647, 'lambda_l1': 0.42758222144640173, 'lambda_l2': 0.06592947228824622}. Best is trial 11 with value: 2.876990800307805.\u001b[0m\n"
     ]
    },
    {
     "name": "stdout",
     "output_type": "stream",
     "text": [
      "\n",
      "Training until validation scores don't improve for 100 rounds\n",
      "[500]\ttrain's l1: 1.91083\tvalid's l1: 2.76556\n",
      "Early stopping, best iteration is:\n",
      "[722]\ttrain's l1: 1.81709\tvalid's l1: 2.76134\n",
      "Training until validation scores don't improve for 100 rounds\n",
      "[500]\ttrain's l1: 1.98164\tvalid's l1: 2.42631\n",
      "Early stopping, best iteration is:\n",
      "[496]\ttrain's l1: 1.98384\tvalid's l1: 2.42589\n",
      "Training until validation scores don't improve for 100 rounds\n",
      "[500]\ttrain's l1: 1.97698\tvalid's l1: 2.42573\n",
      "Early stopping, best iteration is:\n",
      "[731]\ttrain's l1: 1.8803\tvalid's l1: 2.41678\n",
      "Training until validation scores don't improve for 100 rounds\n",
      "[500]\ttrain's l1: 1.97258\tvalid's l1: 2.41699\n",
      "Early stopping, best iteration is:\n",
      "[552]\ttrain's l1: 1.94748\tvalid's l1: 2.4133\n",
      "Training until validation scores don't improve for 100 rounds\n",
      "[500]\ttrain's l1: 1.87046\tvalid's l1: 2.88229\n",
      "Early stopping, best iteration is:\n",
      "[750]\ttrain's l1: 1.77503\tvalid's l1: 2.86827\n"
     ]
    },
    {
     "name": "stderr",
     "output_type": "stream",
     "text": [
      "\u001b[32m[I 2023-07-10 10:59:45,861]\u001b[0m Trial 12 finished with value: 2.868270874573443 and parameters: {'num_leaves': 55, 'min_data_in_leaf': 12, 'learning_rate': 0.0480683492427996, 'max_bin': 394, 'bagging_fraction': 0.8008768726685604, 'feature_fraction': 0.6421506363915696, 'min_gain_to_split': 0.8724846927673231, 'lambda_l1': 0.35534274321780757, 'lambda_l2': 0.0508212914971081}. Best is trial 12 with value: 2.868270874573443.\u001b[0m\n"
     ]
    },
    {
     "name": "stdout",
     "output_type": "stream",
     "text": [
      "\n",
      "Training until validation scores don't improve for 100 rounds\n",
      "[500]\ttrain's l1: 2.42028\tvalid's l1: 2.90748\n",
      "[1000]\ttrain's l1: 2.19339\tvalid's l1: 2.789\n",
      "[1500]\ttrain's l1: 2.09673\tvalid's l1: 2.76394\n",
      "[2000]\ttrain's l1: 2.03341\tvalid's l1: 2.75419\n",
      "[2500]\ttrain's l1: 1.99204\tvalid's l1: 2.74913\n",
      "Early stopping, best iteration is:\n",
      "[2740]\ttrain's l1: 1.96547\tvalid's l1: 2.74273\n",
      "Training until validation scores don't improve for 100 rounds\n",
      "[500]\ttrain's l1: 2.49818\tvalid's l1: 2.54661\n",
      "[1000]\ttrain's l1: 2.26497\tvalid's l1: 2.4582\n",
      "[1500]\ttrain's l1: 2.16348\tvalid's l1: 2.439\n",
      "[2000]\ttrain's l1: 2.10655\tvalid's l1: 2.432\n",
      "[2500]\ttrain's l1: 2.06153\tvalid's l1: 2.42819\n",
      "[3000]\ttrain's l1: 2.02609\tvalid's l1: 2.42575\n",
      "Early stopping, best iteration is:\n",
      "[3273]\ttrain's l1: 2.01027\tvalid's l1: 2.42462\n",
      "Training until validation scores don't improve for 100 rounds\n",
      "[500]\ttrain's l1: 2.4874\tvalid's l1: 2.55709\n",
      "[1000]\ttrain's l1: 2.26854\tvalid's l1: 2.46016\n",
      "[1500]\ttrain's l1: 2.16594\tvalid's l1: 2.43179\n",
      "[2000]\ttrain's l1: 2.09656\tvalid's l1: 2.4208\n",
      "[2500]\ttrain's l1: 2.04622\tvalid's l1: 2.41463\n",
      "[3000]\ttrain's l1: 2.00727\tvalid's l1: 2.41064\n",
      "Early stopping, best iteration is:\n",
      "[3167]\ttrain's l1: 1.99729\tvalid's l1: 2.40935\n",
      "Training until validation scores don't improve for 100 rounds\n",
      "[500]\ttrain's l1: 2.51266\tvalid's l1: 2.57585\n",
      "[1000]\ttrain's l1: 2.27088\tvalid's l1: 2.44113\n",
      "[1500]\ttrain's l1: 2.18657\tvalid's l1: 2.42635\n",
      "[2000]\ttrain's l1: 2.12582\tvalid's l1: 2.41533\n",
      "[2500]\ttrain's l1: 2.08551\tvalid's l1: 2.41075\n",
      "[3000]\ttrain's l1: 2.05575\tvalid's l1: 2.40704\n",
      "Early stopping, best iteration is:\n",
      "[3128]\ttrain's l1: 2.04728\tvalid's l1: 2.40608\n",
      "Training until validation scores don't improve for 100 rounds\n",
      "[500]\ttrain's l1: 2.39386\tvalid's l1: 3.04418\n",
      "[1000]\ttrain's l1: 2.15855\tvalid's l1: 2.93365\n",
      "[1500]\ttrain's l1: 2.06687\tvalid's l1: 2.90693\n",
      "[2000]\ttrain's l1: 2.01425\tvalid's l1: 2.89833\n",
      "[2500]\ttrain's l1: 1.96501\tvalid's l1: 2.88824\n",
      "[3000]\ttrain's l1: 1.91398\tvalid's l1: 2.882\n",
      "[3500]\ttrain's l1: 1.88173\tvalid's l1: 2.87969\n",
      "[4000]\ttrain's l1: 1.85832\tvalid's l1: 2.87832\n",
      "[4500]\ttrain's l1: 1.83576\tvalid's l1: 2.87643\n",
      "Early stopping, best iteration is:\n",
      "[4756]\ttrain's l1: 1.82459\tvalid's l1: 2.87515\n"
     ]
    },
    {
     "name": "stderr",
     "output_type": "stream",
     "text": [
      "\u001b[32m[I 2023-07-10 11:00:39,795]\u001b[0m Trial 13 finished with value: 2.875216597496461 and parameters: {'num_leaves': 51, 'min_data_in_leaf': 13, 'learning_rate': 0.008460647520158494, 'max_bin': 398, 'bagging_fraction': 0.8035365780202304, 'feature_fraction': 0.6431895571891458, 'min_gain_to_split': 0.9832973331640446, 'lambda_l1': 0.2997703129905734, 'lambda_l2': 0.03862762106944497}. Best is trial 12 with value: 2.868270874573443.\u001b[0m\n"
     ]
    },
    {
     "name": "stdout",
     "output_type": "stream",
     "text": [
      "\n",
      "Training until validation scores don't improve for 100 rounds\n",
      "[500]\ttrain's l1: 2.42812\tvalid's l1: 2.99828\n",
      "[1000]\ttrain's l1: 2.09161\tvalid's l1: 2.78447\n",
      "[1500]\ttrain's l1: 1.98666\tvalid's l1: 2.75358\n",
      "[2000]\ttrain's l1: 1.93471\tvalid's l1: 2.74431\n",
      "[2500]\ttrain's l1: 1.90333\tvalid's l1: 2.74026\n",
      "[3000]\ttrain's l1: 1.87849\tvalid's l1: 2.7374\n",
      "[3500]\ttrain's l1: 1.85307\tvalid's l1: 2.73511\n",
      "Early stopping, best iteration is:\n",
      "[3525]\ttrain's l1: 1.85156\tvalid's l1: 2.73499\n",
      "Training until validation scores don't improve for 100 rounds\n",
      "[500]\ttrain's l1: 2.49694\tvalid's l1: 2.61921\n",
      "[1000]\ttrain's l1: 2.16807\tvalid's l1: 2.47682\n",
      "[1500]\ttrain's l1: 2.06219\tvalid's l1: 2.4534\n",
      "[2000]\ttrain's l1: 2.0061\tvalid's l1: 2.44851\n",
      "[2500]\ttrain's l1: 1.9637\tvalid's l1: 2.44348\n",
      "[3000]\ttrain's l1: 1.92945\tvalid's l1: 2.43947\n",
      "[3500]\ttrain's l1: 1.90019\tvalid's l1: 2.43752\n",
      "[4000]\ttrain's l1: 1.87945\tvalid's l1: 2.43542\n",
      "Early stopping, best iteration is:\n",
      "[4190]\ttrain's l1: 1.87203\tvalid's l1: 2.4349\n",
      "Training until validation scores don't improve for 100 rounds\n",
      "[500]\ttrain's l1: 2.48517\tvalid's l1: 2.61812\n",
      "[1000]\ttrain's l1: 2.16632\tvalid's l1: 2.47885\n",
      "[1500]\ttrain's l1: 2.06306\tvalid's l1: 2.44888\n",
      "[2000]\ttrain's l1: 2.00355\tvalid's l1: 2.43726\n",
      "[2500]\ttrain's l1: 1.95885\tvalid's l1: 2.43184\n",
      "Early stopping, best iteration is:\n",
      "[2839]\ttrain's l1: 1.93513\tvalid's l1: 2.42911\n",
      "Training until validation scores don't improve for 100 rounds\n",
      "[500]\ttrain's l1: 2.50722\tvalid's l1: 2.65782\n",
      "[1000]\ttrain's l1: 2.17824\tvalid's l1: 2.44495\n",
      "[1500]\ttrain's l1: 2.08449\tvalid's l1: 2.42708\n",
      "[2000]\ttrain's l1: 2.03359\tvalid's l1: 2.41728\n",
      "[2500]\ttrain's l1: 1.99643\tvalid's l1: 2.411\n",
      "[3000]\ttrain's l1: 1.96011\tvalid's l1: 2.40602\n",
      "Early stopping, best iteration is:\n",
      "[3294]\ttrain's l1: 1.93865\tvalid's l1: 2.40375\n",
      "Training until validation scores don't improve for 100 rounds\n",
      "[500]\ttrain's l1: 2.38449\tvalid's l1: 3.12989\n",
      "[1000]\ttrain's l1: 2.06045\tvalid's l1: 2.94751\n",
      "[1500]\ttrain's l1: 1.9686\tvalid's l1: 2.92205\n",
      "[2000]\ttrain's l1: 1.91794\tvalid's l1: 2.91106\n",
      "[2500]\ttrain's l1: 1.87215\tvalid's l1: 2.90301\n",
      "[3000]\ttrain's l1: 1.82832\tvalid's l1: 2.89855\n",
      "Early stopping, best iteration is:\n",
      "[3291]\ttrain's l1: 1.80962\tvalid's l1: 2.89747\n"
     ]
    },
    {
     "name": "stderr",
     "output_type": "stream",
     "text": [
      "\u001b[32m[I 2023-07-10 11:02:04,258]\u001b[0m Trial 14 finished with value: 2.8975603731938646 and parameters: {'num_leaves': 94, 'min_data_in_leaf': 14, 'learning_rate': 0.006683245874362568, 'max_bin': 367, 'bagging_fraction': 0.8254600338777949, 'feature_fraction': 0.5970156489637081, 'min_gain_to_split': 0.9330241489723684, 'lambda_l1': 0.24929512772816564, 'lambda_l2': 0.030978529243905865}. Best is trial 12 with value: 2.868270874573443.\u001b[0m\n"
     ]
    },
    {
     "name": "stdout",
     "output_type": "stream",
     "text": [
      "\n",
      "Training until validation scores don't improve for 100 rounds\n",
      "[500]\ttrain's l1: 2.87509\tvalid's l1: 3.38357\n",
      "[1000]\ttrain's l1: 2.30992\tvalid's l1: 2.88082\n",
      "[1500]\ttrain's l1: 2.14733\tvalid's l1: 2.79941\n",
      "[2000]\ttrain's l1: 2.05279\tvalid's l1: 2.7676\n",
      "[2500]\ttrain's l1: 1.98302\tvalid's l1: 2.75295\n",
      "[3000]\ttrain's l1: 1.92725\tvalid's l1: 2.746\n",
      "[3500]\ttrain's l1: 1.8718\tvalid's l1: 2.73849\n",
      "Early stopping, best iteration is:\n",
      "[3825]\ttrain's l1: 1.84383\tvalid's l1: 2.73687\n",
      "Training until validation scores don't improve for 100 rounds\n",
      "[500]\ttrain's l1: 2.96076\tvalid's l1: 2.93153\n",
      "[1000]\ttrain's l1: 2.38236\tvalid's l1: 2.53617\n",
      "[1500]\ttrain's l1: 2.22139\tvalid's l1: 2.47312\n",
      "[2000]\ttrain's l1: 2.12247\tvalid's l1: 2.445\n",
      "[2500]\ttrain's l1: 2.04848\tvalid's l1: 2.43464\n",
      "[3000]\ttrain's l1: 1.99314\tvalid's l1: 2.4282\n",
      "Early stopping, best iteration is:\n",
      "[3221]\ttrain's l1: 1.97066\tvalid's l1: 2.42531\n",
      "Training until validation scores don't improve for 100 rounds\n",
      "[500]\ttrain's l1: 2.94012\tvalid's l1: 2.92191\n",
      "[1000]\ttrain's l1: 2.37555\tvalid's l1: 2.54481\n",
      "[1500]\ttrain's l1: 2.22133\tvalid's l1: 2.47458\n",
      "[2000]\ttrain's l1: 2.12043\tvalid's l1: 2.44602\n",
      "[2500]\ttrain's l1: 2.04331\tvalid's l1: 2.43278\n",
      "[3000]\ttrain's l1: 1.98353\tvalid's l1: 2.42664\n",
      "[3500]\ttrain's l1: 1.93782\tvalid's l1: 2.42272\n",
      "[4000]\ttrain's l1: 1.9002\tvalid's l1: 2.41977\n",
      "Early stopping, best iteration is:\n",
      "[4125]\ttrain's l1: 1.89184\tvalid's l1: 2.419\n",
      "Training until validation scores don't improve for 100 rounds\n",
      "[500]\ttrain's l1: 2.95651\tvalid's l1: 2.99858\n",
      "[1000]\ttrain's l1: 2.39918\tvalid's l1: 2.5372\n",
      "[1500]\ttrain's l1: 2.22904\tvalid's l1: 2.43945\n",
      "[2000]\ttrain's l1: 2.13189\tvalid's l1: 2.41956\n",
      "[2500]\ttrain's l1: 2.06611\tvalid's l1: 2.41008\n",
      "[3000]\ttrain's l1: 2.01232\tvalid's l1: 2.40381\n",
      "Early stopping, best iteration is:\n",
      "[3398]\ttrain's l1: 1.97442\tvalid's l1: 2.40146\n",
      "Training until validation scores don't improve for 100 rounds\n",
      "[500]\ttrain's l1: 2.83292\tvalid's l1: 3.48948\n",
      "[1000]\ttrain's l1: 2.27966\tvalid's l1: 3.01974\n",
      "[1500]\ttrain's l1: 2.11038\tvalid's l1: 2.94086\n",
      "[2000]\ttrain's l1: 2.01685\tvalid's l1: 2.91149\n",
      "[2500]\ttrain's l1: 1.94553\tvalid's l1: 2.896\n",
      "[3000]\ttrain's l1: 1.87605\tvalid's l1: 2.8879\n",
      "Early stopping, best iteration is:\n",
      "[2913]\ttrain's l1: 1.88609\tvalid's l1: 2.88745\n"
     ]
    },
    {
     "name": "stderr",
     "output_type": "stream",
     "text": [
      "\u001b[32m[I 2023-07-10 11:03:16,674]\u001b[0m Trial 15 finished with value: 2.8874473601527173 and parameters: {'num_leaves': 74, 'min_data_in_leaf': 13, 'learning_rate': 0.004378765791308886, 'max_bin': 400, 'bagging_fraction': 0.8239083873765469, 'feature_fraction': 0.6411377719733294, 'min_gain_to_split': 0.42692351451920874, 'lambda_l1': 0.08439999106912553, 'lambda_l2': 0.03258581897457414}. Best is trial 12 with value: 2.868270874573443.\u001b[0m\n"
     ]
    },
    {
     "name": "stdout",
     "output_type": "stream",
     "text": [
      "\n",
      "Training until validation scores don't improve for 100 rounds\n",
      "[500]\ttrain's l1: 1.98551\tvalid's l1: 2.76137\n",
      "[1000]\ttrain's l1: 1.82504\tvalid's l1: 2.75024\n",
      "Early stopping, best iteration is:\n",
      "[1007]\ttrain's l1: 1.82364\tvalid's l1: 2.74984\n",
      "Training until validation scores don't improve for 100 rounds\n",
      "[500]\ttrain's l1: 2.07546\tvalid's l1: 2.44258\n",
      "Early stopping, best iteration is:\n",
      "[495]\ttrain's l1: 2.07826\tvalid's l1: 2.44242\n",
      "Training until validation scores don't improve for 100 rounds\n",
      "[500]\ttrain's l1: 2.08114\tvalid's l1: 2.44394\n",
      "Early stopping, best iteration is:\n",
      "[525]\ttrain's l1: 2.06894\tvalid's l1: 2.44097\n",
      "Training until validation scores don't improve for 100 rounds\n",
      "[500]\ttrain's l1: 2.07869\tvalid's l1: 2.43278\n",
      "[1000]\ttrain's l1: 1.89361\tvalid's l1: 2.42013\n",
      "Early stopping, best iteration is:\n",
      "[1314]\ttrain's l1: 1.81948\tvalid's l1: 2.41288\n",
      "Training until validation scores don't improve for 100 rounds\n",
      "[500]\ttrain's l1: 1.97223\tvalid's l1: 2.90505\n",
      "Early stopping, best iteration is:\n",
      "[665]\ttrain's l1: 1.89724\tvalid's l1: 2.89818\n"
     ]
    },
    {
     "name": "stderr",
     "output_type": "stream",
     "text": [
      "\u001b[32m[I 2023-07-10 11:03:28,849]\u001b[0m Trial 16 finished with value: 2.898182321978061 and parameters: {'num_leaves': 51, 'min_data_in_leaf': 15, 'learning_rate': 0.03601069374176358, 'max_bin': 343, 'bagging_fraction': 0.8028818357424261, 'feature_fraction': 0.5573378861599921, 'min_gain_to_split': 0.5013234521000254, 'lambda_l1': 0.3166617964479014, 'lambda_l2': 0.013354483409687073}. Best is trial 12 with value: 2.868270874573443.\u001b[0m\n"
     ]
    },
    {
     "name": "stdout",
     "output_type": "stream",
     "text": [
      "\n",
      "Training until validation scores don't improve for 100 rounds\n",
      "[500]\ttrain's l1: 2.14149\tvalid's l1: 2.82617\n",
      "[1000]\ttrain's l1: 2.07917\tvalid's l1: 2.81821\n",
      "Early stopping, best iteration is:\n",
      "[1018]\ttrain's l1: 2.07775\tvalid's l1: 2.81761\n",
      "Training until validation scores don't improve for 100 rounds\n",
      "[500]\ttrain's l1: 2.21823\tvalid's l1: 2.48606\n",
      "Early stopping, best iteration is:\n",
      "[583]\ttrain's l1: 2.20565\tvalid's l1: 2.48318\n",
      "Training until validation scores don't improve for 100 rounds\n",
      "[500]\ttrain's l1: 2.24256\tvalid's l1: 2.4727\n",
      "Early stopping, best iteration is:\n",
      "[767]\ttrain's l1: 2.2012\tvalid's l1: 2.46787\n",
      "Training until validation scores don't improve for 100 rounds\n",
      "[500]\ttrain's l1: 2.22726\tvalid's l1: 2.51651\n",
      "[1000]\ttrain's l1: 2.17661\tvalid's l1: 2.5061\n",
      "Early stopping, best iteration is:\n",
      "[1005]\ttrain's l1: 2.17603\tvalid's l1: 2.50582\n",
      "Training until validation scores don't improve for 100 rounds\n",
      "[500]\ttrain's l1: 2.12918\tvalid's l1: 2.94537\n",
      "[1000]\ttrain's l1: 2.07526\tvalid's l1: 2.93531\n",
      "Early stopping, best iteration is:\n",
      "[1357]\ttrain's l1: 2.05218\tvalid's l1: 2.93247\n"
     ]
    },
    {
     "name": "stderr",
     "output_type": "stream",
     "text": [
      "\u001b[32m[I 2023-07-10 11:03:39,561]\u001b[0m Trial 17 finished with value: 2.932904201139202 and parameters: {'num_leaves': 88, 'min_data_in_leaf': 30, 'learning_rate': 0.03243811710491679, 'max_bin': 286, 'bagging_fraction': 0.8337876493312537, 'feature_fraction': 0.614194606032441, 'min_gain_to_split': 0.9624687936531181, 'lambda_l1': 0.0989592432819218, 'lambda_l2': 0.010198127712737249}. Best is trial 12 with value: 2.868270874573443.\u001b[0m\n"
     ]
    },
    {
     "name": "stdout",
     "output_type": "stream",
     "text": [
      "\n",
      "Training until validation scores don't improve for 100 rounds\n",
      "[500]\ttrain's l1: 3.92752\tvalid's l1: 4.41278\n",
      "[1000]\ttrain's l1: 2.84791\tvalid's l1: 3.37448\n",
      "[1500]\ttrain's l1: 2.45131\tvalid's l1: 3.00311\n",
      "[2000]\ttrain's l1: 2.27403\tvalid's l1: 2.86963\n",
      "[2500]\ttrain's l1: 2.16648\tvalid's l1: 2.81208\n",
      "[3000]\ttrain's l1: 2.07095\tvalid's l1: 2.77506\n",
      "[3500]\ttrain's l1: 1.98911\tvalid's l1: 2.74735\n",
      "[4000]\ttrain's l1: 1.92058\tvalid's l1: 2.72945\n",
      "[4500]\ttrain's l1: 1.86197\tvalid's l1: 2.7192\n",
      "[5000]\ttrain's l1: 1.8137\tvalid's l1: 2.71015\n",
      "[5500]\ttrain's l1: 1.76498\tvalid's l1: 2.70171\n",
      "[6000]\ttrain's l1: 1.71765\tvalid's l1: 2.69811\n",
      "[6500]\ttrain's l1: 1.66879\tvalid's l1: 2.69236\n",
      "Early stopping, best iteration is:\n",
      "[6635]\ttrain's l1: 1.6566\tvalid's l1: 2.692\n",
      "Training until validation scores don't improve for 100 rounds\n",
      "[500]\ttrain's l1: 4.03617\tvalid's l1: 3.89034\n",
      "[1000]\ttrain's l1: 2.93596\tvalid's l1: 2.91063\n"
     ]
    }
   ],
   "source": [
    "study = optuna.create_study(sampler=optuna.samplers.TPESampler(seed=0), direction='minimize')\n",
    "study.optimize(objective, n_trials=200)"
   ]
  },
  {
   "cell_type": "code",
   "execution_count": null,
   "id": "32ca21ad-820f-4755-92ab-4aa9b2f074f4",
   "metadata": {},
   "outputs": [],
   "source": [
    "# 最適化の結果確認\n",
    "trial = study.best_trial\n",
    "print(f'trial {trial.number}')\n",
    "print(f'MAE best: {trial.value}')\n",
    "display(trial.params)"
   ]
  },
  {
   "cell_type": "code",
   "execution_count": null,
   "id": "c149f3b9-d4b5-4a77-8c71-87dfd46ea5a7",
   "metadata": {},
   "outputs": [],
   "source": []
  }
 ],
 "metadata": {
  "kernelspec": {
   "display_name": "Python 3 (ipykernel)",
   "language": "python",
   "name": "python3"
  },
  "language_info": {
   "codemirror_mode": {
    "name": "ipython",
    "version": 3
   },
   "file_extension": ".py",
   "mimetype": "text/x-python",
   "name": "python",
   "nbconvert_exporter": "python",
   "pygments_lexer": "ipython3",
   "version": "3.9.13"
  }
 },
 "nbformat": 4,
 "nbformat_minor": 5
}
