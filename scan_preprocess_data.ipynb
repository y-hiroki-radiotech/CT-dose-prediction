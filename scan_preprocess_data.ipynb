{
 "cells": [
  {
   "cell_type": "markdown",
   "id": "fc01738c-e53f-4fd0-8ca7-2adcf4fa0073",
   "metadata": {},
   "source": [
    "### ライブラリのimport"
   ]
  },
  {
   "cell_type": "code",
   "execution_count": 5,
   "id": "8fc81df4-2e30-44c3-9c27-9af448f1aba7",
   "metadata": {},
   "outputs": [
    {
     "name": "stderr",
     "output_type": "stream",
     "text": [
      "/tmp/ipykernel_1086/3916448936.py:6: DeprecationWarning: `import pandas_profiling` is going to be deprecated by April 1st. Please use `import ydata_profiling` instead.\n",
      "  from pandas_profiling import ProfileReport\n"
     ]
    }
   ],
   "source": [
    "%load_ext autoreload\n",
    "%autoreload 2\n",
    "import matplotlib.pyplot as plt\n",
    "import seaborn as sns\n",
    "import pandas as pd\n",
    "from pandas_profiling import ProfileReport\n",
    "%matplotlib inline\n",
    "from preprocessing.initial_preprocessing import initial_preprocessing\n",
    "from preprocessing.drop_emergency_suspicious_height_weight import drop_emergency_suspicious_height_weight\n",
    "from preprocessing.calculate_bmi_bmr_category import calculate_bmi_bmr_category\n",
    "from preprocessing.remove_duplicate_ctdi import remove_duplicate_ctdi"
   ]
  },
  {
   "cell_type": "markdown",
   "id": "e660f695-6b92-486a-b6be-af971674297c",
   "metadata": {},
   "source": [
    "## 解析用の元データを読み込み"
   ]
  },
  {
   "cell_type": "code",
   "execution_count": 6,
   "id": "42612097-d590-44e2-8977-2aeb0e58c806",
   "metadata": {},
   "outputs": [],
   "source": [
    "df = pd.read_excel('train_data.xlsx')"
   ]
  },
  {
   "cell_type": "markdown",
   "id": "03c265e3-d68e-46ee-8367-e5d14ce70dda",
   "metadata": {},
   "source": [
    "## データを前処理\n",
    "* カラム名の変更\n",
    "* 複数回スキャンについては,Mean CTDIvolが最大のみ残す\n",
    "* 救急科などの怪しい身長と体重のデータを削除する"
   ]
  },
  {
   "cell_type": "code",
   "execution_count": 7,
   "id": "59165040-b05e-40c8-950b-74131d0a77b1",
   "metadata": {},
   "outputs": [
    {
     "name": "stdout",
     "output_type": "stream",
     "text": [
      "正常に処理が行われました。\n"
     ]
    }
   ],
   "source": [
    "initial_preprocessing(df)\n",
    "df = remove_duplicate_ctdi(df)\n",
    "df.reset_index(drop=True, inplace=True)\n",
    "# df_allで後で、身長体重を代入する分を分けられるようにしておく\n",
    "df_all = df\n",
    "df = drop_emergency_suspicious_height_weight(df)"
   ]
  },
  {
   "cell_type": "markdown",
   "id": "0bca8837-491b-409c-a961-ab5c59f54148",
   "metadata": {},
   "source": [
    "### 身長・体重の最終確認: この部分は自分で確認しないと危険"
   ]
  },
  {
   "cell_type": "code",
   "execution_count": 8,
   "id": "69783aa9-df8d-48f3-a67d-366b64b7e1d3",
   "metadata": {},
   "outputs": [
    {
     "data": {
      "text/plain": [
       "1200    101.0\n",
       "97      101.0\n",
       "2241    101.0\n",
       "2362    101.0\n",
       "1011    101.0\n",
       "        ...  \n",
       "8610    190.9\n",
       "7978    190.9\n",
       "790     193.0\n",
       "8       193.0\n",
       "5567    193.0\n",
       "Name: height_cm, Length: 8958, dtype: float64"
      ]
     },
     "execution_count": 8,
     "metadata": {},
     "output_type": "execute_result"
    }
   ],
   "source": [
    "df['height_cm'].sort_values()"
   ]
  },
  {
   "cell_type": "code",
   "execution_count": 9,
   "id": "e96df88d-844c-49c9-a31d-78aa2c2e9f6c",
   "metadata": {},
   "outputs": [],
   "source": [
    "index = df['height_cm'].sort_values(ascending=True)[:30].index.to_list()"
   ]
  },
  {
   "cell_type": "code",
   "execution_count": 10,
   "id": "4e1d78cc-85c1-41d9-bfa8-f15736112960",
   "metadata": {},
   "outputs": [
    {
     "data": {
      "text/html": [
       "<div>\n",
       "<style scoped>\n",
       "    .dataframe tbody tr th:only-of-type {\n",
       "        vertical-align: middle;\n",
       "    }\n",
       "\n",
       "    .dataframe tbody tr th {\n",
       "        vertical-align: top;\n",
       "    }\n",
       "\n",
       "    .dataframe thead th {\n",
       "        text-align: right;\n",
       "    }\n",
       "</style>\n",
       "<table border=\"1\" class=\"dataframe\">\n",
       "  <thead>\n",
       "    <tr style=\"text-align: right;\">\n",
       "      <th></th>\n",
       "      <th>scanning length</th>\n",
       "      <th>height_cm</th>\n",
       "      <th>weight_kg</th>\n",
       "      <th>id</th>\n",
       "      <th>study_date</th>\n",
       "      <th>target region</th>\n",
       "      <th>Mean CTDIvol</th>\n",
       "    </tr>\n",
       "  </thead>\n",
       "  <tbody>\n",
       "    <tr>\n",
       "      <th>1200</th>\n",
       "      <td>796.77</td>\n",
       "      <td>101.0</td>\n",
       "      <td>39.80</td>\n",
       "      <td>75206</td>\n",
       "      <td>2021-06-18</td>\n",
       "      <td>Chest</td>\n",
       "      <td>6.70</td>\n",
       "    </tr>\n",
       "    <tr>\n",
       "      <th>97</th>\n",
       "      <td>626.53</td>\n",
       "      <td>101.0</td>\n",
       "      <td>39.80</td>\n",
       "      <td>75206</td>\n",
       "      <td>2021-01-14</td>\n",
       "      <td>Abdomen</td>\n",
       "      <td>12.78</td>\n",
       "    </tr>\n",
       "    <tr>\n",
       "      <th>2241</th>\n",
       "      <td>852.06</td>\n",
       "      <td>101.0</td>\n",
       "      <td>39.80</td>\n",
       "      <td>75206</td>\n",
       "      <td>2021-04-21</td>\n",
       "      <td>Chest</td>\n",
       "      <td>6.45</td>\n",
       "    </tr>\n",
       "    <tr>\n",
       "      <th>2362</th>\n",
       "      <td>621.51</td>\n",
       "      <td>101.0</td>\n",
       "      <td>39.80</td>\n",
       "      <td>75206</td>\n",
       "      <td>2021-06-02</td>\n",
       "      <td>Abdomen</td>\n",
       "      <td>17.10</td>\n",
       "    </tr>\n",
       "    <tr>\n",
       "      <th>1011</th>\n",
       "      <td>796.77</td>\n",
       "      <td>101.0</td>\n",
       "      <td>39.80</td>\n",
       "      <td>75206</td>\n",
       "      <td>2021-05-18</td>\n",
       "      <td>Chest</td>\n",
       "      <td>7.38</td>\n",
       "    </tr>\n",
       "    <tr>\n",
       "      <th>265</th>\n",
       "      <td>567.16</td>\n",
       "      <td>101.0</td>\n",
       "      <td>39.80</td>\n",
       "      <td>75206</td>\n",
       "      <td>2021-02-04</td>\n",
       "      <td>Chest</td>\n",
       "      <td>6.03</td>\n",
       "    </tr>\n",
       "    <tr>\n",
       "      <th>620</th>\n",
       "      <td>827.20</td>\n",
       "      <td>101.0</td>\n",
       "      <td>39.80</td>\n",
       "      <td>75206</td>\n",
       "      <td>2021-03-29</td>\n",
       "      <td>Chest</td>\n",
       "      <td>6.13</td>\n",
       "    </tr>\n",
       "    <tr>\n",
       "      <th>6436</th>\n",
       "      <td>506.63</td>\n",
       "      <td>117.7</td>\n",
       "      <td>76.40</td>\n",
       "      <td>9326611</td>\n",
       "      <td>2023-02-10</td>\n",
       "      <td>Bronchus</td>\n",
       "      <td>10.38</td>\n",
       "    </tr>\n",
       "    <tr>\n",
       "      <th>3529</th>\n",
       "      <td>531.81</td>\n",
       "      <td>117.7</td>\n",
       "      <td>76.40</td>\n",
       "      <td>9326611</td>\n",
       "      <td>2022-01-21</td>\n",
       "      <td>Bronchus</td>\n",
       "      <td>9.90</td>\n",
       "    </tr>\n",
       "    <tr>\n",
       "      <th>106</th>\n",
       "      <td>456.72</td>\n",
       "      <td>117.7</td>\n",
       "      <td>76.40</td>\n",
       "      <td>9326611</td>\n",
       "      <td>2021-01-15</td>\n",
       "      <td>Chest</td>\n",
       "      <td>9.14</td>\n",
       "    </tr>\n",
       "    <tr>\n",
       "      <th>2667</th>\n",
       "      <td>205.73</td>\n",
       "      <td>129.3</td>\n",
       "      <td>129.30</td>\n",
       "      <td>17049</td>\n",
       "      <td>2021-09-21</td>\n",
       "      <td>Head</td>\n",
       "      <td>30.23</td>\n",
       "    </tr>\n",
       "    <tr>\n",
       "      <th>4383</th>\n",
       "      <td>200.73</td>\n",
       "      <td>129.4</td>\n",
       "      <td>27.20</td>\n",
       "      <td>6067602</td>\n",
       "      <td>2022-04-26</td>\n",
       "      <td>Head</td>\n",
       "      <td>30.72</td>\n",
       "    </tr>\n",
       "    <tr>\n",
       "      <th>3929</th>\n",
       "      <td>601.66</td>\n",
       "      <td>130.0</td>\n",
       "      <td>32.20</td>\n",
       "      <td>24470</td>\n",
       "      <td>2022-03-06</td>\n",
       "      <td>Chest, Abdomen and Pelvis</td>\n",
       "      <td>8.26</td>\n",
       "    </tr>\n",
       "    <tr>\n",
       "      <th>4015</th>\n",
       "      <td>581.66</td>\n",
       "      <td>130.0</td>\n",
       "      <td>32.20</td>\n",
       "      <td>24470</td>\n",
       "      <td>2022-03-14</td>\n",
       "      <td>Chest, Abdomen and Pelvis</td>\n",
       "      <td>6.65</td>\n",
       "    </tr>\n",
       "    <tr>\n",
       "      <th>7768</th>\n",
       "      <td>696.75</td>\n",
       "      <td>130.0</td>\n",
       "      <td>32.20</td>\n",
       "      <td>24470</td>\n",
       "      <td>2022-03-23</td>\n",
       "      <td>Chest, Abdomen and Pelvis</td>\n",
       "      <td>8.42</td>\n",
       "    </tr>\n",
       "    <tr>\n",
       "      <th>7738</th>\n",
       "      <td>596.74</td>\n",
       "      <td>130.0</td>\n",
       "      <td>32.20</td>\n",
       "      <td>24470</td>\n",
       "      <td>2022-03-10</td>\n",
       "      <td>Chest, Abdomen and Pelvis</td>\n",
       "      <td>6.44</td>\n",
       "    </tr>\n",
       "    <tr>\n",
       "      <th>7795</th>\n",
       "      <td>160.00</td>\n",
       "      <td>130.8</td>\n",
       "      <td>24.20</td>\n",
       "      <td>267102</td>\n",
       "      <td>2022-04-06</td>\n",
       "      <td>Coronary Artery</td>\n",
       "      <td>8.21</td>\n",
       "    </tr>\n",
       "    <tr>\n",
       "      <th>6964</th>\n",
       "      <td>357.06</td>\n",
       "      <td>131.0</td>\n",
       "      <td>28.90</td>\n",
       "      <td>36685</td>\n",
       "      <td>2023-04-21</td>\n",
       "      <td>Bronchus</td>\n",
       "      <td>3.20</td>\n",
       "    </tr>\n",
       "    <tr>\n",
       "      <th>7003</th>\n",
       "      <td>452.10</td>\n",
       "      <td>134.0</td>\n",
       "      <td>34.20</td>\n",
       "      <td>35907</td>\n",
       "      <td>2023-04-26</td>\n",
       "      <td>Bronchus</td>\n",
       "      <td>2.53</td>\n",
       "    </tr>\n",
       "    <tr>\n",
       "      <th>5732</th>\n",
       "      <td>210.74</td>\n",
       "      <td>134.0</td>\n",
       "      <td>39.20</td>\n",
       "      <td>31808</td>\n",
       "      <td>2022-11-04</td>\n",
       "      <td>Head</td>\n",
       "      <td>26.63</td>\n",
       "    </tr>\n",
       "    <tr>\n",
       "      <th>3965</th>\n",
       "      <td>681.67</td>\n",
       "      <td>135.0</td>\n",
       "      <td>37.00</td>\n",
       "      <td>24417</td>\n",
       "      <td>2022-03-08</td>\n",
       "      <td>Chest, Abdomen and Pelvis</td>\n",
       "      <td>5.59</td>\n",
       "    </tr>\n",
       "    <tr>\n",
       "      <th>3916</th>\n",
       "      <td>382.14</td>\n",
       "      <td>135.0</td>\n",
       "      <td>37.00</td>\n",
       "      <td>24417</td>\n",
       "      <td>2022-03-03</td>\n",
       "      <td>Bronchus</td>\n",
       "      <td>3.61</td>\n",
       "    </tr>\n",
       "    <tr>\n",
       "      <th>6450</th>\n",
       "      <td>636.75</td>\n",
       "      <td>135.0</td>\n",
       "      <td>36.50</td>\n",
       "      <td>34486</td>\n",
       "      <td>2023-02-13</td>\n",
       "      <td>Chest, Abdomen and Pelvis</td>\n",
       "      <td>6.27</td>\n",
       "    </tr>\n",
       "    <tr>\n",
       "      <th>8852</th>\n",
       "      <td>751.28</td>\n",
       "      <td>135.0</td>\n",
       "      <td>36.50</td>\n",
       "      <td>34486</td>\n",
       "      <td>2023-02-28</td>\n",
       "      <td>Abdomen and Pelvis</td>\n",
       "      <td>15.02</td>\n",
       "    </tr>\n",
       "    <tr>\n",
       "      <th>6861</th>\n",
       "      <td>596.74</td>\n",
       "      <td>136.3</td>\n",
       "      <td>39.90</td>\n",
       "      <td>6383502</td>\n",
       "      <td>2023-04-07</td>\n",
       "      <td>Chest, Abdomen and Pelvis</td>\n",
       "      <td>6.89</td>\n",
       "    </tr>\n",
       "    <tr>\n",
       "      <th>4241</th>\n",
       "      <td>621.67</td>\n",
       "      <td>136.3</td>\n",
       "      <td>39.90</td>\n",
       "      <td>6383502</td>\n",
       "      <td>2022-04-08</td>\n",
       "      <td>Chest, Abdomen and Pelvis</td>\n",
       "      <td>8.82</td>\n",
       "    </tr>\n",
       "    <tr>\n",
       "      <th>6493</th>\n",
       "      <td>286.54</td>\n",
       "      <td>137.0</td>\n",
       "      <td>39.20</td>\n",
       "      <td>593305</td>\n",
       "      <td>2023-02-16</td>\n",
       "      <td>Abdomen and Pelvis</td>\n",
       "      <td>6.21</td>\n",
       "    </tr>\n",
       "    <tr>\n",
       "      <th>5145</th>\n",
       "      <td>417.12</td>\n",
       "      <td>138.0</td>\n",
       "      <td>32.70</td>\n",
       "      <td>29331</td>\n",
       "      <td>2022-08-09</td>\n",
       "      <td>Bronchus</td>\n",
       "      <td>3.58</td>\n",
       "    </tr>\n",
       "    <tr>\n",
       "      <th>8484</th>\n",
       "      <td>351.50</td>\n",
       "      <td>140.0</td>\n",
       "      <td>41.40</td>\n",
       "      <td>31184</td>\n",
       "      <td>2022-10-20</td>\n",
       "      <td>Chest</td>\n",
       "      <td>7.31</td>\n",
       "    </tr>\n",
       "    <tr>\n",
       "      <th>2144</th>\n",
       "      <td>516.60</td>\n",
       "      <td>140.0</td>\n",
       "      <td>44.75</td>\n",
       "      <td>14385</td>\n",
       "      <td>2021-03-29</td>\n",
       "      <td>Abdomen</td>\n",
       "      <td>9.15</td>\n",
       "    </tr>\n",
       "  </tbody>\n",
       "</table>\n",
       "</div>"
      ],
      "text/plain": [
       "      scanning length  height_cm  weight_kg       id study_date  \\\n",
       "1200           796.77      101.0      39.80    75206 2021-06-18   \n",
       "97             626.53      101.0      39.80    75206 2021-01-14   \n",
       "2241           852.06      101.0      39.80    75206 2021-04-21   \n",
       "2362           621.51      101.0      39.80    75206 2021-06-02   \n",
       "1011           796.77      101.0      39.80    75206 2021-05-18   \n",
       "265            567.16      101.0      39.80    75206 2021-02-04   \n",
       "620            827.20      101.0      39.80    75206 2021-03-29   \n",
       "6436           506.63      117.7      76.40  9326611 2023-02-10   \n",
       "3529           531.81      117.7      76.40  9326611 2022-01-21   \n",
       "106            456.72      117.7      76.40  9326611 2021-01-15   \n",
       "2667           205.73      129.3     129.30    17049 2021-09-21   \n",
       "4383           200.73      129.4      27.20  6067602 2022-04-26   \n",
       "3929           601.66      130.0      32.20    24470 2022-03-06   \n",
       "4015           581.66      130.0      32.20    24470 2022-03-14   \n",
       "7768           696.75      130.0      32.20    24470 2022-03-23   \n",
       "7738           596.74      130.0      32.20    24470 2022-03-10   \n",
       "7795           160.00      130.8      24.20   267102 2022-04-06   \n",
       "6964           357.06      131.0      28.90    36685 2023-04-21   \n",
       "7003           452.10      134.0      34.20    35907 2023-04-26   \n",
       "5732           210.74      134.0      39.20    31808 2022-11-04   \n",
       "3965           681.67      135.0      37.00    24417 2022-03-08   \n",
       "3916           382.14      135.0      37.00    24417 2022-03-03   \n",
       "6450           636.75      135.0      36.50    34486 2023-02-13   \n",
       "8852           751.28      135.0      36.50    34486 2023-02-28   \n",
       "6861           596.74      136.3      39.90  6383502 2023-04-07   \n",
       "4241           621.67      136.3      39.90  6383502 2022-04-08   \n",
       "6493           286.54      137.0      39.20   593305 2023-02-16   \n",
       "5145           417.12      138.0      32.70    29331 2022-08-09   \n",
       "8484           351.50      140.0      41.40    31184 2022-10-20   \n",
       "2144           516.60      140.0      44.75    14385 2021-03-29   \n",
       "\n",
       "                  target region  Mean CTDIvol  \n",
       "1200                      Chest          6.70  \n",
       "97                      Abdomen         12.78  \n",
       "2241                      Chest          6.45  \n",
       "2362                    Abdomen         17.10  \n",
       "1011                      Chest          7.38  \n",
       "265                       Chest          6.03  \n",
       "620                       Chest          6.13  \n",
       "6436                   Bronchus         10.38  \n",
       "3529                   Bronchus          9.90  \n",
       "106                       Chest          9.14  \n",
       "2667                       Head         30.23  \n",
       "4383                       Head         30.72  \n",
       "3929  Chest, Abdomen and Pelvis          8.26  \n",
       "4015  Chest, Abdomen and Pelvis          6.65  \n",
       "7768  Chest, Abdomen and Pelvis          8.42  \n",
       "7738  Chest, Abdomen and Pelvis          6.44  \n",
       "7795            Coronary Artery          8.21  \n",
       "6964                   Bronchus          3.20  \n",
       "7003                   Bronchus          2.53  \n",
       "5732                       Head         26.63  \n",
       "3965  Chest, Abdomen and Pelvis          5.59  \n",
       "3916                   Bronchus          3.61  \n",
       "6450  Chest, Abdomen and Pelvis          6.27  \n",
       "8852         Abdomen and Pelvis         15.02  \n",
       "6861  Chest, Abdomen and Pelvis          6.89  \n",
       "4241  Chest, Abdomen and Pelvis          8.82  \n",
       "6493         Abdomen and Pelvis          6.21  \n",
       "5145                   Bronchus          3.58  \n",
       "8484                      Chest          7.31  \n",
       "2144                    Abdomen          9.15  "
      ]
     },
     "execution_count": 10,
     "metadata": {},
     "output_type": "execute_result"
    }
   ],
   "source": [
    "df[['scanning length', 'height_cm', 'weight_kg', 'id', 'study_date', 'target region', 'Mean CTDIvol']].loc[index]"
   ]
  },
  {
   "cell_type": "code",
   "execution_count": 11,
   "id": "3f5e6020-e1e6-4120-898b-343112463cdf",
   "metadata": {},
   "outputs": [],
   "source": [
    "# 最終的な怪しいデータに関しては直接データを確認して削除する\n",
    "drop_ids = [75206, 9326611, 17049]\n",
    "for ids in drop_ids:\n",
    "    df = df[~(df['id'] == ids)]\n",
    "df.reset_index(drop=True, inplace=True)"
   ]
  },
  {
   "cell_type": "markdown",
   "id": "1cd64b89-fb85-4b98-8ee8-2745a9c91e70",
   "metadata": {},
   "source": [
    "### 身長体重予測、線量予測、異常検知でも使用しない項目を削除する"
   ]
  },
  {
   "cell_type": "code",
   "execution_count": 12,
   "id": "d91df37a-0df2-44a9-8b1f-06efe61b721c",
   "metadata": {},
   "outputs": [],
   "source": [
    "unuse_cols = ['hospital_ward', 'modality', 'adult_child', 'department', 'preset_name']\n",
    "df.drop(labels=unuse_cols, axis=1, inplace=True)"
   ]
  },
  {
   "cell_type": "code",
   "execution_count": null,
   "id": "26ef9fc0-c7e0-4529-b102-00973d032e3d",
   "metadata": {},
   "outputs": [],
   "source": [
    "df.to_excel('preprocess_all_scan_data.xlsx')"
   ]
  },
  {
   "cell_type": "markdown",
   "id": "97d0c3e2-b4cd-403f-b377-35b6838191fb",
   "metadata": {},
   "source": [
    "### Pandas_Profilling"
   ]
  },
  {
   "cell_type": "code",
   "execution_count": 462,
   "id": "2770230b-0b88-4c69-9611-49e1839a2e9e",
   "metadata": {
    "collapsed": true,
    "jupyter": {
     "outputs_hidden": true
    },
    "tags": []
   },
   "outputs": [
    {
     "data": {
      "application/vnd.jupyter.widget-view+json": {
       "model_id": "0522d1d880ab4adebb93967aa9412fb3",
       "version_major": 2,
       "version_minor": 0
      },
      "text/plain": [
       "Summarize dataset:   0%|          | 0/5 [00:00<?, ?it/s]"
      ]
     },
     "metadata": {},
     "output_type": "display_data"
    },
    {
     "data": {
      "application/vnd.jupyter.widget-view+json": {
       "model_id": "9bc6a268538946d28389b824e2a4cb99",
       "version_major": 2,
       "version_minor": 0
      },
      "text/plain": [
       "Generate report structure:   0%|          | 0/1 [00:00<?, ?it/s]"
      ]
     },
     "metadata": {},
     "output_type": "display_data"
    },
    {
     "name": "stderr",
     "output_type": "stream",
     "text": [
      "/opt/anaconda3/lib/python3.9/site-packages/pandas_profiling/visualisation/utils.py:73: UserWarning: Glyph 21336 (\\N{CJK UNIFIED IDEOGRAPH-5358}) missing from current font.\n",
      "  plt.savefig(\n",
      "/opt/anaconda3/lib/python3.9/site-packages/pandas_profiling/visualisation/utils.py:73: UserWarning: Glyph 32020 (\\N{CJK UNIFIED IDEOGRAPH-7D14}) missing from current font.\n",
      "  plt.savefig(\n",
      "/opt/anaconda3/lib/python3.9/site-packages/pandas_profiling/visualisation/utils.py:73: UserWarning: Glyph 36896 (\\N{CJK UNIFIED IDEOGRAPH-9020}) missing from current font.\n",
      "  plt.savefig(\n",
      "/opt/anaconda3/lib/python3.9/site-packages/pandas_profiling/visualisation/utils.py:73: UserWarning: Glyph 24433 (\\N{CJK UNIFIED IDEOGRAPH-5F71}) missing from current font.\n",
      "  plt.savefig(\n",
      "/opt/anaconda3/lib/python3.9/site-packages/pandas_profiling/visualisation/utils.py:73: UserWarning: Glyph 12511 (\\N{KATAKANA LETTER MI}) missing from current font.\n",
      "  plt.savefig(\n",
      "/opt/anaconda3/lib/python3.9/site-packages/pandas_profiling/visualisation/utils.py:73: UserWarning: Glyph 12456 (\\N{KATAKANA LETTER E}) missing from current font.\n",
      "  plt.savefig(\n",
      "/opt/anaconda3/lib/python3.9/site-packages/pandas_profiling/visualisation/utils.py:73: UserWarning: Glyph 12525 (\\N{KATAKANA LETTER RO}) missing from current font.\n",
      "  plt.savefig(\n",
      "/opt/anaconda3/lib/python3.9/site-packages/pandas_profiling/visualisation/utils.py:73: UserWarning: Glyph 24460 (\\N{CJK UNIFIED IDEOGRAPH-5F8C}) missing from current font.\n",
      "  plt.savefig(\n",
      "/opt/anaconda3/lib/python3.9/site-packages/pandas_profiling/visualisation/utils.py:73: UserWarning: Glyph 12487 (\\N{KATAKANA LETTER DE}) missing from current font.\n",
      "  plt.savefig(\n",
      "/opt/anaconda3/lib/python3.9/site-packages/pandas_profiling/visualisation/utils.py:73: UserWarning: Glyph 12451 (\\N{KATAKANA LETTER SMALL I}) missing from current font.\n",
      "  plt.savefig(\n",
      "/opt/anaconda3/lib/python3.9/site-packages/pandas_profiling/visualisation/utils.py:73: UserWarning: Glyph 12473 (\\N{KATAKANA LETTER SU}) missing from current font.\n",
      "  plt.savefig(\n",
      "/opt/anaconda3/lib/python3.9/site-packages/pandas_profiling/visualisation/utils.py:73: UserWarning: Glyph 12467 (\\N{KATAKANA LETTER KO}) missing from current font.\n",
      "  plt.savefig(\n",
      "/opt/anaconda3/lib/python3.9/site-packages/pandas_profiling/visualisation/utils.py:73: UserWarning: Glyph 12450 (\\N{KATAKANA LETTER A}) missing from current font.\n",
      "  plt.savefig(\n",
      "/opt/anaconda3/lib/python3.9/site-packages/pandas_profiling/visualisation/utils.py:73: UserWarning: Glyph 12523 (\\N{KATAKANA LETTER RU}) missing from current font.\n",
      "  plt.savefig(\n",
      "/opt/anaconda3/lib/python3.9/site-packages/pandas_profiling/visualisation/utils.py:73: UserWarning: Glyph 12488 (\\N{KATAKANA LETTER TO}) missing from current font.\n",
      "  plt.savefig(\n"
     ]
    },
    {
     "data": {
      "application/vnd.jupyter.widget-view+json": {
       "model_id": "92c247ff0d984c549a7a250ba15ddda8",
       "version_major": 2,
       "version_minor": 0
      },
      "text/plain": [
       "Render HTML:   0%|          | 0/1 [00:00<?, ?it/s]"
      ]
     },
     "metadata": {},
     "output_type": "display_data"
    },
    {
     "data": {
      "application/vnd.jupyter.widget-view+json": {
       "model_id": "2fab4c01fbce46ceb7f9695741e8e434",
       "version_major": 2,
       "version_minor": 0
      },
      "text/plain": [
       "Export report to file:   0%|          | 0/1 [00:00<?, ?it/s]"
      ]
     },
     "metadata": {},
     "output_type": "display_data"
    }
   ],
   "source": [
    "profile= ProfileReport(df, title='preprocessing_data')\n",
    "profile.to_file('preprocessing_data.html')"
   ]
  },
  {
   "cell_type": "markdown",
   "id": "9e26e39d-a9a6-45cd-8f5c-aab8e0b653cc",
   "metadata": {},
   "source": [
    "### 新たな特徴量を作成する"
   ]
  },
  {
   "cell_type": "markdown",
   "id": "6cb0799b-ac7d-4efb-9006-bde6baf4e460",
   "metadata": {},
   "source": [
    "* BMI(Body Mass Index)  \n",
    "  $BMI = weight(kg) / height(m)^2$  \n",
    "  \n",
    "* BMR(Basal Metabolic Rate: 基礎代謝率): 年齢、性別、身長、体重に基づいて計算される。ハリス・ベネディクト方程式と呼ばれる  \n",
    "  男性$BMR=66.47 + (13.75*weight[kg]) + (5.003*height[cm]) - (6.755*age[歳])$  \n",
    "  女性$BMR=655.1 + (9.563*weight[kg]) + (1.85*height[cm]) - (4.676*age[歳])$  \n",
    "  \n",
    "* 体格指数(Rohrer's index) ：学童期に適するとあるので、今回は使わない  \n",
    "  $Rohrer's index = weight[kg] / height[m]^3$"
   ]
  },
  {
   "cell_type": "markdown",
   "id": "5c2e02c8-b3bb-45a7-8014-9211a54850c7",
   "metadata": {},
   "source": [
    "体格指数（BMI）: 体重（kg）を身長（m）の二乗で割ったもので、以下のように分類されます（成人向けのWHOのガイドライン）。\n",
    "\n",
    "18.5未満: 低体重（痩せ型）: underweight    \n",
    "18.5～24.9: 標準体重: normal weight   \n",
    "25.0～29.9: 肥満（1度）:obesity class1  \n",
    "30.0～34.9: 肥満（2度）:obesity class2  \n",
    "35.0～39.9: 肥満（3度）:obesity class3    \n",
    "40以上: 肥満（4度、重症）:obesity class4"
   ]
  },
  {
   "cell_type": "code",
   "execution_count": 18,
   "id": "2e73d0e8-a24d-4846-9055-92ee99d192b2",
   "metadata": {},
   "outputs": [],
   "source": [
    "from preprocessing.calculate_bmi_bmr_category import calculate_bmi_bmr_category"
   ]
  },
  {
   "cell_type": "code",
   "execution_count": 19,
   "id": "dc632467-03c3-4dee-a3c2-f2ffc638ad79",
   "metadata": {},
   "outputs": [],
   "source": [
    "calculate_bmi_bmr_category(df)"
   ]
  },
  {
   "cell_type": "markdown",
   "id": "29594879-8a0c-4049-8bc8-cda604734619",
   "metadata": {},
   "source": [
    "### 前処理が終了したデータを保存する。"
   ]
  },
  {
   "cell_type": "code",
   "execution_count": 493,
   "id": "c91e4518-95b9-4687-a98b-9f6c85ee913c",
   "metadata": {},
   "outputs": [],
   "source": [
    "df.to_excel('preprocessed_train_data.xlsx', index=False)"
   ]
  },
  {
   "cell_type": "code",
   "execution_count": 39,
   "id": "ede1e7f4-694c-4598-ac1b-9463dad53550",
   "metadata": {},
   "outputs": [
    {
     "data": {
      "text/plain": [
       "Index(['accession', 'scan protocol', 'scan series', 'target region',\n",
       "       'scanning length', 'kV', 'mean mA', 'max mA', 'pitch factor',\n",
       "       'nomial total collimation width', 'exposure time per rotation',\n",
       "       'exposure time', 'CTDIw phantom type', 'Mean CTDIvol', 'DLP',\n",
       "       'study_date', 'id', 'age', 'gender', 'height_cm', 'weight_kg',\n",
       "       'scan_area', 'scan_method', 'bmi', 'bmr', 'category_bmi'],\n",
       "      dtype='object')"
      ]
     },
     "execution_count": 39,
     "metadata": {},
     "output_type": "execute_result"
    }
   ],
   "source": [
    "df.columns"
   ]
  },
  {
   "cell_type": "code",
   "execution_count": 20,
   "id": "a1161e79-24a3-4a7f-9ee9-e46fe01ad150",
   "metadata": {},
   "outputs": [],
   "source": [
    "# 年代(generation)の新しいカラムを作成する\n",
    "df['generation'] = (df['age'] // 10) * 10"
   ]
  },
  {
   "cell_type": "code",
   "execution_count": 21,
   "id": "1c2b9b85-e58a-4139-b2f3-b0cfd76fa1a2",
   "metadata": {},
   "outputs": [
    {
     "data": {
      "text/plain": [
       "Index(['CTDIw phantom type', 'Mean CTDIvol', 'age', 'gender', 'height_cm',\n",
       "       'weight_kg', 'scan_area', 'scan_method', 'generation', 'bmi', 'bmr',\n",
       "       'category_bmi'],\n",
       "      dtype='object')"
      ]
     },
     "execution_count": 21,
     "metadata": {},
     "output_type": "execute_result"
    }
   ],
   "source": [
    "df.columns"
   ]
  },
  {
   "cell_type": "code",
   "execution_count": 1,
   "id": "bf5d2dd4-4f3f-475d-84d6-6e5486739539",
   "metadata": {},
   "outputs": [],
   "source": [
    "import pandas as pd\n",
    "import numpy as np"
   ]
  },
  {
   "cell_type": "code",
   "execution_count": 3,
   "id": "095e413c-26eb-46d1-bca3-7950670acad1",
   "metadata": {},
   "outputs": [],
   "source": [
    "df = pd.read_excel('preprocessed_train_data.xlsx')"
   ]
  },
  {
   "cell_type": "code",
   "execution_count": 4,
   "id": "72945f24-87d2-41ff-b7a3-011709065d21",
   "metadata": {
    "tags": []
   },
   "outputs": [
    {
     "data": {
      "text/html": [
       "<div>\n",
       "<style scoped>\n",
       "    .dataframe tbody tr th:only-of-type {\n",
       "        vertical-align: middle;\n",
       "    }\n",
       "\n",
       "    .dataframe tbody tr th {\n",
       "        vertical-align: top;\n",
       "    }\n",
       "\n",
       "    .dataframe thead th {\n",
       "        text-align: right;\n",
       "    }\n",
       "</style>\n",
       "<table border=\"1\" class=\"dataframe\">\n",
       "  <thead>\n",
       "    <tr style=\"text-align: right;\">\n",
       "      <th></th>\n",
       "      <th>CTDIw phantom type</th>\n",
       "      <th>Mean CTDIvol</th>\n",
       "      <th>age</th>\n",
       "      <th>gender</th>\n",
       "      <th>height_cm</th>\n",
       "      <th>weight_kg</th>\n",
       "      <th>scan_area</th>\n",
       "      <th>scan_method</th>\n",
       "      <th>bmi</th>\n",
       "      <th>bmr</th>\n",
       "      <th>category_bmi</th>\n",
       "    </tr>\n",
       "  </thead>\n",
       "  <tbody>\n",
       "    <tr>\n",
       "      <th>0</th>\n",
       "      <td>IEC Body Dosimetry Phantom</td>\n",
       "      <td>5.86</td>\n",
       "      <td>86</td>\n",
       "      <td>F</td>\n",
       "      <td>150.0</td>\n",
       "      <td>49.1</td>\n",
       "      <td>胸部CT</td>\n",
       "      <td>単純</td>\n",
       "      <td>21.82</td>\n",
       "      <td>1000.01</td>\n",
       "      <td>normal weight</td>\n",
       "    </tr>\n",
       "    <tr>\n",
       "      <th>1</th>\n",
       "      <td>IEC Body Dosimetry Phantom</td>\n",
       "      <td>7.41</td>\n",
       "      <td>61</td>\n",
       "      <td>M</td>\n",
       "      <td>163.0</td>\n",
       "      <td>74.0</td>\n",
       "      <td>胸部CT</td>\n",
       "      <td>単純</td>\n",
       "      <td>27.85</td>\n",
       "      <td>1487.40</td>\n",
       "      <td>obesity class1</td>\n",
       "    </tr>\n",
       "  </tbody>\n",
       "</table>\n",
       "</div>"
      ],
      "text/plain": [
       "           CTDIw phantom type  Mean CTDIvol  age gender  height_cm  weight_kg  \\\n",
       "0  IEC Body Dosimetry Phantom          5.86   86      F      150.0       49.1   \n",
       "1  IEC Body Dosimetry Phantom          7.41   61      M      163.0       74.0   \n",
       "\n",
       "  scan_area scan_method    bmi      bmr    category_bmi  \n",
       "0      胸部CT          単純  21.82  1000.01   normal weight  \n",
       "1      胸部CT          単純  27.85  1487.40  obesity class1  "
      ]
     },
     "execution_count": 4,
     "metadata": {},
     "output_type": "execute_result"
    }
   ],
   "source": [
    "# 線量予測で使えない特徴量を削除する\n",
    "drop_columns = ['accession', 'scan protocol', 'scan series', 'scanning length',\n",
    "                'kV', 'mean mA', 'max mA', 'pitch factor', 'nomial total collimation width',\n",
    "                'exposure time per rotation', 'exposure time', 'study_date', 'id', 'DLP', 'target region']\n",
    "\n",
    "df = df.drop(drop_columns, axis=1)\n",
    "df.head(2)"
   ]
  },
  {
   "cell_type": "code",
   "execution_count": 6,
   "id": "63310d65-84ff-483d-85bc-2f1650667ff1",
   "metadata": {},
   "outputs": [],
   "source": [
    "df.to_excel('drop_train_data.xlsx', index=False)"
   ]
  },
  {
   "cell_type": "markdown",
   "id": "c18b816d-2126-4dd7-8c65-b4166e0d5643",
   "metadata": {},
   "source": [
    "### 前処理"
   ]
  },
  {
   "cell_type": "code",
   "execution_count": 24,
   "id": "376ef5ac-812c-4037-9753-2164889de794",
   "metadata": {},
   "outputs": [],
   "source": [
    "# Ordinal EncoderとTarget Encoderの使い分けを決める\n",
    "# 線量と関連がありそうなカテゴリについてはtarget encodeを実施する\n",
    "# target encoderの対象 -> CTDIw phantom type, category_bmi, scan_area\n",
    "# ordinal encoder -> gender, scan_method\n",
    "from sklearn.preprocessing import OrdinalEncoder\n",
    "from category_encoders import TargetEncoder\n",
    "\n",
    "te_columns = ['CTDIw phantom type', 'scan_area', 'category_bmi']\n",
    "oe_columns = ['gender', 'scan_method']\n",
    "\n",
    "oe = OrdinalEncoder()\n",
    "oe.set_output(transform='pandas')\n",
    "\n",
    "df[oe_columns] = oe.fit_transform(df[oe_columns])\n",
    "\n",
    "te = TargetEncoder()\n",
    "te.fit(df[te_columns], df['Mean CTDIvol'])\n",
    "df[te_columns] = te.transform(df[te_columns])"
   ]
  },
  {
   "cell_type": "markdown",
   "id": "4d07ddf8-12fd-449b-9ecf-e1d0865e0d5a",
   "metadata": {},
   "source": [
    "### LightGBMで学習"
   ]
  },
  {
   "cell_type": "code",
   "execution_count": 25,
   "id": "b53f99d5-31f4-4087-934d-d2342b919f14",
   "metadata": {},
   "outputs": [],
   "source": [
    "from sklearn.model_selection import train_test_split\n",
    "\n",
    "target = 'Mean CTDIvol'\n",
    "X = df.drop(target, axis=1)\n",
    "y = df[target]\n",
    "\n",
    "X_train, X_test, y_train, y_test = train_test_split(X, y, test_size=0.2, \n",
    "                                                    shuffle=True, random_state=42)"
   ]
  },
  {
   "cell_type": "code",
   "execution_count": 26,
   "id": "e5ba9e30-8b87-477f-ac55-ac6d1b98c233",
   "metadata": {},
   "outputs": [],
   "source": [
    "import lightgbm as lgb\n",
    "from sklearn.metrics import mean_absolute_error, mean_squared_error"
   ]
  },
  {
   "cell_type": "code",
   "execution_count": 32,
   "id": "8318871f-fb58-4961-abc5-077b68ca9a95",
   "metadata": {},
   "outputs": [
    {
     "name": "stdout",
     "output_type": "stream",
     "text": [
      "Training until validation scores don't improve for 100 rounds\n",
      "[50]\ttrain's l1: 2.44633\tvalid's l1: 2.74278\n",
      "[100]\ttrain's l1: 2.28132\tvalid's l1: 2.70156\n",
      "[150]\ttrain's l1: 2.19424\tvalid's l1: 2.68561\n",
      "[200]\ttrain's l1: 2.12879\tvalid's l1: 2.67622\n",
      "[250]\ttrain's l1: 2.08564\tvalid's l1: 2.6717\n",
      "[300]\ttrain's l1: 2.05084\tvalid's l1: 2.67463\n",
      "Early stopping, best iteration is:\n",
      "[246]\ttrain's l1: 2.0887\tvalid's l1: 2.67094\n",
      "fold 1 MSE valid: 2.67\n",
      "\n",
      "Training until validation scores don't improve for 100 rounds\n",
      "[50]\ttrain's l1: 2.50925\tvalid's l1: 2.51849\n",
      "[100]\ttrain's l1: 2.38072\tvalid's l1: 2.45848\n",
      "[150]\ttrain's l1: 2.29224\tvalid's l1: 2.4509\n",
      "[200]\ttrain's l1: 2.23415\tvalid's l1: 2.44769\n",
      "[250]\ttrain's l1: 2.19192\tvalid's l1: 2.4474\n",
      "[300]\ttrain's l1: 2.1552\tvalid's l1: 2.44206\n",
      "[350]\ttrain's l1: 2.13146\tvalid's l1: 2.44293\n",
      "[400]\ttrain's l1: 2.0902\tvalid's l1: 2.44094\n",
      "[450]\ttrain's l1: 2.06914\tvalid's l1: 2.44039\n",
      "[500]\ttrain's l1: 2.04138\tvalid's l1: 2.43832\n",
      "[550]\ttrain's l1: 2.01854\tvalid's l1: 2.43722\n",
      "[600]\ttrain's l1: 1.99063\tvalid's l1: 2.43941\n",
      "[650]\ttrain's l1: 1.96576\tvalid's l1: 2.43759\n",
      "Early stopping, best iteration is:\n",
      "[580]\ttrain's l1: 2.00582\tvalid's l1: 2.4363\n",
      "fold 2 MSE valid: 2.44\n",
      "\n",
      "Training until validation scores don't improve for 100 rounds\n",
      "[50]\ttrain's l1: 2.44962\tvalid's l1: 2.7492\n",
      "[100]\ttrain's l1: 2.30842\tvalid's l1: 2.71937\n",
      "[150]\ttrain's l1: 2.20923\tvalid's l1: 2.70761\n",
      "[200]\ttrain's l1: 2.14305\tvalid's l1: 2.69894\n",
      "[250]\ttrain's l1: 2.08718\tvalid's l1: 2.69284\n",
      "[300]\ttrain's l1: 2.0448\tvalid's l1: 2.69076\n",
      "[350]\ttrain's l1: 2.01256\tvalid's l1: 2.69187\n",
      "[400]\ttrain's l1: 1.98585\tvalid's l1: 2.68911\n",
      "[450]\ttrain's l1: 1.96205\tvalid's l1: 2.68998\n",
      "[500]\ttrain's l1: 1.94137\tvalid's l1: 2.69246\n",
      "Early stopping, best iteration is:\n",
      "[422]\ttrain's l1: 1.9753\tvalid's l1: 2.68826\n",
      "fold 3 MSE valid: 2.69\n",
      "\n",
      "Training until validation scores don't improve for 100 rounds\n",
      "[50]\ttrain's l1: 2.45334\tvalid's l1: 2.67602\n",
      "[100]\ttrain's l1: 2.30945\tvalid's l1: 2.65662\n",
      "[150]\ttrain's l1: 2.24207\tvalid's l1: 2.65657\n",
      "[200]\ttrain's l1: 2.16855\tvalid's l1: 2.65622\n",
      "Early stopping, best iteration is:\n",
      "[109]\ttrain's l1: 2.2924\tvalid's l1: 2.65205\n",
      "fold 4 MSE valid: 2.65\n",
      "\n",
      "Training until validation scores don't improve for 100 rounds\n",
      "[50]\ttrain's l1: 2.43757\tvalid's l1: 2.7964\n",
      "[100]\ttrain's l1: 2.28475\tvalid's l1: 2.77604\n",
      "[150]\ttrain's l1: 2.21116\tvalid's l1: 2.76294\n",
      "[200]\ttrain's l1: 2.15337\tvalid's l1: 2.74956\n",
      "[250]\ttrain's l1: 2.09689\tvalid's l1: 2.74641\n",
      "[300]\ttrain's l1: 2.05387\tvalid's l1: 2.73325\n",
      "[350]\ttrain's l1: 2.01093\tvalid's l1: 2.73014\n",
      "[400]\ttrain's l1: 1.9855\tvalid's l1: 2.73276\n",
      "[450]\ttrain's l1: 1.95244\tvalid's l1: 2.73331\n",
      "Early stopping, best iteration is:\n",
      "[353]\ttrain's l1: 2.00888\tvalid's l1: 2.72985\n",
      "fold 5 MSE valid: 2.73\n",
      "\n",
      "CV score: 2.64\n"
     ]
    }
   ],
   "source": [
    "# デフォルト条件でlightbgmを行う\n",
    "from sklearn.model_selection import KFold\n",
    "import numpy as np\n",
    "\n",
    "objective = 'mae' # 'mse'\n",
    "\n",
    "params = {\n",
    "    'objective': objective,\n",
    "    'seed': 0, \n",
    "    'verbose': -1\n",
    "}\n",
    "\n",
    "test_scores = []\n",
    "models = []\n",
    "\n",
    "kf = KFold(n_splits=5, shuffle=True, random_state=42)\n",
    "for fold, (tr_idx, va_idx) in enumerate(kf.split(X_train)):\n",
    "    X_tr = X_train.iloc[tr_idx]\n",
    "    X_va = X_train.iloc[va_idx]\n",
    "    y_tr = y_train.iloc[tr_idx]\n",
    "    y_va = y_train.iloc[va_idx]\n",
    "    \n",
    "    lgb_train = lgb.Dataset(X_tr, y_tr)\n",
    "    lgb_eval = lgb.Dataset(X_va, y_va, reference=lgb_train)\n",
    "    \n",
    "    model = lgb.train(params,\n",
    "                      lgb_train,\n",
    "                      num_boost_round=1000,\n",
    "                      valid_sets=[lgb_train, lgb_eval],\n",
    "                      valid_names=['train', 'valid'],\n",
    "                      callbacks=[lgb.early_stopping(100),\n",
    "                                 lgb.log_evaluation(50)])\n",
    "    \n",
    "    models.append(model.best_iteration)\n",
    "    y_va_pred = model.predict(X_va, num_iteration=model.best_iteration)\n",
    "    score = mean_absolute_error(y_va, y_va_pred)\n",
    "    print(f'fold {fold+1} MSE valid: {score:.2f}')\n",
    "    print('')\n",
    "    \n",
    "    # スコア、モデル、予測値の格納\n",
    "    test_scores.append(score)\n",
    "\n",
    "# クロスバリデーションの平均スコア\n",
    "cv_score = np.mean(test_scores)\n",
    "print(f'CV score: {cv_score:.2f}')"
   ]
  },
  {
   "cell_type": "code",
   "execution_count": 29,
   "id": "26cd5f53-057b-40e7-82a8-801a1e7917e3",
   "metadata": {},
   "outputs": [
    {
     "data": {
      "image/png": "[encoded data removed]",
      "text/plain": [
       "<Figure size 800x400 with 1 Axes>"
      ]
     },
     "metadata": {},
     "output_type": "display_data"
    }
   ],
   "source": [
    "# 特徴量の重要度の可視化\n",
    "importances = model.feature_importance(importance_type='gain')\n",
    "indices = np.argsort(importances)[::-1]\n",
    "\n",
    "plt.figure(figsize=(8, 4))\n",
    "plt.title('Feature Importance')\n",
    "plt.bar(range(len(indices)), importances[indices])\n",
    "plt.xticks(range(len(indices)), X.columns[indices], rotation=90)\n",
    "plt.show()"
   ]
  },
  {
   "cell_type": "markdown",
   "id": "1beaea5f-3a88-41b1-bd2c-7b9ee7c0d9b7",
   "metadata": {},
   "source": [
    "### Permutation Feature Importance"
   ]
  },
  {
   "cell_type": "code",
   "execution_count": 57,
   "id": "f6116abf-1fa1-4f3a-bdf3-8abed3b485e9",
   "metadata": {},
   "outputs": [
    {
     "name": "stdout",
     "output_type": "stream",
     "text": [
      "Training until validation scores don't improve for 100 rounds\n",
      "[50]\tvalid_0's l2: 28.8713\n",
      "[100]\tvalid_0's l2: 29.2246\n",
      "Early stopping, best iteration is:\n",
      "[47]\tvalid_0's l2: 28.7506\n",
      "fold 1 MSE valid: 2.88\n",
      "\n",
      "Training until validation scores don't improve for 100 rounds\n",
      "[50]\tvalid_0's l2: 20.1532\n",
      "[100]\tvalid_0's l2: 19.4148\n",
      "[150]\tvalid_0's l2: 18.9975\n",
      "[200]\tvalid_0's l2: 18.9204\n",
      "[250]\tvalid_0's l2: 19.0217\n",
      "Early stopping, best iteration is:\n",
      "[188]\tvalid_0's l2: 18.8498\n",
      "fold 2 MSE valid: 2.71\n",
      "\n",
      "Training until validation scores don't improve for 100 rounds\n",
      "[50]\tvalid_0's l2: 57.6631\n",
      "[100]\tvalid_0's l2: 51.8863\n",
      "[150]\tvalid_0's l2: 47.8347\n",
      "[200]\tvalid_0's l2: 43.8833\n",
      "[250]\tvalid_0's l2: 40.8653\n",
      "[300]\tvalid_0's l2: 38.69\n",
      "[350]\tvalid_0's l2: 37.3858\n",
      "[400]\tvalid_0's l2: 36.2534\n",
      "[450]\tvalid_0's l2: 35.2089\n",
      "[500]\tvalid_0's l2: 34.6093\n",
      "[550]\tvalid_0's l2: 34.2134\n",
      "[600]\tvalid_0's l2: 33.8413\n",
      "[650]\tvalid_0's l2: 33.7737\n",
      "[700]\tvalid_0's l2: 33.3815\n",
      "[750]\tvalid_0's l2: 33.3832\n",
      "[800]\tvalid_0's l2: 33.3117\n",
      "[850]\tvalid_0's l2: 33.3321\n",
      "Early stopping, best iteration is:\n",
      "[789]\tvalid_0's l2: 33.2673\n",
      "fold 3 MSE valid: 2.88\n",
      "\n",
      "Training until validation scores don't improve for 100 rounds\n",
      "[50]\tvalid_0's l2: 42.0267\n",
      "[100]\tvalid_0's l2: 39.8853\n",
      "[150]\tvalid_0's l2: 38.1422\n",
      "[200]\tvalid_0's l2: 37.0707\n",
      "[250]\tvalid_0's l2: 35.8601\n",
      "[300]\tvalid_0's l2: 34.7786\n",
      "[350]\tvalid_0's l2: 33.8142\n",
      "[400]\tvalid_0's l2: 33.0313\n",
      "[450]\tvalid_0's l2: 32.4898\n",
      "[500]\tvalid_0's l2: 31.9713\n",
      "[550]\tvalid_0's l2: 31.6874\n",
      "[600]\tvalid_0's l2: 31.3944\n",
      "[650]\tvalid_0's l2: 31.3208\n",
      "[700]\tvalid_0's l2: 31.2789\n",
      "[750]\tvalid_0's l2: 31.2408\n",
      "[800]\tvalid_0's l2: 31.3888\n",
      "Early stopping, best iteration is:\n",
      "[738]\tvalid_0's l2: 31.1946\n",
      "fold 4 MSE valid: 2.91\n",
      "\n",
      "Training until validation scores don't improve for 100 rounds\n",
      "[50]\tvalid_0's l2: 58.2685\n",
      "[100]\tvalid_0's l2: 56.2041\n",
      "[150]\tvalid_0's l2: 54.9374\n",
      "[200]\tvalid_0's l2: 53.95\n",
      "[250]\tvalid_0's l2: 52.8957\n",
      "[300]\tvalid_0's l2: 52.1063\n",
      "[350]\tvalid_0's l2: 51.5688\n",
      "[400]\tvalid_0's l2: 50.9856\n",
      "[450]\tvalid_0's l2: 50.6889\n",
      "[500]\tvalid_0's l2: 50.0608\n",
      "[550]\tvalid_0's l2: 49.5088\n",
      "[600]\tvalid_0's l2: 49.0889\n",
      "[650]\tvalid_0's l2: 48.8893\n",
      "[700]\tvalid_0's l2: 48.7731\n",
      "[750]\tvalid_0's l2: 48.6698\n",
      "[800]\tvalid_0's l2: 48.6357\n",
      "[850]\tvalid_0's l2: 48.6086\n",
      "[900]\tvalid_0's l2: 48.7633\n",
      "Early stopping, best iteration is:\n",
      "[836]\tvalid_0's l2: 48.5415\n",
      "fold 5 MSE valid: 3.08\n",
      "\n",
      "CV score: 2.89\n",
      "[5.35220190e-01 3.96549417e-01 6.72334366e-02 1.77464189e-01\n",
      " 8.33472580e-01 5.70303055e+00 5.86991825e-01 0.00000000e+00\n",
      " 8.30832880e-01 0.00000000e+00 4.39099196e-03]\n"
     ]
    }
   ],
   "source": [
    "from sklearn.inspection import permutation_importance\n",
    "from lightgbm import LGBMRegressor\n",
    "from sklearn.metrics import mean_absolute_error\n",
    "from sklearn.model_selection import KFold\n",
    "\n",
    "objective = 'mse' # 'mse or mae'\n",
    "\n",
    "params = {\n",
    "    'objective': objective,\n",
    "    'random_state': 0, \n",
    "    'verbose': -1\n",
    "}\n",
    "\n",
    "test_scores = []\n",
    "models = []\n",
    "kf = KFold(n_splits=5, shuffle=True, random_state=42)\n",
    "\n",
    "for fold, (tr_idx, va_idx) in enumerate(kf.split(X_train)):\n",
    "    X_tr = X_train.iloc[tr_idx]\n",
    "    X_va = X_train.iloc[va_idx]\n",
    "    y_tr = y_train.iloc[tr_idx]\n",
    "    y_va = y_train.iloc[va_idx]\n",
    "    \n",
    "    model = LGBMRegressor(**params, n_estimators=1000)\n",
    "    model.fit(X_tr, y_tr,\n",
    "              eval_set=[(X_va, y_va)],\n",
    "              callbacks=[lgb.early_stopping(100),\n",
    "                         lgb.log_evaluation(50)],)\n",
    "    \n",
    "    models.append(model)\n",
    "    y_va_pred = model.predict(X_va)\n",
    "    score = mean_absolute_error(y_va, y_va_pred)\n",
    "    print(f'fold {fold+1} MSE valid: {score:.2f}')\n",
    "    print('')\n",
    "    \n",
    "    # スコア、モデル、予測値の格納\n",
    "    test_scores.append(score)\n",
    "\n",
    "# クロスバリデーションの平均スコア\n",
    "cv_score = np.mean(test_scores)\n",
    "print(f'CV score: {cv_score:.2f}')\n",
    "\n",
    "# 最初のモデルに対する特徴量の重要性\n",
    "perm_importance = permutation_importance(models[0], X_va, y_va, scoring='neg_mean_absolute_error')\n",
    "\n",
    "print(perm_importance.importances_mean)\n"
   ]
  },
  {
   "cell_type": "code",
   "execution_count": 59,
   "id": "f2deee17-e27c-41da-b2f6-63b90ff3c29e",
   "metadata": {},
   "outputs": [
    {
     "name": "stdout",
     "output_type": "stream",
     "text": [
      "[0.76473387 0.59657411 0.0571045  0.40063784 1.05832102 5.90236129\n",
      " 0.83990605 0.         1.17025109 0.         0.        ]\n"
     ]
    }
   ],
   "source": [
    "best_model = models[np.argmin(test_scores)]\n",
    "perm_importance = permutation_importance(best_model, X_va, y_va, scoring='neg_mean_absolute_error')\n",
    "\n",
    "print(perm_importance.importances_mean)\n"
   ]
  },
  {
   "cell_type": "code",
   "execution_count": 60,
   "id": "481508c7-6fc0-468b-9d77-7e17db1b340b",
   "metadata": {},
   "outputs": [
    {
     "data": {
      "text/plain": [
       "<BarContainer object of 11 artists>"
      ]
     },
     "execution_count": 60,
     "metadata": {},
     "output_type": "execute_result"
    },
    {
     "data": {
      "image/png": "[encoded data removed]",
      "text/plain": [
       "<Figure size 640x480 with 1 Axes>"
      ]
     },
     "metadata": {},
     "output_type": "display_data"
    }
   ],
   "source": [
    "df_pfi = pd.DataFrame(\n",
    "    data={'var_name': X_train.columns, \"importance\": perm_importance[\"importances_mean\"]}\n",
    ").sort_values('importance')\n",
    "\n",
    "# PFIを可視化\n",
    "plt.barh(\n",
    "    df_pfi['var_name'],\n",
    "    df_pfi['importance'],\n",
    ")"
   ]
  },
  {
   "cell_type": "markdown",
   "id": "de8fda16-194c-4185-8383-2cf87d8597f9",
   "metadata": {},
   "source": [
    "### Feature Engineering"
   ]
  },
  {
   "cell_type": "code",
   "execution_count": null,
   "id": "b61c8463-eacd-4998-b06d-ecc768cb2c7a",
   "metadata": {},
   "outputs": [],
   "source": [
    "# Combine 'scan_area', 'CTDIw phantom type', and 'category_bmi' into a new feature\n",
    "data['combined_feature'] = data['scan_area'].astype(str) + \"_\" + data['CTDIw phantom type'].astype(str) + \"_\" + data['category_bmi'].astype(str)\n"
   ]
  }
 ],
 "metadata": {
  "kernelspec": {
   "display_name": "Python 3 (ipykernel)",
   "language": "python",
   "name": "python3"
  },
  "language_info": {
   "codemirror_mode": {
    "name": "ipython",
    "version": 3
   },
   "file_extension": ".py",
   "mimetype": "text/x-python",
   "name": "python",
   "nbconvert_exporter": "python",
   "pygments_lexer": "ipython3",
   "version": "3.9.13"
  }
 },
 "nbformat": 4,
 "nbformat_minor": 5
}
