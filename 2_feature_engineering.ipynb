{
 "cells": [
  {
   "cell_type": "markdown",
   "id": "fc01738c-e53f-4fd0-8ca7-2adcf4fa0073",
   "metadata": {
    "pycharm": {
     "name": "#%% md\n"
    }
   },
   "source": [
    "### ライブラリのimport"
   ]
  },
  {
   "cell_type": "code",
   "execution_count": 25,
   "id": "8fc81df4-2e30-44c3-9c27-9af448f1aba7",
   "metadata": {
    "jupyter": {
     "source_hidden": true
    },
    "pycharm": {
     "name": "#%%\n"
    },
    "tags": []
   },
   "outputs": [],
   "source": [
    "import pandas as pd\n",
    "import numpy as np\n",
    "import matplotlib.pyplot as plt\n",
    "import seaborn as sns\n",
    "from preprocessing.calculate_bmi_bmr_bsa_category import calculate_bmi_bmr_bsa_category\n",
    "%matplotlib inline"
   ]
  },
  {
   "cell_type": "markdown",
   "id": "e660f695-6b92-486a-b6be-af971674297c",
   "metadata": {
    "pycharm": {
     "name": "#%% md\n"
    }
   },
   "source": [
    "## 解析用の元データを読み込み"
   ]
  },
  {
   "cell_type": "code",
   "execution_count": 26,
   "id": "42612097-d590-44e2-8977-2aeb0e58c806",
   "metadata": {
    "collapsed": true,
    "jupyter": {
     "outputs_hidden": true,
     "source_hidden": true
    },
    "pycharm": {
     "name": "#%%\n"
    },
    "tags": []
   },
   "outputs": [
    {
     "data": {
      "text/html": [
       "<div>\n",
       "<style scoped>\n",
       "    .dataframe tbody tr th:only-of-type {\n",
       "        vertical-align: middle;\n",
       "    }\n",
       "\n",
       "    .dataframe tbody tr th {\n",
       "        vertical-align: top;\n",
       "    }\n",
       "\n",
       "    .dataframe thead th {\n",
       "        text-align: right;\n",
       "    }\n",
       "</style>\n",
       "<table border=\"1\" class=\"dataframe\">\n",
       "  <thead>\n",
       "    <tr style=\"text-align: right;\">\n",
       "      <th></th>\n",
       "      <th>accession</th>\n",
       "      <th>scan protocol</th>\n",
       "      <th>scan series</th>\n",
       "      <th>target region</th>\n",
       "      <th>scanning length</th>\n",
       "      <th>kV</th>\n",
       "      <th>mean mA</th>\n",
       "      <th>max mA</th>\n",
       "      <th>pitch factor</th>\n",
       "      <th>nomial total collimation width</th>\n",
       "      <th>...</th>\n",
       "      <th>Mean CTDIvol</th>\n",
       "      <th>DLP</th>\n",
       "      <th>study_date</th>\n",
       "      <th>id</th>\n",
       "      <th>age</th>\n",
       "      <th>gender</th>\n",
       "      <th>height_cm</th>\n",
       "      <th>weight_kg</th>\n",
       "      <th>scan_area</th>\n",
       "      <th>scan_method</th>\n",
       "    </tr>\n",
       "  </thead>\n",
       "  <tbody>\n",
       "    <tr>\n",
       "      <th>0</th>\n",
       "      <td>1103161420210101</td>\n",
       "      <td>5.1 QQ Chest Routine</td>\n",
       "      <td>NaN</td>\n",
       "      <td>Chest</td>\n",
       "      <td>382.14</td>\n",
       "      <td>100</td>\n",
       "      <td>350.24</td>\n",
       "      <td>640</td>\n",
       "      <td>1.38</td>\n",
       "      <td>80</td>\n",
       "      <td>...</td>\n",
       "      <td>5.86</td>\n",
       "      <td>223.82</td>\n",
       "      <td>2021-01-01</td>\n",
       "      <td>12585</td>\n",
       "      <td>86</td>\n",
       "      <td>F</td>\n",
       "      <td>150.0</td>\n",
       "      <td>49.1</td>\n",
       "      <td>胸部CT</td>\n",
       "      <td>単純</td>\n",
       "    </tr>\n",
       "    <tr>\n",
       "      <th>1</th>\n",
       "      <td>1103161620210101</td>\n",
       "      <td>5.1 QQ Chest Routine</td>\n",
       "      <td>NaN</td>\n",
       "      <td>Chest</td>\n",
       "      <td>442.20</td>\n",
       "      <td>100</td>\n",
       "      <td>442.93</td>\n",
       "      <td>700</td>\n",
       "      <td>1.38</td>\n",
       "      <td>80</td>\n",
       "      <td>...</td>\n",
       "      <td>7.41</td>\n",
       "      <td>327.55</td>\n",
       "      <td>2021-01-01</td>\n",
       "      <td>2145609</td>\n",
       "      <td>61</td>\n",
       "      <td>M</td>\n",
       "      <td>163.0</td>\n",
       "      <td>74.0</td>\n",
       "      <td>胸部CT</td>\n",
       "      <td>単純</td>\n",
       "    </tr>\n",
       "    <tr>\n",
       "      <th>2</th>\n",
       "      <td>1103339220210102</td>\n",
       "      <td>5.1 QQ Chest Routine</td>\n",
       "      <td>NaN</td>\n",
       "      <td>Chest</td>\n",
       "      <td>467.06</td>\n",
       "      <td>100</td>\n",
       "      <td>306.59</td>\n",
       "      <td>700</td>\n",
       "      <td>1.38</td>\n",
       "      <td>80</td>\n",
       "      <td>...</td>\n",
       "      <td>5.13</td>\n",
       "      <td>239.47</td>\n",
       "      <td>2021-01-02</td>\n",
       "      <td>12615</td>\n",
       "      <td>46</td>\n",
       "      <td>M</td>\n",
       "      <td>178.0</td>\n",
       "      <td>68.0</td>\n",
       "      <td>胸部CT</td>\n",
       "      <td>単純</td>\n",
       "    </tr>\n",
       "    <tr>\n",
       "      <th>3</th>\n",
       "      <td>1103327120210102</td>\n",
       "      <td>5.1 QQ Chest Routine</td>\n",
       "      <td>NaN</td>\n",
       "      <td>Chest</td>\n",
       "      <td>472.12</td>\n",
       "      <td>100</td>\n",
       "      <td>433.42</td>\n",
       "      <td>700</td>\n",
       "      <td>1.38</td>\n",
       "      <td>80</td>\n",
       "      <td>...</td>\n",
       "      <td>7.25</td>\n",
       "      <td>342.20</td>\n",
       "      <td>2021-01-02</td>\n",
       "      <td>12616</td>\n",
       "      <td>52</td>\n",
       "      <td>M</td>\n",
       "      <td>182.0</td>\n",
       "      <td>70.0</td>\n",
       "      <td>胸部CT</td>\n",
       "      <td>単純</td>\n",
       "    </tr>\n",
       "    <tr>\n",
       "      <th>4</th>\n",
       "      <td>1103481920210103</td>\n",
       "      <td>5.1 QQ Chest Routine</td>\n",
       "      <td>NaN</td>\n",
       "      <td>Chest</td>\n",
       "      <td>462.22</td>\n",
       "      <td>100</td>\n",
       "      <td>691.26</td>\n",
       "      <td>700</td>\n",
       "      <td>1.38</td>\n",
       "      <td>80</td>\n",
       "      <td>...</td>\n",
       "      <td>11.56</td>\n",
       "      <td>534.33</td>\n",
       "      <td>2021-01-03</td>\n",
       "      <td>9595120</td>\n",
       "      <td>52</td>\n",
       "      <td>M</td>\n",
       "      <td>175.0</td>\n",
       "      <td>112.0</td>\n",
       "      <td>胸部CT</td>\n",
       "      <td>単純</td>\n",
       "    </tr>\n",
       "  </tbody>\n",
       "</table>\n",
       "<p>5 rows × 23 columns</p>\n",
       "</div>"
      ],
      "text/plain": [
       "          accession         scan protocol scan series target region  \\\n",
       "0  1103161420210101  5.1 QQ Chest Routine         NaN         Chest   \n",
       "1  1103161620210101  5.1 QQ Chest Routine         NaN         Chest   \n",
       "2  1103339220210102  5.1 QQ Chest Routine         NaN         Chest   \n",
       "3  1103327120210102  5.1 QQ Chest Routine         NaN         Chest   \n",
       "4  1103481920210103  5.1 QQ Chest Routine         NaN         Chest   \n",
       "\n",
       "   scanning length   kV  mean mA  max mA  pitch factor  \\\n",
       "0           382.14  100   350.24     640          1.38   \n",
       "1           442.20  100   442.93     700          1.38   \n",
       "2           467.06  100   306.59     700          1.38   \n",
       "3           472.12  100   433.42     700          1.38   \n",
       "4           462.22  100   691.26     700          1.38   \n",
       "\n",
       "   nomial total collimation width  ...  Mean CTDIvol     DLP study_date  \\\n",
       "0                              80  ...          5.86  223.82 2021-01-01   \n",
       "1                              80  ...          7.41  327.55 2021-01-01   \n",
       "2                              80  ...          5.13  239.47 2021-01-02   \n",
       "3                              80  ...          7.25  342.20 2021-01-02   \n",
       "4                              80  ...         11.56  534.33 2021-01-03   \n",
       "\n",
       "        id  age gender  height_cm  weight_kg scan_area  scan_method  \n",
       "0    12585   86      F      150.0       49.1      胸部CT           単純  \n",
       "1  2145609   61      M      163.0       74.0      胸部CT           単純  \n",
       "2    12615   46      M      178.0       68.0      胸部CT           単純  \n",
       "3    12616   52      M      182.0       70.0      胸部CT           単純  \n",
       "4  9595120   52      M      175.0      112.0      胸部CT           単純  \n",
       "\n",
       "[5 rows x 23 columns]"
      ]
     },
     "execution_count": 26,
     "metadata": {},
     "output_type": "execute_result"
    }
   ],
   "source": [
    "df = pd.read_excel('preprocessed_train_data.xlsx')\n",
    "df.head()"
   ]
  },
  {
   "cell_type": "markdown",
   "id": "ffbaf0f0-524f-4cd4-bf08-03a00d512065",
   "metadata": {
    "pycharm": {
     "name": "#%% md\n"
    }
   },
   "source": [
    "## 　新たな特徴量を作成"
   ]
  },
  {
   "cell_type": "markdown",
   "id": "819e3da8-f9e0-4e0b-bb5a-f09b53e23e90",
   "metadata": {
    "pycharm": {
     "name": "#%% md\n"
    }
   },
   "source": [
    "* BMI(Body Mass Index)  \n",
    "  $BMI = weight(kg) / height(m)^2$  \n",
    "  \n",
    "* BMR(Basal Metabolic Rate: 基礎代謝率): 年齢、性別、身長、体重に基づいて計算される。ハリス・ベネディクト方程式と呼ばれる  \n",
    "  男性$BMR=66.47 + (13.75*weight[kg]) + (5.003*height[cm]) - (6.755*age[歳])$  \n",
    "  女性$BMR=655.1 + (9.563*weight[kg]) + (1.85*height[cm]) - (4.676*age[歳])$  \n",
    "  \n",
    "* 体格指数(Rohrer's index) ：学童期に適するとあるので、今回は使わない  \n",
    "  $Rohrer's index = weight[kg] / height[m]^3$\n",
    "\n",
    "体格指数（BMI）: 体重（kg）を身長（m）の二乗で割ったもので、以下のように分類されます（成人向けのWHOのガイドライン）。\n",
    "\n",
    "18.5未満: 低体重（痩せ型）: underweight    \n",
    "18.5～24.9: 標準体重: normal weight   \n",
    "25.0～29.9: 肥満（1度）:obesity class1  \n",
    "30.0～34.9: 肥満（2度）:obesity class2  \n",
    "35.0～39.9: 肥満（3度）:obesity class3    \n",
    "40以上: 肥満（4度、重症）:obesity class4"
   ]
  },
  {
   "cell_type": "markdown",
   "id": "be8fc7f3-82b7-45c9-9c66-85ebcbc263f4",
   "metadata": {
    "pycharm": {
     "name": "#%% md\n"
    }
   },
   "source": [
    "#### 体表面積を作成　　\n",
    "\n",
    "体表面積 (m2\n",
    " )=0.007184×身長(cm) \n",
    "^0.725\n",
    " ×体重(kg)^\n",
    "0.425"
   ]
  },
  {
   "cell_type": "code",
   "execution_count": 27,
   "id": "0a1d4eea-1a78-47fc-a811-2ab46e0133b9",
   "metadata": {
    "jupyter": {
     "source_hidden": true
    },
    "pycharm": {
     "name": "#%%\n"
    },
    "tags": []
   },
   "outputs": [],
   "source": [
    "calculate_bmi_bmr_bsa_category(df)"
   ]
  },
  {
   "cell_type": "code",
   "execution_count": 28,
   "id": "8239df30-2a30-41c9-b331-ca68b712a6d2",
   "metadata": {
    "collapsed": true,
    "jupyter": {
     "outputs_hidden": true,
     "source_hidden": true
    },
    "pycharm": {
     "name": "#%%\n"
    },
    "tags": []
   },
   "outputs": [
    {
     "data": {
      "text/html": [
       "<div>\n",
       "<style scoped>\n",
       "    .dataframe tbody tr th:only-of-type {\n",
       "        vertical-align: middle;\n",
       "    }\n",
       "\n",
       "    .dataframe tbody tr th {\n",
       "        vertical-align: top;\n",
       "    }\n",
       "\n",
       "    .dataframe thead th {\n",
       "        text-align: right;\n",
       "    }\n",
       "</style>\n",
       "<table border=\"1\" class=\"dataframe\">\n",
       "  <thead>\n",
       "    <tr style=\"text-align: right;\">\n",
       "      <th></th>\n",
       "      <th>accession</th>\n",
       "      <th>scan protocol</th>\n",
       "      <th>scan series</th>\n",
       "      <th>target region</th>\n",
       "      <th>scanning length</th>\n",
       "      <th>kV</th>\n",
       "      <th>mean mA</th>\n",
       "      <th>max mA</th>\n",
       "      <th>pitch factor</th>\n",
       "      <th>nomial total collimation width</th>\n",
       "      <th>...</th>\n",
       "      <th>age</th>\n",
       "      <th>gender</th>\n",
       "      <th>height_cm</th>\n",
       "      <th>weight_kg</th>\n",
       "      <th>scan_area</th>\n",
       "      <th>scan_method</th>\n",
       "      <th>bmi</th>\n",
       "      <th>bmr</th>\n",
       "      <th>category_bmi</th>\n",
       "      <th>body_surface_area</th>\n",
       "    </tr>\n",
       "  </thead>\n",
       "  <tbody>\n",
       "    <tr>\n",
       "      <th>0</th>\n",
       "      <td>1103161420210101</td>\n",
       "      <td>5.1 QQ Chest Routine</td>\n",
       "      <td>NaN</td>\n",
       "      <td>Chest</td>\n",
       "      <td>382.14</td>\n",
       "      <td>100</td>\n",
       "      <td>350.24</td>\n",
       "      <td>640</td>\n",
       "      <td>1.38</td>\n",
       "      <td>80</td>\n",
       "      <td>...</td>\n",
       "      <td>86</td>\n",
       "      <td>F</td>\n",
       "      <td>150.0</td>\n",
       "      <td>49.1</td>\n",
       "      <td>胸部CT</td>\n",
       "      <td>単純</td>\n",
       "      <td>21.82</td>\n",
       "      <td>1000.01</td>\n",
       "      <td>normal weight</td>\n",
       "      <td>1.421484</td>\n",
       "    </tr>\n",
       "    <tr>\n",
       "      <th>1</th>\n",
       "      <td>1103161620210101</td>\n",
       "      <td>5.1 QQ Chest Routine</td>\n",
       "      <td>NaN</td>\n",
       "      <td>Chest</td>\n",
       "      <td>442.20</td>\n",
       "      <td>100</td>\n",
       "      <td>442.93</td>\n",
       "      <td>700</td>\n",
       "      <td>1.38</td>\n",
       "      <td>80</td>\n",
       "      <td>...</td>\n",
       "      <td>61</td>\n",
       "      <td>M</td>\n",
       "      <td>163.0</td>\n",
       "      <td>74.0</td>\n",
       "      <td>胸部CT</td>\n",
       "      <td>単純</td>\n",
       "      <td>27.85</td>\n",
       "      <td>1487.40</td>\n",
       "      <td>obesity class1</td>\n",
       "      <td>1.797322</td>\n",
       "    </tr>\n",
       "    <tr>\n",
       "      <th>2</th>\n",
       "      <td>1103339220210102</td>\n",
       "      <td>5.1 QQ Chest Routine</td>\n",
       "      <td>NaN</td>\n",
       "      <td>Chest</td>\n",
       "      <td>467.06</td>\n",
       "      <td>100</td>\n",
       "      <td>306.59</td>\n",
       "      <td>700</td>\n",
       "      <td>1.38</td>\n",
       "      <td>80</td>\n",
       "      <td>...</td>\n",
       "      <td>46</td>\n",
       "      <td>M</td>\n",
       "      <td>178.0</td>\n",
       "      <td>68.0</td>\n",
       "      <td>胸部CT</td>\n",
       "      <td>単純</td>\n",
       "      <td>21.46</td>\n",
       "      <td>1581.27</td>\n",
       "      <td>normal weight</td>\n",
       "      <td>1.848150</td>\n",
       "    </tr>\n",
       "    <tr>\n",
       "      <th>3</th>\n",
       "      <td>1103327120210102</td>\n",
       "      <td>5.1 QQ Chest Routine</td>\n",
       "      <td>NaN</td>\n",
       "      <td>Chest</td>\n",
       "      <td>472.12</td>\n",
       "      <td>100</td>\n",
       "      <td>433.42</td>\n",
       "      <td>700</td>\n",
       "      <td>1.38</td>\n",
       "      <td>80</td>\n",
       "      <td>...</td>\n",
       "      <td>52</td>\n",
       "      <td>M</td>\n",
       "      <td>182.0</td>\n",
       "      <td>70.0</td>\n",
       "      <td>胸部CT</td>\n",
       "      <td>単純</td>\n",
       "      <td>21.13</td>\n",
       "      <td>1588.26</td>\n",
       "      <td>normal weight</td>\n",
       "      <td>1.901449</td>\n",
       "    </tr>\n",
       "    <tr>\n",
       "      <th>4</th>\n",
       "      <td>1103481920210103</td>\n",
       "      <td>5.1 QQ Chest Routine</td>\n",
       "      <td>NaN</td>\n",
       "      <td>Chest</td>\n",
       "      <td>462.22</td>\n",
       "      <td>100</td>\n",
       "      <td>691.26</td>\n",
       "      <td>700</td>\n",
       "      <td>1.38</td>\n",
       "      <td>80</td>\n",
       "      <td>...</td>\n",
       "      <td>52</td>\n",
       "      <td>M</td>\n",
       "      <td>175.0</td>\n",
       "      <td>112.0</td>\n",
       "      <td>胸部CT</td>\n",
       "      <td>単純</td>\n",
       "      <td>36.57</td>\n",
       "      <td>2130.73</td>\n",
       "      <td>obesity class3</td>\n",
       "      <td>2.256766</td>\n",
       "    </tr>\n",
       "  </tbody>\n",
       "</table>\n",
       "<p>5 rows × 27 columns</p>\n",
       "</div>"
      ],
      "text/plain": [
       "          accession         scan protocol scan series target region  \\\n",
       "0  1103161420210101  5.1 QQ Chest Routine         NaN         Chest   \n",
       "1  1103161620210101  5.1 QQ Chest Routine         NaN         Chest   \n",
       "2  1103339220210102  5.1 QQ Chest Routine         NaN         Chest   \n",
       "3  1103327120210102  5.1 QQ Chest Routine         NaN         Chest   \n",
       "4  1103481920210103  5.1 QQ Chest Routine         NaN         Chest   \n",
       "\n",
       "   scanning length   kV  mean mA  max mA  pitch factor  \\\n",
       "0           382.14  100   350.24     640          1.38   \n",
       "1           442.20  100   442.93     700          1.38   \n",
       "2           467.06  100   306.59     700          1.38   \n",
       "3           472.12  100   433.42     700          1.38   \n",
       "4           462.22  100   691.26     700          1.38   \n",
       "\n",
       "   nomial total collimation width  ...  age  gender height_cm  weight_kg  \\\n",
       "0                              80  ...   86       F     150.0       49.1   \n",
       "1                              80  ...   61       M     163.0       74.0   \n",
       "2                              80  ...   46       M     178.0       68.0   \n",
       "3                              80  ...   52       M     182.0       70.0   \n",
       "4                              80  ...   52       M     175.0      112.0   \n",
       "\n",
       "   scan_area scan_method    bmi      bmr    category_bmi  body_surface_area  \n",
       "0       胸部CT          単純  21.82  1000.01   normal weight           1.421484  \n",
       "1       胸部CT          単純  27.85  1487.40  obesity class1           1.797322  \n",
       "2       胸部CT          単純  21.46  1581.27   normal weight           1.848150  \n",
       "3       胸部CT          単純  21.13  1588.26   normal weight           1.901449  \n",
       "4       胸部CT          単純  36.57  2130.73  obesity class3           2.256766  \n",
       "\n",
       "[5 rows x 27 columns]"
      ]
     },
     "execution_count": 28,
     "metadata": {},
     "output_type": "execute_result"
    }
   ],
   "source": [
    "df.head()"
   ]
  },
  {
   "cell_type": "markdown",
   "id": "dd08258c-fa45-4ad8-9760-a918d63c6b30",
   "metadata": {
    "jupyter": {
     "source_hidden": true
    },
    "pycharm": {
     "name": "#%% md\n"
    },
    "tags": []
   },
   "source": [
    "### 年代を追加"
   ]
  },
  {
   "cell_type": "code",
   "execution_count": 29,
   "id": "5fe059d1-022d-4d1c-91a6-318f1ca118f5",
   "metadata": {
    "jupyter": {
     "source_hidden": true
    },
    "pycharm": {
     "name": "#%%\n"
    },
    "tags": []
   },
   "outputs": [],
   "source": [
    "df['age_era'] = (df['age'] // 10) * 10"
   ]
  },
  {
   "cell_type": "markdown",
   "id": "b256a5e1-b8d4-49d6-a155-7f4336efc9d0",
   "metadata": {
    "jupyter": {
     "source_hidden": true
    },
    "pycharm": {
     "name": "#%% md\n"
    },
    "tags": []
   },
   "source": [
    "### scan_areaとscan_method(例：胸部CTx単純)をクロス集計"
   ]
  },
  {
   "cell_type": "code",
   "execution_count": 21,
   "id": "43b66091-044c-4329-a126-1ca939502fa3",
   "metadata": {
    "jupyter": {
     "source_hidden": true
    },
    "pycharm": {
     "name": "#%%\n"
    },
    "tags": []
   },
   "outputs": [],
   "source": [
    "# クロス集計表の出現割合\n",
    "cat_1 = 'scan_area'\n",
    "cat_2 = 'scan_method'\n",
    "X_cross = pd.crosstab(df[cat_1], df[cat_2], normalize='index')\n",
    "X_cross = X_cross.reset_index()\n",
    "\n",
    "# クロス集計表のテーブルへの変換\n",
    "X_tbl = pd.melt(X_cross, id_vars=cat_1, value_name=f'rate_{cat_1} x {cat_2}')\n",
    "\n",
    "# 出現割合の特徴量追加\n",
    "df = pd.merge(df, X_tbl, on=[cat_1, cat_2], how='left')"
   ]
  },
  {
   "cell_type": "markdown",
   "id": "5a09dd47-e9e2-46f4-ae4c-05df1fa017e8",
   "metadata": {
    "jupyter": {
     "source_hidden": true
    },
    "pycharm": {
     "name": "#%% md\n"
    },
    "tags": []
   },
   "source": [
    "### category_bmiとgenderのクロス集計"
   ]
  },
  {
   "cell_type": "code",
   "execution_count": 22,
   "id": "a924a2af-76e2-4960-83df-55e6742dd3ef",
   "metadata": {
    "jupyter": {
     "source_hidden": true
    },
    "pycharm": {
     "name": "#%%\n"
    },
    "tags": []
   },
   "outputs": [],
   "source": [
    "# クロス集計表の出現割合\n",
    "cat_1 = 'category_bmi'\n",
    "cat_2 = 'gender'\n",
    "X_cross = pd.crosstab(df[cat_1], df[cat_2], normalize='index')\n",
    "X_cross = X_cross.reset_index()\n",
    "\n",
    "# クロス集計表のテーブルへの変換\n",
    "X_tbl = pd.melt(X_cross, id_vars=cat_1, value_name=f'rate_{cat_1} x {cat_2}')\n",
    "\n",
    "# 出現割合の特徴量追加\n",
    "df = pd.merge(df, X_tbl, on=[cat_1, cat_2], how='left')"
   ]
  },
  {
   "cell_type": "markdown",
   "id": "643eb167-3180-4bca-85e0-4f475776f7c2",
   "metadata": {
    "jupyter": {
     "source_hidden": true
    },
    "pycharm": {
     "name": "#%% md\n"
    },
    "tags": []
   },
   "source": [
    "### category_bmiとage_eraのクロス集計"
   ]
  },
  {
   "cell_type": "code",
   "execution_count": 23,
   "id": "8503b83d-7db6-4faf-af92-aad518db2e0b",
   "metadata": {
    "jupyter": {
     "source_hidden": true
    },
    "pycharm": {
     "name": "#%%\n"
    },
    "tags": []
   },
   "outputs": [],
   "source": [
    "# クロス集計表の出現割合\n",
    "cat_1 = 'age_era'\n",
    "cat_2 = 'category_bmi'\n",
    "X_cross = pd.crosstab(df[cat_1], df[cat_2], normalize='index')\n",
    "X_cross = X_cross.reset_index()\n",
    "\n",
    "# クロス集計表のテーブルへの変換\n",
    "X_tbl = pd.melt(X_cross, id_vars=cat_1, value_name=f'rate_{cat_1} x {cat_2}')\n",
    "\n",
    "# 出現割合の特徴量追加\n",
    "df = pd.merge(df, X_tbl, on=[cat_1, cat_2], how='left')"
   ]
  },
  {
   "cell_type": "code",
   "execution_count": 24,
   "id": "b066167d-fc33-4377-889d-41e051301122",
   "metadata": {
    "collapsed": true,
    "jupyter": {
     "outputs_hidden": true,
     "source_hidden": true
    },
    "pycharm": {
     "name": "#%%\n"
    },
    "tags": []
   },
   "outputs": [
    {
     "data": {
      "text/html": [
       "<div>\n",
       "<style scoped>\n",
       "    .dataframe tbody tr th:only-of-type {\n",
       "        vertical-align: middle;\n",
       "    }\n",
       "\n",
       "    .dataframe tbody tr th {\n",
       "        vertical-align: top;\n",
       "    }\n",
       "\n",
       "    .dataframe thead th {\n",
       "        text-align: right;\n",
       "    }\n",
       "</style>\n",
       "<table border=\"1\" class=\"dataframe\">\n",
       "  <thead>\n",
       "    <tr style=\"text-align: right;\">\n",
       "      <th></th>\n",
       "      <th>accession</th>\n",
       "      <th>scan protocol</th>\n",
       "      <th>scan series</th>\n",
       "      <th>target region</th>\n",
       "      <th>scanning length</th>\n",
       "      <th>kV</th>\n",
       "      <th>mean mA</th>\n",
       "      <th>max mA</th>\n",
       "      <th>pitch factor</th>\n",
       "      <th>nomial total collimation width</th>\n",
       "      <th>...</th>\n",
       "      <th>scan_area</th>\n",
       "      <th>scan_method</th>\n",
       "      <th>bmi</th>\n",
       "      <th>bmr</th>\n",
       "      <th>category_bmi</th>\n",
       "      <th>body_surface_area</th>\n",
       "      <th>age_era</th>\n",
       "      <th>rate_scan_area x scan_method</th>\n",
       "      <th>rate_category_bmi x gender</th>\n",
       "      <th>rate_age_era x category_bmi</th>\n",
       "    </tr>\n",
       "  </thead>\n",
       "  <tbody>\n",
       "    <tr>\n",
       "      <th>0</th>\n",
       "      <td>1103161420210101</td>\n",
       "      <td>5.1 QQ Chest Routine</td>\n",
       "      <td>NaN</td>\n",
       "      <td>Chest</td>\n",
       "      <td>382.14</td>\n",
       "      <td>100</td>\n",
       "      <td>350.24</td>\n",
       "      <td>640</td>\n",
       "      <td>1.38</td>\n",
       "      <td>80</td>\n",
       "      <td>...</td>\n",
       "      <td>胸部CT</td>\n",
       "      <td>単純</td>\n",
       "      <td>21.82</td>\n",
       "      <td>1000.01</td>\n",
       "      <td>normal weight</td>\n",
       "      <td>1.421484</td>\n",
       "      <td>80</td>\n",
       "      <td>0.973792</td>\n",
       "      <td>0.286558</td>\n",
       "      <td>0.642992</td>\n",
       "    </tr>\n",
       "    <tr>\n",
       "      <th>1</th>\n",
       "      <td>1103161620210101</td>\n",
       "      <td>5.1 QQ Chest Routine</td>\n",
       "      <td>NaN</td>\n",
       "      <td>Chest</td>\n",
       "      <td>442.20</td>\n",
       "      <td>100</td>\n",
       "      <td>442.93</td>\n",
       "      <td>700</td>\n",
       "      <td>1.38</td>\n",
       "      <td>80</td>\n",
       "      <td>...</td>\n",
       "      <td>胸部CT</td>\n",
       "      <td>単純</td>\n",
       "      <td>27.85</td>\n",
       "      <td>1487.40</td>\n",
       "      <td>obesity class1</td>\n",
       "      <td>1.797322</td>\n",
       "      <td>60</td>\n",
       "      <td>0.973792</td>\n",
       "      <td>0.841565</td>\n",
       "      <td>0.262165</td>\n",
       "    </tr>\n",
       "    <tr>\n",
       "      <th>2</th>\n",
       "      <td>1103339220210102</td>\n",
       "      <td>5.1 QQ Chest Routine</td>\n",
       "      <td>NaN</td>\n",
       "      <td>Chest</td>\n",
       "      <td>467.06</td>\n",
       "      <td>100</td>\n",
       "      <td>306.59</td>\n",
       "      <td>700</td>\n",
       "      <td>1.38</td>\n",
       "      <td>80</td>\n",
       "      <td>...</td>\n",
       "      <td>胸部CT</td>\n",
       "      <td>単純</td>\n",
       "      <td>21.46</td>\n",
       "      <td>1581.27</td>\n",
       "      <td>normal weight</td>\n",
       "      <td>1.848150</td>\n",
       "      <td>40</td>\n",
       "      <td>0.973792</td>\n",
       "      <td>0.713442</td>\n",
       "      <td>0.620907</td>\n",
       "    </tr>\n",
       "    <tr>\n",
       "      <th>3</th>\n",
       "      <td>1103327120210102</td>\n",
       "      <td>5.1 QQ Chest Routine</td>\n",
       "      <td>NaN</td>\n",
       "      <td>Chest</td>\n",
       "      <td>472.12</td>\n",
       "      <td>100</td>\n",
       "      <td>433.42</td>\n",
       "      <td>700</td>\n",
       "      <td>1.38</td>\n",
       "      <td>80</td>\n",
       "      <td>...</td>\n",
       "      <td>胸部CT</td>\n",
       "      <td>単純</td>\n",
       "      <td>21.13</td>\n",
       "      <td>1588.26</td>\n",
       "      <td>normal weight</td>\n",
       "      <td>1.901449</td>\n",
       "      <td>50</td>\n",
       "      <td>0.973792</td>\n",
       "      <td>0.713442</td>\n",
       "      <td>0.509462</td>\n",
       "    </tr>\n",
       "    <tr>\n",
       "      <th>4</th>\n",
       "      <td>1103481920210103</td>\n",
       "      <td>5.1 QQ Chest Routine</td>\n",
       "      <td>NaN</td>\n",
       "      <td>Chest</td>\n",
       "      <td>462.22</td>\n",
       "      <td>100</td>\n",
       "      <td>691.26</td>\n",
       "      <td>700</td>\n",
       "      <td>1.38</td>\n",
       "      <td>80</td>\n",
       "      <td>...</td>\n",
       "      <td>胸部CT</td>\n",
       "      <td>単純</td>\n",
       "      <td>36.57</td>\n",
       "      <td>2130.73</td>\n",
       "      <td>obesity class3</td>\n",
       "      <td>2.256766</td>\n",
       "      <td>50</td>\n",
       "      <td>0.973792</td>\n",
       "      <td>0.718750</td>\n",
       "      <td>0.014442</td>\n",
       "    </tr>\n",
       "  </tbody>\n",
       "</table>\n",
       "<p>5 rows × 31 columns</p>\n",
       "</div>"
      ],
      "text/plain": [
       "          accession         scan protocol scan series target region  \\\n",
       "0  1103161420210101  5.1 QQ Chest Routine         NaN         Chest   \n",
       "1  1103161620210101  5.1 QQ Chest Routine         NaN         Chest   \n",
       "2  1103339220210102  5.1 QQ Chest Routine         NaN         Chest   \n",
       "3  1103327120210102  5.1 QQ Chest Routine         NaN         Chest   \n",
       "4  1103481920210103  5.1 QQ Chest Routine         NaN         Chest   \n",
       "\n",
       "   scanning length   kV  mean mA  max mA  pitch factor  \\\n",
       "0           382.14  100   350.24     640          1.38   \n",
       "1           442.20  100   442.93     700          1.38   \n",
       "2           467.06  100   306.59     700          1.38   \n",
       "3           472.12  100   433.42     700          1.38   \n",
       "4           462.22  100   691.26     700          1.38   \n",
       "\n",
       "   nomial total collimation width  ...  scan_area  scan_method    bmi  \\\n",
       "0                              80  ...       胸部CT           単純  21.82   \n",
       "1                              80  ...       胸部CT           単純  27.85   \n",
       "2                              80  ...       胸部CT           単純  21.46   \n",
       "3                              80  ...       胸部CT           単純  21.13   \n",
       "4                              80  ...       胸部CT           単純  36.57   \n",
       "\n",
       "       bmr    category_bmi body_surface_area  age_era  \\\n",
       "0  1000.01   normal weight          1.421484       80   \n",
       "1  1487.40  obesity class1          1.797322       60   \n",
       "2  1581.27   normal weight          1.848150       40   \n",
       "3  1588.26   normal weight          1.901449       50   \n",
       "4  2130.73  obesity class3          2.256766       50   \n",
       "\n",
       "   rate_scan_area x scan_method rate_category_bmi x gender  \\\n",
       "0                      0.973792                   0.286558   \n",
       "1                      0.973792                   0.841565   \n",
       "2                      0.973792                   0.713442   \n",
       "3                      0.973792                   0.713442   \n",
       "4                      0.973792                   0.718750   \n",
       "\n",
       "   rate_age_era x category_bmi  \n",
       "0                     0.642992  \n",
       "1                     0.262165  \n",
       "2                     0.620907  \n",
       "3                     0.509462  \n",
       "4                     0.014442  \n",
       "\n",
       "[5 rows x 31 columns]"
      ]
     },
     "execution_count": 24,
     "metadata": {},
     "output_type": "execute_result"
    }
   ],
   "source": [
    "df.head()"
   ]
  },
  {
   "cell_type": "markdown",
   "id": "a33649ad-6f1f-4684-9d11-f54a37992a96",
   "metadata": {
    "jupyter": {
     "source_hidden": true
    },
    "pycharm": {
     "name": "#%% md\n"
    },
    "tags": []
   },
   "source": [
    "### 各年代の性別ごとのBMIの中央値を作成し、それを新たな特徴量とする"
   ]
  },
  {
   "cell_type": "code",
   "execution_count": 94,
   "id": "2fc0eced-66e9-43b2-aee6-be9947a75918",
   "metadata": {
    "jupyter": {
     "source_hidden": true
    },
    "pycharm": {
     "name": "#%%\n"
    },
    "tags": []
   },
   "outputs": [],
   "source": [
    "median_bmi = df.groupby(['age_era', 'gender'])['bmi'].median().to_dict()"
   ]
  },
  {
   "cell_type": "code",
   "execution_count": 95,
   "id": "4c460f95-87b8-4229-a0a1-4596edbc15ee",
   "metadata": {
    "jupyter": {
     "source_hidden": true
    },
    "pycharm": {
     "name": "#%%\n"
    },
    "tags": []
   },
   "outputs": [],
   "source": [
    "df['age_era_gender_bmi'] = df.apply(lambda row: median_bmi[row['age_era'], row['gender']], axis=1)"
   ]
  },
  {
   "cell_type": "markdown",
   "id": "3592e792-713f-4aee-9e19-e5aaa6686d65",
   "metadata": {
    "jupyter": {
     "source_hidden": true
    },
    "pycharm": {
     "name": "#%% md\n"
    },
    "tags": []
   },
   "source": [
    "### 各年代の性別ごとのBMRの中央値を作成し、それを新たな特徴量とする "
   ]
  },
  {
   "cell_type": "code",
   "execution_count": 96,
   "id": "d004bcc9-5aaf-4614-8648-e57895e838bd",
   "metadata": {
    "jupyter": {
     "source_hidden": true
    },
    "pycharm": {
     "name": "#%%\n"
    },
    "tags": []
   },
   "outputs": [],
   "source": [
    "median_bmr = df.groupby(['age_era', 'gender'])['bmr'].median().to_dict()\n",
    "df['age_era_gender_bmr'] = df.apply(lambda row: median_bmr[row['age_era'], row['gender']], axis=1)"
   ]
  },
  {
   "cell_type": "code",
   "execution_count": 97,
   "id": "3ba3b8f4-7c93-482f-b1d5-bccb00673aeb",
   "metadata": {
    "jupyter": {
     "source_hidden": true
    },
    "pycharm": {
     "name": "#%%\n"
    },
    "tags": []
   },
   "outputs": [],
   "source": [
    "median_bsa = df.groupby(['age_era', 'gender'])['body_surface_area'].median().to_dict()\n",
    "df['age_era_gender_bsa'] = df.apply(lambda row: median_bsa[row['age_era'], row['gender']], axis=1)"
   ]
  },
  {
   "cell_type": "markdown",
   "id": "5475bcc2-d893-40ee-afe4-614a35fe92bd",
   "metadata": {
    "jupyter": {
     "source_hidden": true
    },
    "pycharm": {
     "name": "#%% md\n"
    },
    "tags": []
   },
   "source": [
    "### 数値カラムに対する変換"
   ]
  },
  {
   "cell_type": "markdown",
   "id": "59adf2f3-c61a-44f2-b394-d5e85adbb039",
   "metadata": {
    "jupyter": {
     "source_hidden": true
    },
    "pycharm": {
     "name": "#%% md\n"
    },
    "tags": []
   },
   "source": [
    "* 身長は何かしら変換を加えて正規分布に近づけてみるのも良いかも(Box-Cox変換)\n",
    "* age_era_gender_bmiとbody_surface_areもBox-Cox変換等の非線形処理をしても良い"
   ]
  },
  {
   "cell_type": "markdown",
   "id": "77798545-d4dd-4d8b-8fa5-acf436cfa5e6",
   "metadata": {
    "pycharm": {
     "name": "#%% md\n"
    }
   },
   "source": [
    "### Clusterで分類、KMeansを使う"
   ]
  },
  {
   "cell_type": "code",
   "execution_count": 30,
   "id": "cb8d1e95-ab9a-4986-b1d9-f89130ed4438",
   "metadata": {
    "pycharm": {
     "name": "#%%\n"
    }
   },
   "outputs": [],
   "source": [
    "from sklearn.preprocessing import StandardScaler\n",
    "from sklearn.cluster import KMeans"
   ]
  },
  {
   "cell_type": "code",
   "execution_count": 31,
   "id": "f4bd55c3-4d2a-4645-a12f-40e41a1ab1fc",
   "metadata": {
    "pycharm": {
     "name": "#%%\n"
    }
   },
   "outputs": [
    {
     "name": "stderr",
     "output_type": "stream",
     "text": [
      "/opt/anaconda3/lib/python3.9/site-packages/sklearn/cluster/_kmeans.py:870: FutureWarning: The default value of `n_init` will change from 10 to 'auto' in 1.4. Set the value of `n_init` explicitly to suppress the warning\n",
      "  warnings.warn(\n"
     ]
    },
    {
     "data": {
      "image/png": "[encoded data removed]",
      "text/plain": [
       "<Figure size 744.111x500 with 1 Axes>"
      ]
     },
     "metadata": {},
     "output_type": "display_data"
    }
   ],
   "source": [
    "n_clusters = 9\n",
    "kmeans = KMeans(n_clusters=n_clusters, random_state=42)\n",
    "sc = StandardScaler()\n",
    "\n",
    "X = df.loc[:, ['bmi', 'body_surface_area']]\n",
    "X_std = sc.fit_transform(X)\n",
    "\n",
    "df['bmi_body_surface_area_category'] = kmeans.fit_predict(X_std)\n",
    "\n",
    "sns.relplot(x='bmi', y='body_surface_area', hue='bmi_body_surface_area_category', data=df);"
   ]
  },
  {
   "cell_type": "code",
   "execution_count": 32,
   "id": "7dfa5f4f-1041-40a7-9ba0-f8ab7e0f8552",
   "metadata": {
    "pycharm": {
     "name": "#%%\n"
    }
   },
   "outputs": [
    {
     "name": "stderr",
     "output_type": "stream",
     "text": [
      "/opt/anaconda3/lib/python3.9/site-packages/sklearn/cluster/_kmeans.py:870: FutureWarning: The default value of `n_init` will change from 10 to 'auto' in 1.4. Set the value of `n_init` explicitly to suppress the warning\n",
      "  warnings.warn(\n"
     ]
    },
    {
     "data": {
      "image/png": "[encoded data removed]",
      "text/plain": [
       "<Figure size 683.611x500 with 1 Axes>"
      ]
     },
     "metadata": {},
     "output_type": "display_data"
    }
   ],
   "source": [
    "n_clusters = 10\n",
    "kmeans = KMeans(n_clusters=n_clusters, random_state=42)\n",
    "sc = StandardScaler()\n",
    "\n",
    "X = df.loc[:, ['age', 'weight_kg']]\n",
    "X_std = sc.fit_transform(X)\n",
    "\n",
    "df['age_weight_kg_category'] = kmeans.fit_predict(X_std)\n",
    "\n",
    "sns.relplot(x='age', y='weight_kg', hue='age_weight_kg_category', data=df);"
   ]
  },
  {
   "cell_type": "code",
   "execution_count": 33,
   "id": "1872976c-976b-4f58-9ac2-a385bdd00467",
   "metadata": {
    "jupyter": {
     "source_hidden": true
    },
    "pycharm": {
     "name": "#%%\n"
    },
    "tags": []
   },
   "outputs": [],
   "source": [
    "#### scan_areaとscan_methodを組み合わせた特徴量を作成する\n",
    "\n",
    "df['scan_area_method_combine'] = df['scan_area'] + '_' + df['scan_method']\n",
    "\n",
    "#### scan_areaとscan_methodとscan_category_bmiを組み合わせた特徴量を作成する\n",
    "\n",
    "df['scan_area_method_bmi_catgory_combine'] = df['scan_area'] + '_' + df['scan_method']  + '_' + df['category_bmi']\n",
    "\n",
    "df['bmi_bsa_cat_scan_area_method_combine'] = df['bmi_body_surface_area_category'].astype(str) + df['scan_area_method_combine']\n",
    "\n",
    "df['age_weight_cat_scan_area_method_combine'] = df['age_weight_kg_category'].astype(str) + df['scan_area_method_combine']"
   ]
  },
  {
   "cell_type": "code",
   "execution_count": 12,
   "id": "aa0b62b9-40c0-482b-b89b-c3331e762bfd",
   "metadata": {
    "pycharm": {
     "name": "#%%\n"
    },
    "tags": []
   },
   "outputs": [],
   "source": [
    "df.to_excel('modify_feature_engineer_train.xlsx', index=False)"
   ]
  },
  {
   "cell_type": "code",
   "execution_count": null,
   "id": "1ee85818-7e39-42bc-b070-9f5e8fbb1dde",
   "metadata": {
    "pycharm": {
     "name": "#%%\n"
    }
   },
   "outputs": [],
   "source": []
  },
  {
   "cell_type": "code",
   "execution_count": 84,
   "id": "3fc46e06-bb35-4c9c-b2d7-2a163ed71f4b",
   "metadata": {
    "collapsed": true,
    "jupyter": {
     "outputs_hidden": true,
     "source_hidden": true
    },
    "pycharm": {
     "name": "#%%\n"
    },
    "tags": []
   },
   "outputs": [
    {
     "ename": "ValueError",
     "evalue": "could not convert string to float: '胸部CT_単純'",
     "output_type": "error",
     "traceback": [
      "\u001b[0;31m---------------------------------------------------------------------------\u001b[0m",
      "\u001b[0;31mValueError\u001b[0m                                Traceback (most recent call last)",
      "\u001b[0;32m/tmp/ipykernel_27/1388023523.py\u001b[0m in \u001b[0;36m<module>\u001b[0;34m\u001b[0m\n\u001b[1;32m     31\u001b[0m \u001b[0;34m\u001b[0m\u001b[0m\n\u001b[1;32m     32\u001b[0m \u001b[0mtarget\u001b[0m \u001b[0;34m=\u001b[0m \u001b[0;34m'Mean CTDIvol'\u001b[0m\u001b[0;34m\u001b[0m\u001b[0;34m\u001b[0m\u001b[0m\n\u001b[0;32m---> 33\u001b[0;31m \u001b[0mmi_scores\u001b[0m \u001b[0;34m=\u001b[0m \u001b[0mmake_mi_scores\u001b[0m\u001b[0;34m(\u001b[0m\u001b[0mdf\u001b[0m\u001b[0;34m.\u001b[0m\u001b[0mdrop\u001b[0m\u001b[0;34m(\u001b[0m\u001b[0mdrops\u001b[0m\u001b[0;34m,\u001b[0m \u001b[0maxis\u001b[0m\u001b[0;34m=\u001b[0m\u001b[0;36m1\u001b[0m\u001b[0;34m)\u001b[0m\u001b[0;34m,\u001b[0m \u001b[0mdf\u001b[0m\u001b[0;34m[\u001b[0m\u001b[0mtarget\u001b[0m\u001b[0;34m]\u001b[0m\u001b[0;34m,\u001b[0m \u001b[0;34m'auto'\u001b[0m\u001b[0;34m)\u001b[0m\u001b[0;34m\u001b[0m\u001b[0;34m\u001b[0m\u001b[0m\n\u001b[0m\u001b[1;32m     34\u001b[0m \u001b[0;34m\u001b[0m\u001b[0m\n\u001b[1;32m     35\u001b[0m \u001b[0;32mdef\u001b[0m \u001b[0mplot_mi_scores\u001b[0m\u001b[0;34m(\u001b[0m\u001b[0mscores\u001b[0m\u001b[0;34m)\u001b[0m\u001b[0;34m:\u001b[0m\u001b[0;34m\u001b[0m\u001b[0;34m\u001b[0m\u001b[0m\n",
      "\u001b[0;32m/tmp/ipykernel_27/1388023523.py\u001b[0m in \u001b[0;36mmake_mi_scores\u001b[0;34m(X, y, discrete_features)\u001b[0m\n\u001b[1;32m      2\u001b[0m \u001b[0;34m\u001b[0m\u001b[0m\n\u001b[1;32m      3\u001b[0m \u001b[0;32mdef\u001b[0m \u001b[0mmake_mi_scores\u001b[0m\u001b[0;34m(\u001b[0m\u001b[0mX\u001b[0m\u001b[0;34m,\u001b[0m \u001b[0my\u001b[0m\u001b[0;34m,\u001b[0m \u001b[0mdiscrete_features\u001b[0m\u001b[0;34m)\u001b[0m\u001b[0;34m:\u001b[0m\u001b[0;34m\u001b[0m\u001b[0;34m\u001b[0m\u001b[0m\n\u001b[0;32m----> 4\u001b[0;31m     \u001b[0mmi_scores\u001b[0m \u001b[0;34m=\u001b[0m \u001b[0mmutual_info_regression\u001b[0m\u001b[0;34m(\u001b[0m\u001b[0mX\u001b[0m\u001b[0;34m,\u001b[0m \u001b[0my\u001b[0m\u001b[0;34m,\u001b[0m \u001b[0mdiscrete_features\u001b[0m\u001b[0;34m=\u001b[0m\u001b[0mdiscrete_features\u001b[0m\u001b[0;34m)\u001b[0m\u001b[0;34m\u001b[0m\u001b[0;34m\u001b[0m\u001b[0m\n\u001b[0m\u001b[1;32m      5\u001b[0m     \u001b[0mmi_scores\u001b[0m \u001b[0;34m=\u001b[0m \u001b[0mpd\u001b[0m\u001b[0;34m.\u001b[0m\u001b[0mSeries\u001b[0m\u001b[0;34m(\u001b[0m\u001b[0mmi_scores\u001b[0m\u001b[0;34m,\u001b[0m \u001b[0mname\u001b[0m\u001b[0;34m=\u001b[0m\u001b[0;34m\"MI Scores\"\u001b[0m\u001b[0;34m,\u001b[0m \u001b[0mindex\u001b[0m\u001b[0;34m=\u001b[0m\u001b[0mX\u001b[0m\u001b[0;34m.\u001b[0m\u001b[0mcolumns\u001b[0m\u001b[0;34m)\u001b[0m\u001b[0;34m\u001b[0m\u001b[0;34m\u001b[0m\u001b[0m\n\u001b[1;32m      6\u001b[0m     \u001b[0mmi_scores\u001b[0m \u001b[0;34m=\u001b[0m \u001b[0mmi_scores\u001b[0m\u001b[0;34m.\u001b[0m\u001b[0msort_values\u001b[0m\u001b[0;34m(\u001b[0m\u001b[0mascending\u001b[0m\u001b[0;34m=\u001b[0m\u001b[0;32mFalse\u001b[0m\u001b[0;34m)\u001b[0m\u001b[0;34m\u001b[0m\u001b[0;34m\u001b[0m\u001b[0m\n",
      "\u001b[0;32m/opt/anaconda3/lib/python3.9/site-packages/sklearn/feature_selection/_mutual_info.py\u001b[0m in \u001b[0;36mmutual_info_regression\u001b[0;34m(X, y, discrete_features, n_neighbors, copy, random_state)\u001b[0m\n\u001b[1;32m    386\u001b[0m            \u001b[0mof\u001b[0m \u001b[0ma\u001b[0m \u001b[0mRandom\u001b[0m \u001b[0mVector\u001b[0m\u001b[0;31m\"\u001b[0m\u001b[0;34m,\u001b[0m \u001b[0mProbl\u001b[0m\u001b[0;34m.\u001b[0m \u001b[0mPeredachi\u001b[0m \u001b[0mInf\u001b[0m\u001b[0;34m.\u001b[0m\u001b[0;34m,\u001b[0m \u001b[0;36m23\u001b[0m\u001b[0;34m:\u001b[0m\u001b[0;36m2\u001b[0m \u001b[0;34m(\u001b[0m\u001b[0;36m1987\u001b[0m\u001b[0;34m)\u001b[0m\u001b[0;34m,\u001b[0m \u001b[0;36m9\u001b[0m\u001b[0;34m-\u001b[0m\u001b[0;36m16\u001b[0m\u001b[0;34m\u001b[0m\u001b[0;34m\u001b[0m\u001b[0m\n\u001b[1;32m    387\u001b[0m     \"\"\"\n\u001b[0;32m--> 388\u001b[0;31m     \u001b[0;32mreturn\u001b[0m \u001b[0m_estimate_mi\u001b[0m\u001b[0;34m(\u001b[0m\u001b[0mX\u001b[0m\u001b[0;34m,\u001b[0m \u001b[0my\u001b[0m\u001b[0;34m,\u001b[0m \u001b[0mdiscrete_features\u001b[0m\u001b[0;34m,\u001b[0m \u001b[0;32mFalse\u001b[0m\u001b[0;34m,\u001b[0m \u001b[0mn_neighbors\u001b[0m\u001b[0;34m,\u001b[0m \u001b[0mcopy\u001b[0m\u001b[0;34m,\u001b[0m \u001b[0mrandom_state\u001b[0m\u001b[0;34m)\u001b[0m\u001b[0;34m\u001b[0m\u001b[0;34m\u001b[0m\u001b[0m\n\u001b[0m\u001b[1;32m    389\u001b[0m \u001b[0;34m\u001b[0m\u001b[0m\n\u001b[1;32m    390\u001b[0m \u001b[0;34m\u001b[0m\u001b[0m\n",
      "\u001b[0;32m/opt/anaconda3/lib/python3.9/site-packages/sklearn/feature_selection/_mutual_info.py\u001b[0m in \u001b[0;36m_estimate_mi\u001b[0;34m(X, y, discrete_features, discrete_target, n_neighbors, copy, random_state)\u001b[0m\n\u001b[1;32m    253\u001b[0m            \u001b[0mData\u001b[0m \u001b[0mSets\u001b[0m\u001b[0;31m\"\u001b[0m\u001b[0;34m.\u001b[0m \u001b[0mPLoS\u001b[0m \u001b[0mONE\u001b[0m \u001b[0;36m9\u001b[0m\u001b[0;34m(\u001b[0m\u001b[0;36m2\u001b[0m\u001b[0;34m)\u001b[0m\u001b[0;34m,\u001b[0m \u001b[0;36m2014.\u001b[0m\u001b[0;34m\u001b[0m\u001b[0;34m\u001b[0m\u001b[0m\n\u001b[1;32m    254\u001b[0m     \"\"\"\n\u001b[0;32m--> 255\u001b[0;31m     \u001b[0mX\u001b[0m\u001b[0;34m,\u001b[0m \u001b[0my\u001b[0m \u001b[0;34m=\u001b[0m \u001b[0mcheck_X_y\u001b[0m\u001b[0;34m(\u001b[0m\u001b[0mX\u001b[0m\u001b[0;34m,\u001b[0m \u001b[0my\u001b[0m\u001b[0;34m,\u001b[0m \u001b[0maccept_sparse\u001b[0m\u001b[0;34m=\u001b[0m\u001b[0;34m\"csc\"\u001b[0m\u001b[0;34m,\u001b[0m \u001b[0my_numeric\u001b[0m\u001b[0;34m=\u001b[0m\u001b[0;32mnot\u001b[0m \u001b[0mdiscrete_target\u001b[0m\u001b[0;34m)\u001b[0m\u001b[0;34m\u001b[0m\u001b[0;34m\u001b[0m\u001b[0m\n\u001b[0m\u001b[1;32m    256\u001b[0m     \u001b[0mn_samples\u001b[0m\u001b[0;34m,\u001b[0m \u001b[0mn_features\u001b[0m \u001b[0;34m=\u001b[0m \u001b[0mX\u001b[0m\u001b[0;34m.\u001b[0m\u001b[0mshape\u001b[0m\u001b[0;34m\u001b[0m\u001b[0;34m\u001b[0m\u001b[0m\n\u001b[1;32m    257\u001b[0m \u001b[0;34m\u001b[0m\u001b[0m\n",
      "\u001b[0;32m/opt/anaconda3/lib/python3.9/site-packages/sklearn/utils/validation.py\u001b[0m in \u001b[0;36mcheck_X_y\u001b[0;34m(X, y, accept_sparse, accept_large_sparse, dtype, order, copy, force_all_finite, ensure_2d, allow_nd, multi_output, ensure_min_samples, ensure_min_features, y_numeric, estimator)\u001b[0m\n\u001b[1;32m   1104\u001b[0m         )\n\u001b[1;32m   1105\u001b[0m \u001b[0;34m\u001b[0m\u001b[0m\n\u001b[0;32m-> 1106\u001b[0;31m     X = check_array(\n\u001b[0m\u001b[1;32m   1107\u001b[0m         \u001b[0mX\u001b[0m\u001b[0;34m,\u001b[0m\u001b[0;34m\u001b[0m\u001b[0;34m\u001b[0m\u001b[0m\n\u001b[1;32m   1108\u001b[0m         \u001b[0maccept_sparse\u001b[0m\u001b[0;34m=\u001b[0m\u001b[0maccept_sparse\u001b[0m\u001b[0;34m,\u001b[0m\u001b[0;34m\u001b[0m\u001b[0;34m\u001b[0m\u001b[0m\n",
      "\u001b[0;32m/opt/anaconda3/lib/python3.9/site-packages/sklearn/utils/validation.py\u001b[0m in \u001b[0;36mcheck_array\u001b[0;34m(array, accept_sparse, accept_large_sparse, dtype, order, copy, force_all_finite, ensure_2d, allow_nd, ensure_min_samples, ensure_min_features, estimator, input_name)\u001b[0m\n\u001b[1;32m    877\u001b[0m                     \u001b[0marray\u001b[0m \u001b[0;34m=\u001b[0m \u001b[0mxp\u001b[0m\u001b[0;34m.\u001b[0m\u001b[0mastype\u001b[0m\u001b[0;34m(\u001b[0m\u001b[0marray\u001b[0m\u001b[0;34m,\u001b[0m \u001b[0mdtype\u001b[0m\u001b[0;34m,\u001b[0m \u001b[0mcopy\u001b[0m\u001b[0;34m=\u001b[0m\u001b[0;32mFalse\u001b[0m\u001b[0;34m)\u001b[0m\u001b[0;34m\u001b[0m\u001b[0;34m\u001b[0m\u001b[0m\n\u001b[1;32m    878\u001b[0m                 \u001b[0;32melse\u001b[0m\u001b[0;34m:\u001b[0m\u001b[0;34m\u001b[0m\u001b[0;34m\u001b[0m\u001b[0m\n\u001b[0;32m--> 879\u001b[0;31m                     \u001b[0marray\u001b[0m \u001b[0;34m=\u001b[0m \u001b[0m_asarray_with_order\u001b[0m\u001b[0;34m(\u001b[0m\u001b[0marray\u001b[0m\u001b[0;34m,\u001b[0m \u001b[0morder\u001b[0m\u001b[0;34m=\u001b[0m\u001b[0morder\u001b[0m\u001b[0;34m,\u001b[0m \u001b[0mdtype\u001b[0m\u001b[0;34m=\u001b[0m\u001b[0mdtype\u001b[0m\u001b[0;34m,\u001b[0m \u001b[0mxp\u001b[0m\u001b[0;34m=\u001b[0m\u001b[0mxp\u001b[0m\u001b[0;34m)\u001b[0m\u001b[0;34m\u001b[0m\u001b[0;34m\u001b[0m\u001b[0m\n\u001b[0m\u001b[1;32m    880\u001b[0m             \u001b[0;32mexcept\u001b[0m \u001b[0mComplexWarning\u001b[0m \u001b[0;32mas\u001b[0m \u001b[0mcomplex_warning\u001b[0m\u001b[0;34m:\u001b[0m\u001b[0;34m\u001b[0m\u001b[0;34m\u001b[0m\u001b[0m\n\u001b[1;32m    881\u001b[0m                 raise ValueError(\n",
      "\u001b[0;32m/opt/anaconda3/lib/python3.9/site-packages/sklearn/utils/_array_api.py\u001b[0m in \u001b[0;36m_asarray_with_order\u001b[0;34m(array, dtype, order, copy, xp)\u001b[0m\n\u001b[1;32m    183\u001b[0m     \u001b[0;32mif\u001b[0m \u001b[0mxp\u001b[0m\u001b[0;34m.\u001b[0m\u001b[0m__name__\u001b[0m \u001b[0;32min\u001b[0m \u001b[0;34m{\u001b[0m\u001b[0;34m\"numpy\"\u001b[0m\u001b[0;34m,\u001b[0m \u001b[0;34m\"numpy.array_api\"\u001b[0m\u001b[0;34m}\u001b[0m\u001b[0;34m:\u001b[0m\u001b[0;34m\u001b[0m\u001b[0;34m\u001b[0m\u001b[0m\n\u001b[1;32m    184\u001b[0m         \u001b[0;31m# Use NumPy API to support order\u001b[0m\u001b[0;34m\u001b[0m\u001b[0;34m\u001b[0m\u001b[0m\n\u001b[0;32m--> 185\u001b[0;31m         \u001b[0marray\u001b[0m \u001b[0;34m=\u001b[0m \u001b[0mnumpy\u001b[0m\u001b[0;34m.\u001b[0m\u001b[0masarray\u001b[0m\u001b[0;34m(\u001b[0m\u001b[0marray\u001b[0m\u001b[0;34m,\u001b[0m \u001b[0morder\u001b[0m\u001b[0;34m=\u001b[0m\u001b[0morder\u001b[0m\u001b[0;34m,\u001b[0m \u001b[0mdtype\u001b[0m\u001b[0;34m=\u001b[0m\u001b[0mdtype\u001b[0m\u001b[0;34m)\u001b[0m\u001b[0;34m\u001b[0m\u001b[0;34m\u001b[0m\u001b[0m\n\u001b[0m\u001b[1;32m    186\u001b[0m         \u001b[0;32mreturn\u001b[0m \u001b[0mxp\u001b[0m\u001b[0;34m.\u001b[0m\u001b[0masarray\u001b[0m\u001b[0;34m(\u001b[0m\u001b[0marray\u001b[0m\u001b[0;34m,\u001b[0m \u001b[0mcopy\u001b[0m\u001b[0;34m=\u001b[0m\u001b[0mcopy\u001b[0m\u001b[0;34m)\u001b[0m\u001b[0;34m\u001b[0m\u001b[0;34m\u001b[0m\u001b[0m\n\u001b[1;32m    187\u001b[0m     \u001b[0;32melse\u001b[0m\u001b[0;34m:\u001b[0m\u001b[0;34m\u001b[0m\u001b[0;34m\u001b[0m\u001b[0m\n",
      "\u001b[0;32m/opt/anaconda3/lib/python3.9/site-packages/pandas/core/generic.py\u001b[0m in \u001b[0;36m__array__\u001b[0;34m(self, dtype)\u001b[0m\n\u001b[1;32m   2068\u001b[0m \u001b[0;34m\u001b[0m\u001b[0m\n\u001b[1;32m   2069\u001b[0m     \u001b[0;32mdef\u001b[0m \u001b[0m__array__\u001b[0m\u001b[0;34m(\u001b[0m\u001b[0mself\u001b[0m\u001b[0;34m,\u001b[0m \u001b[0mdtype\u001b[0m\u001b[0;34m:\u001b[0m \u001b[0mnpt\u001b[0m\u001b[0;34m.\u001b[0m\u001b[0mDTypeLike\u001b[0m \u001b[0;34m|\u001b[0m \u001b[0;32mNone\u001b[0m \u001b[0;34m=\u001b[0m \u001b[0;32mNone\u001b[0m\u001b[0;34m)\u001b[0m \u001b[0;34m->\u001b[0m \u001b[0mnp\u001b[0m\u001b[0;34m.\u001b[0m\u001b[0mndarray\u001b[0m\u001b[0;34m:\u001b[0m\u001b[0;34m\u001b[0m\u001b[0;34m\u001b[0m\u001b[0m\n\u001b[0;32m-> 2070\u001b[0;31m         \u001b[0;32mreturn\u001b[0m \u001b[0mnp\u001b[0m\u001b[0;34m.\u001b[0m\u001b[0masarray\u001b[0m\u001b[0;34m(\u001b[0m\u001b[0mself\u001b[0m\u001b[0;34m.\u001b[0m\u001b[0m_values\u001b[0m\u001b[0;34m,\u001b[0m \u001b[0mdtype\u001b[0m\u001b[0;34m=\u001b[0m\u001b[0mdtype\u001b[0m\u001b[0;34m)\u001b[0m\u001b[0;34m\u001b[0m\u001b[0;34m\u001b[0m\u001b[0m\n\u001b[0m\u001b[1;32m   2071\u001b[0m \u001b[0;34m\u001b[0m\u001b[0m\n\u001b[1;32m   2072\u001b[0m     def __array_wrap__(\n",
      "\u001b[0;31mValueError\u001b[0m: could not convert string to float: '胸部CT_単純'"
     ]
    }
   ],
   "source": [
    "from sklearn.feature_selection import mutual_info_regression\n",
    "\n",
    "def make_mi_scores(X, y, discrete_features):\n",
    "    mi_scores = mutual_info_regression(X, y, discrete_features=discrete_features)\n",
    "    mi_scores = pd.Series(mi_scores, name=\"MI Scores\", index=X.columns)\n",
    "    mi_scores = mi_scores.sort_values(ascending=False)\n",
    "    return mi_scores\n",
    "\n",
    "# 前処理をして相互情報量を計算\n",
    "from sklearn.preprocessing import OrdinalEncoder\n",
    "from category_encoders import TargetEncoder\n",
    "\n",
    "te_columns = [ 'scan_area', 'category_bmi']\n",
    "oe_columns = ['CTDIw phantom type','gender', 'scan_method']\n",
    "\n",
    "oe = OrdinalEncoder()\n",
    "oe.set_output(transform='pandas')\n",
    "\n",
    "df[oe_columns] = oe.fit_transform(df[oe_columns])\n",
    "\n",
    "te = TargetEncoder()\n",
    "te.fit(df[te_columns], df['Mean CTDIvol'])\n",
    "df[te_columns] = te.transform(df[te_columns])\n",
    "\n",
    "df.drop(drops, axis=1)\n",
    "\n",
    "drops = ['Mean CTDIvol', 'accession', 'scan protocol', 'target region', 'scan series', \n",
    "         'scanning length', 'kV', 'mean mA', 'max mA', 'pitch factor',\n",
    "         'nomial total collimation width', 'exposure time per rotation',\n",
    "         'exposure time', 'Mean CTDIvol', 'DLP', 'study_date', 'id']\n",
    "\n",
    "target = 'Mean CTDIvol'\n",
    "mi_scores = make_mi_scores(df.drop(drops, axis=1), df[target], 'auto')\n",
    "\n",
    "def plot_mi_scores(scores):\n",
    "    scores = scores.sort_values(ascending=True)\n",
    "    width = np.arange(len(scores))\n",
    "    ticks = list(scores.index)\n",
    "    plt.barh(width, scores)\n",
    "    plt.yticks(width, ticks)\n",
    "    plt.title(\"Mutual Information Scores\")\n",
    "\n",
    "\n",
    "plt.figure(dpi=100, figsize=(8, 5))\n",
    "plot_mi_scores(mi_scores)"
   ]
  },
  {
   "cell_type": "code",
   "execution_count": null,
   "id": "43a03f97-74a3-4f6b-8acc-561309ce551f",
   "metadata": {
    "pycharm": {
     "name": "#%%\n"
    }
   },
   "outputs": [],
   "source": []
  },
  {
   "cell_type": "code",
   "execution_count": 34,
   "id": "2cb75c17-63e1-4ac3-b373-7a3ae424284f",
   "metadata": {
    "collapsed": true,
    "jupyter": {
     "outputs_hidden": true,
     "source_hidden": true
    },
    "pycharm": {
     "name": "#%%\n"
    },
    "tags": []
   },
   "outputs": [
    {
     "data": {
      "text/html": [
       "<div>\n",
       "<style scoped>\n",
       "    .dataframe tbody tr th:only-of-type {\n",
       "        vertical-align: middle;\n",
       "    }\n",
       "\n",
       "    .dataframe tbody tr th {\n",
       "        vertical-align: top;\n",
       "    }\n",
       "\n",
       "    .dataframe thead th {\n",
       "        text-align: right;\n",
       "    }\n",
       "</style>\n",
       "<table border=\"1\" class=\"dataframe\">\n",
       "  <thead>\n",
       "    <tr style=\"text-align: right;\">\n",
       "      <th></th>\n",
       "      <th>accession</th>\n",
       "      <th>scan protocol</th>\n",
       "      <th>scan series</th>\n",
       "      <th>target region</th>\n",
       "      <th>scanning length</th>\n",
       "      <th>kV</th>\n",
       "      <th>mean mA</th>\n",
       "      <th>max mA</th>\n",
       "      <th>pitch factor</th>\n",
       "      <th>nomial total collimation width</th>\n",
       "      <th>...</th>\n",
       "      <th>bmr</th>\n",
       "      <th>category_bmi</th>\n",
       "      <th>body_surface_area</th>\n",
       "      <th>age_era</th>\n",
       "      <th>bmi_body_surface_area_category</th>\n",
       "      <th>age_weight_kg_category</th>\n",
       "      <th>scan_area_method_combine</th>\n",
       "      <th>scan_area_method_bmi_catgory_combine</th>\n",
       "      <th>bmi_bsa_cat_scan_area_method_combine</th>\n",
       "      <th>age_weight_cat_scan_area_method_combine</th>\n",
       "    </tr>\n",
       "  </thead>\n",
       "  <tbody>\n",
       "    <tr>\n",
       "      <th>0</th>\n",
       "      <td>1103161420210101</td>\n",
       "      <td>5.1 QQ Chest Routine</td>\n",
       "      <td>NaN</td>\n",
       "      <td>Chest</td>\n",
       "      <td>382.14</td>\n",
       "      <td>100</td>\n",
       "      <td>350.24</td>\n",
       "      <td>640</td>\n",
       "      <td>1.38</td>\n",
       "      <td>80</td>\n",
       "      <td>...</td>\n",
       "      <td>1000.01</td>\n",
       "      <td>normal weight</td>\n",
       "      <td>1.421484</td>\n",
       "      <td>80</td>\n",
       "      <td>7</td>\n",
       "      <td>9</td>\n",
       "      <td>胸部CT_単純</td>\n",
       "      <td>胸部CT_単純_normal weight</td>\n",
       "      <td>7胸部CT_単純</td>\n",
       "      <td>9胸部CT_単純</td>\n",
       "    </tr>\n",
       "    <tr>\n",
       "      <th>1</th>\n",
       "      <td>1103161620210101</td>\n",
       "      <td>5.1 QQ Chest Routine</td>\n",
       "      <td>NaN</td>\n",
       "      <td>Chest</td>\n",
       "      <td>442.20</td>\n",
       "      <td>100</td>\n",
       "      <td>442.93</td>\n",
       "      <td>700</td>\n",
       "      <td>1.38</td>\n",
       "      <td>80</td>\n",
       "      <td>...</td>\n",
       "      <td>1487.40</td>\n",
       "      <td>obesity class1</td>\n",
       "      <td>1.797322</td>\n",
       "      <td>60</td>\n",
       "      <td>2</td>\n",
       "      <td>3</td>\n",
       "      <td>胸部CT_単純</td>\n",
       "      <td>胸部CT_単純_obesity class1</td>\n",
       "      <td>2胸部CT_単純</td>\n",
       "      <td>3胸部CT_単純</td>\n",
       "    </tr>\n",
       "    <tr>\n",
       "      <th>2</th>\n",
       "      <td>1103339220210102</td>\n",
       "      <td>5.1 QQ Chest Routine</td>\n",
       "      <td>NaN</td>\n",
       "      <td>Chest</td>\n",
       "      <td>467.06</td>\n",
       "      <td>100</td>\n",
       "      <td>306.59</td>\n",
       "      <td>700</td>\n",
       "      <td>1.38</td>\n",
       "      <td>80</td>\n",
       "      <td>...</td>\n",
       "      <td>1581.27</td>\n",
       "      <td>normal weight</td>\n",
       "      <td>1.848150</td>\n",
       "      <td>40</td>\n",
       "      <td>3</td>\n",
       "      <td>0</td>\n",
       "      <td>胸部CT_単純</td>\n",
       "      <td>胸部CT_単純_normal weight</td>\n",
       "      <td>3胸部CT_単純</td>\n",
       "      <td>0胸部CT_単純</td>\n",
       "    </tr>\n",
       "  </tbody>\n",
       "</table>\n",
       "<p>3 rows × 34 columns</p>\n",
       "</div>"
      ],
      "text/plain": [
       "          accession         scan protocol scan series target region  \\\n",
       "0  1103161420210101  5.1 QQ Chest Routine         NaN         Chest   \n",
       "1  1103161620210101  5.1 QQ Chest Routine         NaN         Chest   \n",
       "2  1103339220210102  5.1 QQ Chest Routine         NaN         Chest   \n",
       "\n",
       "   scanning length   kV  mean mA  max mA  pitch factor  \\\n",
       "0           382.14  100   350.24     640          1.38   \n",
       "1           442.20  100   442.93     700          1.38   \n",
       "2           467.06  100   306.59     700          1.38   \n",
       "\n",
       "   nomial total collimation width  ...      bmr    category_bmi  \\\n",
       "0                              80  ...  1000.01   normal weight   \n",
       "1                              80  ...  1487.40  obesity class1   \n",
       "2                              80  ...  1581.27   normal weight   \n",
       "\n",
       "  body_surface_area  age_era  bmi_body_surface_area_category  \\\n",
       "0          1.421484       80                               7   \n",
       "1          1.797322       60                               2   \n",
       "2          1.848150       40                               3   \n",
       "\n",
       "  age_weight_kg_category  scan_area_method_combine  \\\n",
       "0                      9                   胸部CT_単純   \n",
       "1                      3                   胸部CT_単純   \n",
       "2                      0                   胸部CT_単純   \n",
       "\n",
       "   scan_area_method_bmi_catgory_combine bmi_bsa_cat_scan_area_method_combine  \\\n",
       "0                 胸部CT_単純_normal weight                             7胸部CT_単純   \n",
       "1                胸部CT_単純_obesity class1                             2胸部CT_単純   \n",
       "2                 胸部CT_単純_normal weight                             3胸部CT_単純   \n",
       "\n",
       "   age_weight_cat_scan_area_method_combine  \n",
       "0                                 9胸部CT_単純  \n",
       "1                                 3胸部CT_単純  \n",
       "2                                 0胸部CT_単純  \n",
       "\n",
       "[3 rows x 34 columns]"
      ]
     },
     "execution_count": 34,
     "metadata": {},
     "output_type": "execute_result"
    }
   ],
   "source": [
    "df.head(3)"
   ]
  },
  {
   "cell_type": "markdown",
   "id": "d50315f4-aa3c-4031-9b03-b1fb89ff1948",
   "metadata": {
    "pycharm": {
     "name": "#%% md\n"
    }
   },
   "source": [
    "## クラスでまとめた部分"
   ]
  },
  {
   "cell_type": "code",
   "execution_count": 19,
   "id": "07a2d958-2fbd-488f-9624-7c03e7fb874e",
   "metadata": {
    "pycharm": {
     "name": "#%%\n"
    }
   },
   "outputs": [
    {
     "name": "stdout",
     "output_type": "stream",
     "text": [
      "The autoreload extension is already loaded. To reload it, use:\n",
      "  %reload_ext autoreload\n"
     ]
    }
   ],
   "source": [
    "%load_ext autoreload\n",
    "%autoreload 2\n",
    "import pandas as pd\n",
    "import numpy as np\n",
    "import warnings\n",
    "from sklearn.model_selection import KFold\n",
    "from sklearn.tree import DecisionTreeClassifier\n",
    "from feature_engineering.dose_prediction_feature_engineering import FeatureEngineering\n",
    "# from feature_engineering.predict_pitch_factor_rotation_time import PitchFactorClassifier, ExposureTimeRegressor\n",
    "warnings.simplefilter('ignore')"
   ]
  },
  {
   "cell_type": "code",
   "execution_count": 14,
   "id": "dc3a9024-1cd9-4814-85ba-7dbce4150abf",
   "metadata": {
    "pycharm": {
     "name": "#%%\n"
    }
   },
   "outputs": [
    {
     "data": {
      "text/html": [
       "<div>\n",
       "<style scoped>\n",
       "    .dataframe tbody tr th:only-of-type {\n",
       "        vertical-align: middle;\n",
       "    }\n",
       "\n",
       "    .dataframe tbody tr th {\n",
       "        vertical-align: top;\n",
       "    }\n",
       "\n",
       "    .dataframe thead th {\n",
       "        text-align: right;\n",
       "    }\n",
       "</style>\n",
       "<table border=\"1\" class=\"dataframe\">\n",
       "  <thead>\n",
       "    <tr style=\"text-align: right;\">\n",
       "      <th></th>\n",
       "      <th>accession</th>\n",
       "      <th>scan protocol</th>\n",
       "      <th>scan series</th>\n",
       "      <th>target region</th>\n",
       "      <th>scanning length</th>\n",
       "      <th>kV</th>\n",
       "      <th>mean mA</th>\n",
       "      <th>max mA</th>\n",
       "      <th>pitch factor</th>\n",
       "      <th>nomial total collimation width</th>\n",
       "      <th>...</th>\n",
       "      <th>Mean CTDIvol</th>\n",
       "      <th>DLP</th>\n",
       "      <th>study_date</th>\n",
       "      <th>id</th>\n",
       "      <th>age</th>\n",
       "      <th>gender</th>\n",
       "      <th>height_cm</th>\n",
       "      <th>weight_kg</th>\n",
       "      <th>scan_area</th>\n",
       "      <th>scan_method</th>\n",
       "    </tr>\n",
       "  </thead>\n",
       "  <tbody>\n",
       "    <tr>\n",
       "      <th>0</th>\n",
       "      <td>1103161420210101</td>\n",
       "      <td>5.1 QQ Chest Routine</td>\n",
       "      <td>NaN</td>\n",
       "      <td>Chest</td>\n",
       "      <td>382.14</td>\n",
       "      <td>100</td>\n",
       "      <td>350.24</td>\n",
       "      <td>640</td>\n",
       "      <td>1.38</td>\n",
       "      <td>80</td>\n",
       "      <td>...</td>\n",
       "      <td>5.86</td>\n",
       "      <td>223.82</td>\n",
       "      <td>2021-01-01</td>\n",
       "      <td>12585</td>\n",
       "      <td>86</td>\n",
       "      <td>F</td>\n",
       "      <td>150.0</td>\n",
       "      <td>49.1</td>\n",
       "      <td>胸部CT</td>\n",
       "      <td>単純</td>\n",
       "    </tr>\n",
       "    <tr>\n",
       "      <th>1</th>\n",
       "      <td>1103161620210101</td>\n",
       "      <td>5.1 QQ Chest Routine</td>\n",
       "      <td>NaN</td>\n",
       "      <td>Chest</td>\n",
       "      <td>442.20</td>\n",
       "      <td>100</td>\n",
       "      <td>442.93</td>\n",
       "      <td>700</td>\n",
       "      <td>1.38</td>\n",
       "      <td>80</td>\n",
       "      <td>...</td>\n",
       "      <td>7.41</td>\n",
       "      <td>327.55</td>\n",
       "      <td>2021-01-01</td>\n",
       "      <td>2145609</td>\n",
       "      <td>61</td>\n",
       "      <td>M</td>\n",
       "      <td>163.0</td>\n",
       "      <td>74.0</td>\n",
       "      <td>胸部CT</td>\n",
       "      <td>単純</td>\n",
       "    </tr>\n",
       "    <tr>\n",
       "      <th>2</th>\n",
       "      <td>1103339220210102</td>\n",
       "      <td>5.1 QQ Chest Routine</td>\n",
       "      <td>NaN</td>\n",
       "      <td>Chest</td>\n",
       "      <td>467.06</td>\n",
       "      <td>100</td>\n",
       "      <td>306.59</td>\n",
       "      <td>700</td>\n",
       "      <td>1.38</td>\n",
       "      <td>80</td>\n",
       "      <td>...</td>\n",
       "      <td>5.13</td>\n",
       "      <td>239.47</td>\n",
       "      <td>2021-01-02</td>\n",
       "      <td>12615</td>\n",
       "      <td>46</td>\n",
       "      <td>M</td>\n",
       "      <td>178.0</td>\n",
       "      <td>68.0</td>\n",
       "      <td>胸部CT</td>\n",
       "      <td>単純</td>\n",
       "    </tr>\n",
       "    <tr>\n",
       "      <th>3</th>\n",
       "      <td>1103327120210102</td>\n",
       "      <td>5.1 QQ Chest Routine</td>\n",
       "      <td>NaN</td>\n",
       "      <td>Chest</td>\n",
       "      <td>472.12</td>\n",
       "      <td>100</td>\n",
       "      <td>433.42</td>\n",
       "      <td>700</td>\n",
       "      <td>1.38</td>\n",
       "      <td>80</td>\n",
       "      <td>...</td>\n",
       "      <td>7.25</td>\n",
       "      <td>342.20</td>\n",
       "      <td>2021-01-02</td>\n",
       "      <td>12616</td>\n",
       "      <td>52</td>\n",
       "      <td>M</td>\n",
       "      <td>182.0</td>\n",
       "      <td>70.0</td>\n",
       "      <td>胸部CT</td>\n",
       "      <td>単純</td>\n",
       "    </tr>\n",
       "    <tr>\n",
       "      <th>4</th>\n",
       "      <td>1103481920210103</td>\n",
       "      <td>5.1 QQ Chest Routine</td>\n",
       "      <td>NaN</td>\n",
       "      <td>Chest</td>\n",
       "      <td>462.22</td>\n",
       "      <td>100</td>\n",
       "      <td>691.26</td>\n",
       "      <td>700</td>\n",
       "      <td>1.38</td>\n",
       "      <td>80</td>\n",
       "      <td>...</td>\n",
       "      <td>11.56</td>\n",
       "      <td>534.33</td>\n",
       "      <td>2021-01-03</td>\n",
       "      <td>9595120</td>\n",
       "      <td>52</td>\n",
       "      <td>M</td>\n",
       "      <td>175.0</td>\n",
       "      <td>112.0</td>\n",
       "      <td>胸部CT</td>\n",
       "      <td>単純</td>\n",
       "    </tr>\n",
       "  </tbody>\n",
       "</table>\n",
       "<p>5 rows × 23 columns</p>\n",
       "</div>"
      ],
      "text/plain": [
       "          accession         scan protocol scan series target region  \\\n",
       "0  1103161420210101  5.1 QQ Chest Routine         NaN         Chest   \n",
       "1  1103161620210101  5.1 QQ Chest Routine         NaN         Chest   \n",
       "2  1103339220210102  5.1 QQ Chest Routine         NaN         Chest   \n",
       "3  1103327120210102  5.1 QQ Chest Routine         NaN         Chest   \n",
       "4  1103481920210103  5.1 QQ Chest Routine         NaN         Chest   \n",
       "\n",
       "   scanning length   kV  mean mA  max mA  pitch factor  \\\n",
       "0           382.14  100   350.24     640          1.38   \n",
       "1           442.20  100   442.93     700          1.38   \n",
       "2           467.06  100   306.59     700          1.38   \n",
       "3           472.12  100   433.42     700          1.38   \n",
       "4           462.22  100   691.26     700          1.38   \n",
       "\n",
       "   nomial total collimation width  ...  Mean CTDIvol     DLP study_date  \\\n",
       "0                              80  ...          5.86  223.82 2021-01-01   \n",
       "1                              80  ...          7.41  327.55 2021-01-01   \n",
       "2                              80  ...          5.13  239.47 2021-01-02   \n",
       "3                              80  ...          7.25  342.20 2021-01-02   \n",
       "4                              80  ...         11.56  534.33 2021-01-03   \n",
       "\n",
       "        id  age gender  height_cm  weight_kg scan_area  scan_method  \n",
       "0    12585   86      F      150.0       49.1      胸部CT           単純  \n",
       "1  2145609   61      M      163.0       74.0      胸部CT           単純  \n",
       "2    12615   46      M      178.0       68.0      胸部CT           単純  \n",
       "3    12616   52      M      182.0       70.0      胸部CT           単純  \n",
       "4  9595120   52      M      175.0      112.0      胸部CT           単純  \n",
       "\n",
       "[5 rows x 23 columns]"
      ]
     },
     "execution_count": 14,
     "metadata": {},
     "output_type": "execute_result"
    }
   ],
   "source": [
    "df = pd.read_excel('preprocessed_train_data.xlsx')\n",
    "df.head()"
   ]
  },
  {
   "cell_type": "code",
   "execution_count": 15,
   "id": "6eba22d5-1e1a-410c-b3e7-60dec06e9dd7",
   "metadata": {
    "pycharm": {
     "name": "#%%\n"
    }
   },
   "outputs": [],
   "source": [
    "fe = FeatureEngineering()"
   ]
  },
  {
   "cell_type": "code",
   "execution_count": 16,
   "id": "f43d25e2-824f-4380-9650-0f340d533925",
   "metadata": {
    "pycharm": {
     "name": "#%%\n"
    }
   },
   "outputs": [],
   "source": [
    "fe.fit(df)"
   ]
  },
  {
   "cell_type": "code",
   "execution_count": 22,
   "id": "bf4c0b10-8392-45cf-90f0-f708e7b4234e",
   "metadata": {
    "pycharm": {
     "name": "#%%\n"
    }
   },
   "outputs": [],
   "source": [
    "df_train_transformed = fe.transform(df)"
   ]
  },
  {
   "cell_type": "code",
   "execution_count": 23,
   "id": "f6a285dd-288c-4408-8a54-ec650a18d247",
   "metadata": {
    "pycharm": {
     "name": "#%%\n"
    }
   },
   "outputs": [
    {
     "data": {
      "text/html": [
       "<div>\n",
       "<style scoped>\n",
       "    .dataframe tbody tr th:only-of-type {\n",
       "        vertical-align: middle;\n",
       "    }\n",
       "\n",
       "    .dataframe tbody tr th {\n",
       "        vertical-align: top;\n",
       "    }\n",
       "\n",
       "    .dataframe thead th {\n",
       "        text-align: right;\n",
       "    }\n",
       "</style>\n",
       "<table border=\"1\" class=\"dataframe\">\n",
       "  <thead>\n",
       "    <tr style=\"text-align: right;\">\n",
       "      <th></th>\n",
       "      <th>accession</th>\n",
       "      <th>scan protocol</th>\n",
       "      <th>scan series</th>\n",
       "      <th>target region</th>\n",
       "      <th>scanning length</th>\n",
       "      <th>kV</th>\n",
       "      <th>mean mA</th>\n",
       "      <th>max mA</th>\n",
       "      <th>pitch factor</th>\n",
       "      <th>nomial total collimation width</th>\n",
       "      <th>...</th>\n",
       "      <th>body_surface_area</th>\n",
       "      <th>bmr</th>\n",
       "      <th>category_bmi</th>\n",
       "      <th>age_era</th>\n",
       "      <th>bmi_body_surface_area_category</th>\n",
       "      <th>age_weight_kg_category</th>\n",
       "      <th>scan_area_method_combine</th>\n",
       "      <th>scan_area_method_bmi_catgory_combine</th>\n",
       "      <th>bmi_bsa_cat_scan_area_method_combine</th>\n",
       "      <th>age_weight_cat_scan_area_method_combine</th>\n",
       "    </tr>\n",
       "  </thead>\n",
       "  <tbody>\n",
       "    <tr>\n",
       "      <th>0</th>\n",
       "      <td>1103161420210101</td>\n",
       "      <td>5.1 QQ Chest Routine</td>\n",
       "      <td>NaN</td>\n",
       "      <td>Chest</td>\n",
       "      <td>382.14</td>\n",
       "      <td>100</td>\n",
       "      <td>350.24</td>\n",
       "      <td>640</td>\n",
       "      <td>1.38</td>\n",
       "      <td>80</td>\n",
       "      <td>...</td>\n",
       "      <td>1.421484</td>\n",
       "      <td>1000.01</td>\n",
       "      <td>normal weight</td>\n",
       "      <td>80</td>\n",
       "      <td>8</td>\n",
       "      <td>8</td>\n",
       "      <td>胸部CT_単純</td>\n",
       "      <td>胸部CT_単純_normal weight</td>\n",
       "      <td>8胸部CT_単純</td>\n",
       "      <td>8胸部CT_単純</td>\n",
       "    </tr>\n",
       "    <tr>\n",
       "      <th>1</th>\n",
       "      <td>1103161620210101</td>\n",
       "      <td>5.1 QQ Chest Routine</td>\n",
       "      <td>NaN</td>\n",
       "      <td>Chest</td>\n",
       "      <td>442.20</td>\n",
       "      <td>100</td>\n",
       "      <td>442.93</td>\n",
       "      <td>700</td>\n",
       "      <td>1.38</td>\n",
       "      <td>80</td>\n",
       "      <td>...</td>\n",
       "      <td>1.797322</td>\n",
       "      <td>1487.40</td>\n",
       "      <td>obesity class1</td>\n",
       "      <td>60</td>\n",
       "      <td>2</td>\n",
       "      <td>7</td>\n",
       "      <td>胸部CT_単純</td>\n",
       "      <td>胸部CT_単純_obesity class1</td>\n",
       "      <td>2胸部CT_単純</td>\n",
       "      <td>7胸部CT_単純</td>\n",
       "    </tr>\n",
       "  </tbody>\n",
       "</table>\n",
       "<p>2 rows × 34 columns</p>\n",
       "</div>"
      ],
      "text/plain": [
       "          accession         scan protocol scan series target region  \\\n",
       "0  1103161420210101  5.1 QQ Chest Routine         NaN         Chest   \n",
       "1  1103161620210101  5.1 QQ Chest Routine         NaN         Chest   \n",
       "\n",
       "   scanning length   kV  mean mA  max mA  pitch factor  \\\n",
       "0           382.14  100   350.24     640          1.38   \n",
       "1           442.20  100   442.93     700          1.38   \n",
       "\n",
       "   nomial total collimation width  ...  body_surface_area      bmr  \\\n",
       "0                              80  ...           1.421484  1000.01   \n",
       "1                              80  ...           1.797322  1487.40   \n",
       "\n",
       "     category_bmi  age_era  bmi_body_surface_area_category  \\\n",
       "0   normal weight       80                               8   \n",
       "1  obesity class1       60                               2   \n",
       "\n",
       "  age_weight_kg_category  scan_area_method_combine  \\\n",
       "0                      8                   胸部CT_単純   \n",
       "1                      7                   胸部CT_単純   \n",
       "\n",
       "   scan_area_method_bmi_catgory_combine bmi_bsa_cat_scan_area_method_combine  \\\n",
       "0                 胸部CT_単純_normal weight                             8胸部CT_単純   \n",
       "1                胸部CT_単純_obesity class1                             2胸部CT_単純   \n",
       "\n",
       "   age_weight_cat_scan_area_method_combine  \n",
       "0                                 8胸部CT_単純  \n",
       "1                                 7胸部CT_単純  \n",
       "\n",
       "[2 rows x 34 columns]"
      ]
     },
     "execution_count": 23,
     "metadata": {},
     "output_type": "execute_result"
    }
   ],
   "source": [
    "df_train_transformed.head(2)"
   ]
  },
  {
   "cell_type": "code",
   "execution_count": 9,
   "id": "51c4dc3d-3e82-40ce-8e35-53f0558a2523",
   "metadata": {
    "pycharm": {
     "name": "#%%\n"
    }
   },
   "outputs": [],
   "source": [
    "def replace_pitch_factor(df):\n",
    "    if df['pitch factor'] == 0.99 or df['pitch factor'] == 0.98:\n",
    "        return 1.0\n",
    "    elif df['pitch factor'] == 0.52:\n",
    "        return 0.51\n",
    "    else:\n",
    "        return df['pitch factor']\n",
    "\n",
    "\n",
    "\n",
    "df['pitch factor'] = df.apply(replace_pitch_factor, axis=1)\n",
    "\n",
    "df_chest = df[df['scan_area'] == '胸部CT']\n",
    "df_chest_pelvis = df[df['scan_area'] == '胸部〜骨盤CT']\n",
    "df_abd_pelvis = df[df['scan_area'] == '腹部〜骨盤CT']\n",
    "df_inner = df[df['scan_area'] == '副鼻腔CT']\n",
    "df_th_lw = df[df['scan_area'] == '胸腰椎CT']\n",
    "df_leg = df[df['scan_area'] == '大腿・膝・下腿CT']\n",
    "df_up_abd = df[df['scan_area'] == '上腹部CT']\n",
    "df_dual = df[df['scan_area'] == '体幹部Dual Energy CT']\n",
    "df_foot = df[df['scan_area'] == '足・足関節CT']\n",
    "df_up_arm = df[df['scan_area'] == '肩・上腕・鎖骨CT']\n",
    "df_neck_pelvis = df[df['scan_area'] == '頸部〜骨盤CT']\n",
    "df_arm = df[df['scan_area'] == '肘・前腕・手関節CT']\n",
    "df_cw = df[df['scan_area'] == '頸椎・頚髄CT']\n",
    "df_neck = df[df['scan_area'] == '頸部CT']\n",
    "df_pelvis_bone = df[df['scan_area'] == '骨盤骨CT']\n",
    "df_face = df[df['scan_area'] == '顔面骨CT']\n",
    "df_heart = df[df['scan_area'] == '冠動脈CT']\n",
    "df_lung_vein = df[df['scan_area'] == '肺静脈CT']\n",
    "df_lung = df[df['scan_area'] == '肺塞栓CT']\n",
    "df_tooth = df[df['scan_area'] == '歯・顎骨CT']\n",
    "df_perfusion = df[df['scan_area'] == '脳Perfusion']\n",
    "df_brain_cta = df[df['scan_area'] == '脳CTA']\n",
    "df_brain = df[df['scan_area'] == '脳CT']\n",
    "df_side_bone = df[df['scan_area'] == '側頭骨CT']\n",
    "\n",
    "df_list = [df_chest, df_chest_pelvis, df_abd_pelvis, df_inner,\n",
    "           df_th_lw, df_leg, df_up_abd, df_dual, df_foot, df_up_arm,\n",
    "           df_neck_pelvis, df_arm, df_cw, df_neck, df_pelvis_bone, df_face,\n",
    "           df_heart, df_lung_vein, df_lung, df_tooth, df_perfusion, df_brain_cta,\n",
    "           df_brain, df_side_bone]"
   ]
  },
  {
   "cell_type": "code",
   "execution_count": 10,
   "id": "dc8850dc",
   "metadata": {
    "collapsed": false,
    "jupyter": {
     "outputs_hidden": false
    },
    "pycharm": {
     "name": "#%%\n"
    }
   },
   "outputs": [
    {
     "data": {
      "text/html": [
       "<div>\n",
       "<style scoped>\n",
       "    .dataframe tbody tr th:only-of-type {\n",
       "        vertical-align: middle;\n",
       "    }\n",
       "\n",
       "    .dataframe tbody tr th {\n",
       "        vertical-align: top;\n",
       "    }\n",
       "\n",
       "    .dataframe thead th {\n",
       "        text-align: right;\n",
       "    }\n",
       "</style>\n",
       "<table border=\"1\" class=\"dataframe\">\n",
       "  <thead>\n",
       "    <tr style=\"text-align: right;\">\n",
       "      <th></th>\n",
       "      <th>accession</th>\n",
       "      <th>scan protocol</th>\n",
       "      <th>scan series</th>\n",
       "      <th>target region</th>\n",
       "      <th>scanning length</th>\n",
       "      <th>kV</th>\n",
       "      <th>mean mA</th>\n",
       "      <th>max mA</th>\n",
       "      <th>pitch factor</th>\n",
       "      <th>nomial total collimation width</th>\n",
       "      <th>...</th>\n",
       "      <th>bmr</th>\n",
       "      <th>category_bmi</th>\n",
       "      <th>age_era</th>\n",
       "      <th>bmi_body_surface_area_category</th>\n",
       "      <th>age_weight_kg_category</th>\n",
       "      <th>scan_area_method_combine</th>\n",
       "      <th>scan_area_method_bmi_catgory_combine</th>\n",
       "      <th>bmi_bsa_cat_scan_area_method_combine</th>\n",
       "      <th>age_weight_cat_scan_area_method_combine</th>\n",
       "      <th>predicted_exposure_time</th>\n",
       "    </tr>\n",
       "  </thead>\n",
       "  <tbody>\n",
       "    <tr>\n",
       "      <th>0</th>\n",
       "      <td>1103161420210101</td>\n",
       "      <td>5.1 QQ Chest Routine</td>\n",
       "      <td>NaN</td>\n",
       "      <td>Chest</td>\n",
       "      <td>382.14</td>\n",
       "      <td>100</td>\n",
       "      <td>350.24</td>\n",
       "      <td>640</td>\n",
       "      <td>1.38</td>\n",
       "      <td>80</td>\n",
       "      <td>...</td>\n",
       "      <td>1000.01</td>\n",
       "      <td>normal weight</td>\n",
       "      <td>80</td>\n",
       "      <td>8</td>\n",
       "      <td>8</td>\n",
       "      <td>胸部CT_単純</td>\n",
       "      <td>胸部CT_単純_normal weight</td>\n",
       "      <td>8胸部CT_単純</td>\n",
       "      <td>8胸部CT_単純</td>\n",
       "      <td>0.5</td>\n",
       "    </tr>\n",
       "    <tr>\n",
       "      <th>1</th>\n",
       "      <td>1103161620210101</td>\n",
       "      <td>5.1 QQ Chest Routine</td>\n",
       "      <td>NaN</td>\n",
       "      <td>Chest</td>\n",
       "      <td>442.20</td>\n",
       "      <td>100</td>\n",
       "      <td>442.93</td>\n",
       "      <td>700</td>\n",
       "      <td>1.38</td>\n",
       "      <td>80</td>\n",
       "      <td>...</td>\n",
       "      <td>1487.40</td>\n",
       "      <td>obesity class1</td>\n",
       "      <td>60</td>\n",
       "      <td>2</td>\n",
       "      <td>7</td>\n",
       "      <td>胸部CT_単純</td>\n",
       "      <td>胸部CT_単純_obesity class1</td>\n",
       "      <td>2胸部CT_単純</td>\n",
       "      <td>7胸部CT_単純</td>\n",
       "      <td>0.5</td>\n",
       "    </tr>\n",
       "    <tr>\n",
       "      <th>2</th>\n",
       "      <td>1103339220210102</td>\n",
       "      <td>5.1 QQ Chest Routine</td>\n",
       "      <td>NaN</td>\n",
       "      <td>Chest</td>\n",
       "      <td>467.06</td>\n",
       "      <td>100</td>\n",
       "      <td>306.59</td>\n",
       "      <td>700</td>\n",
       "      <td>1.38</td>\n",
       "      <td>80</td>\n",
       "      <td>...</td>\n",
       "      <td>1581.27</td>\n",
       "      <td>normal weight</td>\n",
       "      <td>40</td>\n",
       "      <td>6</td>\n",
       "      <td>5</td>\n",
       "      <td>胸部CT_単純</td>\n",
       "      <td>胸部CT_単純_normal weight</td>\n",
       "      <td>6胸部CT_単純</td>\n",
       "      <td>5胸部CT_単純</td>\n",
       "      <td>0.5</td>\n",
       "    </tr>\n",
       "    <tr>\n",
       "      <th>3</th>\n",
       "      <td>1103327120210102</td>\n",
       "      <td>5.1 QQ Chest Routine</td>\n",
       "      <td>NaN</td>\n",
       "      <td>Chest</td>\n",
       "      <td>472.12</td>\n",
       "      <td>100</td>\n",
       "      <td>433.42</td>\n",
       "      <td>700</td>\n",
       "      <td>1.38</td>\n",
       "      <td>80</td>\n",
       "      <td>...</td>\n",
       "      <td>1588.26</td>\n",
       "      <td>normal weight</td>\n",
       "      <td>50</td>\n",
       "      <td>6</td>\n",
       "      <td>5</td>\n",
       "      <td>胸部CT_単純</td>\n",
       "      <td>胸部CT_単純_normal weight</td>\n",
       "      <td>6胸部CT_単純</td>\n",
       "      <td>5胸部CT_単純</td>\n",
       "      <td>0.5</td>\n",
       "    </tr>\n",
       "    <tr>\n",
       "      <th>4</th>\n",
       "      <td>1103481920210103</td>\n",
       "      <td>5.1 QQ Chest Routine</td>\n",
       "      <td>NaN</td>\n",
       "      <td>Chest</td>\n",
       "      <td>462.22</td>\n",
       "      <td>100</td>\n",
       "      <td>691.26</td>\n",
       "      <td>700</td>\n",
       "      <td>1.38</td>\n",
       "      <td>80</td>\n",
       "      <td>...</td>\n",
       "      <td>2130.73</td>\n",
       "      <td>obesity class3</td>\n",
       "      <td>50</td>\n",
       "      <td>4</td>\n",
       "      <td>2</td>\n",
       "      <td>胸部CT_単純</td>\n",
       "      <td>胸部CT_単純_obesity class3</td>\n",
       "      <td>4胸部CT_単純</td>\n",
       "      <td>2胸部CT_単純</td>\n",
       "      <td>0.5</td>\n",
       "    </tr>\n",
       "  </tbody>\n",
       "</table>\n",
       "<p>5 rows × 35 columns</p>\n",
       "</div>"
      ],
      "text/plain": [
       "          accession         scan protocol scan series target region  \\\n",
       "0  1103161420210101  5.1 QQ Chest Routine         NaN         Chest   \n",
       "1  1103161620210101  5.1 QQ Chest Routine         NaN         Chest   \n",
       "2  1103339220210102  5.1 QQ Chest Routine         NaN         Chest   \n",
       "3  1103327120210102  5.1 QQ Chest Routine         NaN         Chest   \n",
       "4  1103481920210103  5.1 QQ Chest Routine         NaN         Chest   \n",
       "\n",
       "   scanning length   kV  mean mA  max mA  pitch factor  \\\n",
       "0           382.14  100   350.24     640          1.38   \n",
       "1           442.20  100   442.93     700          1.38   \n",
       "2           467.06  100   306.59     700          1.38   \n",
       "3           472.12  100   433.42     700          1.38   \n",
       "4           462.22  100   691.26     700          1.38   \n",
       "\n",
       "   nomial total collimation width  ...      bmr    category_bmi age_era  \\\n",
       "0                              80  ...  1000.01   normal weight      80   \n",
       "1                              80  ...  1487.40  obesity class1      60   \n",
       "2                              80  ...  1581.27   normal weight      40   \n",
       "3                              80  ...  1588.26   normal weight      50   \n",
       "4                              80  ...  2130.73  obesity class3      50   \n",
       "\n",
       "   bmi_body_surface_area_category  age_weight_kg_category  \\\n",
       "0                               8                       8   \n",
       "1                               2                       7   \n",
       "2                               6                       5   \n",
       "3                               6                       5   \n",
       "4                               4                       2   \n",
       "\n",
       "  scan_area_method_combine  scan_area_method_bmi_catgory_combine  \\\n",
       "0                  胸部CT_単純                 胸部CT_単純_normal weight   \n",
       "1                  胸部CT_単純                胸部CT_単純_obesity class1   \n",
       "2                  胸部CT_単純                 胸部CT_単純_normal weight   \n",
       "3                  胸部CT_単純                 胸部CT_単純_normal weight   \n",
       "4                  胸部CT_単純                胸部CT_単純_obesity class3   \n",
       "\n",
       "   bmi_bsa_cat_scan_area_method_combine  \\\n",
       "0                              8胸部CT_単純   \n",
       "1                              2胸部CT_単純   \n",
       "2                              6胸部CT_単純   \n",
       "3                              6胸部CT_単純   \n",
       "4                              4胸部CT_単純   \n",
       "\n",
       "  age_weight_cat_scan_area_method_combine  predicted_exposure_time  \n",
       "0                                8胸部CT_単純                      0.5  \n",
       "1                                7胸部CT_単純                      0.5  \n",
       "2                                5胸部CT_単純                      0.5  \n",
       "3                                5胸部CT_単純                      0.5  \n",
       "4                                2胸部CT_単純                      0.5  \n",
       "\n",
       "[5 rows x 35 columns]"
      ]
     },
     "execution_count": 10,
     "metadata": {},
     "output_type": "execute_result"
    }
   ],
   "source": [
    "from sklearn.tree import DecisionTreeRegressor\n",
    "\n",
    "def classify_exposure_time_updated(df):\n",
    "    \"\"\"Classify exposure time per rotation using a decision tree model and return predictions for the entire dataset.\"\"\"\n",
    "    columns = ['bmi', 'body_surface_area']\n",
    "    X = df.loc[:, columns]\n",
    "    y = df['exposure time per rotation']\n",
    "    y = y.astype('str')\n",
    "\n",
    "    predictions = np.zeros(len(df), dtype=object)  # Ensure dtype is object for string predictions\n",
    "\n",
    "    # Splitting and training the model\n",
    "    kf = KFold(n_splits=3, shuffle=True, random_state=42)\n",
    "    for fold, (tr_idx, va_idx) in enumerate(kf.split(X)):\n",
    "        X_tr = X.iloc[tr_idx]\n",
    "        X_va = X.iloc[va_idx]\n",
    "        y_tr = y.iloc[tr_idx]\n",
    "        y_va = y.iloc[va_idx]\n",
    "\n",
    "        tree_model = DecisionTreeRegressor(criterion='absolute_error', max_depth=4, random_state=42)\n",
    "        tree_model.fit(X_tr, y_tr)\n",
    "\n",
    "        y_pred = tree_model.predict(X_va)\n",
    "        predictions[va_idx] = y_pred\n",
    "\n",
    "    return predictions\n",
    "\n",
    "# Adding predicted exposure time to each dataframe in df_list using the updated function\n",
    "for sub_df in df_list:\n",
    "    sub_df['predicted_exposure_time'] = classify_exposure_time_updated(sub_df)\n",
    "\n",
    "# Concatenating all dataframes in df_list to create one final dataframe\n",
    "final_combined_df_exposure = pd.concat(df_list, axis=0)\n",
    "\n",
    "final_combined_df_exposure.head()"
   ]
  },
  {
   "cell_type": "code",
   "execution_count": 11,
   "id": "1a8be70a",
   "metadata": {
    "collapsed": false,
    "jupyter": {
     "outputs_hidden": false
    },
    "pycharm": {
     "name": "#%%\n"
    }
   },
   "outputs": [
    {
     "data": {
      "text/html": [
       "<div>\n",
       "<style scoped>\n",
       "    .dataframe tbody tr th:only-of-type {\n",
       "        vertical-align: middle;\n",
       "    }\n",
       "\n",
       "    .dataframe tbody tr th {\n",
       "        vertical-align: top;\n",
       "    }\n",
       "\n",
       "    .dataframe thead th {\n",
       "        text-align: right;\n",
       "    }\n",
       "</style>\n",
       "<table border=\"1\" class=\"dataframe\">\n",
       "  <thead>\n",
       "    <tr style=\"text-align: right;\">\n",
       "      <th></th>\n",
       "      <th>accession</th>\n",
       "      <th>scan protocol</th>\n",
       "      <th>scan series</th>\n",
       "      <th>target region</th>\n",
       "      <th>scanning length</th>\n",
       "      <th>kV</th>\n",
       "      <th>mean mA</th>\n",
       "      <th>max mA</th>\n",
       "      <th>pitch factor</th>\n",
       "      <th>nomial total collimation width</th>\n",
       "      <th>...</th>\n",
       "      <th>category_bmi</th>\n",
       "      <th>age_era</th>\n",
       "      <th>bmi_body_surface_area_category</th>\n",
       "      <th>age_weight_kg_category</th>\n",
       "      <th>scan_area_method_combine</th>\n",
       "      <th>scan_area_method_bmi_catgory_combine</th>\n",
       "      <th>bmi_bsa_cat_scan_area_method_combine</th>\n",
       "      <th>age_weight_cat_scan_area_method_combine</th>\n",
       "      <th>predicted_exposure_time</th>\n",
       "      <th>predicted_pitch_factor</th>\n",
       "    </tr>\n",
       "  </thead>\n",
       "  <tbody>\n",
       "    <tr>\n",
       "      <th>0</th>\n",
       "      <td>1103161420210101</td>\n",
       "      <td>5.1 QQ Chest Routine</td>\n",
       "      <td>NaN</td>\n",
       "      <td>Chest</td>\n",
       "      <td>382.14</td>\n",
       "      <td>100</td>\n",
       "      <td>350.24</td>\n",
       "      <td>640</td>\n",
       "      <td>1.38</td>\n",
       "      <td>80</td>\n",
       "      <td>...</td>\n",
       "      <td>normal weight</td>\n",
       "      <td>80</td>\n",
       "      <td>8</td>\n",
       "      <td>8</td>\n",
       "      <td>胸部CT_単純</td>\n",
       "      <td>胸部CT_単純_normal weight</td>\n",
       "      <td>8胸部CT_単純</td>\n",
       "      <td>8胸部CT_単純</td>\n",
       "      <td>0.5</td>\n",
       "      <td>1.38</td>\n",
       "    </tr>\n",
       "    <tr>\n",
       "      <th>1</th>\n",
       "      <td>1103161620210101</td>\n",
       "      <td>5.1 QQ Chest Routine</td>\n",
       "      <td>NaN</td>\n",
       "      <td>Chest</td>\n",
       "      <td>442.20</td>\n",
       "      <td>100</td>\n",
       "      <td>442.93</td>\n",
       "      <td>700</td>\n",
       "      <td>1.38</td>\n",
       "      <td>80</td>\n",
       "      <td>...</td>\n",
       "      <td>obesity class1</td>\n",
       "      <td>60</td>\n",
       "      <td>2</td>\n",
       "      <td>7</td>\n",
       "      <td>胸部CT_単純</td>\n",
       "      <td>胸部CT_単純_obesity class1</td>\n",
       "      <td>2胸部CT_単純</td>\n",
       "      <td>7胸部CT_単純</td>\n",
       "      <td>0.5</td>\n",
       "      <td>1.00</td>\n",
       "    </tr>\n",
       "    <tr>\n",
       "      <th>2</th>\n",
       "      <td>1103339220210102</td>\n",
       "      <td>5.1 QQ Chest Routine</td>\n",
       "      <td>NaN</td>\n",
       "      <td>Chest</td>\n",
       "      <td>467.06</td>\n",
       "      <td>100</td>\n",
       "      <td>306.59</td>\n",
       "      <td>700</td>\n",
       "      <td>1.38</td>\n",
       "      <td>80</td>\n",
       "      <td>...</td>\n",
       "      <td>normal weight</td>\n",
       "      <td>40</td>\n",
       "      <td>6</td>\n",
       "      <td>5</td>\n",
       "      <td>胸部CT_単純</td>\n",
       "      <td>胸部CT_単純_normal weight</td>\n",
       "      <td>6胸部CT_単純</td>\n",
       "      <td>5胸部CT_単純</td>\n",
       "      <td>0.5</td>\n",
       "      <td>1.38</td>\n",
       "    </tr>\n",
       "    <tr>\n",
       "      <th>3</th>\n",
       "      <td>1103327120210102</td>\n",
       "      <td>5.1 QQ Chest Routine</td>\n",
       "      <td>NaN</td>\n",
       "      <td>Chest</td>\n",
       "      <td>472.12</td>\n",
       "      <td>100</td>\n",
       "      <td>433.42</td>\n",
       "      <td>700</td>\n",
       "      <td>1.38</td>\n",
       "      <td>80</td>\n",
       "      <td>...</td>\n",
       "      <td>normal weight</td>\n",
       "      <td>50</td>\n",
       "      <td>6</td>\n",
       "      <td>5</td>\n",
       "      <td>胸部CT_単純</td>\n",
       "      <td>胸部CT_単純_normal weight</td>\n",
       "      <td>6胸部CT_単純</td>\n",
       "      <td>5胸部CT_単純</td>\n",
       "      <td>0.5</td>\n",
       "      <td>1.38</td>\n",
       "    </tr>\n",
       "    <tr>\n",
       "      <th>4</th>\n",
       "      <td>1103481920210103</td>\n",
       "      <td>5.1 QQ Chest Routine</td>\n",
       "      <td>NaN</td>\n",
       "      <td>Chest</td>\n",
       "      <td>462.22</td>\n",
       "      <td>100</td>\n",
       "      <td>691.26</td>\n",
       "      <td>700</td>\n",
       "      <td>1.38</td>\n",
       "      <td>80</td>\n",
       "      <td>...</td>\n",
       "      <td>obesity class3</td>\n",
       "      <td>50</td>\n",
       "      <td>4</td>\n",
       "      <td>2</td>\n",
       "      <td>胸部CT_単純</td>\n",
       "      <td>胸部CT_単純_obesity class3</td>\n",
       "      <td>4胸部CT_単純</td>\n",
       "      <td>2胸部CT_単純</td>\n",
       "      <td>0.5</td>\n",
       "      <td>0.51</td>\n",
       "    </tr>\n",
       "  </tbody>\n",
       "</table>\n",
       "<p>5 rows × 36 columns</p>\n",
       "</div>"
      ],
      "text/plain": [
       "          accession         scan protocol scan series target region  \\\n",
       "0  1103161420210101  5.1 QQ Chest Routine         NaN         Chest   \n",
       "1  1103161620210101  5.1 QQ Chest Routine         NaN         Chest   \n",
       "2  1103339220210102  5.1 QQ Chest Routine         NaN         Chest   \n",
       "3  1103327120210102  5.1 QQ Chest Routine         NaN         Chest   \n",
       "4  1103481920210103  5.1 QQ Chest Routine         NaN         Chest   \n",
       "\n",
       "   scanning length   kV  mean mA  max mA  pitch factor  \\\n",
       "0           382.14  100   350.24     640          1.38   \n",
       "1           442.20  100   442.93     700          1.38   \n",
       "2           467.06  100   306.59     700          1.38   \n",
       "3           472.12  100   433.42     700          1.38   \n",
       "4           462.22  100   691.26     700          1.38   \n",
       "\n",
       "   nomial total collimation width  ...    category_bmi  age_era  \\\n",
       "0                              80  ...   normal weight       80   \n",
       "1                              80  ...  obesity class1       60   \n",
       "2                              80  ...   normal weight       40   \n",
       "3                              80  ...   normal weight       50   \n",
       "4                              80  ...  obesity class3       50   \n",
       "\n",
       "  bmi_body_surface_area_category  age_weight_kg_category  \\\n",
       "0                              8                       8   \n",
       "1                              2                       7   \n",
       "2                              6                       5   \n",
       "3                              6                       5   \n",
       "4                              4                       2   \n",
       "\n",
       "   scan_area_method_combine scan_area_method_bmi_catgory_combine  \\\n",
       "0                   胸部CT_単純                胸部CT_単純_normal weight   \n",
       "1                   胸部CT_単純               胸部CT_単純_obesity class1   \n",
       "2                   胸部CT_単純                胸部CT_単純_normal weight   \n",
       "3                   胸部CT_単純                胸部CT_単純_normal weight   \n",
       "4                   胸部CT_単純               胸部CT_単純_obesity class3   \n",
       "\n",
       "   bmi_bsa_cat_scan_area_method_combine  \\\n",
       "0                              8胸部CT_単純   \n",
       "1                              2胸部CT_単純   \n",
       "2                              6胸部CT_単純   \n",
       "3                              6胸部CT_単純   \n",
       "4                              4胸部CT_単純   \n",
       "\n",
       "   age_weight_cat_scan_area_method_combine predicted_exposure_time  \\\n",
       "0                                 8胸部CT_単純                     0.5   \n",
       "1                                 7胸部CT_単純                     0.5   \n",
       "2                                 5胸部CT_単純                     0.5   \n",
       "3                                 5胸部CT_単純                     0.5   \n",
       "4                                 2胸部CT_単純                     0.5   \n",
       "\n",
       "   predicted_pitch_factor  \n",
       "0                    1.38  \n",
       "1                    1.00  \n",
       "2                    1.38  \n",
       "3                    1.38  \n",
       "4                    0.51  \n",
       "\n",
       "[5 rows x 36 columns]"
      ]
     },
     "execution_count": 11,
     "metadata": {},
     "output_type": "execute_result"
    }
   ],
   "source": [
    "def classify_pitch_factor_updated(df):\n",
    "    \"\"\"Classify pitch factor using a decision tree model and return predictions for the entire dataset.\"\"\"\n",
    "    columns = ['bmi', 'body_surface_area']\n",
    "    X = df.loc[:, columns]\n",
    "    y = df['pitch factor']\n",
    "    y = y.astype('str')\n",
    "\n",
    "    predictions = np.zeros(len(df))\n",
    "\n",
    "    # Splitting and training the model\n",
    "    kf = KFold(n_splits=3, shuffle=True, random_state=42)\n",
    "    for fold, (tr_idx, va_idx) in enumerate(kf.split(X)):\n",
    "        X_tr = X.iloc[tr_idx]\n",
    "        X_va = X.iloc[va_idx]\n",
    "        y_tr = y.iloc[tr_idx]\n",
    "        y_va = y.iloc[va_idx]\n",
    "        \n",
    "        if len(y_tr.unique()) == 3:\n",
    "            max_depth = 3\n",
    "        else:\n",
    "            max_depth = 2\n",
    "\n",
    "        tree_model = DecisionTreeClassifier(criterion='entropy', max_depth=max_depth, random_state=42)\n",
    "        tree_model.fit(X_tr, y_tr)\n",
    "\n",
    "        y_pred = tree_model.predict(X_va)\n",
    "        predictions[va_idx] = y_pred\n",
    "\n",
    "    return predictions\n",
    "\n",
    "# Adding predicted pitch factor to each dataframe in df_list using the updated function\n",
    "for sub_df in df_list:\n",
    "    sub_df['predicted_pitch_factor'] = classify_pitch_factor_updated(sub_df)\n",
    "\n",
    "# Concatenating all dataframes in df_list to create one final dataframe\n",
    "final_combined_df = pd.concat(df_list, axis=0)\n",
    "\n",
    "final_combined_df.head()"
   ]
  },
  {
   "cell_type": "code",
   "execution_count": 13,
   "id": "5114a61f",
   "metadata": {
    "collapsed": false,
    "jupyter": {
     "outputs_hidden": false
    },
    "pycharm": {
     "name": "#%%\n"
    }
   },
   "outputs": [],
   "source": [
    "final_combined_df.to_excel('modify_preprocess_train_data.xlsx', index=False)"
   ]
  },
  {
   "cell_type": "code",
   "execution_count": null,
   "id": "efeb05a8-67f4-4f05-bf1a-fde6779775e6",
   "metadata": {},
   "outputs": [],
   "source": []
  }
 ],
 "metadata": {
  "kernelspec": {
   "display_name": "Python 3 (ipykernel)",
   "language": "python",
   "name": "python3"
  },
  "language_info": {
   "codemirror_mode": {
    "name": "ipython",
    "version": 3
   },
   "file_extension": ".py",
   "mimetype": "text/x-python",
   "name": "python",
   "nbconvert_exporter": "python",
   "pygments_lexer": "ipython3",
   "version": "3.9.13"
  }
 },
 "nbformat": 4,
 "nbformat_minor": 5
}
