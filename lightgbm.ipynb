{
 "cells": [
  {
   "cell_type": "code",
   "execution_count": 3,
   "id": "08aaa59c-3a31-4429-bcda-e30aa538f234",
   "metadata": {},
   "outputs": [],
   "source": [
    "import pandas as pd\n",
    "import numpy as np\n",
    "import matplotlib.pyplot as plt\n",
    "import seaborn as sns\n",
    "from sklearn.model_selection import train_test_split\n",
    "from sklearn.metrics import mean_absolute_error, mean_absolute_percentage_error\n",
    "from sklearn.preprocessing import OrdinalEncoder\n",
    "import lightgbm as lgb\n",
    "from data_import import preprocess_import_data"
   ]
  },
  {
   "cell_type": "code",
   "execution_count": 5,
   "id": "60ccc769-be83-4895-8bd2-52d91cf896d9",
   "metadata": {},
   "outputs": [
    {
     "data": {
      "text/html": [
       "<div>\n",
       "<style scoped>\n",
       "    .dataframe tbody tr th:only-of-type {\n",
       "        vertical-align: middle;\n",
       "    }\n",
       "\n",
       "    .dataframe tbody tr th {\n",
       "        vertical-align: top;\n",
       "    }\n",
       "\n",
       "    .dataframe thead th {\n",
       "        text-align: right;\n",
       "    }\n",
       "</style>\n",
       "<table border=\"1\" class=\"dataframe\">\n",
       "  <thead>\n",
       "    <tr style=\"text-align: right;\">\n",
       "      <th></th>\n",
       "      <th>age</th>\n",
       "      <th>gender</th>\n",
       "      <th>height_cm</th>\n",
       "      <th>weight_kg</th>\n",
       "      <th>adult_child</th>\n",
       "      <th>department</th>\n",
       "      <th>hospital_ward</th>\n",
       "      <th>scan_area</th>\n",
       "      <th>scan_method</th>\n",
       "      <th>scan_protocol</th>\n",
       "      <th>scan_series</th>\n",
       "      <th>kV</th>\n",
       "      <th>mA</th>\n",
       "      <th>rotation_time</th>\n",
       "      <th>CTDI</th>\n",
       "    </tr>\n",
       "  </thead>\n",
       "  <tbody>\n",
       "    <tr>\n",
       "      <th>0</th>\n",
       "      <td>72</td>\n",
       "      <td>M</td>\n",
       "      <td>170.0</td>\n",
       "      <td>83.0</td>\n",
       "      <td>成人</td>\n",
       "      <td>救急科</td>\n",
       "      <td>外来</td>\n",
       "      <td>胸部〜骨盤CT</td>\n",
       "      <td>造影</td>\n",
       "      <td>5.7 P+CE Chest-Pelvis Routine</td>\n",
       "      <td>1: Plain</td>\n",
       "      <td>100.0</td>\n",
       "      <td>366.41</td>\n",
       "      <td>0.5</td>\n",
       "      <td>16.64</td>\n",
       "    </tr>\n",
       "    <tr>\n",
       "      <th>1</th>\n",
       "      <td>72</td>\n",
       "      <td>M</td>\n",
       "      <td>170.0</td>\n",
       "      <td>83.0</td>\n",
       "      <td>成人</td>\n",
       "      <td>救急科</td>\n",
       "      <td>外来</td>\n",
       "      <td>胸部〜骨盤CT</td>\n",
       "      <td>造影</td>\n",
       "      <td>5.7 P+CE Chest-Pelvis Routine</td>\n",
       "      <td>2: CE</td>\n",
       "      <td>100.0</td>\n",
       "      <td>366.41</td>\n",
       "      <td>0.5</td>\n",
       "      <td>16.61</td>\n",
       "    </tr>\n",
       "    <tr>\n",
       "      <th>2</th>\n",
       "      <td>85</td>\n",
       "      <td>M</td>\n",
       "      <td>171.0</td>\n",
       "      <td>58.9</td>\n",
       "      <td>成人</td>\n",
       "      <td>循環器内科</td>\n",
       "      <td>外来</td>\n",
       "      <td>胸部〜骨盤CT</td>\n",
       "      <td>単純</td>\n",
       "      <td>5.7 P+CE Chest-Pelvis Routine</td>\n",
       "      <td>1: Plain</td>\n",
       "      <td>120.0</td>\n",
       "      <td>234.59</td>\n",
       "      <td>0.5</td>\n",
       "      <td>16.66</td>\n",
       "    </tr>\n",
       "  </tbody>\n",
       "</table>\n",
       "</div>"
      ],
      "text/plain": [
       "   age gender  height_cm  weight_kg adult_child department hospital_ward  \\\n",
       "0   72      M      170.0       83.0          成人        救急科            外来   \n",
       "1   72      M      170.0       83.0          成人        救急科            外来   \n",
       "2   85      M      171.0       58.9          成人      循環器内科            外来   \n",
       "\n",
       "  scan_area scan_method                  scan_protocol scan_series     kV  \\\n",
       "0   胸部〜骨盤CT          造影  5.7 P+CE Chest-Pelvis Routine    1: Plain  100.0   \n",
       "1   胸部〜骨盤CT          造影  5.7 P+CE Chest-Pelvis Routine       2: CE  100.0   \n",
       "2   胸部〜骨盤CT          単純  5.7 P+CE Chest-Pelvis Routine    1: Plain  120.0   \n",
       "\n",
       "       mA  rotation_time   CTDI  \n",
       "0  366.41            0.5  16.64  \n",
       "1  366.41            0.5  16.61  \n",
       "2  234.59            0.5  16.66  "
      ]
     },
     "execution_count": 5,
     "metadata": {},
     "output_type": "execute_result"
    }
   ],
   "source": [
    "df = pd.concat([pd.read_excel('./scan_data/202109_all_scan_data.xlsx'), \n",
    "                pd.read_excel('./scan_data/202110_all_scan_data.xlsx'),\n",
    "                pd.read_excel('./scan_data/202111_all_scan_data.xlsx'),\n",
    "                pd.read_excel('./scan_data/202112_all_scan_data.xlsx')])\n",
    "\n",
    "preprocess_import_data(df)\n",
    "df.head(3)"
   ]
  },
  {
   "cell_type": "code",
   "execution_count": 6,
   "id": "9176ed8a-e358-410a-9402-1cbba47f58d9",
   "metadata": {},
   "outputs": [],
   "source": [
    "oe = OrdinalEncoder()\n",
    "oe.set_output(transform='pandas')\n",
    "cat_cols = df.select_dtypes(exclude=np.number).columns.to_list()\n",
    "df[cat_cols] = oe.fit_transform(df[cat_cols])\n",
    "\n",
    "df.dropna(inplace=True)\n",
    "\n",
    "target = 'CTDI'\n",
    "\n",
    "X = df.drop(target, axis=1)\n",
    "y = df[target]\n",
    "\n",
    "X_train, X_test, y_train, y_test = train_test_split(X, y, test_size=0.3, random_state=0)"
   ]
  },
  {
   "cell_type": "code",
   "execution_count": 7,
   "id": "5fd1a49d-84bb-4833-8011-0303a153c9f8",
   "metadata": {},
   "outputs": [
    {
     "data": {
      "text/html": [
       "<style>#sk-container-id-1 {color: black;background-color: white;}#sk-container-id-1 pre{padding: 0;}#sk-container-id-1 div.sk-toggleable {background-color: white;}#sk-container-id-1 label.sk-toggleable__label {cursor: pointer;display: block;width: 100%;margin-bottom: 0;padding: 0.3em;box-sizing: border-box;text-align: center;}#sk-container-id-1 label.sk-toggleable__label-arrow:before {content: \"▸\";float: left;margin-right: 0.25em;color: #696969;}#sk-container-id-1 label.sk-toggleable__label-arrow:hover:before {color: black;}#sk-container-id-1 div.sk-estimator:hover label.sk-toggleable__label-arrow:before {color: black;}#sk-container-id-1 div.sk-toggleable__content {max-height: 0;max-width: 0;overflow: hidden;text-align: left;background-color: #f0f8ff;}#sk-container-id-1 div.sk-toggleable__content pre {margin: 0.2em;color: black;border-radius: 0.25em;background-color: #f0f8ff;}#sk-container-id-1 input.sk-toggleable__control:checked~div.sk-toggleable__content {max-height: 200px;max-width: 100%;overflow: auto;}#sk-container-id-1 input.sk-toggleable__control:checked~label.sk-toggleable__label-arrow:before {content: \"▾\";}#sk-container-id-1 div.sk-estimator input.sk-toggleable__control:checked~label.sk-toggleable__label {background-color: #d4ebff;}#sk-container-id-1 div.sk-label input.sk-toggleable__control:checked~label.sk-toggleable__label {background-color: #d4ebff;}#sk-container-id-1 input.sk-hidden--visually {border: 0;clip: rect(1px 1px 1px 1px);clip: rect(1px, 1px, 1px, 1px);height: 1px;margin: -1px;overflow: hidden;padding: 0;position: absolute;width: 1px;}#sk-container-id-1 div.sk-estimator {font-family: monospace;background-color: #f0f8ff;border: 1px dotted black;border-radius: 0.25em;box-sizing: border-box;margin-bottom: 0.5em;}#sk-container-id-1 div.sk-estimator:hover {background-color: #d4ebff;}#sk-container-id-1 div.sk-parallel-item::after {content: \"\";width: 100%;border-bottom: 1px solid gray;flex-grow: 1;}#sk-container-id-1 div.sk-label:hover label.sk-toggleable__label {background-color: #d4ebff;}#sk-container-id-1 div.sk-serial::before {content: \"\";position: absolute;border-left: 1px solid gray;box-sizing: border-box;top: 0;bottom: 0;left: 50%;z-index: 0;}#sk-container-id-1 div.sk-serial {display: flex;flex-direction: column;align-items: center;background-color: white;padding-right: 0.2em;padding-left: 0.2em;position: relative;}#sk-container-id-1 div.sk-item {position: relative;z-index: 1;}#sk-container-id-1 div.sk-parallel {display: flex;align-items: stretch;justify-content: center;background-color: white;position: relative;}#sk-container-id-1 div.sk-item::before, #sk-container-id-1 div.sk-parallel-item::before {content: \"\";position: absolute;border-left: 1px solid gray;box-sizing: border-box;top: 0;bottom: 0;left: 50%;z-index: -1;}#sk-container-id-1 div.sk-parallel-item {display: flex;flex-direction: column;z-index: 1;position: relative;background-color: white;}#sk-container-id-1 div.sk-parallel-item:first-child::after {align-self: flex-end;width: 50%;}#sk-container-id-1 div.sk-parallel-item:last-child::after {align-self: flex-start;width: 50%;}#sk-container-id-1 div.sk-parallel-item:only-child::after {width: 0;}#sk-container-id-1 div.sk-dashed-wrapped {border: 1px dashed gray;margin: 0 0.4em 0.5em 0.4em;box-sizing: border-box;padding-bottom: 0.4em;background-color: white;}#sk-container-id-1 div.sk-label label {font-family: monospace;font-weight: bold;display: inline-block;line-height: 1.2em;}#sk-container-id-1 div.sk-label-container {text-align: center;}#sk-container-id-1 div.sk-container {/* jupyter's `normalize.less` sets `[hidden] { display: none; }` but bootstrap.min.css set `[hidden] { display: none !important; }` so we also need the `!important` here to be able to override the default hidden behavior on the sphinx rendered scikit-learn.org. See: https://github.com/scikit-learn/scikit-learn/issues/21755 */display: inline-block !important;position: relative;}#sk-container-id-1 div.sk-text-repr-fallback {display: none;}</style><div id=\"sk-container-id-1\" class=\"sk-top-container\"><div class=\"sk-text-repr-fallback\"><pre>LGBMRegressor(learning_rate=0.01, random_state=0)</pre><b>In a Jupyter environment, please rerun this cell to show the HTML representation or trust the notebook. <br />On GitHub, the HTML representation is unable to render, please try loading this page with nbviewer.org.</b></div><div class=\"sk-container\" hidden><div class=\"sk-item\"><div class=\"sk-estimator sk-toggleable\"><input class=\"sk-toggleable__control sk-hidden--visually\" id=\"sk-estimator-id-1\" type=\"checkbox\" checked><label for=\"sk-estimator-id-1\" class=\"sk-toggleable__label sk-toggleable__label-arrow\">LGBMRegressor</label><div class=\"sk-toggleable__content\"><pre>LGBMRegressor(learning_rate=0.01, random_state=0)</pre></div></div></div></div></div>"
      ],
      "text/plain": [
       "LGBMRegressor(learning_rate=0.01, random_state=0)"
      ]
     },
     "execution_count": 7,
     "metadata": {},
     "output_type": "execute_result"
    }
   ],
   "source": [
    "lgb_reg = lgb.LGBMRegressor(learning_rate=0.01, random_state=0)\n",
    "lgb_reg.fit(X_train, y_train)"
   ]
  },
  {
   "cell_type": "code",
   "execution_count": 8,
   "id": "9cb0103b-3ec6-43da-bbe1-928c343120b0",
   "metadata": {},
   "outputs": [],
   "source": [
    "y_pred = lgb_reg.predict(X_test)"
   ]
  },
  {
   "cell_type": "code",
   "execution_count": 9,
   "id": "f8b3632a-d7f2-401f-b695-7c102614a835",
   "metadata": {},
   "outputs": [
    {
     "name": "stdout",
     "output_type": "stream",
     "text": [
      "mean_absolte_error: 4.196680328883509\n",
      "mean_absolute_percentage_error: 0.3393001027654956\n"
     ]
    }
   ],
   "source": [
    "print(f'mean_absolte_error: {mean_absolute_error(y_test, y_pred)}')\n",
    "print(f'mean_absolute_percentage_error: {mean_absolute_percentage_error(y_test, y_pred)}')"
   ]
  },
  {
   "cell_type": "code",
   "execution_count": 10,
   "id": "369e89cf-2615-4f93-be5d-094fd046d2fe",
   "metadata": {},
   "outputs": [
    {
     "data": {
      "text/html": [
       "<div>\n",
       "<style scoped>\n",
       "    .dataframe tbody tr th:only-of-type {\n",
       "        vertical-align: middle;\n",
       "    }\n",
       "\n",
       "    .dataframe tbody tr th {\n",
       "        vertical-align: top;\n",
       "    }\n",
       "\n",
       "    .dataframe thead th {\n",
       "        text-align: right;\n",
       "    }\n",
       "</style>\n",
       "<table border=\"1\" class=\"dataframe\">\n",
       "  <thead>\n",
       "    <tr style=\"text-align: right;\">\n",
       "      <th></th>\n",
       "      <th>y_test</th>\n",
       "      <th>y_pred</th>\n",
       "      <th>diff</th>\n",
       "    </tr>\n",
       "  </thead>\n",
       "  <tbody>\n",
       "    <tr>\n",
       "      <th>898</th>\n",
       "      <td>18.68</td>\n",
       "      <td>16.245965</td>\n",
       "      <td>2.434035</td>\n",
       "    </tr>\n",
       "    <tr>\n",
       "      <th>1645</th>\n",
       "      <td>27.50</td>\n",
       "      <td>24.362623</td>\n",
       "      <td>3.137377</td>\n",
       "    </tr>\n",
       "    <tr>\n",
       "      <th>1918</th>\n",
       "      <td>19.13</td>\n",
       "      <td>19.343448</td>\n",
       "      <td>-0.213448</td>\n",
       "    </tr>\n",
       "    <tr>\n",
       "      <th>104</th>\n",
       "      <td>15.44</td>\n",
       "      <td>15.840165</td>\n",
       "      <td>-0.400165</td>\n",
       "    </tr>\n",
       "    <tr>\n",
       "      <th>2367</th>\n",
       "      <td>21.86</td>\n",
       "      <td>22.771102</td>\n",
       "      <td>-0.911102</td>\n",
       "    </tr>\n",
       "    <tr>\n",
       "      <th>...</th>\n",
       "      <td>...</td>\n",
       "      <td>...</td>\n",
       "      <td>...</td>\n",
       "    </tr>\n",
       "    <tr>\n",
       "      <th>1841</th>\n",
       "      <td>34.38</td>\n",
       "      <td>29.432585</td>\n",
       "      <td>4.947415</td>\n",
       "    </tr>\n",
       "    <tr>\n",
       "      <th>538</th>\n",
       "      <td>10.22</td>\n",
       "      <td>13.354047</td>\n",
       "      <td>-3.134047</td>\n",
       "    </tr>\n",
       "    <tr>\n",
       "      <th>2239</th>\n",
       "      <td>11.46</td>\n",
       "      <td>13.301820</td>\n",
       "      <td>-1.841820</td>\n",
       "    </tr>\n",
       "    <tr>\n",
       "      <th>1888</th>\n",
       "      <td>6.60</td>\n",
       "      <td>10.848589</td>\n",
       "      <td>-4.248589</td>\n",
       "    </tr>\n",
       "    <tr>\n",
       "      <th>1578</th>\n",
       "      <td>15.02</td>\n",
       "      <td>14.998498</td>\n",
       "      <td>0.021502</td>\n",
       "    </tr>\n",
       "  </tbody>\n",
       "</table>\n",
       "<p>854 rows × 3 columns</p>\n",
       "</div>"
      ],
      "text/plain": [
       "      y_test     y_pred      diff\n",
       "898    18.68  16.245965  2.434035\n",
       "1645   27.50  24.362623  3.137377\n",
       "1918   19.13  19.343448 -0.213448\n",
       "104    15.44  15.840165 -0.400165\n",
       "2367   21.86  22.771102 -0.911102\n",
       "...      ...        ...       ...\n",
       "1841   34.38  29.432585  4.947415\n",
       "538    10.22  13.354047 -3.134047\n",
       "2239   11.46  13.301820 -1.841820\n",
       "1888    6.60  10.848589 -4.248589\n",
       "1578   15.02  14.998498  0.021502\n",
       "\n",
       "[854 rows x 3 columns]"
      ]
     },
     "execution_count": 10,
     "metadata": {},
     "output_type": "execute_result"
    }
   ],
   "source": [
    "df_predict = pd.DataFrame({'y_test': y_test, 'y_pred': y_pred})\n",
    "\n",
    "df_predict['diff'] = df_predict['y_test'] - df_predict['y_pred']\n",
    "\n",
    "df_predict"
   ]
  },
  {
   "cell_type": "code",
   "execution_count": null,
   "id": "f58f0be3-5eff-493f-a357-f54cf417765f",
   "metadata": {},
   "outputs": [],
   "source": []
  }
 ],
 "metadata": {
  "kernelspec": {
   "display_name": "Python 3 (ipykernel)",
   "language": "python",
   "name": "python3"
  },
  "language_info": {
   "codemirror_mode": {
    "name": "ipython",
    "version": 3
   },
   "file_extension": ".py",
   "mimetype": "text/x-python",
   "name": "python",
   "nbconvert_exporter": "python",
   "pygments_lexer": "ipython3",
   "version": "3.9.13"
  }
 },
 "nbformat": 4,
 "nbformat_minor": 5
}
