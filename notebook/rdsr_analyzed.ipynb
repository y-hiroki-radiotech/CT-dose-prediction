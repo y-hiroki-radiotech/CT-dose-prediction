{
 "cells": [
  {
   "cell_type": "code",
   "execution_count": 4,
   "id": "006c6227-eb02-4fb9-bc4c-b7b020c068ae",
   "metadata": {},
   "outputs": [],
   "source": [
    "import pydicom\n",
    "import json\n",
    "import pandas as pd"
   ]
  },
  {
   "cell_type": "code",
   "execution_count": 55,
   "id": "6a26b08b-9f36-4b6a-817f-22ec2b89b14e",
   "metadata": {},
   "outputs": [],
   "source": [
    "with open('rdsr.json', 'r') as f:\n",
    "    rdsr = json.load(f)"
   ]
  },
  {
   "cell_type": "code",
   "execution_count": 52,
   "id": "97a66c39-39b4-423b-b4a4-5f5d8da2c9d9",
   "metadata": {},
   "outputs": [
    {
     "name": "stdout",
     "output_type": "stream",
     "text": [
      "Value at path '['0040A730', 'Value', 15, '0040A730', 'Value', 5, '0040A730', 'Value', 2, '0040A300', 'Value', 0, '0040A30A', 'Value', 0]': 418.15\n"
     ]
    }
   ],
   "source": [
    "def get_nested_value(data, path):\n",
    "    for key in path:\n",
    "        if isinstance(data, list):\n",
    "            data = data[int(key)]\n",
    "        else:\n",
    "            data = data[key]\n",
    "    return data\n",
    "\n",
    "data = rdsr\n",
    "path = path\n",
    "value = get_nested_value(data, path)\n",
    "print(f\"Value at path '{path}': {value}\")\n"
   ]
  },
  {
   "cell_type": "code",
   "execution_count": 56,
   "id": "3242c034-c16d-447f-867a-9d3e925196b5",
   "metadata": {},
   "outputs": [
    {
     "name": "stdout",
     "output_type": "stream",
     "text": [
      "Path to '418.15': ['0040A730', 'Value', 15, '0040A730', 'Value', 5, '0040A730', 'Value', 2, '0040A300', 'Value', 0, '0040A30A', 'Value', 0]\n"
     ]
    }
   ],
   "source": [
    "def find_path(data, target_value, path=None):\n",
    "    # 初めて関数が呼び出された場合（パスが未定義）、パスを空のリストとして初期化\n",
    "    if path is None:\n",
    "        path = []\n",
    "\n",
    "    # 入力データが辞書の場合の処理\n",
    "    if isinstance(data, dict):\n",
    "        # 辞書内の全てのキーと値に対して繰り返し\n",
    "        for key, value in data.items():\n",
    "            # 現在のパスにキーを追加し、新しいパスを生成\n",
    "            new_path = path + [key]\n",
    "            # 現在の値が目標の値と一致しているかチェック\n",
    "            if value == target_value:\n",
    "                # 一致している場合、新しいパスを返す\n",
    "                return new_path\n",
    "            # 現在の値が辞書またはリスト（すなわち、ネストされたデータ）である場合\n",
    "            elif isinstance(value, (dict, list)):\n",
    "                # 再帰的にその値の中を探索\n",
    "                matched_path = find_path(value, target_value, new_path)\n",
    "                # 目標の値が見つかった場合、そのパスを返す\n",
    "                if matched_path:\n",
    "                    return matched_path\n",
    "\n",
    "    # 入力データがリストの場合の処理（辞書の場合と基本的に同じ）\n",
    "    elif isinstance(data, list):\n",
    "        for i, value in enumerate(data):\n",
    "            new_path = path + [i]\n",
    "            if value == target_value:\n",
    "                return new_path\n",
    "            elif isinstance(value, (dict, list)):\n",
    "                matched_path = find_path(value, target_value, new_path)\n",
    "                if matched_path:\n",
    "                    return matched_path\n",
    "\n",
    "    # 目標の値がデータ内に存在しない場合、Noneを返す\n",
    "    return None\n",
    "\n",
    "\n",
    "data = rdsr\n",
    "target_value = 418.15\n",
    "path = find_path(data, target_value)\n",
    "print(f\"Path to '{target_value}': {path}\")\n"
   ]
  },
  {
   "cell_type": "code",
   "execution_count": 53,
   "id": "6209a381-4705-494c-a723-c52ef68e543a",
   "metadata": {},
   "outputs": [
    {
     "name": "stdout",
     "output_type": "stream",
     "text": [
      "418.15\n"
     ]
    }
   ],
   "source": [
    "def get_value_by_path(data, path):\n",
    "    # パスの全てのキー／インデックスについて繰り返す\n",
    "    for key in path:\n",
    "        # データをそのキーでアクセスして更新（データを一段掘り下げる）\n",
    "        data = data[key]\n",
    "    # 最終的なデータを返す（パスの最後まで掘り下げた結果）\n",
    "    return data\n",
    "\n",
    "value = get_value_by_path(data, path)\n",
    "print(value)  # 出力: mGy"
   ]
  },
  {
   "cell_type": "markdown",
   "id": "00b3371b-ac34-426b-8b1a-33c74af23870",
   "metadata": {},
   "source": [
    "* RDSRの必要な部分の構造は同じなので、必要な部分までのpathを自動で取得できるようにしておけば問題ないような気がする\n",
    "* ただし、複数スキャンがある場合に対応できるのか不明ではある。"
   ]
  },
  {
   "cell_type": "code",
   "execution_count": 70,
   "id": "db53a38f-e617-4969-9069-a717088e2783",
   "metadata": {},
   "outputs": [
    {
     "name": "stdout",
     "output_type": "stream",
     "text": [
      "Path to 'HAS OBS CONTEXT': ['0040A730', 'Value', 1, '0040A010', 'Value', 0]\n"
     ]
    }
   ],
   "source": [
    "def find_path(data, target_value, path=None):\n",
    "    # 初めて関数が呼び出された場合（パスが未定義）、パスを空のリストとして初期化\n",
    "    if path is None:\n",
    "        path = []\n",
    "\n",
    "    # 入力データが辞書の場合の処理\n",
    "    if isinstance(data, dict):\n",
    "        # 辞書内の全てのキーと値に対して繰り返し\n",
    "        for key, value in data.items():\n",
    "            # 現在のパスにキーを追加し、新しいパスを生成\n",
    "            new_path = path + [key]\n",
    "            # 現在の値が目標の値と一致しているかチェック\n",
    "            if value == target_value:\n",
    "                # 一致している場合、新しいパスを返す\n",
    "                return new_path\n",
    "            # 現在の値が辞書またはリスト（すなわち、ネストされたデータ）である場合\n",
    "            elif isinstance(value, (dict, list)):\n",
    "                # 再帰的にその値の中を探索\n",
    "                matched_path = find_path(value, target_value, new_path)\n",
    "                # 目標の値が見つかった場合、そのパスを返す\n",
    "                if matched_path:\n",
    "                    return matched_path\n",
    "\n",
    "    # 入力データがリストの場合の処理（辞書の場合と基本的に同じ）\n",
    "    elif isinstance(data, list):\n",
    "        for i, value in enumerate(data):\n",
    "            new_path = path + [i]\n",
    "            if value == target_value:\n",
    "                return new_path\n",
    "            elif isinstance(value, (dict, list)):\n",
    "                matched_path = find_path(value, target_value, new_path)\n",
    "                if matched_path:\n",
    "                    return matched_path\n",
    "\n",
    "    # 目標の値がデータ内に存在しない場合、Noneを返す\n",
    "    return None\n",
    "\n",
    "# 入力データと目標の値を設定\n",
    "data = rdsr\n",
    "target_value = 'HAS OBS CONTEXT'\n",
    "# 目標の値までのパスを探索\n",
    "path = find_path(data, target_value)\n",
    "# パスを出力\n",
    "print(f\"Path to '{target_value}': {path}\")\n"
   ]
  },
  {
   "cell_type": "code",
   "execution_count": 171,
   "id": "77361d33-569d-46f5-9c01-511904de7bc4",
   "metadata": {},
   "outputs": [
    {
     "name": "stdout",
     "output_type": "stream",
     "text": [
      "Path to '113824': [['0040A730', 'Value', 13, '0040A730', 'Value', 4, '0040A730', 'Value', 0, '0040A043', 'Value', 0, '00080100', 'Value', 0], ['0040A730', 'Value', 14, '0040A730', 'Value', 4, '0040A730', 'Value', 0, '0040A043', 'Value', 0, '00080100', 'Value', 0], ['0040A730', 'Value', 15, '0040A730', 'Value', 4, '0040A730', 'Value', 0, '0040A043', 'Value', 0, '00080100', 'Value', 0]]\n"
     ]
    }
   ],
   "source": [
    "def find_all_paths(data, target_value):\n",
    "    \"\"\"\n",
    "    この関数は指定した値(target_value)が与えられたデータ構造(data)の中に存在する全てのパスを見つける。\n",
    "    データ構造は辞書(dict)やリスト(list)で構成されており、ネスト構造も持つことができる。\n",
    "    \"\"\"\n",
    "\n",
    "    # 内部関数の定義\n",
    "    def find_paths_inner(data, path):\n",
    "        \"\"\"\n",
    "        この関数は再帰的にデータを探索し、目標の値が見つかったパスをall_pathsリストに追加する。\n",
    "        \"\"\"\n",
    "\n",
    "        # データが辞書型の場合\n",
    "        if isinstance(data, dict):\n",
    "            for key, value in data.items():\n",
    "                new_path = path + [key]  # 新しいパスを生成\n",
    "                if value == target_value:  # 値が目標の値と一致するかチェック\n",
    "                    all_paths.append(new_path)  # 一致する場合、新しいパスを追加\n",
    "                # 値が辞書型またはリスト型（つまりネストしたデータ構造）である場合\n",
    "                if isinstance(value, (dict, list)):\n",
    "                    find_paths_inner(value, new_path)  # その値に対して再帰的に探索を行う\n",
    "\n",
    "        # データがリスト型の場合\n",
    "        elif isinstance(data, list):\n",
    "            for i, value in enumerate(data):\n",
    "                new_path = path + [i]  # 新しいパスを生成\n",
    "                if value == target_value:  # 値が目標の値と一致するかチェック\n",
    "                    all_paths.append(new_path)  # 一致する場合、新しいパスを追加\n",
    "                # 値が辞書型またはリスト型（つまりネストしたデータ構造）である場合\n",
    "                if isinstance(value, (dict, list)):\n",
    "                    find_paths_inner(value, new_path)  # その値に対して再帰的に探索を行う\n",
    "\n",
    "    all_paths = []  # 目標の値が見つかる全てのパスを格納するリストを初期化\n",
    "    find_paths_inner(data, [])  # 探索を開始\n",
    "    return all_paths  # 内部関数によって見つけられた全てのパスを返す\n",
    "\n",
    "\n",
    "\n",
    "# 入力データと目標の値を設定\n",
    "data = rdsr\n",
    "# target_valueにrdsrのCode Valueを代入する\n",
    "target_value = '113824'\n",
    "# 目標の値までのパスを探索\n",
    "path = find_all_paths(data, target_value)\n",
    "# パスを出力\n",
    "print(f\"Path to '{target_value}': {path}\")"
   ]
  },
  {
   "cell_type": "code",
   "execution_count": 180,
   "id": "9ff25f11-7217-49d2-aba2-da2aed49cedd",
   "metadata": {},
   "outputs": [
    {
     "data": {
      "text/plain": [
       "{'0040A010': {'vr': 'CS', 'Value': ['CONTAINS']},\n",
       " '0040A040': {'vr': 'CS', 'Value': ['NUM']},\n",
       " '0040A043': {'vr': 'SQ',\n",
       "  'Value': [{'00080100': {'vr': 'SH', 'Value': ['113824']},\n",
       "    '00080102': {'vr': 'SH', 'Value': ['DCM']},\n",
       "    '00080104': {'vr': 'LO', 'Value': ['Exposure Time']}}]},\n",
       " '0040A300': {'vr': 'SQ',\n",
       "  'Value': [{'004008EA': {'vr': 'SQ',\n",
       "     'Value': [{'00080100': {'vr': 'SH', 'Value': ['s']},\n",
       "       '00080102': {'vr': 'SH', 'Value': ['UCUM']},\n",
       "       '00080104': {'vr': 'LO', 'Value': ['s']}}]},\n",
       "    '0040A30A': {'vr': 'DS', 'Value': [1.54]}}]}}"
      ]
     },
     "execution_count": 180,
     "metadata": {},
     "output_type": "execute_result"
    }
   ],
   "source": [
    "value = get_value_by_path(data, path[1][:-6])\n",
    "value"
   ]
  },
  {
   "cell_type": "code",
   "execution_count": 177,
   "id": "44a08fe2-7ff3-4e9a-bcf6-bbd638be0b40",
   "metadata": {},
   "outputs": [
    {
     "name": "stdout",
     "output_type": "stream",
     "text": [
      "[['0040A730', 'Value', 15, '0040A730', 'Value', 4, '0040A730', 'Value', 0, '0040A300', 'Value', 0, '0040A30A', 'Value', 0]]\n"
     ]
    },
    {
     "data": {
      "text/plain": [
       "5.53"
      ]
     },
     "execution_count": 177,
     "metadata": {},
     "output_type": "execute_result"
    }
   ],
   "source": [
    "test = find_all_paths(data, 5.53)\n",
    "print(test)\n",
    "get_value_by_path(data, test[0])"
   ]
  },
  {
   "cell_type": "code",
   "execution_count": 103,
   "id": "1ef8d4b3-1331-4e95-af69-226bc4bfa150",
   "metadata": {},
   "outputs": [],
   "source": [
    "path[-1][2] = 16"
   ]
  },
  {
   "cell_type": "code",
   "execution_count": 104,
   "id": "183a8b43-8dc3-48e5-8d0b-d4ef8388e79e",
   "metadata": {},
   "outputs": [
    {
     "data": {
      "text/plain": [
       "['0040A730',\n",
       " 'Value',\n",
       " 16,\n",
       " '0040A730',\n",
       " 'Value',\n",
       " 5,\n",
       " '0040A730',\n",
       " 'Value',\n",
       " 3,\n",
       " '0040A730',\n",
       " 'Value',\n",
       " 2,\n",
       " '0040A300',\n",
       " 'Value',\n",
       " 0,\n",
       " '004008EA',\n",
       " 'Value',\n",
       " 0,\n",
       " '00080104',\n",
       " 'Value',\n",
       " 0]"
      ]
     },
     "execution_count": 104,
     "metadata": {},
     "output_type": "execute_result"
    }
   ],
   "source": [
    "path[-1]"
   ]
  },
  {
   "cell_type": "code",
   "execution_count": null,
   "id": "15d71034-e68f-4b81-b124-bb080520e18f",
   "metadata": {},
   "outputs": [],
   "source": []
  }
 ],
 "metadata": {
  "kernelspec": {
   "display_name": "Python 3 (ipykernel)",
   "language": "python",
   "name": "python3"
  },
  "language_info": {
   "codemirror_mode": {
    "name": "ipython",
    "version": 3
   },
   "file_extension": ".py",
   "mimetype": "text/x-python",
   "name": "python",
   "nbconvert_exporter": "python",
   "pygments_lexer": "ipython3",
   "version": "3.9.13"
  }
 },
 "nbformat": 4,
 "nbformat_minor": 5
}
