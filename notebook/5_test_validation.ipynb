{
 "cells": [
  {
   "cell_type": "code",
   "execution_count": 5,
   "id": "56578190-53ba-4784-a3a6-3fd27f335bcc",
   "metadata": {},
   "outputs": [],
   "source": [
    "import pandas as pd\n",
    "import joblib\n",
    "import japanize_matplotlib\n",
    "from preprocessing.initial_preprocessing import initial_preprocessing\n",
    "from preprocessing.drop_emergency_suspicious_height_weight import drop_emergency_suspicious_height_weight\n",
    "from preprocessing.remove_duplicate_ctdi import remove_duplicate_ctdi\n",
    "from preprocessing.rename_and_drop_order import rename_and_drop_order_one_scan_ctdi\n",
    "from preprocessing.remove_not_use_head_rest import remove_not_use_head_rest\n",
    "from preprocessing.special_scan_exclude import special_scan_exclude\n",
    "from feature_engineering.dose_prediction_feature_engineering import FeatureEngineering"
   ]
  },
  {
   "cell_type": "code",
   "execution_count": null,
   "id": "2003fdc6-cad4-4710-99a3-c13dac50761e",
   "metadata": {},
   "outputs": [],
   "source": [
    "# テストデータの読み込み\n",
    "df = pd.read_excel('test_data.xlsx')"
   ]
  },
  {
   "cell_type": "code",
   "execution_count": null,
   "id": "65dc807f-ced2-4b5f-a312-a8d33e5665c9",
   "metadata": {},
   "outputs": [],
   "source": [
    "# データの前処理\n",
    "initial_preprocesing(df)\n",
    "df = remove_duplicate_ctdi(df)\n",
    "df.reset_index(drop=True, inplace=True)\n",
    "df_all = df\n",
    "df = drop_emergency_suspicious_height_weight(df)\n",
    "\n",
    "unuse_cols = ['hospital_ward', 'modality', 'adult_child', 'department', 'preset_name']\n",
    "df.drop(labels=unuse_cols, axis=1, inplace=True)\n",
    "\n",
    "df = df[~((df['CTDIw phantom type'] == 'IEC Head Dosimetry Phantom') & (df['scan_area'] == '頸部CT'))]\n",
    "df = df[~((df['CTDIw phantom type'] == 'IEC Head Dosimetry Phantom') & (df['scan_area'] == '頸部〜骨盤CT'))]\n",
    "df = df[~((df['CTDIw phantom type'] == 'IEC Head Dosimetry Phantom') & (df['scan_area'] == '胸部〜骨盤CT'))]\n",
    "df = df[~((df['CTDIw phantom type'] == 'IEC Head Dosimetry Phantom') & (df['scan_area'] == '胸部CT'))]\n",
    "\n",
    "# スキャンオーダーの名前を変更する\n",
    "rename_and_drop_order_one_scan_ctdi(df)\n",
    "# 特殊なスキャン名を取り除く\n",
    "df = special_scan_exclude(df)"
   ]
  },
  {
   "cell_type": "code",
   "execution_count": null,
   "id": "e7c67a7b-bc5b-4133-bb2e-896ba0be3185",
   "metadata": {},
   "outputs": [],
   "source": [
    "# テストデータのプロトコールの割合を管電圧の確認\n",
    "scan_area_list = df['scan_area'].unique()\n",
    "for scan_area in scan_area_list:\n",
    "    print(f'{scan_area}:',  df[df['scan_area'] == scan_area]['kV'].value_counts())"
   ]
  },
  {
   "cell_type": "markdown",
   "id": "c4ea8ce6-3c3d-4a75-bb60-fb41891f76d8",
   "metadata": {},
   "source": [
    "### Feature-engineering"
   ]
  },
  {
   "cell_type": "code",
   "execution_count": null,
   "id": "8194c662-7a47-485b-8ace-73f5e4ea6a00",
   "metadata": {},
   "outputs": [],
   "source": [
    "fe = joblib.load('feature_engineering.pkl')\n",
    "df_test_transformed = fe.transform(df)"
   ]
  }
 ],
 "metadata": {
  "kernelspec": {
   "display_name": "Python 3 (ipykernel)",
   "language": "python",
   "name": "python3"
  },
  "language_info": {
   "codemirror_mode": {
    "name": "ipython",
    "version": 3
   },
   "file_extension": ".py",
   "mimetype": "text/x-python",
   "name": "python",
   "nbconvert_exporter": "python",
   "pygments_lexer": "ipython3",
   "version": "3.9.13"
  }
 },
 "nbformat": 4,
 "nbformat_minor": 5
}
