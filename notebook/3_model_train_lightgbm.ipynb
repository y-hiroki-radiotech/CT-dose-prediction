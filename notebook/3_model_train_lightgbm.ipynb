{
 "cells": [
  {
   "cell_type": "markdown",
   "id": "fc01738c-e53f-4fd0-8ca7-2adcf4fa0073",
   "metadata": {
    "pycharm": {
     "name": "#%% md\n"
    }
   },
   "source": [
    "### ライブラリのimport"
   ]
  },
  {
   "cell_type": "code",
   "execution_count": 1,
   "id": "8fc81df4-2e30-44c3-9c27-9af448f1aba7",
   "metadata": {
    "pycharm": {
     "name": "#%%\n"
    }
   },
   "outputs": [],
   "source": [
    "%load_ext autoreload\n",
    "%autoreload 2\n",
    "import matplotlib.pyplot as plt\n",
    "import seaborn as sns\n",
    "import pandas as pd\n",
    "%matplotlib inline\n",
    "import pickle\n",
    "from permutation_feature_importance.PermutationFeatureImportance import PermutationFeatureImportance "
   ]
  },
  {
   "cell_type": "markdown",
   "id": "e660f695-6b92-486a-b6be-af971674297c",
   "metadata": {
    "pycharm": {
     "name": "#%% md\n"
    }
   },
   "source": [
    "## 解析用の元データを読み込み"
   ]
  },
  {
   "cell_type": "code",
   "execution_count": 5,
   "id": "42612097-d590-44e2-8977-2aeb0e58c806",
   "metadata": {
    "pycharm": {
     "name": "#%%\n"
    }
   },
   "outputs": [],
   "source": [
    "df = pd.read_excel('modify_preprocess_train_data.xlsx')"
   ]
  },
  {
   "cell_type": "code",
   "execution_count": 6,
   "id": "72945f24-87d2-41ff-b7a3-011709065d21",
   "metadata": {
    "pycharm": {
     "name": "#%%\n"
    },
    "tags": []
   },
   "outputs": [
    {
     "data": {
      "text/html": [
       "<div>\n",
       "<style scoped>\n",
       "    .dataframe tbody tr th:only-of-type {\n",
       "        vertical-align: middle;\n",
       "    }\n",
       "\n",
       "    .dataframe tbody tr th {\n",
       "        vertical-align: top;\n",
       "    }\n",
       "\n",
       "    .dataframe thead th {\n",
       "        text-align: right;\n",
       "    }\n",
       "</style>\n",
       "<table border=\"1\" class=\"dataframe\">\n",
       "  <thead>\n",
       "    <tr style=\"text-align: right;\">\n",
       "      <th></th>\n",
       "      <th>Mean CTDIvol</th>\n",
       "      <th>age</th>\n",
       "      <th>gender</th>\n",
       "      <th>height_cm</th>\n",
       "      <th>weight_kg</th>\n",
       "      <th>scan_area</th>\n",
       "      <th>scan_method</th>\n",
       "      <th>bmi</th>\n",
       "      <th>body_surface_area</th>\n",
       "      <th>bmr</th>\n",
       "      <th>category_bmi</th>\n",
       "      <th>age_era</th>\n",
       "      <th>bmi_body_surface_area_category</th>\n",
       "      <th>age_weight_kg_category</th>\n",
       "      <th>scan_area_method_combine</th>\n",
       "      <th>scan_area_method_bmi_catgory_combine</th>\n",
       "      <th>bmi_bsa_cat_scan_area_method_combine</th>\n",
       "      <th>age_weight_cat_scan_area_method_combine</th>\n",
       "      <th>predicted_exposure_time</th>\n",
       "      <th>predicted_pitch_factor</th>\n",
       "    </tr>\n",
       "  </thead>\n",
       "  <tbody>\n",
       "    <tr>\n",
       "      <th>0</th>\n",
       "      <td>5.86</td>\n",
       "      <td>86</td>\n",
       "      <td>F</td>\n",
       "      <td>150.0</td>\n",
       "      <td>49.1</td>\n",
       "      <td>胸部CT</td>\n",
       "      <td>単純</td>\n",
       "      <td>21.82</td>\n",
       "      <td>1.421484</td>\n",
       "      <td>1000.01</td>\n",
       "      <td>normal weight</td>\n",
       "      <td>80</td>\n",
       "      <td>8</td>\n",
       "      <td>8</td>\n",
       "      <td>胸部CT_単純</td>\n",
       "      <td>胸部CT_単純_normal weight</td>\n",
       "      <td>8胸部CT_単純</td>\n",
       "      <td>8胸部CT_単純</td>\n",
       "      <td>0.5</td>\n",
       "      <td>1.38</td>\n",
       "    </tr>\n",
       "    <tr>\n",
       "      <th>1</th>\n",
       "      <td>7.41</td>\n",
       "      <td>61</td>\n",
       "      <td>M</td>\n",
       "      <td>163.0</td>\n",
       "      <td>74.0</td>\n",
       "      <td>胸部CT</td>\n",
       "      <td>単純</td>\n",
       "      <td>27.85</td>\n",
       "      <td>1.797322</td>\n",
       "      <td>1487.40</td>\n",
       "      <td>obesity class1</td>\n",
       "      <td>60</td>\n",
       "      <td>2</td>\n",
       "      <td>7</td>\n",
       "      <td>胸部CT_単純</td>\n",
       "      <td>胸部CT_単純_obesity class1</td>\n",
       "      <td>2胸部CT_単純</td>\n",
       "      <td>7胸部CT_単純</td>\n",
       "      <td>0.5</td>\n",
       "      <td>1.00</td>\n",
       "    </tr>\n",
       "  </tbody>\n",
       "</table>\n",
       "</div>"
      ],
      "text/plain": [
       "   Mean CTDIvol  age gender  height_cm  weight_kg scan_area scan_method  \\\n",
       "0          5.86   86      F      150.0       49.1      胸部CT          単純   \n",
       "1          7.41   61      M      163.0       74.0      胸部CT          単純   \n",
       "\n",
       "     bmi  body_surface_area      bmr    category_bmi  age_era  \\\n",
       "0  21.82           1.421484  1000.01   normal weight       80   \n",
       "1  27.85           1.797322  1487.40  obesity class1       60   \n",
       "\n",
       "   bmi_body_surface_area_category  age_weight_kg_category  \\\n",
       "0                               8                       8   \n",
       "1                               2                       7   \n",
       "\n",
       "  scan_area_method_combine scan_area_method_bmi_catgory_combine  \\\n",
       "0                  胸部CT_単純                胸部CT_単純_normal weight   \n",
       "1                  胸部CT_単純               胸部CT_単純_obesity class1   \n",
       "\n",
       "  bmi_bsa_cat_scan_area_method_combine  \\\n",
       "0                             8胸部CT_単純   \n",
       "1                             2胸部CT_単純   \n",
       "\n",
       "  age_weight_cat_scan_area_method_combine  predicted_exposure_time  \\\n",
       "0                                8胸部CT_単純                      0.5   \n",
       "1                                7胸部CT_単純                      0.5   \n",
       "\n",
       "   predicted_pitch_factor  \n",
       "0                    1.38  \n",
       "1                    1.00  "
      ]
     },
     "execution_count": 6,
     "metadata": {},
     "output_type": "execute_result"
    }
   ],
   "source": [
    "# 線量予測で使えない特徴量を削除する\n",
    "drop_columns = ['accession', 'scan protocol', 'scan series', 'scanning length', 'CTDIw phantom type',\n",
    "                'kV', 'mean mA', 'max mA', 'pitch factor', 'nomial total collimation width',\n",
    "                'exposure time per rotation', 'exposure time', 'study_date', 'id', 'DLP', 'target region']\n",
    "\n",
    "df = df.drop(drop_columns, axis=1)\n",
    "df.head(2)"
   ]
  },
  {
   "cell_type": "code",
   "execution_count": 11,
   "id": "afa429d9-1392-468c-92e2-2fa8f7cf373c",
   "metadata": {
    "pycharm": {
     "name": "#%%\n"
    }
   },
   "outputs": [],
   "source": [
    "df['bmi_body_surface_area_category'] = df['bmi_body_surface_area_category'].astype('category')\n",
    "df['age_weight_kg_category'] = df['age_weight_kg_category'].astype('category')"
   ]
  },
  {
   "cell_type": "markdown",
   "id": "c18b816d-2126-4dd7-8c65-b4166e0d5643",
   "metadata": {
    "pycharm": {
     "name": "#%% md\n"
    }
   },
   "source": [
    "### 前処理"
   ]
  },
  {
   "cell_type": "code",
   "execution_count": 7,
   "id": "376ef5ac-812c-4037-9753-2164889de794",
   "metadata": {
    "pycharm": {
     "name": "#%%\n"
    }
   },
   "outputs": [],
   "source": [
    "# Ordinal EncoderとTarget Encoderの使い分けを決める\n",
    "# target encodingはできるだけカテゴリ数が多いものが良い\n",
    "from sklearn.preprocessing import OrdinalEncoder\n",
    "from category_encoders import TargetEncoder\n",
    "\n",
    "te_columns = [ 'scan_area', 'scan_area_method_combine', 'scan_area_method_bmi_catgory_combine',\n",
    "              'bmi_bsa_cat_scan_area_method_combine', 'age_weight_cat_scan_area_method_combine',]\n",
    "oe_columns = ['gender', 'scan_method', 'category_bmi', 'bmi_body_surface_area_category']\n",
    "\n",
    "oe = OrdinalEncoder()\n",
    "oe.set_output(transform='pandas')\n",
    "\n",
    "df[oe_columns] = oe.fit_transform(df[oe_columns])\n",
    "\n",
    "te = TargetEncoder()\n",
    "te.fit(df[te_columns], df['Mean CTDIvol'])\n",
    "df[te_columns] = te.transform(df[te_columns])"
   ]
  },
  {
   "cell_type": "code",
   "execution_count": 8,
   "id": "fd62d5ba-51f9-4995-92c8-765235c8a9b4",
   "metadata": {
    "pycharm": {
     "name": "#%%\n"
    }
   },
   "outputs": [
    {
     "name": "stdout",
     "output_type": "stream",
     "text": [
      "<class 'pandas.core.frame.DataFrame'>\n",
      "RangeIndex: 8554 entries, 0 to 8553\n",
      "Data columns (total 20 columns):\n",
      " #   Column                                   Non-Null Count  Dtype  \n",
      "---  ------                                   --------------  -----  \n",
      " 0   Mean CTDIvol                             8554 non-null   float64\n",
      " 1   age                                      8554 non-null   int64  \n",
      " 2   gender                                   8554 non-null   float64\n",
      " 3   height_cm                                8554 non-null   float64\n",
      " 4   weight_kg                                8554 non-null   float64\n",
      " 5   scan_area                                8554 non-null   float64\n",
      " 6   scan_method                              8554 non-null   float64\n",
      " 7   bmi                                      8554 non-null   float64\n",
      " 8   body_surface_area                        8554 non-null   float64\n",
      " 9   bmr                                      8554 non-null   float64\n",
      " 10  category_bmi                             8554 non-null   float64\n",
      " 11  age_era                                  8554 non-null   int64  \n",
      " 12  bmi_body_surface_area_category           8554 non-null   float64\n",
      " 13  age_weight_kg_category                   8554 non-null   int64  \n",
      " 14  scan_area_method_combine                 8554 non-null   float64\n",
      " 15  scan_area_method_bmi_catgory_combine     8554 non-null   float64\n",
      " 16  bmi_bsa_cat_scan_area_method_combine     8554 non-null   float64\n",
      " 17  age_weight_cat_scan_area_method_combine  8554 non-null   float64\n",
      " 18  predicted_exposure_time                  8554 non-null   float64\n",
      " 19  predicted_pitch_factor                   8554 non-null   float64\n",
      "dtypes: float64(17), int64(3)\n",
      "memory usage: 1.3 MB\n"
     ]
    }
   ],
   "source": [
    "df.info()"
   ]
  },
  {
   "cell_type": "markdown",
   "id": "4d07ddf8-12fd-449b-9ecf-e1d0865e0d5a",
   "metadata": {
    "pycharm": {
     "name": "#%% md\n"
    }
   },
   "source": [
    "### LightGBMで学習"
   ]
  },
  {
   "cell_type": "code",
   "execution_count": 9,
   "id": "b53f99d5-31f4-4087-934d-d2342b919f14",
   "metadata": {
    "pycharm": {
     "name": "#%%\n"
    }
   },
   "outputs": [],
   "source": [
    "target = 'Mean CTDIvol'\n",
    "X = df.drop(target, axis=1)\n",
    "y = df[target]\n",
    "\n",
    "# X_train, X_test, y_train, y_test = train_test_split(X, y, test_size=0.2, \n",
    "#                                                     shuffle=True, random_state=42)"
   ]
  },
  {
   "cell_type": "code",
   "execution_count": 10,
   "id": "e5ba9e30-8b87-477f-ac55-ac6d1b98c233",
   "metadata": {
    "pycharm": {
     "name": "#%%\n"
    }
   },
   "outputs": [],
   "source": [
    "import lightgbm as lgb\n",
    "from sklearn.metrics import mean_absolute_error, mean_squared_error"
   ]
  },
  {
   "cell_type": "code",
   "execution_count": 11,
   "id": "8318871f-fb58-4961-abc5-077b68ca9a95",
   "metadata": {
    "pycharm": {
     "name": "#%%\n"
    }
   },
   "outputs": [
    {
     "name": "stdout",
     "output_type": "stream",
     "text": [
      "[LightGBM] [Warning] Auto-choosing row-wise multi-threading, the overhead of testing was 0.002025 seconds.\n",
      "You can set `force_row_wise=true` to remove the overhead.\n",
      "And if memory is not enough, you can set `force_col_wise=true`.\n",
      "[LightGBM] [Info] Total Bins 1981\n",
      "[LightGBM] [Info] Number of data points in the train set: 6843, number of used features: 19\n",
      "[LightGBM] [Info] Start training from score 10.870000\n",
      "Training until validation scores don't improve for 100 rounds\n",
      "[50]\ttrain's l1: 1.65266\tvalid's l1: 1.75618\n",
      "[100]\ttrain's l1: 1.38747\tvalid's l1: 1.70024\n",
      "[150]\ttrain's l1: 1.27658\tvalid's l1: 1.6925\n",
      "[200]\ttrain's l1: 1.20296\tvalid's l1: 1.68526\n",
      "[250]\ttrain's l1: 1.14703\tvalid's l1: 1.68456\n",
      "[300]\ttrain's l1: 1.0966\tvalid's l1: 1.68267\n",
      "[350]\ttrain's l1: 1.05838\tvalid's l1: 1.6801\n",
      "[400]\ttrain's l1: 1.02313\tvalid's l1: 1.68052\n",
      "Early stopping, best iteration is:\n",
      "[347]\ttrain's l1: 1.06107\tvalid's l1: 1.6794\n",
      "fold 1 MSE valid: 1.68\n",
      "\n",
      "[LightGBM] [Warning] Auto-choosing row-wise multi-threading, the overhead of testing was 0.000102 seconds.\n",
      "You can set `force_row_wise=true` to remove the overhead.\n",
      "And if memory is not enough, you can set `force_col_wise=true`.\n",
      "[LightGBM] [Info] Total Bins 1973\n",
      "[LightGBM] [Info] Number of data points in the train set: 6843, number of used features: 19\n",
      "[LightGBM] [Info] Start training from score 10.895000\n",
      "Training until validation scores don't improve for 100 rounds\n",
      "[50]\ttrain's l1: 1.64293\tvalid's l1: 1.76435\n",
      "[100]\ttrain's l1: 1.40976\tvalid's l1: 1.67508\n",
      "[150]\ttrain's l1: 1.2781\tvalid's l1: 1.62446\n",
      "[200]\ttrain's l1: 1.206\tvalid's l1: 1.61278\n",
      "[250]\ttrain's l1: 1.14219\tvalid's l1: 1.61133\n",
      "[300]\ttrain's l1: 1.0877\tvalid's l1: 1.60918\n",
      "[350]\ttrain's l1: 1.04998\tvalid's l1: 1.60762\n",
      "[400]\ttrain's l1: 1.01852\tvalid's l1: 1.60856\n",
      "Early stopping, best iteration is:\n",
      "[335]\ttrain's l1: 1.06001\tvalid's l1: 1.60636\n",
      "fold 2 MSE valid: 1.61\n",
      "\n",
      "[LightGBM] [Warning] Auto-choosing col-wise multi-threading, the overhead of testing was 0.000971 seconds.\n",
      "You can set `force_col_wise=true` to remove the overhead.\n",
      "[LightGBM] [Info] Total Bins 1969\n",
      "[LightGBM] [Info] Number of data points in the train set: 6843, number of used features: 19\n",
      "[LightGBM] [Info] Start training from score 10.810000\n",
      "Training until validation scores don't improve for 100 rounds\n",
      "[50]\ttrain's l1: 1.56422\tvalid's l1: 2.08012\n",
      "[100]\ttrain's l1: 1.39474\tvalid's l1: 2.01518\n",
      "[150]\ttrain's l1: 1.28647\tvalid's l1: 2.00503\n",
      "[200]\ttrain's l1: 1.21711\tvalid's l1: 1.9821\n",
      "[250]\ttrain's l1: 1.15135\tvalid's l1: 1.98582\n",
      "[300]\ttrain's l1: 1.10562\tvalid's l1: 1.97483\n",
      "[350]\ttrain's l1: 1.07044\tvalid's l1: 1.96981\n",
      "[400]\ttrain's l1: 1.03868\tvalid's l1: 1.97251\n",
      "[450]\ttrain's l1: 1.011\tvalid's l1: 1.97198\n",
      "Early stopping, best iteration is:\n",
      "[360]\ttrain's l1: 1.0633\tvalid's l1: 1.96878\n",
      "fold 3 MSE valid: 1.97\n",
      "\n",
      "[LightGBM] [Warning] Auto-choosing row-wise multi-threading, the overhead of testing was 0.000103 seconds.\n",
      "You can set `force_row_wise=true` to remove the overhead.\n",
      "And if memory is not enough, you can set `force_col_wise=true`.\n",
      "[LightGBM] [Info] Total Bins 1969\n",
      "[LightGBM] [Info] Number of data points in the train set: 6843, number of used features: 19\n",
      "[LightGBM] [Info] Start training from score 10.870000\n",
      "Training until validation scores don't improve for 100 rounds\n",
      "[50]\ttrain's l1: 1.63185\tvalid's l1: 1.88175\n",
      "[100]\ttrain's l1: 1.38611\tvalid's l1: 1.7532\n",
      "[150]\ttrain's l1: 1.24718\tvalid's l1: 1.71498\n",
      "[200]\ttrain's l1: 1.16723\tvalid's l1: 1.71191\n",
      "[250]\ttrain's l1: 1.10201\tvalid's l1: 1.71221\n",
      "[300]\ttrain's l1: 1.05149\tvalid's l1: 1.71134\n",
      "[350]\ttrain's l1: 1.0126\tvalid's l1: 1.71391\n",
      "Early stopping, best iteration is:\n",
      "[269]\ttrain's l1: 1.08272\tvalid's l1: 1.70995\n",
      "fold 4 MSE valid: 1.71\n",
      "\n",
      "[LightGBM] [Warning] Auto-choosing row-wise multi-threading, the overhead of testing was 0.000115 seconds.\n",
      "You can set `force_row_wise=true` to remove the overhead.\n",
      "And if memory is not enough, you can set `force_col_wise=true`.\n",
      "[LightGBM] [Info] Total Bins 1979\n",
      "[LightGBM] [Info] Number of data points in the train set: 6844, number of used features: 19\n",
      "[LightGBM] [Info] Start training from score 10.870000\n",
      "Training until validation scores don't improve for 100 rounds\n",
      "[50]\ttrain's l1: 1.66181\tvalid's l1: 1.77166\n",
      "[100]\ttrain's l1: 1.38317\tvalid's l1: 1.71041\n",
      "[150]\ttrain's l1: 1.26551\tvalid's l1: 1.6986\n",
      "[200]\ttrain's l1: 1.18756\tvalid's l1: 1.69624\n",
      "[250]\ttrain's l1: 1.11592\tvalid's l1: 1.69138\n",
      "[300]\ttrain's l1: 1.06407\tvalid's l1: 1.69319\n",
      "Early stopping, best iteration is:\n",
      "[235]\ttrain's l1: 1.13685\tvalid's l1: 1.69015\n",
      "fold 5 MSE valid: 1.69\n",
      "\n",
      "CV score: 1.73\n"
     ]
    }
   ],
   "source": [
    "# デフォルト条件でlightbgmを行う\n",
    "from sklearn.model_selection import KFold\n",
    "import numpy as np\n",
    "\n",
    "objective = 'mae' # 'mse' or 'mae'\n",
    "\n",
    "params = {\n",
    "    'objective': objective,\n",
    "    'bagging_fraction': 0.9998314836380925,\n",
    "    'bagging_freq': 27,\n",
    "    'extra_trees': False,\n",
    "    'feature_fraction': 0.371543939464228,\n",
    "    'lambda_l1': 1.079557797273759e-05,\n",
    "    'lambda_l2': 2.769373820051388e-05,\n",
    "    'learning_rate': 0.0817227284210271,\n",
    "    'max_depth': 17,\n",
    "    'min_data_in_leaf': 4,\n",
    "    'min_gain_to_split': 0.18828283626266706,\n",
    "    'min_sum_hessian_in_leaf': 0.0005010492693552818,\n",
    "    'num_leaves': 56,\n",
    "    'path_smooth': 5}\n",
    "test_scores = []\n",
    "models = []\n",
    "\n",
    "kf = KFold(n_splits=5, shuffle=True, random_state=42)\n",
    "for fold, (tr_idx, va_idx) in enumerate(kf.split(X)):\n",
    "    X_tr = X.iloc[tr_idx]\n",
    "    X_va = X.iloc[va_idx]\n",
    "    y_tr = y.iloc[tr_idx]\n",
    "    y_va = y.iloc[va_idx]\n",
    "    \n",
    "    lgb_train = lgb.Dataset(X_tr, y_tr)\n",
    "    lgb_eval = lgb.Dataset(X_va, y_va, reference=lgb_train)\n",
    "    \n",
    "    model = lgb.train(params,\n",
    "                      lgb_train,\n",
    "                      num_boost_round=1000,\n",
    "                      valid_sets=[lgb_train, lgb_eval],\n",
    "                      valid_names=['train', 'valid'],\n",
    "                      callbacks=[lgb.early_stopping(100),\n",
    "                                 lgb.log_evaluation(50)])\n",
    "    \n",
    "    models.append(model.best_iteration)\n",
    "    y_va_pred = model.predict(X_va, num_iteration=model.best_iteration)\n",
    "    score = mean_absolute_error(y_va, y_va_pred)\n",
    "    print(f'fold {fold+1} MSE valid: {score:.2f}')\n",
    "    print('')\n",
    "    \n",
    "    # スコア、モデル、予測値の格納\n",
    "    test_scores.append(score)\n",
    "\n",
    "# クロスバリデーションの平均スコア\n",
    "cv_score = np.mean(test_scores)\n",
    "print(f'CV score: {cv_score:.2f}')"
   ]
  },
  {
   "cell_type": "code",
   "execution_count": 154,
   "id": "26cd5f53-057b-40e7-82a8-801a1e7917e3",
   "metadata": {
    "collapsed": true,
    "jupyter": {
     "outputs_hidden": true,
     "source_hidden": true
    },
    "pycharm": {
     "name": "#%%\n"
    },
    "tags": []
   },
   "outputs": [
    {
     "data": {
      "image/png": "[encoded data removed]",
      "text/plain": [
       "<Figure size 800x400 with 1 Axes>"
      ]
     },
     "metadata": {},
     "output_type": "display_data"
    }
   ],
   "source": [
    "# 特徴量の重要度の可視化\n",
    "importances = model.feature_importance(importance_type='gain')\n",
    "indices = np.argsort(importances)[::-1]\n",
    "\n",
    "plt.figure(figsize=(8, 4))\n",
    "plt.title('Feature Importance')\n",
    "plt.bar(range(len(indices)), importances[indices])\n",
    "plt.xticks(range(len(indices)), X.columns[indices], rotation=90)\n",
    "plt.show()"
   ]
  },
  {
   "cell_type": "markdown",
   "id": "2836de38-9ab1-4e94-9ea4-8d62a82e6a6f",
   "metadata": {
    "pycharm": {
     "name": "#%% md\n"
    }
   },
   "source": [
    "### Permutation Feature Importance"
   ]
  },
  {
   "cell_type": "code",
   "execution_count": 25,
   "id": "356d9f24-b058-49ae-bc1c-99c0c9d3277f",
   "metadata": {
    "pycharm": {
     "name": "#%%\n"
    },
    "tags": []
   },
   "outputs": [
    {
     "data": {
      "image/png": "[encoded data removed]",
      "text/plain": [
       "<Figure size 640x480 with 1 Axes>"
      ]
     },
     "metadata": {},
     "output_type": "display_data"
    }
   ],
   "source": [
    "from sklearn.metrics import mean_absolute_error\n",
    "\n",
    "pfi = PermutationFeatureImportance(model, X, y, X.columns, mean_absolute_error)\n",
    "\n",
    "pfi.permutation_feature_importance(n_shuffle=5)\n",
    "\n",
    "pfi.plot()"
   ]
  },
  {
   "cell_type": "code",
   "execution_count": 12,
   "id": "1f58c517-9608-432d-982c-98f5da645d30",
   "metadata": {
    "pycharm": {
     "name": "#%%\n"
    }
   },
   "outputs": [],
   "source": [
    "pred = model.predict(X)"
   ]
  },
  {
   "cell_type": "code",
   "execution_count": 15,
   "id": "bb1fa8a6-a748-4592-a93a-8095c297ed68",
   "metadata": {},
   "outputs": [],
   "source": [
    "df = pd.read_excel('modify_preprocess_train_data.xlsx')"
   ]
  },
  {
   "cell_type": "code",
   "execution_count": 16,
   "id": "05c76cd4-a95a-4cfd-b52f-f83a41643c84",
   "metadata": {},
   "outputs": [],
   "source": [
    "df['pred'] = pred\n",
    "df['diff'] = df['Mean CTDIvol'] - df['pred']"
   ]
  },
  {
   "cell_type": "code",
   "execution_count": 20,
   "id": "3c65fc2a-f2f5-4128-a780-e48cdf4dfb4d",
   "metadata": {},
   "outputs": [],
   "source": [
    "df_predict_statics = df.groupby('scan_area')['diff'].describe().reset_index()"
   ]
  },
  {
   "cell_type": "code",
   "execution_count": 21,
   "id": "32b8c326-bc98-4390-8d66-9d4314795550",
   "metadata": {},
   "outputs": [],
   "source": [
    "df_predict_statics.to_excel('predict_statistic.xlsx', index=False)"
   ]
  },
  {
   "cell_type": "code",
   "execution_count": 23,
   "id": "8a70fb8f-df78-4f41-b4f1-a1985608bcd7",
   "metadata": {},
   "outputs": [
    {
     "data": {
      "text/plain": [
       "0    2.069843\n",
       "Name: std, dtype: float64"
      ]
     },
     "execution_count": 23,
     "metadata": {},
     "output_type": "execute_result"
    }
   ],
   "source": [
    "df_predict_statics[df_predict_statics['scan_area'] == '上腹部CT']['std']"
   ]
  },
  {
   "cell_type": "code",
   "execution_count": 24,
   "id": "1b5e4c6c-2eb9-4fa5-8390-44449a477eec",
   "metadata": {},
   "outputs": [
    {
     "data": {
      "text/html": [
       "<div>\n",
       "<style scoped>\n",
       "    .dataframe tbody tr th:only-of-type {\n",
       "        vertical-align: middle;\n",
       "    }\n",
       "\n",
       "    .dataframe tbody tr th {\n",
       "        vertical-align: top;\n",
       "    }\n",
       "\n",
       "    .dataframe thead th {\n",
       "        text-align: right;\n",
       "    }\n",
       "</style>\n",
       "<table border=\"1\" class=\"dataframe\">\n",
       "  <thead>\n",
       "    <tr style=\"text-align: right;\">\n",
       "      <th></th>\n",
       "      <th>scan_area</th>\n",
       "      <th>count</th>\n",
       "      <th>mean</th>\n",
       "      <th>std</th>\n",
       "      <th>min</th>\n",
       "      <th>25%</th>\n",
       "      <th>50%</th>\n",
       "      <th>75%</th>\n",
       "      <th>max</th>\n",
       "    </tr>\n",
       "  </thead>\n",
       "  <tbody>\n",
       "    <tr>\n",
       "      <th>0</th>\n",
       "      <td>上腹部CT</td>\n",
       "      <td>209.0</td>\n",
       "      <td>0.158299</td>\n",
       "      <td>2.069843</td>\n",
       "      <td>-4.590594</td>\n",
       "      <td>-0.795186</td>\n",
       "      <td>-0.023415</td>\n",
       "      <td>0.654773</td>\n",
       "      <td>13.718862</td>\n",
       "    </tr>\n",
       "    <tr>\n",
       "      <th>1</th>\n",
       "      <td>体幹部Dual Energy CT</td>\n",
       "      <td>388.0</td>\n",
       "      <td>0.221231</td>\n",
       "      <td>3.391862</td>\n",
       "      <td>-13.971622</td>\n",
       "      <td>-1.118325</td>\n",
       "      <td>-0.055566</td>\n",
       "      <td>1.073424</td>\n",
       "      <td>24.262766</td>\n",
       "    </tr>\n",
       "    <tr>\n",
       "      <th>2</th>\n",
       "      <td>側頭骨CT</td>\n",
       "      <td>22.0</td>\n",
       "      <td>1.216216</td>\n",
       "      <td>1.402813</td>\n",
       "      <td>-0.789631</td>\n",
       "      <td>0.008560</td>\n",
       "      <td>0.993711</td>\n",
       "      <td>1.713114</td>\n",
       "      <td>4.423156</td>\n",
       "    </tr>\n",
       "    <tr>\n",
       "      <th>3</th>\n",
       "      <td>冠動脈CT</td>\n",
       "      <td>307.0</td>\n",
       "      <td>-0.265635</td>\n",
       "      <td>1.326824</td>\n",
       "      <td>-3.819978</td>\n",
       "      <td>-0.858249</td>\n",
       "      <td>-0.025647</td>\n",
       "      <td>0.313238</td>\n",
       "      <td>4.222222</td>\n",
       "    </tr>\n",
       "    <tr>\n",
       "      <th>4</th>\n",
       "      <td>副鼻腔CT</td>\n",
       "      <td>333.0</td>\n",
       "      <td>-0.274280</td>\n",
       "      <td>3.974816</td>\n",
       "      <td>-12.888477</td>\n",
       "      <td>-1.130729</td>\n",
       "      <td>0.003172</td>\n",
       "      <td>1.467701</td>\n",
       "      <td>16.790061</td>\n",
       "    </tr>\n",
       "    <tr>\n",
       "      <th>5</th>\n",
       "      <td>大腿・膝・下腿CT</td>\n",
       "      <td>83.0</td>\n",
       "      <td>0.166445</td>\n",
       "      <td>3.456710</td>\n",
       "      <td>-7.899894</td>\n",
       "      <td>-2.195281</td>\n",
       "      <td>-0.140635</td>\n",
       "      <td>2.064087</td>\n",
       "      <td>12.905625</td>\n",
       "    </tr>\n",
       "    <tr>\n",
       "      <th>6</th>\n",
       "      <td>歯・顎骨CT</td>\n",
       "      <td>199.0</td>\n",
       "      <td>0.770346</td>\n",
       "      <td>3.176886</td>\n",
       "      <td>-3.321286</td>\n",
       "      <td>-0.611283</td>\n",
       "      <td>-0.006613</td>\n",
       "      <td>0.596369</td>\n",
       "      <td>22.202743</td>\n",
       "    </tr>\n",
       "    <tr>\n",
       "      <th>7</th>\n",
       "      <td>肘・前腕・手関節CT</td>\n",
       "      <td>68.0</td>\n",
       "      <td>-0.180443</td>\n",
       "      <td>1.043886</td>\n",
       "      <td>-2.799474</td>\n",
       "      <td>-0.499305</td>\n",
       "      <td>-0.016697</td>\n",
       "      <td>0.039468</td>\n",
       "      <td>4.920944</td>\n",
       "    </tr>\n",
       "    <tr>\n",
       "      <th>8</th>\n",
       "      <td>肩・上腕・鎖骨CT</td>\n",
       "      <td>57.0</td>\n",
       "      <td>0.224422</td>\n",
       "      <td>3.215098</td>\n",
       "      <td>-7.585794</td>\n",
       "      <td>-1.657713</td>\n",
       "      <td>-0.044957</td>\n",
       "      <td>2.532687</td>\n",
       "      <td>8.555304</td>\n",
       "    </tr>\n",
       "    <tr>\n",
       "      <th>9</th>\n",
       "      <td>肺塞栓CT</td>\n",
       "      <td>89.0</td>\n",
       "      <td>0.544416</td>\n",
       "      <td>3.156306</td>\n",
       "      <td>-5.790316</td>\n",
       "      <td>-0.891871</td>\n",
       "      <td>-0.041587</td>\n",
       "      <td>0.592688</td>\n",
       "      <td>13.920759</td>\n",
       "    </tr>\n",
       "    <tr>\n",
       "      <th>10</th>\n",
       "      <td>肺静脈CT</td>\n",
       "      <td>105.0</td>\n",
       "      <td>-0.154076</td>\n",
       "      <td>0.797816</td>\n",
       "      <td>-3.969814</td>\n",
       "      <td>-0.081826</td>\n",
       "      <td>0.005645</td>\n",
       "      <td>0.064541</td>\n",
       "      <td>1.473546</td>\n",
       "    </tr>\n",
       "    <tr>\n",
       "      <th>11</th>\n",
       "      <td>胸腰椎CT</td>\n",
       "      <td>200.0</td>\n",
       "      <td>-0.008968</td>\n",
       "      <td>1.566666</td>\n",
       "      <td>-3.974594</td>\n",
       "      <td>-0.616857</td>\n",
       "      <td>-0.056042</td>\n",
       "      <td>0.321086</td>\n",
       "      <td>8.612478</td>\n",
       "    </tr>\n",
       "    <tr>\n",
       "      <th>12</th>\n",
       "      <td>胸部CT</td>\n",
       "      <td>2430.0</td>\n",
       "      <td>0.089416</td>\n",
       "      <td>1.052123</td>\n",
       "      <td>-5.473182</td>\n",
       "      <td>-0.327574</td>\n",
       "      <td>-0.002511</td>\n",
       "      <td>0.402781</td>\n",
       "      <td>15.356075</td>\n",
       "    </tr>\n",
       "    <tr>\n",
       "      <th>13</th>\n",
       "      <td>胸部〜骨盤CT</td>\n",
       "      <td>1746.0</td>\n",
       "      <td>-0.237028</td>\n",
       "      <td>2.515261</td>\n",
       "      <td>-10.969747</td>\n",
       "      <td>-1.678318</td>\n",
       "      <td>-0.000401</td>\n",
       "      <td>0.954709</td>\n",
       "      <td>12.472681</td>\n",
       "    </tr>\n",
       "    <tr>\n",
       "      <th>14</th>\n",
       "      <td>脳CT</td>\n",
       "      <td>671.0</td>\n",
       "      <td>0.353140</td>\n",
       "      <td>1.764534</td>\n",
       "      <td>-3.564703</td>\n",
       "      <td>-0.551020</td>\n",
       "      <td>0.002048</td>\n",
       "      <td>1.008645</td>\n",
       "      <td>13.197347</td>\n",
       "    </tr>\n",
       "    <tr>\n",
       "      <th>15</th>\n",
       "      <td>脳CTA</td>\n",
       "      <td>19.0</td>\n",
       "      <td>-1.255934</td>\n",
       "      <td>3.548196</td>\n",
       "      <td>-9.096360</td>\n",
       "      <td>-2.410476</td>\n",
       "      <td>-0.006012</td>\n",
       "      <td>0.487966</td>\n",
       "      <td>3.996525</td>\n",
       "    </tr>\n",
       "    <tr>\n",
       "      <th>16</th>\n",
       "      <td>脳Perfusion</td>\n",
       "      <td>5.0</td>\n",
       "      <td>5.966763</td>\n",
       "      <td>13.721480</td>\n",
       "      <td>-0.606488</td>\n",
       "      <td>-0.095979</td>\n",
       "      <td>0.007388</td>\n",
       "      <td>0.020701</td>\n",
       "      <td>30.508193</td>\n",
       "    </tr>\n",
       "    <tr>\n",
       "      <th>17</th>\n",
       "      <td>腹部〜骨盤CT</td>\n",
       "      <td>1218.0</td>\n",
       "      <td>0.095377</td>\n",
       "      <td>1.747358</td>\n",
       "      <td>-11.234448</td>\n",
       "      <td>-0.533995</td>\n",
       "      <td>-0.016933</td>\n",
       "      <td>0.596069</td>\n",
       "      <td>16.568878</td>\n",
       "    </tr>\n",
       "    <tr>\n",
       "      <th>18</th>\n",
       "      <td>足・足関節CT</td>\n",
       "      <td>58.0</td>\n",
       "      <td>-0.369180</td>\n",
       "      <td>1.270742</td>\n",
       "      <td>-2.815696</td>\n",
       "      <td>-1.301298</td>\n",
       "      <td>-0.325547</td>\n",
       "      <td>0.238785</td>\n",
       "      <td>2.884552</td>\n",
       "    </tr>\n",
       "    <tr>\n",
       "      <th>19</th>\n",
       "      <td>頸椎・頚髄CT</td>\n",
       "      <td>76.0</td>\n",
       "      <td>-0.587248</td>\n",
       "      <td>3.282955</td>\n",
       "      <td>-11.062844</td>\n",
       "      <td>-2.494602</td>\n",
       "      <td>-0.139097</td>\n",
       "      <td>0.765592</td>\n",
       "      <td>7.252890</td>\n",
       "    </tr>\n",
       "    <tr>\n",
       "      <th>20</th>\n",
       "      <td>頸部CT</td>\n",
       "      <td>67.0</td>\n",
       "      <td>0.409415</td>\n",
       "      <td>3.914317</td>\n",
       "      <td>-9.259093</td>\n",
       "      <td>-1.746570</td>\n",
       "      <td>-0.025128</td>\n",
       "      <td>2.191786</td>\n",
       "      <td>12.064302</td>\n",
       "    </tr>\n",
       "    <tr>\n",
       "      <th>21</th>\n",
       "      <td>頸部〜骨盤CT</td>\n",
       "      <td>146.0</td>\n",
       "      <td>0.468231</td>\n",
       "      <td>2.597455</td>\n",
       "      <td>-5.495035</td>\n",
       "      <td>-0.643727</td>\n",
       "      <td>0.001055</td>\n",
       "      <td>1.003090</td>\n",
       "      <td>16.365719</td>\n",
       "    </tr>\n",
       "    <tr>\n",
       "      <th>22</th>\n",
       "      <td>顔面骨CT</td>\n",
       "      <td>33.0</td>\n",
       "      <td>1.002520</td>\n",
       "      <td>3.544546</td>\n",
       "      <td>-11.024712</td>\n",
       "      <td>-0.396116</td>\n",
       "      <td>0.000159</td>\n",
       "      <td>2.652755</td>\n",
       "      <td>10.273525</td>\n",
       "    </tr>\n",
       "    <tr>\n",
       "      <th>23</th>\n",
       "      <td>骨盤骨CT</td>\n",
       "      <td>25.0</td>\n",
       "      <td>0.528705</td>\n",
       "      <td>1.160910</td>\n",
       "      <td>-0.990509</td>\n",
       "      <td>-0.027761</td>\n",
       "      <td>0.045078</td>\n",
       "      <td>1.027993</td>\n",
       "      <td>3.651249</td>\n",
       "    </tr>\n",
       "  </tbody>\n",
       "</table>\n",
       "</div>"
      ],
      "text/plain": [
       "            scan_area   count      mean        std        min       25%  \\\n",
       "0               上腹部CT   209.0  0.158299   2.069843  -4.590594 -0.795186   \n",
       "1   体幹部Dual Energy CT   388.0  0.221231   3.391862 -13.971622 -1.118325   \n",
       "2               側頭骨CT    22.0  1.216216   1.402813  -0.789631  0.008560   \n",
       "3               冠動脈CT   307.0 -0.265635   1.326824  -3.819978 -0.858249   \n",
       "4               副鼻腔CT   333.0 -0.274280   3.974816 -12.888477 -1.130729   \n",
       "5           大腿・膝・下腿CT    83.0  0.166445   3.456710  -7.899894 -2.195281   \n",
       "6              歯・顎骨CT   199.0  0.770346   3.176886  -3.321286 -0.611283   \n",
       "7          肘・前腕・手関節CT    68.0 -0.180443   1.043886  -2.799474 -0.499305   \n",
       "8           肩・上腕・鎖骨CT    57.0  0.224422   3.215098  -7.585794 -1.657713   \n",
       "9               肺塞栓CT    89.0  0.544416   3.156306  -5.790316 -0.891871   \n",
       "10              肺静脈CT   105.0 -0.154076   0.797816  -3.969814 -0.081826   \n",
       "11              胸腰椎CT   200.0 -0.008968   1.566666  -3.974594 -0.616857   \n",
       "12               胸部CT  2430.0  0.089416   1.052123  -5.473182 -0.327574   \n",
       "13            胸部〜骨盤CT  1746.0 -0.237028   2.515261 -10.969747 -1.678318   \n",
       "14                脳CT   671.0  0.353140   1.764534  -3.564703 -0.551020   \n",
       "15               脳CTA    19.0 -1.255934   3.548196  -9.096360 -2.410476   \n",
       "16         脳Perfusion     5.0  5.966763  13.721480  -0.606488 -0.095979   \n",
       "17            腹部〜骨盤CT  1218.0  0.095377   1.747358 -11.234448 -0.533995   \n",
       "18            足・足関節CT    58.0 -0.369180   1.270742  -2.815696 -1.301298   \n",
       "19            頸椎・頚髄CT    76.0 -0.587248   3.282955 -11.062844 -2.494602   \n",
       "20               頸部CT    67.0  0.409415   3.914317  -9.259093 -1.746570   \n",
       "21            頸部〜骨盤CT   146.0  0.468231   2.597455  -5.495035 -0.643727   \n",
       "22              顔面骨CT    33.0  1.002520   3.544546 -11.024712 -0.396116   \n",
       "23              骨盤骨CT    25.0  0.528705   1.160910  -0.990509 -0.027761   \n",
       "\n",
       "         50%       75%        max  \n",
       "0  -0.023415  0.654773  13.718862  \n",
       "1  -0.055566  1.073424  24.262766  \n",
       "2   0.993711  1.713114   4.423156  \n",
       "3  -0.025647  0.313238   4.222222  \n",
       "4   0.003172  1.467701  16.790061  \n",
       "5  -0.140635  2.064087  12.905625  \n",
       "6  -0.006613  0.596369  22.202743  \n",
       "7  -0.016697  0.039468   4.920944  \n",
       "8  -0.044957  2.532687   8.555304  \n",
       "9  -0.041587  0.592688  13.920759  \n",
       "10  0.005645  0.064541   1.473546  \n",
       "11 -0.056042  0.321086   8.612478  \n",
       "12 -0.002511  0.402781  15.356075  \n",
       "13 -0.000401  0.954709  12.472681  \n",
       "14  0.002048  1.008645  13.197347  \n",
       "15 -0.006012  0.487966   3.996525  \n",
       "16  0.007388  0.020701  30.508193  \n",
       "17 -0.016933  0.596069  16.568878  \n",
       "18 -0.325547  0.238785   2.884552  \n",
       "19 -0.139097  0.765592   7.252890  \n",
       "20 -0.025128  2.191786  12.064302  \n",
       "21  0.001055  1.003090  16.365719  \n",
       "22  0.000159  2.652755  10.273525  \n",
       "23  0.045078  1.027993   3.651249  "
      ]
     },
     "execution_count": 24,
     "metadata": {},
     "output_type": "execute_result"
    }
   ],
   "source": [
    "df_predict_statics"
   ]
  },
  {
   "cell_type": "code",
   "execution_count": null,
   "id": "057d81e3-b3e5-4b30-a2d0-d1260e8ea0a5",
   "metadata": {},
   "outputs": [],
   "source": []
  }
 ],
 "metadata": {
  "kernelspec": {
   "display_name": "Python 3 (ipykernel)",
   "language": "python",
   "name": "python3"
  },
  "language_info": {
   "codemirror_mode": {
    "name": "ipython",
    "version": 3
   },
   "file_extension": ".py",
   "mimetype": "text/x-python",
   "name": "python",
   "nbconvert_exporter": "python",
   "pygments_lexer": "ipython3",
   "version": "3.9.13"
  }
 },
 "nbformat": 4,
 "nbformat_minor": 5
}
