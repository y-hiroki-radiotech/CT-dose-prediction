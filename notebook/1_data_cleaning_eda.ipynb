{
 "cells": [
  {
   "cell_type": "markdown",
   "id": "fc01738c-e53f-4fd0-8ca7-2adcf4fa0073",
   "metadata": {
    "pycharm": {
     "name": "#%% md\n"
    }
   },
   "source": [
    "### ライブラリのimport"
   ]
  },
  {
   "cell_type": "code",
   "execution_count": 241,
   "id": "8fc81df4-2e30-44c3-9c27-9af448f1aba7",
   "metadata": {
    "pycharm": {
     "name": "#%%\n"
    }
   },
   "outputs": [
    {
     "name": "stdout",
     "output_type": "stream",
     "text": [
      "The autoreload extension is already loaded. To reload it, use:\n",
      "  %reload_ext autoreload\n"
     ]
    }
   ],
   "source": [
    "%load_ext autoreload\n",
    "%autoreload 2\n",
    "import matplotlib.pyplot as plt\n",
    "import japanize_matplotlib\n",
    "import seaborn as sns\n",
    "import pandas as pd\n",
    "%matplotlib inline\n",
    "from preprocessing.initial_preprocessing import initial_preprocessing\n",
    "from preprocessing.drop_emergency_suspicious_height_weight import drop_emergency_suspicious_height_weight\n",
    "from preprocessing.remove_duplicate_ctdi import remove_duplicate_ctdi\n",
    "from preprocessing.rename_and_drop_order import rename_and_drop_order_one_scan_ctdi\n",
    "from preprocessing.remove_not_use_head_rest import remove_not_use_head_rest\n",
    "from preprocessing.special_scan_exclude import special_scan_exclude"
   ]
  },
  {
   "cell_type": "markdown",
   "id": "e660f695-6b92-486a-b6be-af971674297c",
   "metadata": {
    "pycharm": {
     "name": "#%% md\n"
    }
   },
   "source": [
    "## 解析用の元データを読み込み"
   ]
  },
  {
   "cell_type": "code",
   "execution_count": 276,
   "id": "42612097-d590-44e2-8977-2aeb0e58c806",
   "metadata": {
    "pycharm": {
     "name": "#%%\n"
    }
   },
   "outputs": [],
   "source": [
    "df = pd.read_excel('train_data.xlsx')"
   ]
  },
  {
   "cell_type": "markdown",
   "id": "03c265e3-d68e-46ee-8367-e5d14ce70dda",
   "metadata": {
    "pycharm": {
     "name": "#%% md\n"
    }
   },
   "source": [
    "## データを前処理\n",
    "* カラム名の変更\n",
    "* 複数回スキャンについては,Mean CTDIvolが最大のみ残す\n",
    "* 救急科などの怪しい身長と体重のデータを削除する"
   ]
  },
  {
   "cell_type": "code",
   "execution_count": 277,
   "id": "79496680-2a8c-4b34-a4a0-e7cae1faf5a0",
   "metadata": {},
   "outputs": [
    {
     "name": "stdout",
     "output_type": "stream",
     "text": [
      "正常に処理が行われました。\n"
     ]
    }
   ],
   "source": [
    "initial_preprocessing(df)\n",
    "df = remove_duplicate_ctdi(df)"
   ]
  },
  {
   "cell_type": "code",
   "execution_count": 243,
   "id": "59165040-b05e-40c8-950b-74131d0a77b1",
   "metadata": {
    "pycharm": {
     "name": "#%%\n"
    }
   },
   "outputs": [
    {
     "name": "stdout",
     "output_type": "stream",
     "text": [
      "正常に処理が行われました。\n"
     ]
    }
   ],
   "source": [
    "initial_preprocessing(df)\n",
    "df = remove_duplicate_ctdi(df)\n",
    "df.reset_index(drop=True, inplace=True)\n",
    "# df_allで後で、身長体重を代入する分を分けられるようにしておく\n",
    "df_all = df\n",
    "df = drop_emergency_suspicious_height_weight(df)"
   ]
  },
  {
   "cell_type": "markdown",
   "id": "0bca8837-491b-409c-a961-ab5c59f54148",
   "metadata": {
    "pycharm": {
     "name": "#%% md\n"
    }
   },
   "source": [
    "### 身長・体重の最終確認: この部分は自分で確認しないと危険"
   ]
  },
  {
   "cell_type": "code",
   "execution_count": 244,
   "id": "e96df88d-844c-49c9-a31d-78aa2c2e9f6c",
   "metadata": {
    "pycharm": {
     "name": "#%%\n"
    }
   },
   "outputs": [],
   "source": [
    "index = df['height_cm'].sort_values(ascending=True)[:30].index.to_list()"
   ]
  },
  {
   "cell_type": "code",
   "execution_count": 245,
   "id": "4e1d78cc-85c1-41d9-bfa8-f15736112960",
   "metadata": {
    "pycharm": {
     "name": "#%%\n"
    },
    "tags": []
   },
   "outputs": [
    {
     "data": {
      "text/html": [
       "<div>\n",
       "<style scoped>\n",
       "    .dataframe tbody tr th:only-of-type {\n",
       "        vertical-align: middle;\n",
       "    }\n",
       "\n",
       "    .dataframe tbody tr th {\n",
       "        vertical-align: top;\n",
       "    }\n",
       "\n",
       "    .dataframe thead th {\n",
       "        text-align: right;\n",
       "    }\n",
       "</style>\n",
       "<table border=\"1\" class=\"dataframe\">\n",
       "  <thead>\n",
       "    <tr style=\"text-align: right;\">\n",
       "      <th></th>\n",
       "      <th>scanning length</th>\n",
       "      <th>height_cm</th>\n",
       "      <th>weight_kg</th>\n",
       "      <th>id</th>\n",
       "      <th>study_date</th>\n",
       "      <th>target region</th>\n",
       "      <th>Mean CTDIvol</th>\n",
       "    </tr>\n",
       "  </thead>\n",
       "  <tbody>\n",
       "    <tr>\n",
       "      <th>2220</th>\n",
       "      <td>852.06</td>\n",
       "      <td>101.0</td>\n",
       "      <td>39.8</td>\n",
       "      <td>75206</td>\n",
       "      <td>2021-04-21</td>\n",
       "      <td>Chest</td>\n",
       "      <td>6.45</td>\n",
       "    </tr>\n",
       "    <tr>\n",
       "      <th>994</th>\n",
       "      <td>796.77</td>\n",
       "      <td>101.0</td>\n",
       "      <td>39.8</td>\n",
       "      <td>75206</td>\n",
       "      <td>2021-05-18</td>\n",
       "      <td>Chest</td>\n",
       "      <td>7.38</td>\n",
       "    </tr>\n",
       "  </tbody>\n",
       "</table>\n",
       "</div>"
      ],
      "text/plain": [
       "      scanning length  height_cm  weight_kg     id study_date target region  \\\n",
       "2220           852.06      101.0       39.8  75206 2021-04-21         Chest   \n",
       "994            796.77      101.0       39.8  75206 2021-05-18         Chest   \n",
       "\n",
       "      Mean CTDIvol  \n",
       "2220          6.45  \n",
       "994           7.38  "
      ]
     },
     "execution_count": 245,
     "metadata": {},
     "output_type": "execute_result"
    }
   ],
   "source": [
    "df[['scanning length', 'height_cm', 'weight_kg', 'id', 'study_date', 'target region', 'Mean CTDIvol']].loc[index].head(2)"
   ]
  },
  {
   "cell_type": "code",
   "execution_count": 246,
   "id": "3f5e6020-e1e6-4120-898b-343112463cdf",
   "metadata": {
    "pycharm": {
     "name": "#%%\n"
    }
   },
   "outputs": [],
   "source": [
    "# 最終的な怪しいデータに関しては直接データを確認して削除する\n",
    "drop_ids = [75206, 9326611, 17049]\n",
    "for ids in drop_ids:\n",
    "    df = df[~(df['id'] == ids)]\n",
    "df.reset_index(drop=True, inplace=True)"
   ]
  },
  {
   "cell_type": "markdown",
   "id": "1cd64b89-fb85-4b98-8ee8-2745a9c91e70",
   "metadata": {
    "pycharm": {
     "name": "#%% md\n"
    }
   },
   "source": [
    "### 身長体重予測、線量予測、異常検知でも使用しない項目を削除する"
   ]
  },
  {
   "cell_type": "code",
   "execution_count": 247,
   "id": "d91df37a-0df2-44a9-8b1f-06efe61b721c",
   "metadata": {
    "pycharm": {
     "name": "#%%\n"
    }
   },
   "outputs": [],
   "source": [
    "unuse_cols = ['hospital_ward', 'modality', 'adult_child', 'department', 'preset_name']\n",
    "df.drop(labels=unuse_cols, axis=1, inplace=True)"
   ]
  },
  {
   "cell_type": "code",
   "execution_count": 248,
   "id": "26ef9fc0-c7e0-4529-b102-00973d032e3d",
   "metadata": {
    "pycharm": {
     "name": "#%%\n"
    }
   },
   "outputs": [],
   "source": [
    "df.to_excel('preprocess_all_scan_data.xlsx')"
   ]
  },
  {
   "cell_type": "code",
   "execution_count": 249,
   "id": "f6beb7db-108b-4f6d-b144-6e881ad085d8",
   "metadata": {
    "pycharm": {
     "name": "#%%\n"
    }
   },
   "outputs": [],
   "source": [
    "df = df[~((df['CTDIw phantom type'] == 'IEC Head Dosimetry Phantom') & (df['scan_area'] == '頸部CT'))]\n",
    "df = df[~((df['CTDIw phantom type'] == 'IEC Head Dosimetry Phantom') & (df['scan_area'] == '頸部〜骨盤CT'))]\n",
    "df = df[~((df['CTDIw phantom type'] == 'IEC Head Dosimetry Phantom') & (df['scan_area'] == '胸部〜骨盤CT'))]\n",
    "df = df[~((df['CTDIw phantom type'] == 'IEC Head Dosimetry Phantom') & (df['scan_area'] == '胸部CT'))]"
   ]
  },
  {
   "cell_type": "markdown",
   "id": "ad6ac689-7125-4584-ae91-1071bbabb971",
   "metadata": {
    "pycharm": {
     "name": "#%% md\n"
    }
   },
   "source": [
    "* データに含まれている外れ値のデータはさらに削除しても良いかも"
   ]
  },
  {
   "cell_type": "code",
   "execution_count": 250,
   "id": "0446ea48-8a5b-4880-8e5f-400beff78ffb",
   "metadata": {
    "pycharm": {
     "name": "#%%\n"
    }
   },
   "outputs": [],
   "source": [
    "# 外れ値として取り扱うデータを追加\n",
    "drop_accession_list = [1249030520220420, 1351460220230315, 1346485720230228, 1348835920230307,\n",
    "                       1229782420220221]\n",
    "for accession in drop_accession_list:\n",
    "    df = df[~(df['accession'] == accession)]\n",
    "df.reset_index(drop=True, inplace=True)"
   ]
  },
  {
   "cell_type": "code",
   "execution_count": 251,
   "id": "bf71c659-8228-43ce-83e6-8d176c9bdde9",
   "metadata": {
    "pycharm": {
     "name": "#%%\n"
    }
   },
   "outputs": [],
   "source": [
    "# 不適切な心臓関係のデータを取り除く\n",
    "# 1.　管電圧が100kV, 2.肺静脈(カルト)で管電圧が140kVのもの,その他排除すべきデータ\n",
    "#differenceが10以上のデータを確認した中で、以下のようなデータを削除 \n",
    "# *脳でHead restを使用せずベッドで撮影したデータ \n",
    "# *オーダーに対して不適切な部位が撮影範囲に含まれている（脳CTで肩が含まれている等） \n",
    "# *腕を挙上していない（体幹部撮影の際） *上肢撮影で体幹が含まれている *金属等が装着されている *オーダーと撮影部位が異なる\n",
    "unuse_accession = [1348557720230306, 1106913420210113, 1112271520210127, 1116921520210210, 1130557720210324,\n",
    "                   1163646020210707, 1175490820210818, 1216316120220114, 1150306520210521, 1273513820220714, \n",
    "                   1301969120221017, 1283505320220817, 1315170020221125, 1184192220210917, 1293945820220920,\n",
    "                   1257936320220523, 1190750720211013, 1219548120220124, 1364809020230425, 1117860420210215,\n",
    "                   1249639320220422, 1335762120230126, 1291697020220912, 1359568020230411, 1190377920211012,\n",
    "                   1262435120220608, 1347736320230303, 1289845120220906, 1223184520220202, 1330730720230113,\n",
    "                   1327520120230104, 1197756320211109, 1129424720210322, 1309065120221107, 1343513920230218,\n",
    "                   1198504120211111, 1208625320211216, 1358077220230406, 1130613820210324, 1223603420220203,\n",
    "                   1197519820211108, 1105253820210108, 1140475720210420, 1335584020230126, 1293219420220916,\n",
    "                   1144301520210430, 1111324820210125, 1338397620230204, 1164256820210709, 1323580920221220,\n",
    "                   1339508720230207, 1229837920220221, 1193844120211025, 1201460220211121, 1124729420210308,\n",
    "                   1111992520210127, 1323140120221219, 1290478220220908, 1319157220221207, 1218117220220119,\n",
    "                   1276725620220725, 1122725320210302, 1206549320211209, 1208856820211216, 1214061320220106, \n",
    "                   1222147720220131, 1309403020221108, ]\n",
    "for accession in unuse_accession:\n",
    "    df = df[~(df['accession'] == accession)]\n",
    "df.reset_index(drop=True, inplace=True)"
   ]
  },
  {
   "cell_type": "markdown",
   "id": "07314504-7ff8-488f-a563-358a43b29ecd",
   "metadata": {
    "pycharm": {
     "name": "#%% md\n"
    }
   },
   "source": [
    "### スキャンオーダーの名前を変更する"
   ]
  },
  {
   "cell_type": "code",
   "execution_count": 252,
   "id": "b3c59327-6441-4fd5-8360-b9d6ed17d2b0",
   "metadata": {
    "pycharm": {
     "name": "#%%\n"
    }
   },
   "outputs": [],
   "source": [
    "rename_and_drop_order_one_scan_ctdi(df)"
   ]
  },
  {
   "cell_type": "markdown",
   "id": "723ac355-e314-4ab9-b135-79650c6b3bf0",
   "metadata": {
    "pycharm": {
     "name": "#%% md\n"
    }
   },
   "source": [
    "### ヘッドレストを使っていない撮影を削除する"
   ]
  },
  {
   "cell_type": "code",
   "execution_count": 253,
   "id": "741ade8f-a466-485a-bef1-9ffdd49eadbf",
   "metadata": {
    "pycharm": {
     "name": "#%%\n"
    }
   },
   "outputs": [],
   "source": [
    "df_brain = pd.read_excel('brain_check_head_rest.xlsx')\n",
    "df_inner = pd.read_excel('orbit_inner_ear.xlsx')\n",
    "df = remove_not_use_head_rest(df, df_brain, df_inner)"
   ]
  },
  {
   "cell_type": "markdown",
   "id": "f971ff64-d175-4649-a72f-a832b3380bf1",
   "metadata": {
    "pycharm": {
     "name": "#%% md\n"
    }
   },
   "source": [
    "### 特殊な四肢系の特殊なスキャンや本来用いない管電圧を取り除く"
   ]
  },
  {
   "cell_type": "code",
   "execution_count": 254,
   "id": "9ab9b832-3298-4868-9d68-ed80f87f1a75",
   "metadata": {
    "pycharm": {
     "name": "#%%\n"
    }
   },
   "outputs": [],
   "source": [
    "df = special_scan_exclude(df)"
   ]
  },
  {
   "cell_type": "markdown",
   "id": "29594879-8a0c-4049-8bc8-cda604734619",
   "metadata": {
    "pycharm": {
     "name": "#%% md\n"
    }
   },
   "source": [
    "### 前処理が終了したデータを保存する。"
   ]
  },
  {
   "cell_type": "code",
   "execution_count": 255,
   "id": "c91e4518-95b9-4687-a98b-9f6c85ee913c",
   "metadata": {
    "pycharm": {
     "name": "#%%\n"
    }
   },
   "outputs": [],
   "source": [
    "df.to_excel('preprocessed_train_data.xlsx', index=False)"
   ]
  },
  {
   "cell_type": "code",
   "execution_count": null,
   "id": "a14b7394-4c26-4d16-ad72-3720976e618c",
   "metadata": {
    "pycharm": {
     "name": "#%%\n"
    }
   },
   "outputs": [],
   "source": []
  }
 ],
 "metadata": {
  "kernelspec": {
   "display_name": "Python 3 (ipykernel)",
   "language": "python",
   "name": "python3"
  },
  "language_info": {
   "codemirror_mode": {
    "name": "ipython",
    "version": 3
   },
   "file_extension": ".py",
   "mimetype": "text/x-python",
   "name": "python",
   "nbconvert_exporter": "python",
   "pygments_lexer": "ipython3",
   "version": "3.9.13"
  }
 },
 "nbformat": 4,
 "nbformat_minor": 5
}
