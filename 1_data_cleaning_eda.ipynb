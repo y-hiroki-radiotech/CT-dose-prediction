{
 "cells": [
  {
   "cell_type": "markdown",
   "id": "fc01738c-e53f-4fd0-8ca7-2adcf4fa0073",
   "metadata": {},
   "source": [
    "### ライブラリのimport"
   ]
  },
  {
   "cell_type": "code",
   "execution_count": 797,
   "id": "8fc81df4-2e30-44c3-9c27-9af448f1aba7",
   "metadata": {},
   "outputs": [
    {
     "name": "stdout",
     "output_type": "stream",
     "text": [
      "The autoreload extension is already loaded. To reload it, use:\n",
      "  %reload_ext autoreload\n"
     ]
    }
   ],
   "source": [
    "%load_ext autoreload\n",
    "%autoreload 2\n",
    "import matplotlib.pyplot as plt\n",
    "import japanize_matplotlib\n",
    "import seaborn as sns\n",
    "import pandas as pd\n",
    "from pandas_profiling import ProfileReport\n",
    "%matplotlib inline\n",
    "from preprocessing.initial_preprocessing import initial_preprocessing\n",
    "from preprocessing.drop_emergency_suspicious_height_weight import drop_emergency_suspicious_height_weight\n",
    "from preprocessing.calculate_bmi_bmr_category import calculate_bmi_bmr_category\n",
    "from preprocessing.remove_duplicate_ctdi import remove_duplicate_ctdi\n",
    "from preprocessing.rename_and_drop_order import rename_and_drop_order_one_scan_ctdi\n",
    "from preprocessing.remove_not_use_head_rest import remove_not_use_head_rest\n",
    "from preprocessing.special_scan_exclude import special_scan_exclude"
   ]
  },
  {
   "cell_type": "markdown",
   "id": "e660f695-6b92-486a-b6be-af971674297c",
   "metadata": {},
   "source": [
    "## 解析用の元データを読み込み"
   ]
  },
  {
   "cell_type": "code",
   "execution_count": 798,
   "id": "42612097-d590-44e2-8977-2aeb0e58c806",
   "metadata": {},
   "outputs": [],
   "source": [
    "df = pd.read_excel('train_data.xlsx')"
   ]
  },
  {
   "cell_type": "markdown",
   "id": "03c265e3-d68e-46ee-8367-e5d14ce70dda",
   "metadata": {},
   "source": [
    "## データを前処理\n",
    "* カラム名の変更\n",
    "* 複数回スキャンについては,Mean CTDIvolが最大のみ残す\n",
    "* 救急科などの怪しい身長と体重のデータを削除する"
   ]
  },
  {
   "cell_type": "code",
   "execution_count": 799,
   "id": "59165040-b05e-40c8-950b-74131d0a77b1",
   "metadata": {},
   "outputs": [
    {
     "name": "stdout",
     "output_type": "stream",
     "text": [
      "正常に処理が行われました。\n"
     ]
    }
   ],
   "source": [
    "initial_preprocessing(df)\n",
    "df = remove_duplicate_ctdi(df)\n",
    "df.reset_index(drop=True, inplace=True)\n",
    "# df_allで後で、身長体重を代入する分を分けられるようにしておく\n",
    "df_all = df\n",
    "df = drop_emergency_suspicious_height_weight(df)"
   ]
  },
  {
   "cell_type": "markdown",
   "id": "0bca8837-491b-409c-a961-ab5c59f54148",
   "metadata": {},
   "source": [
    "### 身長・体重の最終確認: この部分は自分で確認しないと危険"
   ]
  },
  {
   "cell_type": "code",
   "execution_count": 800,
   "id": "e96df88d-844c-49c9-a31d-78aa2c2e9f6c",
   "metadata": {},
   "outputs": [],
   "source": [
    "index = df['height_cm'].sort_values(ascending=True)[:30].index.to_list()"
   ]
  },
  {
   "cell_type": "code",
   "execution_count": 801,
   "id": "4e1d78cc-85c1-41d9-bfa8-f15736112960",
   "metadata": {
    "tags": []
   },
   "outputs": [
    {
     "data": {
      "text/html": [
       "<div>\n",
       "<style scoped>\n",
       "    .dataframe tbody tr th:only-of-type {\n",
       "        vertical-align: middle;\n",
       "    }\n",
       "\n",
       "    .dataframe tbody tr th {\n",
       "        vertical-align: top;\n",
       "    }\n",
       "\n",
       "    .dataframe thead th {\n",
       "        text-align: right;\n",
       "    }\n",
       "</style>\n",
       "<table border=\"1\" class=\"dataframe\">\n",
       "  <thead>\n",
       "    <tr style=\"text-align: right;\">\n",
       "      <th></th>\n",
       "      <th>scanning length</th>\n",
       "      <th>height_cm</th>\n",
       "      <th>weight_kg</th>\n",
       "      <th>id</th>\n",
       "      <th>study_date</th>\n",
       "      <th>target region</th>\n",
       "      <th>Mean CTDIvol</th>\n",
       "    </tr>\n",
       "  </thead>\n",
       "  <tbody>\n",
       "    <tr>\n",
       "      <th>2220</th>\n",
       "      <td>852.06</td>\n",
       "      <td>101.0</td>\n",
       "      <td>39.8</td>\n",
       "      <td>75206</td>\n",
       "      <td>2021-04-21</td>\n",
       "      <td>Chest</td>\n",
       "      <td>6.45</td>\n",
       "    </tr>\n",
       "    <tr>\n",
       "      <th>994</th>\n",
       "      <td>796.77</td>\n",
       "      <td>101.0</td>\n",
       "      <td>39.8</td>\n",
       "      <td>75206</td>\n",
       "      <td>2021-05-18</td>\n",
       "      <td>Chest</td>\n",
       "      <td>7.38</td>\n",
       "    </tr>\n",
       "    <tr>\n",
       "      <th>96</th>\n",
       "      <td>626.53</td>\n",
       "      <td>101.0</td>\n",
       "      <td>39.8</td>\n",
       "      <td>75206</td>\n",
       "      <td>2021-01-14</td>\n",
       "      <td>Abdomen</td>\n",
       "      <td>12.78</td>\n",
       "    </tr>\n",
       "    <tr>\n",
       "      <th>607</th>\n",
       "      <td>827.20</td>\n",
       "      <td>101.0</td>\n",
       "      <td>39.8</td>\n",
       "      <td>75206</td>\n",
       "      <td>2021-03-29</td>\n",
       "      <td>Chest</td>\n",
       "      <td>6.13</td>\n",
       "    </tr>\n",
       "    <tr>\n",
       "      <th>1179</th>\n",
       "      <td>796.77</td>\n",
       "      <td>101.0</td>\n",
       "      <td>39.8</td>\n",
       "      <td>75206</td>\n",
       "      <td>2021-06-18</td>\n",
       "      <td>Chest</td>\n",
       "      <td>6.70</td>\n",
       "    </tr>\n",
       "    <tr>\n",
       "      <th>2341</th>\n",
       "      <td>621.51</td>\n",
       "      <td>101.0</td>\n",
       "      <td>39.8</td>\n",
       "      <td>75206</td>\n",
       "      <td>2021-06-02</td>\n",
       "      <td>Abdomen</td>\n",
       "      <td>17.10</td>\n",
       "    </tr>\n",
       "    <tr>\n",
       "      <th>260</th>\n",
       "      <td>567.16</td>\n",
       "      <td>101.0</td>\n",
       "      <td>39.8</td>\n",
       "      <td>75206</td>\n",
       "      <td>2021-02-04</td>\n",
       "      <td>Chest</td>\n",
       "      <td>6.03</td>\n",
       "    </tr>\n",
       "    <tr>\n",
       "      <th>6360</th>\n",
       "      <td>506.63</td>\n",
       "      <td>117.7</td>\n",
       "      <td>76.4</td>\n",
       "      <td>9326611</td>\n",
       "      <td>2023-02-10</td>\n",
       "      <td>Bronchus</td>\n",
       "      <td>10.38</td>\n",
       "    </tr>\n",
       "    <tr>\n",
       "      <th>105</th>\n",
       "      <td>456.72</td>\n",
       "      <td>117.7</td>\n",
       "      <td>76.4</td>\n",
       "      <td>9326611</td>\n",
       "      <td>2021-01-15</td>\n",
       "      <td>Chest</td>\n",
       "      <td>9.14</td>\n",
       "    </tr>\n",
       "    <tr>\n",
       "      <th>3494</th>\n",
       "      <td>531.81</td>\n",
       "      <td>117.7</td>\n",
       "      <td>76.4</td>\n",
       "      <td>9326611</td>\n",
       "      <td>2022-01-21</td>\n",
       "      <td>Bronchus</td>\n",
       "      <td>9.90</td>\n",
       "    </tr>\n",
       "    <tr>\n",
       "      <th>2644</th>\n",
       "      <td>205.73</td>\n",
       "      <td>129.3</td>\n",
       "      <td>129.3</td>\n",
       "      <td>17049</td>\n",
       "      <td>2021-09-21</td>\n",
       "      <td>Head</td>\n",
       "      <td>30.23</td>\n",
       "    </tr>\n",
       "    <tr>\n",
       "      <th>4335</th>\n",
       "      <td>200.73</td>\n",
       "      <td>129.4</td>\n",
       "      <td>27.2</td>\n",
       "      <td>6067602</td>\n",
       "      <td>2022-04-26</td>\n",
       "      <td>Head</td>\n",
       "      <td>30.72</td>\n",
       "    </tr>\n",
       "    <tr>\n",
       "      <th>3972</th>\n",
       "      <td>581.66</td>\n",
       "      <td>130.0</td>\n",
       "      <td>32.2</td>\n",
       "      <td>24470</td>\n",
       "      <td>2022-03-14</td>\n",
       "      <td>Chest, Abdomen and Pelvis</td>\n",
       "      <td>6.65</td>\n",
       "    </tr>\n",
       "    <tr>\n",
       "      <th>3888</th>\n",
       "      <td>601.66</td>\n",
       "      <td>130.0</td>\n",
       "      <td>32.2</td>\n",
       "      <td>24470</td>\n",
       "      <td>2022-03-06</td>\n",
       "      <td>Chest, Abdomen and Pelvis</td>\n",
       "      <td>8.26</td>\n",
       "    </tr>\n",
       "    <tr>\n",
       "      <th>7704</th>\n",
       "      <td>696.75</td>\n",
       "      <td>130.0</td>\n",
       "      <td>32.2</td>\n",
       "      <td>24470</td>\n",
       "      <td>2022-03-23</td>\n",
       "      <td>Chest, Abdomen and Pelvis</td>\n",
       "      <td>8.42</td>\n",
       "    </tr>\n",
       "    <tr>\n",
       "      <th>7674</th>\n",
       "      <td>596.74</td>\n",
       "      <td>130.0</td>\n",
       "      <td>32.2</td>\n",
       "      <td>24470</td>\n",
       "      <td>2022-03-10</td>\n",
       "      <td>Chest, Abdomen and Pelvis</td>\n",
       "      <td>6.44</td>\n",
       "    </tr>\n",
       "    <tr>\n",
       "      <th>7731</th>\n",
       "      <td>160.00</td>\n",
       "      <td>130.8</td>\n",
       "      <td>24.2</td>\n",
       "      <td>267102</td>\n",
       "      <td>2022-04-06</td>\n",
       "      <td>Coronary Artery</td>\n",
       "      <td>8.21</td>\n",
       "    </tr>\n",
       "    <tr>\n",
       "      <th>6885</th>\n",
       "      <td>357.06</td>\n",
       "      <td>131.0</td>\n",
       "      <td>28.9</td>\n",
       "      <td>36685</td>\n",
       "      <td>2023-04-21</td>\n",
       "      <td>Bronchus</td>\n",
       "      <td>3.20</td>\n",
       "    </tr>\n",
       "    <tr>\n",
       "      <th>5666</th>\n",
       "      <td>210.74</td>\n",
       "      <td>134.0</td>\n",
       "      <td>39.2</td>\n",
       "      <td>31808</td>\n",
       "      <td>2022-11-04</td>\n",
       "      <td>Head</td>\n",
       "      <td>26.63</td>\n",
       "    </tr>\n",
       "    <tr>\n",
       "      <th>6924</th>\n",
       "      <td>452.10</td>\n",
       "      <td>134.0</td>\n",
       "      <td>34.2</td>\n",
       "      <td>35907</td>\n",
       "      <td>2023-04-26</td>\n",
       "      <td>Bronchus</td>\n",
       "      <td>2.53</td>\n",
       "    </tr>\n",
       "    <tr>\n",
       "      <th>8786</th>\n",
       "      <td>751.28</td>\n",
       "      <td>135.0</td>\n",
       "      <td>36.5</td>\n",
       "      <td>34486</td>\n",
       "      <td>2023-02-28</td>\n",
       "      <td>Abdomen and Pelvis</td>\n",
       "      <td>15.02</td>\n",
       "    </tr>\n",
       "    <tr>\n",
       "      <th>3922</th>\n",
       "      <td>681.67</td>\n",
       "      <td>135.0</td>\n",
       "      <td>37.0</td>\n",
       "      <td>24417</td>\n",
       "      <td>2022-03-08</td>\n",
       "      <td>Chest, Abdomen and Pelvis</td>\n",
       "      <td>5.59</td>\n",
       "    </tr>\n",
       "    <tr>\n",
       "      <th>6374</th>\n",
       "      <td>636.75</td>\n",
       "      <td>135.0</td>\n",
       "      <td>36.5</td>\n",
       "      <td>34486</td>\n",
       "      <td>2023-02-13</td>\n",
       "      <td>Chest, Abdomen and Pelvis</td>\n",
       "      <td>6.27</td>\n",
       "    </tr>\n",
       "    <tr>\n",
       "      <th>3875</th>\n",
       "      <td>382.14</td>\n",
       "      <td>135.0</td>\n",
       "      <td>37.0</td>\n",
       "      <td>24417</td>\n",
       "      <td>2022-03-03</td>\n",
       "      <td>Bronchus</td>\n",
       "      <td>3.61</td>\n",
       "    </tr>\n",
       "    <tr>\n",
       "      <th>6782</th>\n",
       "      <td>596.74</td>\n",
       "      <td>136.3</td>\n",
       "      <td>39.9</td>\n",
       "      <td>6383502</td>\n",
       "      <td>2023-04-07</td>\n",
       "      <td>Chest, Abdomen and Pelvis</td>\n",
       "      <td>6.89</td>\n",
       "    </tr>\n",
       "    <tr>\n",
       "      <th>4194</th>\n",
       "      <td>621.67</td>\n",
       "      <td>136.3</td>\n",
       "      <td>39.9</td>\n",
       "      <td>6383502</td>\n",
       "      <td>2022-04-08</td>\n",
       "      <td>Chest, Abdomen and Pelvis</td>\n",
       "      <td>8.82</td>\n",
       "    </tr>\n",
       "    <tr>\n",
       "      <th>6417</th>\n",
       "      <td>286.54</td>\n",
       "      <td>137.0</td>\n",
       "      <td>39.2</td>\n",
       "      <td>593305</td>\n",
       "      <td>2023-02-16</td>\n",
       "      <td>Abdomen and Pelvis</td>\n",
       "      <td>6.21</td>\n",
       "    </tr>\n",
       "    <tr>\n",
       "      <th>5088</th>\n",
       "      <td>417.12</td>\n",
       "      <td>138.0</td>\n",
       "      <td>32.7</td>\n",
       "      <td>29331</td>\n",
       "      <td>2022-08-09</td>\n",
       "      <td>Bronchus</td>\n",
       "      <td>3.58</td>\n",
       "    </tr>\n",
       "    <tr>\n",
       "      <th>6385</th>\n",
       "      <td>461.57</td>\n",
       "      <td>140.0</td>\n",
       "      <td>35.9</td>\n",
       "      <td>31351</td>\n",
       "      <td>2023-02-14</td>\n",
       "      <td>Abdomen and Pelvis</td>\n",
       "      <td>7.33</td>\n",
       "    </tr>\n",
       "    <tr>\n",
       "      <th>5840</th>\n",
       "      <td>481.54</td>\n",
       "      <td>140.0</td>\n",
       "      <td>35.9</td>\n",
       "      <td>31351</td>\n",
       "      <td>2022-11-29</td>\n",
       "      <td>Abdomen and Pelvis</td>\n",
       "      <td>8.63</td>\n",
       "    </tr>\n",
       "  </tbody>\n",
       "</table>\n",
       "</div>"
      ],
      "text/plain": [
       "      scanning length  height_cm  weight_kg       id study_date  \\\n",
       "2220           852.06      101.0       39.8    75206 2021-04-21   \n",
       "994            796.77      101.0       39.8    75206 2021-05-18   \n",
       "96             626.53      101.0       39.8    75206 2021-01-14   \n",
       "607            827.20      101.0       39.8    75206 2021-03-29   \n",
       "1179           796.77      101.0       39.8    75206 2021-06-18   \n",
       "2341           621.51      101.0       39.8    75206 2021-06-02   \n",
       "260            567.16      101.0       39.8    75206 2021-02-04   \n",
       "6360           506.63      117.7       76.4  9326611 2023-02-10   \n",
       "105            456.72      117.7       76.4  9326611 2021-01-15   \n",
       "3494           531.81      117.7       76.4  9326611 2022-01-21   \n",
       "2644           205.73      129.3      129.3    17049 2021-09-21   \n",
       "4335           200.73      129.4       27.2  6067602 2022-04-26   \n",
       "3972           581.66      130.0       32.2    24470 2022-03-14   \n",
       "3888           601.66      130.0       32.2    24470 2022-03-06   \n",
       "7704           696.75      130.0       32.2    24470 2022-03-23   \n",
       "7674           596.74      130.0       32.2    24470 2022-03-10   \n",
       "7731           160.00      130.8       24.2   267102 2022-04-06   \n",
       "6885           357.06      131.0       28.9    36685 2023-04-21   \n",
       "5666           210.74      134.0       39.2    31808 2022-11-04   \n",
       "6924           452.10      134.0       34.2    35907 2023-04-26   \n",
       "8786           751.28      135.0       36.5    34486 2023-02-28   \n",
       "3922           681.67      135.0       37.0    24417 2022-03-08   \n",
       "6374           636.75      135.0       36.5    34486 2023-02-13   \n",
       "3875           382.14      135.0       37.0    24417 2022-03-03   \n",
       "6782           596.74      136.3       39.9  6383502 2023-04-07   \n",
       "4194           621.67      136.3       39.9  6383502 2022-04-08   \n",
       "6417           286.54      137.0       39.2   593305 2023-02-16   \n",
       "5088           417.12      138.0       32.7    29331 2022-08-09   \n",
       "6385           461.57      140.0       35.9    31351 2023-02-14   \n",
       "5840           481.54      140.0       35.9    31351 2022-11-29   \n",
       "\n",
       "                  target region  Mean CTDIvol  \n",
       "2220                      Chest          6.45  \n",
       "994                       Chest          7.38  \n",
       "96                      Abdomen         12.78  \n",
       "607                       Chest          6.13  \n",
       "1179                      Chest          6.70  \n",
       "2341                    Abdomen         17.10  \n",
       "260                       Chest          6.03  \n",
       "6360                   Bronchus         10.38  \n",
       "105                       Chest          9.14  \n",
       "3494                   Bronchus          9.90  \n",
       "2644                       Head         30.23  \n",
       "4335                       Head         30.72  \n",
       "3972  Chest, Abdomen and Pelvis          6.65  \n",
       "3888  Chest, Abdomen and Pelvis          8.26  \n",
       "7704  Chest, Abdomen and Pelvis          8.42  \n",
       "7674  Chest, Abdomen and Pelvis          6.44  \n",
       "7731            Coronary Artery          8.21  \n",
       "6885                   Bronchus          3.20  \n",
       "5666                       Head         26.63  \n",
       "6924                   Bronchus          2.53  \n",
       "8786         Abdomen and Pelvis         15.02  \n",
       "3922  Chest, Abdomen and Pelvis          5.59  \n",
       "6374  Chest, Abdomen and Pelvis          6.27  \n",
       "3875                   Bronchus          3.61  \n",
       "6782  Chest, Abdomen and Pelvis          6.89  \n",
       "4194  Chest, Abdomen and Pelvis          8.82  \n",
       "6417         Abdomen and Pelvis          6.21  \n",
       "5088                   Bronchus          3.58  \n",
       "6385         Abdomen and Pelvis          7.33  \n",
       "5840         Abdomen and Pelvis          8.63  "
      ]
     },
     "execution_count": 801,
     "metadata": {},
     "output_type": "execute_result"
    }
   ],
   "source": [
    "df[['scanning length', 'height_cm', 'weight_kg', 'id', 'study_date', 'target region', 'Mean CTDIvol']].loc[index]"
   ]
  },
  {
   "cell_type": "code",
   "execution_count": 802,
   "id": "3f5e6020-e1e6-4120-898b-343112463cdf",
   "metadata": {},
   "outputs": [],
   "source": [
    "# 最終的な怪しいデータに関しては直接データを確認して削除する\n",
    "drop_ids = [75206, 9326611, 17049]\n",
    "for ids in drop_ids:\n",
    "    df = df[~(df['id'] == ids)]\n",
    "df.reset_index(drop=True, inplace=True)"
   ]
  },
  {
   "cell_type": "markdown",
   "id": "1cd64b89-fb85-4b98-8ee8-2745a9c91e70",
   "metadata": {},
   "source": [
    "### 身長体重予測、線量予測、異常検知でも使用しない項目を削除する"
   ]
  },
  {
   "cell_type": "code",
   "execution_count": 803,
   "id": "d91df37a-0df2-44a9-8b1f-06efe61b721c",
   "metadata": {},
   "outputs": [],
   "source": [
    "unuse_cols = ['hospital_ward', 'modality', 'adult_child', 'department', 'preset_name']\n",
    "df.drop(labels=unuse_cols, axis=1, inplace=True)"
   ]
  },
  {
   "cell_type": "code",
   "execution_count": 804,
   "id": "26ef9fc0-c7e0-4529-b102-00973d032e3d",
   "metadata": {},
   "outputs": [],
   "source": [
    "df.to_excel('preprocess_all_scan_data.xlsx')"
   ]
  },
  {
   "cell_type": "code",
   "execution_count": 805,
   "id": "f6beb7db-108b-4f6d-b144-6e881ad085d8",
   "metadata": {},
   "outputs": [],
   "source": [
    "df = df[~((df['CTDIw phantom type'] == 'IEC Head Dosimetry Phantom') & (df['scan_area'] == '頸部CT'))]\n",
    "df = df[~((df['CTDIw phantom type'] == 'IEC Head Dosimetry Phantom') & (df['scan_area'] == '頸部〜骨盤CT'))]\n",
    "df = df[~((df['CTDIw phantom type'] == 'IEC Head Dosimetry Phantom') & (df['scan_area'] == '胸部〜骨盤CT'))]\n",
    "df = df[~((df['CTDIw phantom type'] == 'IEC Head Dosimetry Phantom') & (df['scan_area'] == '胸部CT'))]"
   ]
  },
  {
   "cell_type": "markdown",
   "id": "ad6ac689-7125-4584-ae91-1071bbabb971",
   "metadata": {},
   "source": [
    "* データに含まれている外れ値のデータはさらに削除しても良いかも"
   ]
  },
  {
   "cell_type": "code",
   "execution_count": 806,
   "id": "0446ea48-8a5b-4880-8e5f-400beff78ffb",
   "metadata": {},
   "outputs": [],
   "source": [
    "# 外れ値として取り扱うデータを追加\n",
    "drop_accession_list = [1249030520220420, 1351460220230315, 1346485720230228, 1348835920230307,\n",
    "                       1229782420220221]\n",
    "for accession in drop_accession_list:\n",
    "    df = df[~(df['accession'] == accession)]\n",
    "df.reset_index(drop=True, inplace=True)"
   ]
  },
  {
   "cell_type": "code",
   "execution_count": 807,
   "id": "bf71c659-8228-43ce-83e6-8d176c9bdde9",
   "metadata": {},
   "outputs": [],
   "source": [
    "# 不適切な心臓関係のデータを取り除く\n",
    "# 1.　管電圧が100kV, 2.肺静脈(カルト)で管電圧が140kVのもの,その他排除すべきデータ\n",
    "#differenceが10以上のデータを確認した中で、以下のようなデータを削除 \n",
    "# *脳でHead restを使用せずベッドで撮影したデータ \n",
    "# *オーダーに対して不適切な部位が撮影範囲に含まれている（脳CTで肩が含まれている等） \n",
    "# *腕を挙上していない（体幹部撮影の際） *上肢撮影で体幹が含まれている *金属等が装着されている *オーダーと撮影部位が異なる\n",
    "unuse_accession = [1348557720230306, 1106913420210113, 1112271520210127, 1116921520210210, 1130557720210324,\n",
    "                   1163646020210707, 1175490820210818, 1216316120220114, 1150306520210521, 1273513820220714, \n",
    "                   1301969120221017, 1283505320220817, 1315170020221125, 1184192220210917, 1293945820220920,\n",
    "                   1257936320220523, 1190750720211013, 1219548120220124, 1364809020230425, 1117860420210215,\n",
    "                   1249639320220422, 1335762120230126, 1291697020220912, 1359568020230411, 1190377920211012,\n",
    "                   1262435120220608, 1347736320230303, 1289845120220906, 1223184520220202, 1330730720230113,\n",
    "                   1327520120230104, 1197756320211109, 1129424720210322, 1309065120221107, 1343513920230218,\n",
    "                   1198504120211111, 1208625320211216, 1358077220230406, 1130613820210324, 1223603420220203,\n",
    "                   1197519820211108, 1105253820210108, 1140475720210420, 1335584020230126, 1293219420220916,\n",
    "                   1144301520210430, 1111324820210125, 1338397620230204, 1164256820210709, 1323580920221220]\n",
    "for accession in unuse_accession:\n",
    "    df = df[~(df['accession'] == accession)]\n",
    "df.reset_index(drop=True, inplace=True)"
   ]
  },
  {
   "cell_type": "markdown",
   "id": "07314504-7ff8-488f-a563-358a43b29ecd",
   "metadata": {},
   "source": [
    "### スキャンオーダーの名前を変更する"
   ]
  },
  {
   "cell_type": "code",
   "execution_count": 808,
   "id": "b3c59327-6441-4fd5-8360-b9d6ed17d2b0",
   "metadata": {},
   "outputs": [],
   "source": [
    "rename_and_drop_order_one_scan_ctdi(df)"
   ]
  },
  {
   "cell_type": "markdown",
   "id": "723ac355-e314-4ab9-b135-79650c6b3bf0",
   "metadata": {},
   "source": [
    "### ヘッドレストを使っていない撮影を削除する"
   ]
  },
  {
   "cell_type": "code",
   "execution_count": 809,
   "id": "741ade8f-a466-485a-bef1-9ffdd49eadbf",
   "metadata": {},
   "outputs": [],
   "source": [
    "df_brain = pd.read_excel('brain_check_head_rest.xlsx')\n",
    "df_inner = pd.read_excel('orbit_inner_ear.xlsx')\n",
    "df = remove_not_use_head_rest(df, df_brain, df_inner)"
   ]
  },
  {
   "cell_type": "markdown",
   "id": "f971ff64-d175-4649-a72f-a832b3380bf1",
   "metadata": {},
   "source": [
    "### 特殊な四肢系の特殊なスキャンや本来用いない管電圧を取り除く"
   ]
  },
  {
   "cell_type": "code",
   "execution_count": 810,
   "id": "9ab9b832-3298-4868-9d68-ed80f87f1a75",
   "metadata": {},
   "outputs": [],
   "source": [
    "df = special_scan_exclude(df)"
   ]
  },
  {
   "cell_type": "markdown",
   "id": "29594879-8a0c-4049-8bc8-cda604734619",
   "metadata": {},
   "source": [
    "### 前処理が終了したデータを保存する。"
   ]
  },
  {
   "cell_type": "code",
   "execution_count": 811,
   "id": "c91e4518-95b9-4687-a98b-9f6c85ee913c",
   "metadata": {},
   "outputs": [],
   "source": [
    "df.to_excel('preprocessed_train_data.xlsx', index=False)"
   ]
  },
  {
   "cell_type": "code",
   "execution_count": null,
   "id": "a14b7394-4c26-4d16-ad72-3720976e618c",
   "metadata": {},
   "outputs": [],
   "source": []
  },
  {
   "cell_type": "code",
   "execution_count": null,
   "id": "b699f679-e3f5-4c00-b354-b0b47fa666f8",
   "metadata": {},
   "outputs": [],
   "source": []
  },
  {
   "cell_type": "code",
   "execution_count": null,
   "id": "8149d807-9592-4f48-b3b2-36c6cd859c58",
   "metadata": {},
   "outputs": [],
   "source": []
  },
  {
   "cell_type": "code",
   "execution_count": 796,
   "id": "cca87c77-7e67-4726-9d10-43979290c493",
   "metadata": {},
   "outputs": [
    {
     "data": {
      "text/plain": [
       "array([140, 100])"
      ]
     },
     "execution_count": 796,
     "metadata": {},
     "output_type": "execute_result"
    }
   ],
   "source": [
    "df[df['scan_method'] == 'Dual Energy']['kV'].unique()"
   ]
  },
  {
   "cell_type": "code",
   "execution_count": 791,
   "id": "70b93632-cbcd-455d-b6dc-18e3980245d9",
   "metadata": {},
   "outputs": [
    {
     "data": {
      "text/plain": [
       "<AxesSubplot:>"
      ]
     },
     "execution_count": 791,
     "metadata": {},
     "output_type": "execute_result"
    },
    {
     "data": {
      "image/png": "[encoded data removed]",
      "text/plain": [
       "<Figure size 640x480 with 1 Axes>"
      ]
     },
     "metadata": {},
     "output_type": "display_data"
    }
   ],
   "source": []
  },
  {
   "cell_type": "code",
   "execution_count": 788,
   "id": "85b97f56-adfb-4888-bee7-f687d13d104e",
   "metadata": {},
   "outputs": [
    {
     "name": "stdout",
     "output_type": "stream",
     "text": [
      "胸部CT: 100    2442\n",
      "Name: kV, dtype: int64\n",
      "胸部〜骨盤CT: 100    1749\n",
      "Name: kV, dtype: int64\n",
      "腹部〜骨盤CT: 100    1219\n",
      "Name: kV, dtype: int64\n",
      "副鼻腔CT: 100    333\n",
      "Name: kV, dtype: int64\n",
      "胸腰椎CT: 100    200\n",
      "Name: kV, dtype: int64\n",
      "大腿・膝・下腿CT: 100    83\n",
      "Name: kV, dtype: int64\n",
      "上腹部CT: 100    212\n",
      "Name: kV, dtype: int64\n",
      "体幹部Dual Energy CT: 140    350\n",
      "Name: kV, dtype: int64\n",
      "足・足関節CT: 100    58\n",
      "Name: kV, dtype: int64\n",
      "肩・上腕・鎖骨CT: 100    57\n",
      "Name: kV, dtype: int64\n",
      "頸部〜骨盤CT: 100    147\n",
      "Name: kV, dtype: int64\n",
      "肘・前腕・手関節CT: 100    68\n",
      "Name: kV, dtype: int64\n",
      "頸椎・頚髄CT: 100    76\n",
      "Name: kV, dtype: int64\n",
      "頸部CT: 100    67\n",
      "Name: kV, dtype: int64\n",
      "骨盤骨CT: 100    25\n",
      "Name: kV, dtype: int64\n",
      "顔面骨CT: 100    33\n",
      "Name: kV, dtype: int64\n",
      "冠動脈CT: 120    292\n",
      "140     15\n",
      "Name: kV, dtype: int64\n",
      "肺静脈CT: 120    105\n",
      "Name: kV, dtype: int64\n",
      "肺塞栓CT: 140    53\n",
      "100    36\n",
      "Name: kV, dtype: int64\n",
      "歯・顎骨CT: 140    199\n",
      "Name: kV, dtype: int64\n",
      "脳Perfusion: 80    5\n",
      "Name: kV, dtype: int64\n",
      "脳CTA: 100    23\n",
      "Name: kV, dtype: int64\n",
      "脳CT: 100    671\n",
      "Name: kV, dtype: int64\n",
      "側頭骨CT: 100    22\n",
      "Name: kV, dtype: int64\n"
     ]
    }
   ],
   "source": [
    "scan_area_list = df['scan_area'].unique()\n",
    "for scan_area in scan_area_list:\n",
    "    print(f'{scan_area}:',  df[df['scan_area'] == scan_area]['kV'].value_counts())"
   ]
  },
  {
   "cell_type": "code",
   "execution_count": 747,
   "id": "fccaf549-4569-4851-9863-e9320fe0f0a3",
   "metadata": {},
   "outputs": [
    {
     "data": {
      "text/plain": [
       "<AxesSubplot:>"
      ]
     },
     "execution_count": 747,
     "metadata": {},
     "output_type": "execute_result"
    },
    {
     "data": {
      "image/png": "[encoded data removed]",
      "text/plain": [
       "<Figure size 640x480 with 1 Axes>"
      ]
     },
     "metadata": {},
     "output_type": "display_data"
    }
   ],
   "source": [
    "# 体幹部系のdual energy ctはまとめることはできないのか？\n",
    "df_test = df[df['scan_area'] == '胸部〜骨盤CT']\n",
    "df_test[df_test['scan protocol'].str.contains('GSIX')]['Mean CTDIvol'].hist()"
   ]
  },
  {
   "cell_type": "code",
   "execution_count": 749,
   "id": "80dea698-9d7a-4be6-a774-10d6b22af748",
   "metadata": {},
   "outputs": [
    {
     "data": {
      "text/plain": [
       "<AxesSubplot:>"
      ]
     },
     "execution_count": 749,
     "metadata": {},
     "output_type": "execute_result"
    },
    {
     "data": {
      "image/png": "[encoded data removed]",
      "text/plain": [
       "<Figure size 640x480 with 1 Axes>"
      ]
     },
     "metadata": {},
     "output_type": "display_data"
    }
   ],
   "source": [
    "# 体幹部系のdual energy ctはまとめることはできないのか？\n",
    "df_test = df[df['scan_area'] == '頸部〜骨盤CT']\n",
    "df_test[df_test['scan protocol'].str.contains('GSIX')]['Mean CTDIvol'].hist()"
   ]
  },
  {
   "cell_type": "code",
   "execution_count": 750,
   "id": "1d5c06f9-8cc1-4d0e-b467-e525180f4362",
   "metadata": {},
   "outputs": [
    {
     "data": {
      "text/plain": [
       "<AxesSubplot:>"
      ]
     },
     "execution_count": 750,
     "metadata": {},
     "output_type": "execute_result"
    },
    {
     "data": {
      "image/png": "[encoded data removed]",
      "text/plain": [
       "<Figure size 640x480 with 1 Axes>"
      ]
     },
     "metadata": {},
     "output_type": "display_data"
    }
   ],
   "source": [
    "# 体幹部系のdual energy ctはまとめることはできないのか？\n",
    "df_test = df[df['scan_area'] == '胸部CT']\n",
    "df_test[df_test['scan protocol'].str.contains('GSIX')]['Mean CTDIvol'].hist()"
   ]
  },
  {
   "cell_type": "code",
   "execution_count": 751,
   "id": "cb7630b7-509a-4591-aa80-90857aadb378",
   "metadata": {},
   "outputs": [
    {
     "data": {
      "text/plain": [
       "<AxesSubplot:>"
      ]
     },
     "execution_count": 751,
     "metadata": {},
     "output_type": "execute_result"
    },
    {
     "data": {
      "image/png": "[encoded data removed]",
      "text/plain": [
       "<Figure size 640x480 with 1 Axes>"
      ]
     },
     "metadata": {},
     "output_type": "display_data"
    }
   ],
   "source": [
    "# 体幹部系のdual energy ctはまとめることはできないのか？\n",
    "df_test = df[df['scan_area'] == '腹部〜骨盤CT']\n",
    "df_test[df_test['scan protocol'].str.contains('GSIX')]['Mean CTDIvol'].hist()"
   ]
  },
  {
   "cell_type": "code",
   "execution_count": 752,
   "id": "16e15405-c663-4588-937b-74d2eaeaee55",
   "metadata": {},
   "outputs": [
    {
     "data": {
      "text/plain": [
       "<AxesSubplot:>"
      ]
     },
     "execution_count": 752,
     "metadata": {},
     "output_type": "execute_result"
    },
    {
     "data": {
      "image/png": "[encoded data removed]",
      "text/plain": [
       "<Figure size 640x480 with 1 Axes>"
      ]
     },
     "metadata": {},
     "output_type": "display_data"
    }
   ],
   "source": [
    "# 体幹部系のdual energy ctはまとめることはできないのか？\n",
    "df_test = df[df['scan_area'] == '上腹部CT']\n",
    "df_test[df_test['scan protocol'].str.contains('GSIX')]['Mean CTDIvol'].hist()"
   ]
  },
  {
   "cell_type": "code",
   "execution_count": 757,
   "id": "975c16ae-6270-486b-bdc1-2ef857ecbd94",
   "metadata": {},
   "outputs": [
    {
     "data": {
      "text/html": [
       "<div>\n",
       "<style scoped>\n",
       "    .dataframe tbody tr th:only-of-type {\n",
       "        vertical-align: middle;\n",
       "    }\n",
       "\n",
       "    .dataframe tbody tr th {\n",
       "        vertical-align: top;\n",
       "    }\n",
       "\n",
       "    .dataframe thead th {\n",
       "        text-align: right;\n",
       "    }\n",
       "</style>\n",
       "<table border=\"1\" class=\"dataframe\">\n",
       "  <thead>\n",
       "    <tr style=\"text-align: right;\">\n",
       "      <th></th>\n",
       "      <th>accession</th>\n",
       "      <th>scan protocol</th>\n",
       "      <th>scan series</th>\n",
       "      <th>target region</th>\n",
       "      <th>scanning length</th>\n",
       "      <th>kV</th>\n",
       "      <th>mean mA</th>\n",
       "      <th>max mA</th>\n",
       "      <th>pitch factor</th>\n",
       "      <th>nomial total collimation width</th>\n",
       "      <th>...</th>\n",
       "      <th>Mean CTDIvol</th>\n",
       "      <th>DLP</th>\n",
       "      <th>study_date</th>\n",
       "      <th>id</th>\n",
       "      <th>age</th>\n",
       "      <th>gender</th>\n",
       "      <th>height_cm</th>\n",
       "      <th>weight_kg</th>\n",
       "      <th>scan_area</th>\n",
       "      <th>scan_method</th>\n",
       "    </tr>\n",
       "  </thead>\n",
       "  <tbody>\n",
       "    <tr>\n",
       "      <th>0</th>\n",
       "      <td>1103161420210101</td>\n",
       "      <td>5.1 QQ Chest Routine</td>\n",
       "      <td>NaN</td>\n",
       "      <td>Chest</td>\n",
       "      <td>382.14</td>\n",
       "      <td>100</td>\n",
       "      <td>350.24</td>\n",
       "      <td>640</td>\n",
       "      <td>1.38</td>\n",
       "      <td>80.0</td>\n",
       "      <td>...</td>\n",
       "      <td>5.86</td>\n",
       "      <td>223.82</td>\n",
       "      <td>2021-01-01</td>\n",
       "      <td>12585</td>\n",
       "      <td>86</td>\n",
       "      <td>F</td>\n",
       "      <td>150.0</td>\n",
       "      <td>49.1</td>\n",
       "      <td>胸部CT</td>\n",
       "      <td>単純</td>\n",
       "    </tr>\n",
       "    <tr>\n",
       "      <th>1</th>\n",
       "      <td>1103161620210101</td>\n",
       "      <td>5.1 QQ Chest Routine</td>\n",
       "      <td>NaN</td>\n",
       "      <td>Chest</td>\n",
       "      <td>442.20</td>\n",
       "      <td>100</td>\n",
       "      <td>442.93</td>\n",
       "      <td>700</td>\n",
       "      <td>1.38</td>\n",
       "      <td>80.0</td>\n",
       "      <td>...</td>\n",
       "      <td>7.41</td>\n",
       "      <td>327.55</td>\n",
       "      <td>2021-01-01</td>\n",
       "      <td>2145609</td>\n",
       "      <td>61</td>\n",
       "      <td>M</td>\n",
       "      <td>163.0</td>\n",
       "      <td>74.0</td>\n",
       "      <td>胸部CT</td>\n",
       "      <td>単純</td>\n",
       "    </tr>\n",
       "    <tr>\n",
       "      <th>2</th>\n",
       "      <td>1103339220210102</td>\n",
       "      <td>5.1 QQ Chest Routine</td>\n",
       "      <td>NaN</td>\n",
       "      <td>Chest</td>\n",
       "      <td>467.06</td>\n",
       "      <td>100</td>\n",
       "      <td>306.59</td>\n",
       "      <td>700</td>\n",
       "      <td>1.38</td>\n",
       "      <td>80.0</td>\n",
       "      <td>...</td>\n",
       "      <td>5.13</td>\n",
       "      <td>239.47</td>\n",
       "      <td>2021-01-02</td>\n",
       "      <td>12615</td>\n",
       "      <td>46</td>\n",
       "      <td>M</td>\n",
       "      <td>178.0</td>\n",
       "      <td>68.0</td>\n",
       "      <td>胸部CT</td>\n",
       "      <td>単純</td>\n",
       "    </tr>\n",
       "    <tr>\n",
       "      <th>3</th>\n",
       "      <td>1103327120210102</td>\n",
       "      <td>5.1 QQ Chest Routine</td>\n",
       "      <td>NaN</td>\n",
       "      <td>Chest</td>\n",
       "      <td>472.12</td>\n",
       "      <td>100</td>\n",
       "      <td>433.42</td>\n",
       "      <td>700</td>\n",
       "      <td>1.38</td>\n",
       "      <td>80.0</td>\n",
       "      <td>...</td>\n",
       "      <td>7.25</td>\n",
       "      <td>342.20</td>\n",
       "      <td>2021-01-02</td>\n",
       "      <td>12616</td>\n",
       "      <td>52</td>\n",
       "      <td>M</td>\n",
       "      <td>182.0</td>\n",
       "      <td>70.0</td>\n",
       "      <td>胸部CT</td>\n",
       "      <td>単純</td>\n",
       "    </tr>\n",
       "    <tr>\n",
       "      <th>4</th>\n",
       "      <td>1103481920210103</td>\n",
       "      <td>5.1 QQ Chest Routine</td>\n",
       "      <td>NaN</td>\n",
       "      <td>Chest</td>\n",
       "      <td>462.22</td>\n",
       "      <td>100</td>\n",
       "      <td>691.26</td>\n",
       "      <td>700</td>\n",
       "      <td>1.38</td>\n",
       "      <td>80.0</td>\n",
       "      <td>...</td>\n",
       "      <td>11.56</td>\n",
       "      <td>534.33</td>\n",
       "      <td>2021-01-03</td>\n",
       "      <td>9595120</td>\n",
       "      <td>52</td>\n",
       "      <td>M</td>\n",
       "      <td>175.0</td>\n",
       "      <td>112.0</td>\n",
       "      <td>胸部CT</td>\n",
       "      <td>単純</td>\n",
       "    </tr>\n",
       "  </tbody>\n",
       "</table>\n",
       "<p>5 rows × 23 columns</p>\n",
       "</div>"
      ],
      "text/plain": [
       "          accession         scan protocol scan series target region  \\\n",
       "0  1103161420210101  5.1 QQ Chest Routine         NaN         Chest   \n",
       "1  1103161620210101  5.1 QQ Chest Routine         NaN         Chest   \n",
       "2  1103339220210102  5.1 QQ Chest Routine         NaN         Chest   \n",
       "3  1103327120210102  5.1 QQ Chest Routine         NaN         Chest   \n",
       "4  1103481920210103  5.1 QQ Chest Routine         NaN         Chest   \n",
       "\n",
       "   scanning length   kV  mean mA  max mA  pitch factor  \\\n",
       "0           382.14  100   350.24     640          1.38   \n",
       "1           442.20  100   442.93     700          1.38   \n",
       "2           467.06  100   306.59     700          1.38   \n",
       "3           472.12  100   433.42     700          1.38   \n",
       "4           462.22  100   691.26     700          1.38   \n",
       "\n",
       "   nomial total collimation width  ...  Mean CTDIvol     DLP study_date  \\\n",
       "0                            80.0  ...          5.86  223.82 2021-01-01   \n",
       "1                            80.0  ...          7.41  327.55 2021-01-01   \n",
       "2                            80.0  ...          5.13  239.47 2021-01-02   \n",
       "3                            80.0  ...          7.25  342.20 2021-01-02   \n",
       "4                            80.0  ...         11.56  534.33 2021-01-03   \n",
       "\n",
       "        id  age gender  height_cm  weight_kg scan_area  scan_method  \n",
       "0    12585   86      F      150.0       49.1      胸部CT           単純  \n",
       "1  2145609   61      M      163.0       74.0      胸部CT           単純  \n",
       "2    12615   46      M      178.0       68.0      胸部CT           単純  \n",
       "3    12616   52      M      182.0       70.0      胸部CT           単純  \n",
       "4  9595120   52      M      175.0      112.0      胸部CT           単純  \n",
       "\n",
       "[5 rows x 23 columns]"
      ]
     },
     "execution_count": 757,
     "metadata": {},
     "output_type": "execute_result"
    }
   ],
   "source": [
    "# Define the conditions for the change\n",
    "scan_areas_to_change = ['胸部CT', '胸部〜骨盤CT', '腹部〜骨盤CT', '上腹部CT', '頸部〜骨盤CT']\n",
    "kV_value_to_change = 140\n",
    "protocol_to_change = 'GSIX'\n",
    "\n",
    "# Make the change in the dataframe\n",
    "df.loc[(df['scan_area'].isin(scan_areas_to_change)) & (df['kV'] == kV_value_to_change) & df['scan protocol'].str.contains(protocol_to_change, na=False), 'scan_area'] = '体幹部Dual Energy CT'\n",
    "\n",
    "# Display the first few rows of the modified dataframe\n",
    "df.head()"
   ]
  },
  {
   "cell_type": "code",
   "execution_count": 654,
   "id": "a3f41434-a27f-4367-b585-3c9edda0536c",
   "metadata": {},
   "outputs": [
    {
     "data": {
      "text/plain": [
       "100    33\n",
       "140     5\n",
       "120     1\n",
       "Name: kV, dtype: int64"
      ]
     },
     "execution_count": 654,
     "metadata": {},
     "output_type": "execute_result"
    }
   ],
   "source": [
    "df[df['scan_area'] == '顔面骨CT']['kV'].value_counts()"
   ]
  },
  {
   "cell_type": "code",
   "execution_count": 655,
   "id": "26ff436e-c8b2-46d2-88f1-49e9186baf5b",
   "metadata": {},
   "outputs": [
    {
     "data": {
      "text/plain": [
       "100    671\n",
       "Name: kV, dtype: int64"
      ]
     },
     "execution_count": 655,
     "metadata": {},
     "output_type": "execute_result"
    }
   ],
   "source": [
    "df[df['scan_area'] == '脳CT']['kV'].value_counts()"
   ]
  },
  {
   "cell_type": "code",
   "execution_count": 656,
   "id": "b4928ff9-8f18-461f-a16f-d053f8c0fdcf",
   "metadata": {},
   "outputs": [
    {
     "data": {
      "text/plain": [
       "100    333\n",
       "120     18\n",
       "140      1\n",
       "Name: kV, dtype: int64"
      ]
     },
     "execution_count": 656,
     "metadata": {},
     "output_type": "execute_result"
    }
   ],
   "source": [
    "df[df['scan_area'] == '副鼻腔CT']['kV'].value_counts()"
   ]
  },
  {
   "cell_type": "code",
   "execution_count": 658,
   "id": "23e9d2b5-fe3d-4dd4-9afc-9f17f44aec95",
   "metadata": {},
   "outputs": [
    {
     "data": {
      "text/plain": [
       "100    8\n",
       "Name: kV, dtype: int64"
      ]
     },
     "execution_count": 658,
     "metadata": {},
     "output_type": "execute_result"
    }
   ],
   "source": [
    "df[df['scan_area'] == '胸椎・胸髄CT']['kV'].value_counts()"
   ]
  },
  {
   "cell_type": "code",
   "execution_count": 659,
   "id": "72ef8cc3-c7f0-4ce9-abc8-6955e41a32ba",
   "metadata": {},
   "outputs": [
    {
     "data": {
      "text/plain": [
       "100    192\n",
       "140      4\n",
       "120      1\n",
       "Name: kV, dtype: int64"
      ]
     },
     "execution_count": 659,
     "metadata": {},
     "output_type": "execute_result"
    }
   ],
   "source": [
    "df[df['scan_area'] == '腰椎・腰髄CT']['kV'].value_counts()"
   ]
  },
  {
   "cell_type": "code",
   "execution_count": null,
   "id": "a2f1d99c-4c74-45c7-b2ea-59c5b9be51a5",
   "metadata": {},
   "outputs": [],
   "source": []
  }
 ],
 "metadata": {
  "kernelspec": {
   "display_name": "Python 3 (ipykernel)",
   "language": "python",
   "name": "python3"
  },
  "language_info": {
   "codemirror_mode": {
    "name": "ipython",
    "version": 3
   },
   "file_extension": ".py",
   "mimetype": "text/x-python",
   "name": "python",
   "nbconvert_exporter": "python",
   "pygments_lexer": "ipython3",
   "version": "3.9.13"
  }
 },
 "nbformat": 4,
 "nbformat_minor": 5
}
