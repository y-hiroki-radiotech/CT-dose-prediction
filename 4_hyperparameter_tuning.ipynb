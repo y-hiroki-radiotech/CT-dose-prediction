{
 "cells": [
  {
   "cell_type": "markdown",
   "id": "d7563264-c5a7-4ed9-b0c9-5cf113f077cd",
   "metadata": {},
   "source": [
    "### データのインポート"
   ]
  },
  {
   "cell_type": "code",
   "execution_count": 5,
   "id": "afb3b01c-e6b0-4b8f-a7cb-1760686e8a3e",
   "metadata": {},
   "outputs": [],
   "source": [
    "import pandas as pd\n",
    "import optuna\n",
    "import lightgbm as lgb\n",
    "from sklearn.model_selection import KFold\n",
    "from sklearn.metrics import mean_absolute_error"
   ]
  },
  {
   "cell_type": "markdown",
   "id": "1090563e-7bd5-4421-9c42-81639450822f",
   "metadata": {},
   "source": [
    "### 前処理"
   ]
  },
  {
   "cell_type": "code",
   "execution_count": 4,
   "id": "dd2b7a94-0cfc-4dfb-ad10-8aef425292fa",
   "metadata": {},
   "outputs": [],
   "source": [
    "df = pd.read_excel('feature_engineer_train.xlsx')\n",
    "# 線量予測で使えない特徴量を削除する\n",
    "drop_columns = ['accession', 'scan protocol', 'scan series', 'scanning length',\n",
    "                'kV', 'mean mA', 'max mA', 'pitch factor', 'nomial total collimation width',\n",
    "                'exposure time per rotation', 'exposure time', 'study_date', 'id', 'DLP', 'target region']\n",
    "\n",
    "df = df.drop(drop_columns, axis=1)\n",
    "\n",
    "df['bmi_body_surface_area_category'] = df['bmi_body_surface_area_category'].astype('category')\n",
    "df['age_weight_kg_category'] = df['age_weight_kg_category'].astype('category')\n",
    "\n",
    "# Ordinal EncoderとTarget Encoderの使い分けを決める\n",
    "# 線量と関連がありそうなカテゴリについてはtarget encodeを実施する\n",
    "# target encoderの対象 -> CTDIw phantom type, category_bmi, scan_area\n",
    "# ordinal encoder -> gender, scan_method\n",
    "from sklearn.preprocessing import OrdinalEncoder\n",
    "from category_encoders import TargetEncoder\n",
    "\n",
    "te_columns = [ 'scan_area', 'category_bmi']\n",
    "oe_columns = ['CTDIw phantom type','gender', 'scan_method', 'bmi_body_surface_area_category', 'age_weight_kg_category']\n",
    "\n",
    "oe = OrdinalEncoder()\n",
    "oe.set_output(transform='pandas')\n",
    "\n",
    "df[oe_columns] = oe.fit_transform(df[oe_columns])\n",
    "\n",
    "te = TargetEncoder()\n",
    "te.fit(df[te_columns], df['Mean CTDIvol'])\n",
    "df[te_columns] = te.transform(df[te_columns])\n",
    "\n",
    "target = 'Mean CTDIvol'\n",
    "X = df.drop(target, axis=1)\n",
    "y = df[target]\n"
   ]
  },
  {
   "cell_type": "code",
   "execution_count": 7,
   "id": "48b967f7-94c3-4066-8bd9-347668fd7b08",
   "metadata": {},
   "outputs": [],
   "source": [
    "def objective(trial):\n",
    "    params = {\n",
    "        'objective': 'mae', # 目的関数\n",
    "        'verbosity': -1,\n",
    "        \n",
    "        'learning_rate': trial.suggest_float('learning_rate', 0.0001, 0.5),\n",
    "        'num_leaves': trial.suggest_int('num_leaves', 2, 500),\n",
    "        'min_data_in_leaf': trial.suggest_int('min_data_in_leaf', 2, 50),\n",
    "        'min_sum_hessian_in_leaf': trial.suggest_float('min_sum_hessian_in_leaf', 1e-8, 10.0, log=True),\n",
    "        'bagging_fraction': trial.suggest_float('bagging_fraction', 0.1, 1.0),\n",
    "        'bagging_freq': trial.suggest_int('bagging_freq', 1, 100),\n",
    "        'feature_fraction': trial.suggest_float('feature_fraction', 0.1, 1.0),\n",
    "        'lambda_l1': trial.suggest_float('lambda_l1', 1e-8, 10.0, log=True),\n",
    "        'lambda_l2': trial.suggest_float('lambda_l2', 1e-8, 10.0, log=True),\n",
    "        'min_gain_to_split': trial.suggest_float('min_gain_to_split', 0, 10),\n",
    "        'max_depth': trial.suggest_ing('max_depth', 2, 100),\n",
    "        'extra_trees': trial.suggest_categorical('extra_trees', [True, False]),\n",
    "        'path_smooth': trial.suggest_int('path_smooth', 0, 10),\n",
    "    }\n",
    "    \n",
    "    kf = KFold(n_splits=5, shuffle=True, random_state=42)\n",
    "    for fold, (tr_idx, va_idx) in enumerate(kf.split(X)):\n",
    "        X_tr = X.iloc[tr_idx]\n",
    "        X_va = X.iloc[va_idx]\n",
    "        y_tr = y.iloc[tr_idx]\n",
    "        y_va = y.iloc[va_idx]\n",
    "        \n",
    "        lgb_train = lgb.Dataset(X_tr, y_tr)\n",
    "        lgb_eval = lgb.Dataset(X_va, y_va, reference=lgb_train)\n",
    "        \n",
    "        model = lgb.train(params,\n",
    "                          lgb_train,\n",
    "                          num_boost_round=1000,\n",
    "                          valid_sets=[lgb_train, lgb_eval],\n",
    "                          valid_names=['train', 'valid'],\n",
    "                          callbacks=[lgb.early_stopping(100),\n",
    "                                     lgb.log_evaluation(50)])\n",
    "        \n",
    "    y_va_pred = model.predict(X_va,  num_iteration=model.best_iteration)\n",
    "    score = mean_absolute_error(y_va, y_va_pred)\n",
    "    print('')\n",
    "    \n",
    "    return score"
   ]
  },
  {
   "cell_type": "code",
   "execution_count": 8,
   "id": "314f82d8-63ac-4eff-879c-d089931914b9",
   "metadata": {},
   "outputs": [
    {
     "name": "stderr",
     "output_type": "stream",
     "text": [
      "\u001b[32m[I 2023-07-23 07:38:44,242]\u001b[0m A new study created in RDB with name: lightgbm-hyperparameter-tuning-v1\u001b[0m\n"
     ]
    }
   ],
   "source": [
    "study = optuna.create_study(\n",
    "    study_name='lightgbm-hyperparameter-tuning-ramdomsampler-v1',\n",
    "    storage='sqlite:///optuna.db',\n",
    "    direction='minimize',\n",
    "    sampler=optuna.samplers.RandomSampler(),\n",
    ")"
   ]
  },
  {
   "cell_type": "code",
   "execution_count": null,
   "id": "325c06b0-1d27-4e9a-8635-a045a1495573",
   "metadata": {},
   "outputs": [],
   "source": [
    "study.optimize(objective, n_trials=100)"
   ]
  },
  {
   "cell_type": "markdown",
   "id": "619e6a6d-f858-4ee1-8140-8eb581bf5ae6",
   "metadata": {},
   "source": [
    "### 重要度の可視化"
   ]
  },
  {
   "cell_type": "code",
   "execution_count": null,
   "id": "29e30170-9277-489a-9687-4ef55bbbad25",
   "metadata": {},
   "outputs": [],
   "source": [
    "study = optuna.load_study(\n",
    "    study_name='lightgbm-hyperparameter-tuning-v1',\n",
    "    storage='sqlite:///optuna.db'\n",
    ")\n",
    "optuna.visualization.plot_param_importances(study).show()"
   ]
  },
  {
   "cell_type": "code",
   "execution_count": null,
   "id": "4ccea91a-6846-4474-a3ca-acaa91d9f647",
   "metadata": {},
   "outputs": [],
   "source": [
    "optuna.visualization.plot_slice(\n",
    "    study,\n",
    "    params=[\"extra_trees\", \"feature_fraction\"]\n",
    ").show()"
   ]
  },
  {
   "cell_type": "markdown",
   "id": "c7b8ae8e-42c9-4ed9-9da3-ef9032ad61b7",
   "metadata": {},
   "source": [
    "### 探索範囲を絞ってハイパーパラメータチューニングを実行する"
   ]
  },
  {
   "cell_type": "code",
   "execution_count": null,
   "id": "11acfa54-e499-4f61-9b86-08c6a6e05383",
   "metadata": {},
   "outputs": [],
   "source": [
    "def objective(trial):\n",
    "    params = {\n",
    "        'objective': 'mae', # 目的関数\n",
    "        'verbosity': -1,\n",
    "        \n",
    "        'learning_rate': trial.suggest_float('learning_rate', 0.0001, 0.5),\n",
    "        'num_leaves': trial.suggest_int('num_leaves', 2, 500),\n",
    "        'min_data_in_leaf': trial.suggest_int('min_data_in_leaf', 2, 50),\n",
    "        'min_sum_hessian_in_leaf': trial.suggest_float('min_sum_hessian_in_leaf', 1e-8, 10.0, log=True),\n",
    "        'bagging_fraction': trial.suggest_float('bagging_fraction', 0.1, 1.0),\n",
    "        'bagging_freq': trial.suggest_int('bagging_freq', 1, 100),\n",
    "        'feature_fraction': trial.suggest_float('feature_fraction', 0.1, 1.0),\n",
    "        'lambda_l1': trial.suggest_float('lambda_l1', 1e-8, 10.0, log=True),\n",
    "        'lambda_l2': trial.suggest_float('lambda_l2', 1e-8, 10.0, log=True),\n",
    "        'min_gain_to_split': trial.suggest_float('min_gain_to_split', 0, 10),\n",
    "        'max_depth': trial.suggest_ing('max_depth', 2, 100),\n",
    "        'extra_trees': trial.suggest_categorical('extra_trees', [True, False]),\n",
    "        'path_smooth': trial.suggest_int('path_smooth', 0, 10),\n",
    "    }\n",
    "    \n",
    "    kf = KFold(n_splits=5, shuffle=True, random_state=42)\n",
    "    for fold, (tr_idx, va_idx) in enumerate(kf.split(X)):\n",
    "        X_tr = X.iloc[tr_idx]\n",
    "        X_va = X.iloc[va_idx]\n",
    "        y_tr = y.iloc[tr_idx]\n",
    "        y_va = y.iloc[va_idx]\n",
    "        \n",
    "        lgb_train = lgb.Dataset(X_tr, y_tr)\n",
    "        lgb_eval = lgb.Dataset(X_va, y_va, reference=lgb_train)\n",
    "        \n",
    "        model = lgb.train(params,\n",
    "                          lgb_train,\n",
    "                          num_boost_round=1000,\n",
    "                          valid_sets=[lgb_train, lgb_eval],\n",
    "                          valid_names=['train', 'valid'],\n",
    "                          callbacks=[lgb.early_stopping(100),\n",
    "                                     lgb.log_evaluation(50)])\n",
    "        \n",
    "    y_va_pred = model.predict(X_va,  num_iteration=model.best_iteration)\n",
    "    score = mean_absolute_error(y_va, y_va_pred)\n",
    "    print('')\n",
    "    \n",
    "    return score\n"
   ]
  },
  {
   "cell_type": "code",
   "execution_count": null,
   "id": "49566c12-9e45-4454-87e7-776f36e650ff",
   "metadata": {},
   "outputs": [],
   "source": [
    "study = optuna.create_study(\n",
    "    study_name='lightgbm-hyperparameter-tuning-tpe-v1',\n",
    "    storage='sqlite:///optuna.db',\n",
    "    direction='minimize',\n",
    "    sampler=optuna.samplers.TPESampler(),\n",
    ")"
   ]
  },
  {
   "cell_type": "code",
   "execution_count": null,
   "id": "d455769a-a8f1-4362-8e8d-1b42eb275acf",
   "metadata": {},
   "outputs": [],
   "source": [
    "optuna.visualization.plot_param_importances(study).show()"
   ]
  },
  {
   "cell_type": "markdown",
   "id": "daa95004-6d62-4919-8c77-4711871b9e97",
   "metadata": {},
   "source": [
    "### 最適化の結果確認"
   ]
  },
  {
   "cell_type": "code",
   "execution_count": null,
   "id": "92259800-9422-4791-a5a0-21c4c9dd3f06",
   "metadata": {},
   "outputs": [],
   "source": [
    "trial = study.best_trial\n",
    "print(f'trial {trial.number}')\n",
    "print(f'MAE best: {trial.value}')\n",
    "display(trial.params)"
   ]
  }
 ],
 "metadata": {
  "kernelspec": {
   "display_name": "Python 3 (ipykernel)",
   "language": "python",
   "name": "python3"
  },
  "language_info": {
   "codemirror_mode": {
    "name": "ipython",
    "version": 3
   },
   "file_extension": ".py",
   "mimetype": "text/x-python",
   "name": "python",
   "nbconvert_exporter": "python",
   "pygments_lexer": "ipython3",
   "version": "3.9.13"
  }
 },
 "nbformat": 4,
 "nbformat_minor": 5
}
